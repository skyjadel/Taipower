{
 "cells": [
  {
   "cell_type": "markdown",
   "id": "dc062482-7e71-42d4-9f01-75ca5d6f7431",
   "metadata": {},
   "source": [
    "# 預先計算 2023~2030 年每一天的白天長度"
   ]
  },
  {
   "cell_type": "code",
   "execution_count": 1,
   "id": "e3b0a481-9abb-4d70-bf56-0502ccc71423",
   "metadata": {},
   "outputs": [],
   "source": [
    "import pandas as pd\n",
    "import datetime\n",
    "import os"
   ]
  },
  {
   "cell_type": "code",
   "execution_count": 2,
   "id": "b25d17e9-16bb-40f2-bda2-62a6932815a2",
   "metadata": {},
   "outputs": [],
   "source": [
    "from utils.sun_light import calculate_daytime"
   ]
  },
  {
   "cell_type": "code",
   "execution_count": 3,
   "id": "a824b49c-0de9-4197-b0cd-a97913a566a2",
   "metadata": {},
   "outputs": [],
   "source": [
    "site = {\n",
    "    'lon': '123.00',\n",
    "    'lat': '23.5',\n",
    "    'elevation': 0\n",
    "    }"
   ]
  },
  {
   "cell_type": "code",
   "execution_count": 4,
   "id": "b07a274c-e3c1-4fae-902f-e8c36d13c466",
   "metadata": {},
   "outputs": [],
   "source": [
    "data_path = './historical/data/'\n",
    "this_path = f'{data_path}daytime/'\n",
    "os.makedirs(this_path, exist_ok=True)\n",
    "daytime_fn = this_path + 'daytime.csv'"
   ]
  },
  {
   "cell_type": "markdown",
   "id": "5e85cfd7-b7a5-40b7-a68c-86db93589b3f",
   "metadata": {},
   "source": [
    "這邊定義計算開始時間以及計算多少天，要增加天數的話在這邊改"
   ]
  },
  {
   "cell_type": "code",
   "execution_count": 5,
   "id": "3acb1489-532a-462f-ac73-64e3bbd46c61",
   "metadata": {},
   "outputs": [],
   "source": [
    "start_date = datetime.datetime(2023, 1, 1)\n",
    "calculate_days = 365 * 10"
   ]
  },
  {
   "cell_type": "code",
   "execution_count": 6,
   "id": "3645888f-19cc-4c98-8dfe-82f4addd82f0",
   "metadata": {},
   "outputs": [],
   "source": [
    "date_list = [start_date + datetime.timedelta(days=i) for i in range(calculate_days)]\n",
    "daytime = [calculate_daytime(site=site, date=d) for d in date_list]"
   ]
  },
  {
   "cell_type": "code",
   "execution_count": 7,
   "id": "0764ff32-4c18-498b-bd2c-599343ca9ef3",
   "metadata": {},
   "outputs": [],
   "source": [
    "df = pd.DataFrame({'日期': date_list, '白日長度': daytime})\n",
    "df.to_csv(daytime_fn, index=False, encoding='utf-8-sig')"
   ]
  },
  {
   "cell_type": "code",
   "execution_count": null,
   "id": "669125c7-6528-4d2e-a7d7-1d8487f3910d",
   "metadata": {},
   "outputs": [],
   "source": []
  }
 ],
 "metadata": {
  "kernelspec": {
   "display_name": "Python 3 (ipykernel)",
   "language": "python",
   "name": "python3"
  },
  "language_info": {
   "codemirror_mode": {
    "name": "ipython",
    "version": 3
   },
   "file_extension": ".py",
   "mimetype": "text/x-python",
   "name": "python",
   "nbconvert_exporter": "python",
   "pygments_lexer": "ipython3",
   "version": "3.9.19"
  }
 },
 "nbformat": 4,
 "nbformat_minor": 5
}
