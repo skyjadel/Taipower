{
 "cells": [
  {
   "cell_type": "code",
   "execution_count": 1,
   "id": "63edc33d-8e7f-41dd-b9bc-d76df08f368e",
   "metadata": {},
   "outputs": [],
   "source": [
    "import sqlite3"
   ]
  },
  {
   "cell_type": "code",
   "execution_count": 2,
   "id": "ad707298-24b8-4431-b804-976fbcd7837c",
   "metadata": {},
   "outputs": [],
   "source": [
    "sql_db_path = './realtime/realtime_data/realtime.db'"
   ]
  },
  {
   "cell_type": "code",
   "execution_count": 3,
   "id": "34e04dbc-15f6-46d9-84d3-0dc7823fb050",
   "metadata": {},
   "outputs": [],
   "source": [
    "table_ref_columns = {\n",
    "    'power': ['time', 'generator'],\n",
    "    'observation': ['station', 'obs_time'],\n",
    "    'forecast': ['town', 'update_time', 'forecast_time']\n",
    "}"
   ]
  },
  {
   "cell_type": "code",
   "execution_count": 4,
   "id": "f831a268-0e2b-4cac-bd71-677aeaaf3658",
   "metadata": {},
   "outputs": [],
   "source": [
    "def delete_duplicated_data(table_name, ref_columns):\n",
    "\n",
    "    conn = sqlite3.connect(sql_db_path)\n",
    "    cursor = conn.cursor()\n",
    "\n",
    "    # 獲取表的列名\n",
    "    cursor.execute(f'PRAGMA table_info({table_name})')\n",
    "    columns = [column[1] for column in cursor.fetchall()]\n",
    "    \n",
    "    # 構建 蘭名 語句\n",
    "    columns_str = \", \".join(columns)\n",
    "    ref_str = ', '.join(ref_columns)\n",
    "\n",
    "    # 創建輔助表\n",
    "    cursor.execute(f'''\n",
    "    CREATE TABLE IF NOT EXISTS temp_table AS \n",
    "    SELECT * FROM {table_name} WHERE 1=0\n",
    "    ''')\n",
    "    \n",
    "    # 插入非重複記錄到輔助表中\n",
    "    cursor.execute(f'''\n",
    "    INSERT INTO temp_table ({columns_str})\n",
    "    SELECT {columns_str} FROM {table_name}\n",
    "    GROUP BY {ref_str}\n",
    "    ''')\n",
    "    \n",
    "    # 刪除原表數據\n",
    "    cursor.execute(f'DELETE FROM {table_name}')\n",
    "    \n",
    "    # 將輔助表數據插回原表\n",
    "    cursor.execute(f'''\n",
    "    INSERT INTO {table_name} ({columns_str})\n",
    "    SELECT {columns_str} FROM temp_table\n",
    "    ''')\n",
    "    \n",
    "    # 刪除輔助表\n",
    "    cursor.execute('DROP TABLE temp_table')\n",
    "    conn.commit()\n",
    "    \n",
    "    cursor.close()\n",
    "    conn.close()"
   ]
  },
  {
   "cell_type": "code",
   "execution_count": 5,
   "id": "3f6030fe-cc44-48a0-a211-61a01393b2b0",
   "metadata": {},
   "outputs": [],
   "source": [
    "for table_name, ref_columns in table_ref_columns.items():\n",
    "    delete_duplicated_data(table_name, ref_columns)"
   ]
  },
  {
   "cell_type": "code",
   "execution_count": null,
   "id": "bbd30942-57d9-4ad6-9106-a88c7805340e",
   "metadata": {},
   "outputs": [],
   "source": []
  }
 ],
 "metadata": {
  "kernelspec": {
   "display_name": "Python 3 (ipykernel)",
   "language": "python",
   "name": "python3"
  },
  "language_info": {
   "codemirror_mode": {
    "name": "ipython",
    "version": 3
   },
   "file_extension": ".py",
   "mimetype": "text/x-python",
   "name": "python",
   "nbconvert_exporter": "python",
   "pygments_lexer": "ipython3",
   "version": "3.9.19"
  }
 },
 "nbformat": 4,
 "nbformat_minor": 5
}
