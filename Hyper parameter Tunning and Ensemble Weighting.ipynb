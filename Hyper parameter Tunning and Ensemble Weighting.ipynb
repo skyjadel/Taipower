{
 "cells": [
  {
   "cell_type": "markdown",
   "id": "a624a12d-fc57-412e-bb02-ce5f13a07b37",
   "metadata": {},
   "source": [
    "# 超參數及集成學習權重最佳化"
   ]
  },
  {
   "cell_type": "markdown",
   "id": "eda10dfc-bfb4-4db9-bc8c-63f2ef29dc16",
   "metadata": {},
   "source": [
    "我們的目的是要以前一天的氣象預報來預測當天的電力資訊，但是我們手上的氣象預報歷史資料是從2024年七月開始蒐集，直接拿來預測電力資訊天數不夠，  \n",
    "所以除了 Power_predict.ipynb 裡面敘述的從氣象觀測歷史資料預測電力資料的模型之外，我們還需要建立從氣象預報資料來預測氣象觀測資料的模型。  \n",
    "\n",
    "這裡的氣象資料預測的模型建立方式跟電力資料的模型大同小異，主要的不同點是氣象資料預測可以把每天每站的數據當成一個樣本，這樣我們就可以在相對短時間之內累積足夠的樣本數。\n",
    "\n",
    "同時這個筆記本也要處理超參數的最佳化，我們使用 optuna 這個第三方套件來達成這個任務。  \n",
    "另外我們也嘗試最佳化集成學習時各模型的權重，具體方法為計算出模型之間的誤差相關矩陣，再從這個矩陣解出最佳權重組合。\n",
    "\n",
    "整個預測系統在真實世界資料中運行的情形可以到<a href='http://ec2-54-206-30-159.ap-southeast-2.compute.amazonaws.com:8501'> 這個網站 </a> 查看"
   ]
  },
  {
   "cell_type": "markdown",
   "id": "174f73c1-0bda-447d-bb61-bf37da56de8c",
   "metadata": {},
   "source": [
    "## 初始化"
   ]
  },
  {
   "cell_type": "markdown",
   "id": "d74f38ef-58b0-4829-942d-4a6f3d1425e2",
   "metadata": {},
   "source": [
    "### 匯入模組與套件"
   ]
  },
  {
   "cell_type": "code",
   "execution_count": 1,
   "id": "0b9ea70f-ab7e-4cd0-b081-ba8a6f48e687",
   "metadata": {},
   "outputs": [],
   "source": [
    "import numpy as np\n",
    "import pandas as pd\n",
    "import matplotlib.pyplot as plt\n",
    "import matplotlib\n",
    "#這兩行讓 matplotlib 的圖可以顯示中文，同時正常顯示負號\n",
    "matplotlib.rc('font', family='Microsoft JhengHei')\n",
    "plt.rcParams['axes.unicode_minus'] = False\n",
    "import datetime\n",
    "from copy import deepcopy\n",
    "import os\n",
    "import joblib\n",
    "import json\n",
    "from tqdm import tqdm\n",
    "import optuna\n",
    "\n",
    "# 設置Optuna日誌級別為 WARNING，僅顯示警告及以上級別的信息\n",
    "optuna.logging.set_verbosity(optuna.logging.WARNING)\n",
    "\n",
    "pd.set_option('future.no_silent_downcasting', True)"
   ]
  },
  {
   "cell_type": "code",
   "execution_count": 2,
   "id": "1f916ac5-edb8-43ad-8247-bd9e0d2e8498",
   "metadata": {},
   "outputs": [],
   "source": [
    "from xgboost import XGBRegressor\n",
    "from lightgbm import LGBMRegressor\n",
    "from sklearn.ensemble import RandomForestRegressor\n",
    "from sklearn.model_selection import KFold\n",
    "from sklearn.svm import SVR, NuSVR"
   ]
  },
  {
   "cell_type": "code",
   "execution_count": 3,
   "id": "333a424d-c059-4656-975c-935ab472988f",
   "metadata": {},
   "outputs": [],
   "source": [
    "from sklearn.svm import SVC, NuSVC\n",
    "from sklearn.ensemble import RandomForestClassifier\n",
    "from sklearn.linear_model import LogisticRegression, LinearRegression\n",
    "from xgboost import XGBClassifier\n",
    "from lightgbm import LGBMClassifier"
   ]
  },
  {
   "cell_type": "code",
   "execution_count": 4,
   "id": "6b01ea02-033a-4c09-99cc-44a3bdbb09ad",
   "metadata": {},
   "outputs": [],
   "source": [
    "from sklearn.model_selection import train_test_split\n",
    "from sklearn.preprocessing import StandardScaler\n",
    "from scipy.optimize import minimize\n",
    "from sklearn.metrics import f1_score"
   ]
  },
  {
   "cell_type": "code",
   "execution_count": 5,
   "id": "0e814235-4019-4c60-ab84-21971b70a730",
   "metadata": {},
   "outputs": [],
   "source": [
    "import warnings\n",
    "from sklearn.exceptions import ConvergenceWarning\n",
    "warnings.filterwarnings(\"ignore\", category=ConvergenceWarning)"
   ]
  },
  {
   "cell_type": "code",
   "execution_count": 6,
   "id": "32663eb4-901f-47ff-b101-bca7e25cd075",
   "metadata": {},
   "outputs": [],
   "source": [
    "import torch\n",
    "import torch.nn as nn\n",
    "from torch.utils.data import DataLoader, TensorDataset\n",
    "import torch.optim as optim"
   ]
  },
  {
   "cell_type": "code",
   "execution_count": 7,
   "id": "afebb39d-8843-4475-81b0-9df51a37c3d2",
   "metadata": {},
   "outputs": [],
   "source": [
    "from Pytorch_models.metrics import Array_Metrics\n",
    "from Pytorch_models import models as pytorch_models\n",
    "from Pytorch_models import api\n",
    "MAE = Array_Metrics.mae\n",
    "R2_score = Array_Metrics.r2"
   ]
  },
  {
   "cell_type": "code",
   "execution_count": 8,
   "id": "51aed92e-4413-4ef2-a950-0871452e76b1",
   "metadata": {},
   "outputs": [],
   "source": [
    "from utils.prepare_data import prepare_forecast_observation_df, prepare_data"
   ]
  },
  {
   "cell_type": "code",
   "execution_count": 9,
   "id": "5a896f47-caea-47af-96bd-54ba71a142eb",
   "metadata": {},
   "outputs": [],
   "source": [
    "def FCN_model(input_f, output_f, feature_counts, dropout_factor=0, L2_factor=1e-15, mode='regressor'):\n",
    "    if mode == 'regressor':\n",
    "        model = pytorch_models.SimpleNN(input_f, output_f, feature_counts, dropout_factor)\n",
    "    elif mode == 'classifier':\n",
    "        model = pytorch_models.SimpleNN_classifier(input_f, output_f, feature_counts, dropout_factor)\n",
    "    Model_API = api.Model_API(model, L2_factor=L2_factor, classifier=(mode=='classifier'))\n",
    "    return Model_API"
   ]
  },
  {
   "cell_type": "markdown",
   "id": "73c002c0-eaa4-4b0c-90df-d60039a7705c",
   "metadata": {},
   "source": [
    "### 初始參數"
   ]
  },
  {
   "cell_type": "code",
   "execution_count": 10,
   "id": "715dca53-0104-4378-b565-e541d83b4835",
   "metadata": {},
   "outputs": [],
   "source": [
    "data_path = './historical/data/'\n",
    "\n",
    "# 資料的開始與結束日期\n",
    "start_date = '2023-08-01'\n",
    "end_date = '2024-09-10'\n",
    "\n",
    "train_model_path = f'./trained_model_parameters/model_meta_{end_date}/'"
   ]
  },
  {
   "cell_type": "code",
   "execution_count": 11,
   "id": "41bf8ba4-bf38-4beb-af7b-29e00e121f87",
   "metadata": {},
   "outputs": [],
   "source": [
    "# 設定要不要開啟快速測試模式\n",
    "speed_test = False\n",
    "\n",
    "#---------------------------------------------------------------------------------\n",
    "# 設定要不要重算所有超參數與權重，或是不要做任何重算\n",
    "# 如果兩者皆為 False 則按照下面的個別設定\n",
    "# 如果兩者皆為 True 則全部重算\n",
    "#\n",
    "# Note: 如果指定的路徑當中沒有相應的 meta.json 檔，程式將會無視這邊的設定而進行計算\n",
    "#---------------------------------------------------------------------------------\n",
    "rerun_all_calculation = True\n",
    "dont_run_any_calculation = False\n",
    "\n",
    "\n",
    "# 此值為 False 則重新計算，True 則從存檔中讀取\n",
    "optuna_has_done = {\n",
    "    '日照率': True,\n",
    "    '最高氣溫': True,\n",
    "    '最低氣溫': True,\n",
    "    '氣溫': True,\n",
    "    '風速': True,\n",
    "    '風力': False,\n",
    "    '太陽能': True,\n",
    "    '尖峰負載': True,\n",
    "    '夜尖峰': True,\n",
    "    '午後平均風速': True,\n",
    "    '午後平均氣溫': True,\n",
    "    '下午平均風速': True,\n",
    "    '下午平均氣溫': True,\n",
    "    '傍晚平均風速': True,\n",
    "    '傍晚平均氣溫': True,\n",
    "}\n",
    "\n",
    "weights_has_determined = {\n",
    "    '日照率': True,\n",
    "    '最高氣溫': True,\n",
    "    '最低氣溫': True,\n",
    "    '氣溫': True,\n",
    "    '風速': True,\n",
    "    '風力': False,\n",
    "    '太陽能': True,\n",
    "    '尖峰負載': True,\n",
    "    '夜尖峰': True,\n",
    "    '午後平均風速': True,\n",
    "    '午後平均氣溫': True,\n",
    "    '下午平均風速': True,\n",
    "    '下午平均氣溫': True,\n",
    "    '傍晚平均風速': True,\n",
    "    '傍晚平均氣溫': True,\n",
    "}\n",
    "\n",
    "# 如果前面有設定全部重算或都不要重算，則重設上面的這兩個字典\n",
    "if dont_run_any_calculation:\n",
    "    optuna_has_done = {k: True for k in optuna_has_done.keys()}\n",
    "    weights_has_determined = {k: True for k in weights_has_determined.keys()}\n",
    "\n",
    "if rerun_all_calculation:\n",
    "    optuna_has_done = {k: False for k in optuna_has_done.keys()}\n",
    "    weights_has_determined = {k: False for k in weights_has_determined.keys()}"
   ]
  },
  {
   "cell_type": "code",
   "execution_count": 12,
   "id": "993a9059-99c9-4e83-86e9-44cbbeb60e3d",
   "metadata": {},
   "outputs": [],
   "source": [
    "# 定義每個 model_label 對應的 model\n",
    "model_class_dict = {}\n",
    "model_class_dict['regressor'] = {\n",
    "    'LinearRegression': LinearRegression,\n",
    "    'RandomForest': RandomForestRegressor,\n",
    "    'XGBoost': XGBRegressor,\n",
    "    'LightGBM': LGBMRegressor,\n",
    "    'SVR': SVR,\n",
    "    'NuSVR': NuSVR,\n",
    "    'FCN': FCN_model,\n",
    "}\n",
    "model_class_dict['classifier'] = {\n",
    "    'RandomForest': RandomForestClassifier,\n",
    "    'XGBoost': XGBClassifier,\n",
    "    'LightGBM': LGBMClassifier,\n",
    "    'SVC': SVC,\n",
    "    'NuSVC': NuSVC,\n",
    "    'LogisticRegression': LogisticRegression,\n",
    "    'FCN': FCN_model,\n",
    "}"
   ]
  },
  {
   "cell_type": "markdown",
   "id": "2797ea2b-b4a7-4c71-9d16-217948e2438e",
   "metadata": {},
   "source": [
    "### 讀取資料"
   ]
  },
  {
   "cell_type": "markdown",
   "id": "206aa955-32d7-4af6-8dbc-080f61f5db60",
   "metadata": {},
   "source": [
    "讀取先前經由爬蟲定時抓取的預報與觀測資料"
   ]
  },
  {
   "cell_type": "code",
   "execution_count": 13,
   "id": "0dcf13bc-fc77-43f7-ba00-e5fa42671e2e",
   "metadata": {},
   "outputs": [],
   "source": [
    "forecast_obs_df = prepare_forecast_observation_df(data_path, start_date=start_date, end_date=end_date)\n",
    "weather_power_df = prepare_data(data_path, start_date=start_date, end_date=end_date)"
   ]
  },
  {
   "cell_type": "markdown",
   "id": "72dbd112-db6b-4c14-adfc-01f475e07d32",
   "metadata": {},
   "source": [
    "## 函數"
   ]
  },
  {
   "cell_type": "markdown",
   "id": "43c5c9b0-3ddf-4765-9f2a-b671a4dcb68a",
   "metadata": {},
   "source": [
    "### 超參數最佳化"
   ]
  },
  {
   "cell_type": "markdown",
   "id": "d4695195-9096-4225-85ff-04accabddd05",
   "metadata": {},
   "source": [
    "這部分的函數有：  \n",
    "1. get_XY: 從 DataFrame 中提取需要的 X 與 Y 兩個 numpy array。\n",
    "2. five_fold_test: 執行一次 5-fold 測試，會呼叫 get_XY_from_forecast_and_observation。\n",
    "3. assign_model: 根據 model_label 與超參數字典建立一個模型。\n",
    "3. hyperparameter_tuning: 針對特定的模型與超參數組合，呼叫 five_fold_test 執行多次 5-fold 測試，並回傳 R2 值。\n",
    "4. optuna_operation: 利用第三方套件 optuna 執行超參數調整，會呼叫 hyperparameter_tuning。\n",
    "\n",
    "流程控制函數 flow_control 會呼叫 optuna_operation，而主程式只會直接呼叫 flow_control。"
   ]
  },
  {
   "cell_type": "code",
   "execution_count": 14,
   "id": "95014553-4c93-4dd2-bace-5898c46cab84",
   "metadata": {},
   "outputs": [],
   "source": [
    "def get_XY(data_df, Y_feature, X_features=None, hours=[str(i) for i in range(0, 24, 3)]):\n",
    "    date_related_cols = ['日期數字', '假日', '週六', '週日', '補班', '1~3月', '11~12月', '白日長度']\n",
    "    \n",
    "    if Y_feature in ['最高氣溫', '最低氣溫', '氣溫', '風速', '日照率', '全天空日射量']:\n",
    "        target = 'obs'\n",
    "    elif '平均' in Y_feature:\n",
    "        target = 'obs'\n",
    "    elif Y_feature in ['風力', '太陽能', '尖峰負載', '夜尖峰']:\n",
    "        target = 'pwd'\n",
    "\n",
    "    X_cols = []\n",
    "    if X_features is None:\n",
    "        for this_col in data_df.columns:\n",
    "            if '_' in this_col:\n",
    "                X_cols.append(this_col)\n",
    "        if target == 'pwd':\n",
    "            X_cols += date_related_cols\n",
    "    else:\n",
    "        for col in data_df.columns:\n",
    "            if target == 'obs':\n",
    "                dash_splited = col.split('預報_')\n",
    "            elif target == 'pwd':\n",
    "                dash_splited = col.split('_')\n",
    "            if len(dash_splited) >= 2:\n",
    "                if dash_splited[0] in X_features and (target=='pwd' or dash_splited[1] in hours):\n",
    "                    X_cols.append(col)\n",
    "            else:\n",
    "                if col in date_related_cols and col in X_features:\n",
    "                    X_cols.append(col)\n",
    "\n",
    "    Xs = np.array(data_df[X_cols])\n",
    "    Ys = np.array(data_df[Y_feature])\n",
    "\n",
    "    Xs = Xs[np.invert(np.isnan(Ys)),:]\n",
    "    Ys = Ys[np.invert(np.isnan(Ys))]\n",
    "\n",
    "    return Xs, Ys, X_cols"
   ]
  },
  {
   "cell_type": "code",
   "execution_count": 15,
   "id": "f496d22a-ed77-443f-b526-b1188dda6111",
   "metadata": {},
   "outputs": [],
   "source": [
    "def five_fold_test(Xs, Ys, model=XGBRegressor(), mode='regressor',\n",
    "                   deep_learning=False, fold_n=5, standard_scale=True, always_test_last_chunk=False):\n",
    "    \n",
    "    def metric(Y_test, Y_pred, mode=mode):\n",
    "        if mode == 'regressor':\n",
    "            return 1 - np.mean((Y_test - Y_pred)**2) / np.var(Y_test)\n",
    "        elif mode == 'classifier':\n",
    "            return f1_score(Y_test, Y_pred)\n",
    "\n",
    "    shuffle = not always_test_last_chunk\n",
    "    kf = KFold(n_splits=fold_n, shuffle=shuffle)\n",
    "    \n",
    "    XY_folds = {}\n",
    "    for i, (train_index, test_index) in enumerate(kf.split(Xs)):\n",
    "        XY_folds[i] = (train_index, test_index)\n",
    "    \n",
    "    metric_test_list, metric_train_list = [], []\n",
    "\n",
    "    if always_test_last_chunk:\n",
    "        iters = [fold_n-1]\n",
    "    else:\n",
    "        iters = range(fold_n)\n",
    "    \n",
    "    for i in iters:\n",
    "        if deep_learning:\n",
    "            input_f = model.model.params['input_f']\n",
    "            output_f = model.model.params['output_f']\n",
    "            feature_counts = model.model.params['feature_counts']\n",
    "            dropout_factor = model.model.params['dropout_factor']\n",
    "            L2_factor = model.L2_factor\n",
    "            model = FCN_model(input_f=input_f, output_f=output_f, feature_counts=feature_counts,\n",
    "                              dropout_factor=dropout_factor, L2_factor=L2_factor,mode=mode)\n",
    "            \n",
    "        X_train = Xs[XY_folds[i][0]]\n",
    "        X_test = Xs[XY_folds[i][1]]\n",
    "        Y_train = Ys[XY_folds[i][0]]\n",
    "        Y_test = Ys[XY_folds[i][1]]\n",
    "\n",
    "        if deep_learning:\n",
    "            X_train_DL, X_val, Y_train_DL, Y_val = train_test_split(X_train, Y_train, test_size=0.20)\n",
    "    \n",
    "        if standard_scale:\n",
    "            scaler = StandardScaler()\n",
    "            scaler.fit(X_train)\n",
    "            X_train = scaler.transform(X_train)\n",
    "            X_test = scaler.transform(X_test)\n",
    "            if deep_learning:\n",
    "                X_val = scaler.transform(X_val)\n",
    "            \n",
    "        if deep_learning:\n",
    "            _ = model.fit(X_train_DL, Y_train_DL, X_val, Y_val)\n",
    "        else:\n",
    "            _ = model.fit(X_train, Y_train)\n",
    "    \n",
    "        Y_pred = model.predict(X_test)\n",
    "        metric_test_list.append(metric(Y_test, Y_pred))\n",
    "\n",
    "        Y_pred = model.predict(X_train)\n",
    "        metric_train_list.append(metric(Y_train, Y_pred))\n",
    "\n",
    "    metric_test = np.mean(metric_test_list)\n",
    "    metric_train = np.mean(metric_train_list)\n",
    "    return metric_test, metric_train"
   ]
  },
  {
   "cell_type": "code",
   "execution_count": 16,
   "id": "1f15b8fb-52a9-4ea1-82f0-b84a37a656a4",
   "metadata": {},
   "outputs": [],
   "source": [
    "def assign_model(model_label, Xs, cfg, mode):\n",
    "    \n",
    "    if model_label == 'LightGBM':\n",
    "        model = model_class_dict[mode][model_label](force_col_wise=True, verbose=-1, **cfg)\n",
    "    elif model_label == 'FCN':\n",
    "        model = model_class_dict[mode][model_label](input_f=Xs.shape[1], output_f=1, feature_counts=[16, 16, 16, 8], mode=mode, **cfg)\n",
    "    else:\n",
    "        model = model_class_dict[mode][model_label](**cfg)\n",
    "\n",
    "    return model"
   ]
  },
  {
   "cell_type": "code",
   "execution_count": 17,
   "id": "a31496ed-0c2f-4c82-96ef-833f16e4a771",
   "metadata": {},
   "outputs": [],
   "source": [
    "def hyperparameter_tuning(trial, Xs, Ys, mode='regressor',\n",
    "                          model_label='RandomForest', n_iters=50, always_test_last_chunk=False):\n",
    "\n",
    "    deep_learning = model_label in ['FCN']\n",
    "    standard_scale = not deep_learning\n",
    "\n",
    "    if model_label in ['RandomForest', 'XGBoost', 'LightGBM']:\n",
    "        cfg = {'max_depth': trial.suggest_int('max_depth', 2, 15),\n",
    "               'n_estimators': trial.suggest_int('n_estimators', 10, 200)}     \n",
    "    elif model_label in ['SVR', 'SVC']:\n",
    "        cfg = {'C': trial.suggest_float('C', 1e-3, 2e2, log=True),\n",
    "               'kernel': trial.suggest_categorical('kernel', ['linear', 'poly', 'rbf', 'sigmoid'])}\n",
    "    elif model_label in ['NuSVR', 'NuSVC']:\n",
    "        cfg = {'C': trial.suggest_float('C', 1e-3, 2e2, log=True),\n",
    "               'kernel': trial.suggest_categorical('kernel', ['linear', 'poly', 'rbf', 'sigmoid']),\n",
    "               'nu': trial.suggest_float('nu', 0.1, 0.9)}\n",
    "    elif model_label == 'FCN':\n",
    "        cfg = {'L2_factor': trial.suggest_float('L2_factor', 1e-3, 1, log=True),\n",
    "               'dropout_factor': trial.suggest_float('dropout_factor', 0, 0.5)}\n",
    "    elif model_label == 'LogisticRegression':\n",
    "        cfg = {'C': trial.suggest_float('C', 1e-3, 2e2, log=True),\n",
    "               'solver': trial.suggest_categorical('solver', ['lbfgs', 'liblinear', 'newton-cg', 'newton-cholesky', 'sag', 'saga'])}\n",
    "    elif model_label == 'LinearRegression':\n",
    "        cfg = {}\n",
    "\n",
    "    model = assign_model(model_label, Xs, cfg, mode)\n",
    "   \n",
    "    metric_list = []\n",
    "    iterator = range(n_iters)\n",
    "    for i in iterator:\n",
    "        metric, _ = five_fold_test(Xs, Ys, model, mode=mode, \n",
    "                                   deep_learning=deep_learning, standard_scale=standard_scale, always_test_last_chunk=always_test_last_chunk)\n",
    "        metric_list.append(metric)\n",
    "\n",
    "    return np.mean(metric_list) - np.std(metric_list)"
   ]
  },
  {
   "cell_type": "code",
   "execution_count": 18,
   "id": "5603dc94-8aad-4a25-8c15-c16d35a08549",
   "metadata": {},
   "outputs": [],
   "source": [
    "def optuna_operation(model_xcols, Y_feature, data_df, mode='regressor', speed_test=False,\n",
    "                     optuna_n_trials=20, n_iters=30, always_test_last_chunk=False):\n",
    "\n",
    "    if mode == 'regressor':\n",
    "        metric_name = 'R2'\n",
    "    elif mode == 'classifier':\n",
    "        metric_name = 'F1'\n",
    "        \n",
    "    model_hyperparameters_dict = {}\n",
    "    model_r2_dict = {}\n",
    "    \n",
    "    if always_test_last_chunk:\n",
    "        n_iters = 1\n",
    "\n",
    "    model_labels = list(model_xcols.keys())\n",
    "    \n",
    "    for model_label in model_labels:\n",
    "        X_features = model_xcols[model_label]\n",
    "        Xs, Ys, _ = get_XY(data_df, Y_feature, X_features)\n",
    "\n",
    "        this_n_iters = n_iters\n",
    "        this_optuna_n_trials = optuna_n_trials\n",
    "\n",
    "        if model_label == 'FCN':\n",
    "            this_n_iters = min(this_n_iters, 1)\n",
    "            if speed_test:\n",
    "                this_optuna_n_trials = 4\n",
    "\n",
    "        if model_label == 'LinearRegression':\n",
    "            this_optuna_n_trials = 1\n",
    "            this_n_iters = 10\n",
    "            \n",
    "        def target_func(trial, model_label=model_label, Xs=Xs, Ys=Ys, mode=mode,\n",
    "                        n_iters=this_n_iters, always_test_last_chunk=always_test_last_chunk):\n",
    "            return hyperparameter_tuning(trial, model_label=model_label, Xs=Xs, Ys=Ys, mode=mode,\n",
    "                                         n_iters=n_iters, always_test_last_chunk=always_test_last_chunk)\n",
    "        \n",
    "        sampler = optuna.samplers.TPESampler()\n",
    "        study = optuna.create_study(sampler=sampler, direction='maximize')\n",
    "        with tqdm(total=this_optuna_n_trials) as pbar:\n",
    "            for _ in range(this_optuna_n_trials):\n",
    "                study.optimize(target_func, n_trials=1, catch=(Exception,))\n",
    "                pbar.update(1)\n",
    "        \n",
    "        print(model_label)\n",
    "        for key, v in study.best_params.items():\n",
    "            print(f\"Best {key} = {v}\")\n",
    "        print(f\"Best {metric_name} = {study.best_value}\")\n",
    "    \n",
    "        model_hyperparameters_dict[model_label] = study.best_params\n",
    "        model_r2_dict[model_label] = study.best_value\n",
    "\n",
    "    return model_hyperparameters_dict, model_r2_dict"
   ]
  },
  {
   "cell_type": "markdown",
   "id": "08fc6511-40ea-4ff7-b520-b95fe18bfe1e",
   "metadata": {},
   "source": [
    "### Ensemble"
   ]
  },
  {
   "cell_type": "markdown",
   "id": "6c58e03b-5c09-4200-a0b8-8fb779217419",
   "metadata": {},
   "source": [
    "這部分的函數有：\n",
    "1. cross_correlation_matrix: 由不同模型的預測誤差產生相關矩陣，僅由 get_residual_corr_matrix 呼叫。\n",
    "2. sovle_optimal_weights: 由誤差相關矩陣解出最佳權重，僅由 find_optimal_weights 呼叫。\n",
    "3. predict: 訓練模型並取得預測值，僅由 get_residual_corr_matrix 呼叫。\n",
    "4. get_residual_corr_matrix: 計算並取得所有模型多次取樣的 Y_truth, Y_pred, 與誤差相關矩陣，僅由 find_optimal_weights 呼叫。\n",
    "5. get_weighted_ensemble_metric: 輸入 get_residual_corr_matrix 的計算結果之後，得出模型評估表格，僅由 find_optimal_weights 呼叫。\n",
    "6. find_optimal_weights: 統整以上函數，解出最佳權重，並印出模型評估表格。\n",
    "7. save_model_metadata: 儲存這份筆記本得到的每個被預測值所採用的模型組合，以及每個模型採用的特徵、超參數與權重。\n",
    "\n",
    "流程控制函數中會呼叫 find_optimal_weights 與 save_model_metadata"
   ]
  },
  {
   "cell_type": "code",
   "execution_count": 19,
   "id": "21fd8684-bd83-48df-87e3-dfdd01aa4f50",
   "metadata": {},
   "outputs": [],
   "source": [
    "def cross_correlation_matrix(residuals):\n",
    "    N = len(residuals)\n",
    "    matrix = np.zeros((N, N))\n",
    "    for i in range(N):\n",
    "        for j in range(i, N):\n",
    "            matrix[i][j] = np.mean(np.array(residuals[i]) * np.array(residuals[j]))\n",
    "\n",
    "    for i in range(1, N):\n",
    "        for j in range(i):\n",
    "            matrix[i][j] = matrix[j][i]\n",
    "\n",
    "    return matrix"
   ]
  },
  {
   "cell_type": "code",
   "execution_count": 20,
   "id": "36002714-ae2f-4097-902e-a94df23c90ca",
   "metadata": {},
   "outputs": [],
   "source": [
    "def sovle_optimal_weights(matrix):\n",
    "    N = matrix.shape[0]\n",
    "    def objective(weights):\n",
    "        return weights.T @ matrix @ weights\n",
    "\n",
    "    initial_weights = np.array([1/N] * N)\n",
    "    constraints = ({'type': 'eq', 'fun': lambda w: np.sum(w) - 1})\n",
    "    bounds = [(0, 1)] * N\n",
    "    result = minimize(objective, initial_weights, method='SLSQP', bounds=bounds, constraints=constraints)\n",
    "    \n",
    "    optimal_weights = result.x\n",
    "    return optimal_weights"
   ]
  },
  {
   "cell_type": "code",
   "execution_count": 21,
   "id": "8053d288-2f40-4ec9-b87a-bd6eeac07848",
   "metadata": {},
   "outputs": [],
   "source": [
    "def predict(model_label, Y_train, train_ind, test_ind, mode,\n",
    "            model_hyperparameters_dict, model_xcols, data_df, Y_feature):\n",
    "    \n",
    "    X_features = model_xcols[model_label]\n",
    "    Xs, _, _ = get_XY(data_df, Y_feature=Y_feature, X_features=X_features)\n",
    "\n",
    "    model = assign_model(model_label, Xs, cfg=model_hyperparameters_dict[model_label], mode=mode)\n",
    "\n",
    "    deep_learning = False\n",
    "    if model_label == 'FCN':\n",
    "        deep_learning = True\n",
    "\n",
    "    X_train = Xs[train_ind]\n",
    "    X_test = Xs[test_ind]\n",
    "    \n",
    "    if deep_learning:\n",
    "        X_train_dl, X_val, Y_train_dl, Y_val = train_test_split(X_train, Y_train, test_size=0.20)\n",
    "        _ = model.fit(X_train_dl, Y_train_dl, X_val, Y_val)\n",
    "    else:\n",
    "        scaler = StandardScaler()\n",
    "        X_scaler = scaler.fit(X_train)\n",
    "        X_train = X_scaler.transform(X_train)\n",
    "        X_test = X_scaler.transform(X_test)\n",
    "        _ = model.fit(X_train, Y_train)\n",
    "    YP = model.predict(X_test)\n",
    "    return YP "
   ]
  },
  {
   "cell_type": "code",
   "execution_count": 22,
   "id": "852125ce-adf4-4560-8c77-74384dfce176",
   "metadata": {},
   "outputs": [],
   "source": [
    "def get_residual_corr_matrix(model_hyperparameters_dict, ensemble_models, model_xcols,\n",
    "                             data_df, Ys, Y_feature, mode,\n",
    "                             n_iters, n_samples):\n",
    "    \n",
    "    def get_prediction_func(model_hyperparameters_dict=model_hyperparameters_dict,\n",
    "                            model_xcols=model_xcols,\n",
    "                            data_df=data_df,\n",
    "                            Y_feature=Y_feature,\n",
    "                            mode=mode):\n",
    "        def func(model_label, Y_train, train_ind, test_ind):\n",
    "            return predict(model_label, Y_train, train_ind, test_ind, mode,\n",
    "                           model_hyperparameters_dict, model_xcols, data_df, Y_feature)\n",
    "        return func\n",
    "        \n",
    "    get_prediction = get_prediction_func()\n",
    "    \n",
    "    Y_pred_iters, Y_test_iters, model_metric = [], [], []\n",
    "    matrix = np.zeros((len(ensemble_models), len(ensemble_models)))\n",
    "    for i in tqdm(range(n_iters)):\n",
    "        train_ind, test_ind, _, _ = train_test_split(np.arange(n_samples), np.arange(n_samples), test_size=0.2)\n",
    "        \n",
    "        Y_train = Ys[train_ind]\n",
    "        Y_test = Ys[test_ind]\n",
    "        \n",
    "        Y_preds, this_metric = [], []\n",
    "        for model_label in ensemble_models:\n",
    "            YP = get_prediction(model_label, Y_train, train_ind, test_ind)\n",
    "            if mode == 'regressor':\n",
    "                this_metric.append(MAE(Y_test, YP))\n",
    "            elif mode == 'classifier':\n",
    "                YP[np.where(YP<0.5)] = 0\n",
    "                YP[np.where(YP>=0.5)] = 1\n",
    "                this_metric.append(f1_score(Y_test, YP))\n",
    "            Y_preds.append(YP)\n",
    "            \n",
    "        residuals = Y_preds - np.array([Y_test] * len(Y_preds)).reshape(len(Y_preds),-1)\n",
    "        matrix += cross_correlation_matrix(residuals)\n",
    "\n",
    "        model_metric.append(this_metric)\n",
    "        Y_pred_iters.append(Y_preds)\n",
    "        Y_test_iters.append(Y_test)\n",
    "    matrix = matrix / n_iters\n",
    "    return matrix, model_metric, Y_pred_iters, Y_test_iters"
   ]
  },
  {
   "cell_type": "code",
   "execution_count": 23,
   "id": "5a9c73a9-711c-4f4c-889f-8c7e07608555",
   "metadata": {},
   "outputs": [],
   "source": [
    "def get_weighted_ensemble_metric(Y_pred_iters, Y_test_iters, weights, mode):\n",
    "    n_iters = len(Y_pred_iters)\n",
    "    weighted_metric = []\n",
    "    for i in range(n_iters):\n",
    "        weighted_YP = np.sum(Y_pred_iters[i] * np.concatenate([weights.reshape(-1,1),] * Y_test_iters[0].shape[0], axis = 1), axis=0)\n",
    "        if mode == 'regressor':\n",
    "            weighted_metric.append(MAE(Y_test_iters[i], weighted_YP))\n",
    "        elif mode == 'classifier':\n",
    "            weighted_YP[np.where(weighted_YP<0.5)] = 0\n",
    "            weighted_YP[np.where(weighted_YP>=0.5)] = 1\n",
    "            weighted_metric.append(f1_score(Y_test_iters[i], weighted_YP))\n",
    "    weighted_metric = np.array(weighted_metric).reshape(-1, 1)\n",
    "    return weighted_metric"
   ]
  },
  {
   "cell_type": "code",
   "execution_count": 24,
   "id": "be8752c8-22af-48de-b9d4-5fe481285d10",
   "metadata": {
    "editable": true,
    "slideshow": {
     "slide_type": ""
    },
    "tags": []
   },
   "outputs": [],
   "source": [
    "def find_optimal_weights(model_hyperparameters_dict, model_xcols, \n",
    "                         data_df, Y_feature, mode='regressor', \n",
    "                         n_iters=200, weights=None):\n",
    "\n",
    "    if mode == 'regressor':\n",
    "        metric_name = 'MAE'\n",
    "    elif mode == 'classifier':\n",
    "        metric_name = 'F1'       \n",
    "    \n",
    "    if weights is None:\n",
    "        ensemble_models = list(model_hyperparameters_dict.keys())\n",
    "    else:\n",
    "        ensemble_models = list(weights.keys())\n",
    "\n",
    "    n_models = len(ensemble_models)\n",
    "\n",
    "    X_features = model_xcols[ensemble_models[0]]\n",
    "    Xs, Ys, _ = get_XY(data_df, Y_feature=Y_feature, X_features=X_features)\n",
    "    n_samples = Xs.shape[0]\n",
    "\n",
    "    matrix, model_metric, Y_pred_iters, Y_test_iters = get_residual_corr_matrix(model_hyperparameters_dict=model_hyperparameters_dict,\n",
    "                                                                                model_xcols=model_xcols, ensemble_models=ensemble_models,\n",
    "                                                                                data_df=data_df, Ys=Ys, Y_feature=Y_feature, mode=mode,\n",
    "                                                                                n_iters=n_iters, n_samples=n_samples)\n",
    "    \n",
    "    if weights is None:\n",
    "        optimal_weights = sovle_optimal_weights(matrix)\n",
    "    else:\n",
    "        optimal_weights = weights\n",
    "\n",
    "    uniform_weights = np.array([1/n_models] * n_models)\n",
    "    uniform_metric = get_weighted_ensemble_metric(Y_pred_iters, Y_test_iters, uniform_weights, mode)\n",
    "    optimal_metric = get_weighted_ensemble_metric(Y_pred_iters, Y_test_iters, optimal_weights, mode)\n",
    "\n",
    "    array_metric = np.concatenate([model_metric, uniform_metric, optimal_metric], axis=1)\n",
    "    \n",
    "    metric_dict = {\n",
    "        'Model': ensemble_models + ['Ensemble', 'Weighted_Ensemble'],\n",
    "        f'Avg {metric_name}': list(np.mean(array_metric, axis=0)), \n",
    "        f'Std {metric_name}': list(np.std(array_metric, axis=0)),\n",
    "        '90th percentile': list(np.sort(array_metric, axis=0)[int(array_metric.shape[0] * 0.9) - 1]),\n",
    "        '10th percentile': list(np.sort(array_metric, axis=0)[int(array_metric.shape[0] * 0.1) - 1])\n",
    "        }\n",
    "    \n",
    "    df = pd.DataFrame(metric_dict)\n",
    "    if mode == 'regressor':\n",
    "        df = df.sort_values('90th percentile').reset_index(drop=True)\n",
    "    elif mode == 'classifier':\n",
    "        df = df.sort_values('10th percentile', ascending=False).reset_index(drop=True)\n",
    "\n",
    "    if weights is not None:\n",
    "        return df\n",
    "        \n",
    "    optimal_weights_dict = {ensemble_models[i]: w for i, w in enumerate(optimal_weights)}\n",
    "        \n",
    "    return df, optimal_weights_dict"
   ]
  },
  {
   "cell_type": "code",
   "execution_count": 25,
   "id": "e3e22f58-f327-4c83-94de-cd89045a4b45",
   "metadata": {},
   "outputs": [],
   "source": [
    "def save_model_metadata(file_path, model_xcols, model_hyperparameters_dict, optimal_weights):\n",
    "    model_labels = list(model_hyperparameters_dict)\n",
    "    output_dict = {\n",
    "        'X_feature_dict':{},\n",
    "        'hyperparameters_dict':{},\n",
    "        'weights':{}\n",
    "    }\n",
    "    for model_label in model_labels:\n",
    "        if optimal_weights[model_label] > 0.0005:\n",
    "            output_dict['X_feature_dict'][model_label] = model_xcols[model_label]\n",
    "            output_dict['hyperparameters_dict'][model_label] = model_hyperparameters_dict[model_label]\n",
    "            output_dict['weights'][model_label] = optimal_weights[model_label]\n",
    "\n",
    "    with open(file_path, 'w') as f:\n",
    "        json.dump(output_dict, f)"
   ]
  },
  {
   "cell_type": "markdown",
   "id": "3ecae0a5-e869-445f-898b-0d53a816cb05",
   "metadata": {},
   "source": [
    "### 流程控制"
   ]
  },
  {
   "cell_type": "markdown",
   "id": "04155fd3-5db7-4a49-b0d9-a223f55735a2",
   "metadata": {},
   "source": [
    "主要被主程式呼叫的函數  \n",
    "負責管理超參數及權重的計算與存取"
   ]
  },
  {
   "cell_type": "code",
   "execution_count": 26,
   "id": "c716316d-0a5a-4f95-bd91-a47d77d7ba24",
   "metadata": {},
   "outputs": [],
   "source": [
    "def flow_control(Y_feature, model_xcols, data_df, mode='regressor', speed_test=False,\n",
    "                 train_model_path=train_model_path, optuna_has_done=optuna_has_done, weights_has_determined=weights_has_determined, run=False):\n",
    "\n",
    "    n_iter_dict = {\n",
    "        'hyper_parameter': 15,\n",
    "        'ensemble_weight': 200\n",
    "    }\n",
    "    if speed_test:\n",
    "        n_iter_dict = {\n",
    "            'hyper_parameter': 1,\n",
    "            'ensemble_weight': 20\n",
    "        }\n",
    "    \n",
    "    this_model_path = f'{train_model_path}{Y_feature}/'\n",
    "    os.makedirs(this_model_path, exist_ok=True)\n",
    "\n",
    "    # 如果指定的 meta 檔存在，並且初始參數規定不須重新計算，則套用存檔數值。\n",
    "    if os.path.exists(f'{train_model_path}{Y_feature}/meta.json') and not run:\n",
    "        with open(f'{train_model_path}{Y_feature}/meta.json', 'r') as f:\n",
    "            meta = json.load(f)\n",
    "    else:\n",
    "        optuna_has_done[Y_feature] = False\n",
    "        weights_has_determined[Y_feature] = False\n",
    "\n",
    "    # 超參數  \n",
    "    if optuna_has_done[Y_feature]:\n",
    "        model_xcols = meta['X_feature_dict']\n",
    "        model_hyperparameters_dict = meta['hyperparameters_dict']\n",
    "    else: \n",
    "        print('Start to tune hyperparameters')\n",
    "        model_hyperparameters_dict, model_r2_dict = optuna_operation(model_xcols, Y_feature, data_df, mode=mode,\n",
    "                                                                     n_iters=n_iter_dict['hyper_parameter'],\n",
    "                                                                     speed_test=speed_test)\n",
    "    \n",
    "    # 集成權重\n",
    "    if weights_has_determined[Y_feature]:\n",
    "        optimal_weights = meta['weights']\n",
    "        df = pd.read_csv(f'{this_model_path}predict_MAE.df')\n",
    "        display(df)\n",
    "        print('Weights:')\n",
    "        for i, k in enumerate(model_hyperparameters_dict.keys()):\n",
    "            print(f'{k}: {optimal_weights[k]:.3f}')\n",
    "    else:\n",
    "        print('Start to determine Ensemble weights.')\n",
    "        if 'FCN' in model_hyperparameters_dict.keys():\n",
    "            n_iters = int(n_iter_dict['ensemble_weight']/4)\n",
    "        else:\n",
    "            n_iters = n_iter_dict['ensemble_weight']\n",
    "        df, optimal_weights = find_optimal_weights(model_hyperparameters_dict, model_xcols, data_df,\n",
    "                                                   Y_feature=Y_feature, mode=mode, n_iters=n_iters)\n",
    "        print(Y_feature)\n",
    "        display(df)\n",
    "        df.to_csv(f'{this_model_path}predict_MAE.df', index=False, encoding='utf-8-sig')\n",
    "        print('Weights:')\n",
    "        for i, k in enumerate(model_hyperparameters_dict.keys()):\n",
    "            print(f'{k}: {optimal_weights[k]:.3f}')\n",
    "\n",
    "    if not (weights_has_determined[Y_feature] and optuna_has_done[Y_feature]):\n",
    "        print(' ')\n",
    "        print(' ')\n",
    "        print('**Copy and Paste following lines into the next cell.**')\n",
    "        for model_label in model_hyperparameters_dict.keys():\n",
    "            print('##### ' + model_label)\n",
    "            for key, v in model_hyperparameters_dict[model_label].items():\n",
    "                print(f\"Best {key} = {v}  \")\n",
    "            if 'model_r2_dict' in locals().keys():\n",
    "                print(f\"Best R2 = {model_r2_dict[model_label]}  \")\n",
    "            print(f'Weight = {optimal_weights[model_label]:.3f}')\n",
    "        print(' ')\n",
    "        print(' ')\n",
    "        save_model_metadata(this_model_path + 'meta.json', model_xcols, model_hyperparameters_dict, optimal_weights)"
   ]
  },
  {
   "cell_type": "markdown",
   "id": "671e557a-e133-49a1-b150-803b92846ab2",
   "metadata": {},
   "source": [
    "## 預測氣象數值"
   ]
  },
  {
   "cell_type": "markdown",
   "id": "97b67d47-81d6-43f3-aa8d-38d171ea50ce",
   "metadata": {},
   "source": [
    "在先前對於如何用氣象資料預測電力資料的探索，我們發現中央氣象署提供的歷史氣象資料中，以每天的最高氣溫、最低氣溫、平均氣溫、風速與全天空日射量等五個數值比較重要  \n",
    "同時從中央氣象署網站下載的氣象預報當中，可以找到每個鄉鎮市區每三個小時的天氣狀況、氣溫、風速、風向、相對溼度等資訊  \n",
    "這邊的天氣狀況就是晴、多雲、短暫陣雨之類的文字敘述，根據我的觀察，這樣的文字敘述可以歸類為七種：  \n",
    "晴、多雲、陰、短暫陣雨、短暫陣雨或雷雨、午後短暫雷陣雨、陣雨或雷雨\n",
    "在我的資料表中預先將這七種預報文字進行 one-hot coding 處理\n",
    "\n",
    "我判斷這樣的文字敘述跟日照率，也就是實測日照時數與天文日照時數之比率比較相關，所以這邊預測的氣象數值鎖定在以下五個值：  \n",
    "日照率、最高氣溫、最低氣溫、(平均)氣溫、風速  \n",
    "\n",
    "而預測的樣本單位則是每天每氣象站算是一個樣本，而考慮的氣象站為：  \n",
    "臺北站、高雄站、嘉義站、東吉島站、臺中電廠站、臺西站等六站\n",
    "\n",
    "另外在每個預測標的下方的結果表格中，為了瞭解每個模型以及每種集成學習方式分別的預測誤差，以及誤差值的穩定性  \n",
    "所以我將 MAE 的平均值、標準差、第 10 與第 90 百分位都列出來  \n",
    "表格是按誤差的第 90 百分位排序的，以觀察各預測方式的穩定性\n",
    "除了夜尖峰是預測 Yes or No 問題，屬於分類問題而非回歸問題  \n",
    "所以表格呈現的是 f1-score，也相應的改成按照第 10 百分位排序\n",
    "\n",
    "表格中的 Ensemble 代表每個模型權重一致的集成學習  \n",
    "而 Weighted_Ensemble 則代表使用從相關矩陣中解出的最佳權重的集成學習"
   ]
  },
  {
   "cell_type": "markdown",
   "id": "4e61e6bc-c5bd-4ad7-9dcf-1bbe255643b5",
   "metadata": {},
   "source": [
    "### 時段風速與氣溫"
   ]
  },
  {
   "cell_type": "markdown",
   "id": "ef2b01db-e5f7-4d89-a4ba-166388b96fd0",
   "metadata": {},
   "source": [
    "這邊的時段風速與氣溫，指的是三個時段：午後 (12-15點)、下午 (15-18點)、傍晚(18-21點) 的平均氣溫與風速  \n",
    "由於用電尖峰通常發生在這三個時段，所以後面的風力發電與夜尖峰的預測會用到這些數據  \n",
    "氣溫單位為攝氏度，風速單位則為公尺每秒  "
   ]
  },
  {
   "cell_type": "code",
   "execution_count": 29,
   "id": "31f862b9-31ef-4446-9df7-720c41fb0ba4",
   "metadata": {},
   "outputs": [
    {
     "name": "stdout",
     "output_type": "stream",
     "text": [
      "Start to tune hyperparameters\n"
     ]
    },
    {
     "name": "stderr",
     "output_type": "stream",
     "text": [
      "100%|████████████████████████████████████████████████████████████████████████████████████| 1/1 [00:00<00:00, 20.99it/s]\n"
     ]
    },
    {
     "name": "stdout",
     "output_type": "stream",
     "text": [
      "LinearRegression\n",
      "Best R2 = 0.4856681771569115\n"
     ]
    },
    {
     "name": "stderr",
     "output_type": "stream",
     "text": [
      "100%|██████████████████████████████████████████████████████████████████████████████████| 20/20 [00:25<00:00,  1.28s/it]\n"
     ]
    },
    {
     "name": "stdout",
     "output_type": "stream",
     "text": [
      "SVR\n",
      "Best C = 0.14475271112397323\n",
      "Best kernel = linear\n",
      "Best R2 = 0.48767119516158086\n"
     ]
    },
    {
     "name": "stderr",
     "output_type": "stream",
     "text": [
      "100%|██████████████████████████████████████████████████████████████████████████████████| 20/20 [02:04<00:00,  6.21s/it]\n"
     ]
    },
    {
     "name": "stdout",
     "output_type": "stream",
     "text": [
      "RandomForest\n",
      "Best max_depth = 2\n",
      "Best n_estimators = 96\n",
      "Best R2 = 0.4526509534260649\n",
      "Start to determine Ensemble weights.\n"
     ]
    },
    {
     "name": "stderr",
     "output_type": "stream",
     "text": [
      "100%|████████████████████████████████████████████████████████████████████████████████| 200/200 [00:13<00:00, 15.04it/s]"
     ]
    },
    {
     "name": "stdout",
     "output_type": "stream",
     "text": [
      "午後平均氣溫\n"
     ]
    },
    {
     "name": "stderr",
     "output_type": "stream",
     "text": [
      "\n"
     ]
    },
    {
     "data": {
      "text/html": [
       "<div>\n",
       "<style scoped>\n",
       "    .dataframe tbody tr th:only-of-type {\n",
       "        vertical-align: middle;\n",
       "    }\n",
       "\n",
       "    .dataframe tbody tr th {\n",
       "        vertical-align: top;\n",
       "    }\n",
       "\n",
       "    .dataframe thead th {\n",
       "        text-align: right;\n",
       "    }\n",
       "</style>\n",
       "<table border=\"1\" class=\"dataframe\">\n",
       "  <thead>\n",
       "    <tr style=\"text-align: right;\">\n",
       "      <th></th>\n",
       "      <th>Model</th>\n",
       "      <th>Avg MAE</th>\n",
       "      <th>Std MAE</th>\n",
       "      <th>90th percentile</th>\n",
       "      <th>10th percentile</th>\n",
       "    </tr>\n",
       "  </thead>\n",
       "  <tbody>\n",
       "    <tr>\n",
       "      <th>0</th>\n",
       "      <td>SVR</td>\n",
       "      <td>1.087336</td>\n",
       "      <td>0.099858</td>\n",
       "      <td>1.204653</td>\n",
       "      <td>0.958545</td>\n",
       "    </tr>\n",
       "    <tr>\n",
       "      <th>1</th>\n",
       "      <td>Ensemble</td>\n",
       "      <td>1.088455</td>\n",
       "      <td>0.099405</td>\n",
       "      <td>1.209257</td>\n",
       "      <td>0.963739</td>\n",
       "    </tr>\n",
       "    <tr>\n",
       "      <th>2</th>\n",
       "      <td>Weighted_Ensemble</td>\n",
       "      <td>1.089281</td>\n",
       "      <td>0.098667</td>\n",
       "      <td>1.216924</td>\n",
       "      <td>0.958406</td>\n",
       "    </tr>\n",
       "    <tr>\n",
       "      <th>3</th>\n",
       "      <td>LinearRegression</td>\n",
       "      <td>1.111165</td>\n",
       "      <td>0.098316</td>\n",
       "      <td>1.237111</td>\n",
       "      <td>0.990754</td>\n",
       "    </tr>\n",
       "    <tr>\n",
       "      <th>4</th>\n",
       "      <td>RandomForest</td>\n",
       "      <td>1.134363</td>\n",
       "      <td>0.103326</td>\n",
       "      <td>1.268496</td>\n",
       "      <td>1.001701</td>\n",
       "    </tr>\n",
       "  </tbody>\n",
       "</table>\n",
       "</div>"
      ],
      "text/plain": [
       "               Model   Avg MAE   Std MAE  90th percentile  10th percentile\n",
       "0                SVR  1.087336  0.099858         1.204653         0.958545\n",
       "1           Ensemble  1.088455  0.099405         1.209257         0.963739\n",
       "2  Weighted_Ensemble  1.089281  0.098667         1.216924         0.958406\n",
       "3   LinearRegression  1.111165  0.098316         1.237111         0.990754\n",
       "4       RandomForest  1.134363  0.103326         1.268496         1.001701"
      ]
     },
     "metadata": {},
     "output_type": "display_data"
    },
    {
     "name": "stdout",
     "output_type": "stream",
     "text": [
      "Weights:\n",
      "LinearRegression: 0.428\n",
      "SVR: 0.396\n",
      "RandomForest: 0.177\n",
      " \n",
      " \n",
      "**Copy and Paste following lines into the next cell.**\n",
      "##### LinearRegression\n",
      "Best R2 = 0.4856681771569115  \n",
      "Weight = 0.428\n",
      "##### SVR\n",
      "Best C = 0.14475271112397323  \n",
      "Best kernel = linear  \n",
      "Best R2 = 0.48767119516158086  \n",
      "Weight = 0.396\n",
      "##### RandomForest\n",
      "Best max_depth = 2  \n",
      "Best n_estimators = 96  \n",
      "Best R2 = 0.4526509534260649  \n",
      "Weight = 0.177\n",
      " \n",
      " \n",
      "Start to tune hyperparameters\n"
     ]
    },
    {
     "name": "stderr",
     "output_type": "stream",
     "text": [
      "100%|████████████████████████████████████████████████████████████████████████████████████| 1/1 [00:00<00:00, 20.68it/s]\n"
     ]
    },
    {
     "name": "stdout",
     "output_type": "stream",
     "text": [
      "LinearRegression\n",
      "Best R2 = 0.28692954395289955\n"
     ]
    },
    {
     "name": "stderr",
     "output_type": "stream",
     "text": [
      "100%|██████████████████████████████████████████████████████████████████████████████████| 20/20 [00:26<00:00,  1.34s/it]\n"
     ]
    },
    {
     "name": "stdout",
     "output_type": "stream",
     "text": [
      "SVR\n",
      "Best C = 0.1404377386980103\n",
      "Best kernel = linear\n",
      "Best R2 = 0.3098996529463813\n"
     ]
    },
    {
     "name": "stderr",
     "output_type": "stream",
     "text": [
      "100%|██████████████████████████████████████████████████████████████████████████████████| 20/20 [02:19<00:00,  6.95s/it]\n"
     ]
    },
    {
     "name": "stdout",
     "output_type": "stream",
     "text": [
      "RandomForest\n",
      "Best max_depth = 6\n",
      "Best n_estimators = 114\n",
      "Best R2 = 0.22335596277961356\n",
      "Start to determine Ensemble weights.\n"
     ]
    },
    {
     "name": "stderr",
     "output_type": "stream",
     "text": [
      "100%|████████████████████████████████████████████████████████████████████████████████| 200/200 [00:17<00:00, 11.46it/s]"
     ]
    },
    {
     "name": "stdout",
     "output_type": "stream",
     "text": [
      "午後平均風速\n"
     ]
    },
    {
     "name": "stderr",
     "output_type": "stream",
     "text": [
      "\n"
     ]
    },
    {
     "data": {
      "text/html": [
       "<div>\n",
       "<style scoped>\n",
       "    .dataframe tbody tr th:only-of-type {\n",
       "        vertical-align: middle;\n",
       "    }\n",
       "\n",
       "    .dataframe tbody tr th {\n",
       "        vertical-align: top;\n",
       "    }\n",
       "\n",
       "    .dataframe thead th {\n",
       "        text-align: right;\n",
       "    }\n",
       "</style>\n",
       "<table border=\"1\" class=\"dataframe\">\n",
       "  <thead>\n",
       "    <tr style=\"text-align: right;\">\n",
       "      <th></th>\n",
       "      <th>Model</th>\n",
       "      <th>Avg MAE</th>\n",
       "      <th>Std MAE</th>\n",
       "      <th>90th percentile</th>\n",
       "      <th>10th percentile</th>\n",
       "    </tr>\n",
       "  </thead>\n",
       "  <tbody>\n",
       "    <tr>\n",
       "      <th>0</th>\n",
       "      <td>Weighted_Ensemble</td>\n",
       "      <td>0.957206</td>\n",
       "      <td>0.107783</td>\n",
       "      <td>1.091745</td>\n",
       "      <td>0.824968</td>\n",
       "    </tr>\n",
       "    <tr>\n",
       "      <th>1</th>\n",
       "      <td>Ensemble</td>\n",
       "      <td>0.956559</td>\n",
       "      <td>0.107237</td>\n",
       "      <td>1.095268</td>\n",
       "      <td>0.826275</td>\n",
       "    </tr>\n",
       "    <tr>\n",
       "      <th>2</th>\n",
       "      <td>SVR</td>\n",
       "      <td>0.956607</td>\n",
       "      <td>0.116653</td>\n",
       "      <td>1.117057</td>\n",
       "      <td>0.815267</td>\n",
       "    </tr>\n",
       "    <tr>\n",
       "      <th>3</th>\n",
       "      <td>RandomForest</td>\n",
       "      <td>0.985434</td>\n",
       "      <td>0.117136</td>\n",
       "      <td>1.121597</td>\n",
       "      <td>0.833633</td>\n",
       "    </tr>\n",
       "    <tr>\n",
       "      <th>4</th>\n",
       "      <td>LinearRegression</td>\n",
       "      <td>0.996743</td>\n",
       "      <td>0.102707</td>\n",
       "      <td>1.125517</td>\n",
       "      <td>0.863632</td>\n",
       "    </tr>\n",
       "  </tbody>\n",
       "</table>\n",
       "</div>"
      ],
      "text/plain": [
       "               Model   Avg MAE   Std MAE  90th percentile  10th percentile\n",
       "0  Weighted_Ensemble  0.957206  0.107783         1.091745         0.824968\n",
       "1           Ensemble  0.956559  0.107237         1.095268         0.826275\n",
       "2                SVR  0.956607  0.116653         1.117057         0.815267\n",
       "3       RandomForest  0.985434  0.117136         1.121597         0.833633\n",
       "4   LinearRegression  0.996743  0.102707         1.125517         0.863632"
      ]
     },
     "metadata": {},
     "output_type": "display_data"
    },
    {
     "name": "stdout",
     "output_type": "stream",
     "text": [
      "Weights:\n",
      "LinearRegression: 0.330\n",
      "SVR: 0.240\n",
      "RandomForest: 0.431\n",
      " \n",
      " \n",
      "**Copy and Paste following lines into the next cell.**\n",
      "##### LinearRegression\n",
      "Best R2 = 0.28692954395289955  \n",
      "Weight = 0.330\n",
      "##### SVR\n",
      "Best C = 0.1404377386980103  \n",
      "Best kernel = linear  \n",
      "Best R2 = 0.3098996529463813  \n",
      "Weight = 0.240\n",
      "##### RandomForest\n",
      "Best max_depth = 6  \n",
      "Best n_estimators = 114  \n",
      "Best R2 = 0.22335596277961356  \n",
      "Weight = 0.431\n",
      " \n",
      " \n",
      "Start to tune hyperparameters\n"
     ]
    },
    {
     "name": "stderr",
     "output_type": "stream",
     "text": [
      "100%|████████████████████████████████████████████████████████████████████████████████████| 1/1 [00:00<00:00, 22.17it/s]\n"
     ]
    },
    {
     "name": "stdout",
     "output_type": "stream",
     "text": [
      "LinearRegression\n",
      "Best R2 = 0.3059975028820128\n"
     ]
    },
    {
     "name": "stderr",
     "output_type": "stream",
     "text": [
      "100%|██████████████████████████████████████████████████████████████████████████████████| 20/20 [00:30<00:00,  1.50s/it]\n"
     ]
    },
    {
     "name": "stdout",
     "output_type": "stream",
     "text": [
      "SVR\n",
      "Best C = 0.009987591721365137\n",
      "Best kernel = linear\n",
      "Best R2 = 0.29289588961890667\n"
     ]
    },
    {
     "name": "stderr",
     "output_type": "stream",
     "text": [
      "100%|██████████████████████████████████████████████████████████████████████████████████| 20/20 [01:54<00:00,  5.74s/it]\n"
     ]
    },
    {
     "name": "stdout",
     "output_type": "stream",
     "text": [
      "RandomForest\n",
      "Best max_depth = 2\n",
      "Best n_estimators = 99\n",
      "Best R2 = 0.2860908295924146\n",
      "Start to determine Ensemble weights.\n"
     ]
    },
    {
     "name": "stderr",
     "output_type": "stream",
     "text": [
      "100%|████████████████████████████████████████████████████████████████████████████████| 200/200 [00:13<00:00, 15.32it/s]"
     ]
    },
    {
     "name": "stdout",
     "output_type": "stream",
     "text": [
      "下午平均氣溫\n"
     ]
    },
    {
     "name": "stderr",
     "output_type": "stream",
     "text": [
      "\n"
     ]
    },
    {
     "data": {
      "text/html": [
       "<div>\n",
       "<style scoped>\n",
       "    .dataframe tbody tr th:only-of-type {\n",
       "        vertical-align: middle;\n",
       "    }\n",
       "\n",
       "    .dataframe tbody tr th {\n",
       "        vertical-align: top;\n",
       "    }\n",
       "\n",
       "    .dataframe thead th {\n",
       "        text-align: right;\n",
       "    }\n",
       "</style>\n",
       "<table border=\"1\" class=\"dataframe\">\n",
       "  <thead>\n",
       "    <tr style=\"text-align: right;\">\n",
       "      <th></th>\n",
       "      <th>Model</th>\n",
       "      <th>Avg MAE</th>\n",
       "      <th>Std MAE</th>\n",
       "      <th>90th percentile</th>\n",
       "      <th>10th percentile</th>\n",
       "    </tr>\n",
       "  </thead>\n",
       "  <tbody>\n",
       "    <tr>\n",
       "      <th>0</th>\n",
       "      <td>SVR</td>\n",
       "      <td>1.317248</td>\n",
       "      <td>0.124565</td>\n",
       "      <td>1.456302</td>\n",
       "      <td>1.145347</td>\n",
       "    </tr>\n",
       "    <tr>\n",
       "      <th>1</th>\n",
       "      <td>Weighted_Ensemble</td>\n",
       "      <td>1.328727</td>\n",
       "      <td>0.116336</td>\n",
       "      <td>1.460891</td>\n",
       "      <td>1.168489</td>\n",
       "    </tr>\n",
       "    <tr>\n",
       "      <th>2</th>\n",
       "      <td>Ensemble</td>\n",
       "      <td>1.329202</td>\n",
       "      <td>0.117175</td>\n",
       "      <td>1.477507</td>\n",
       "      <td>1.169199</td>\n",
       "    </tr>\n",
       "    <tr>\n",
       "      <th>3</th>\n",
       "      <td>LinearRegression</td>\n",
       "      <td>1.345105</td>\n",
       "      <td>0.114694</td>\n",
       "      <td>1.478509</td>\n",
       "      <td>1.197537</td>\n",
       "    </tr>\n",
       "    <tr>\n",
       "      <th>4</th>\n",
       "      <td>RandomForest</td>\n",
       "      <td>1.382858</td>\n",
       "      <td>0.118358</td>\n",
       "      <td>1.525410</td>\n",
       "      <td>1.228821</td>\n",
       "    </tr>\n",
       "  </tbody>\n",
       "</table>\n",
       "</div>"
      ],
      "text/plain": [
       "               Model   Avg MAE   Std MAE  90th percentile  10th percentile\n",
       "0                SVR  1.317248  0.124565         1.456302         1.145347\n",
       "1  Weighted_Ensemble  1.328727  0.116336         1.460891         1.168489\n",
       "2           Ensemble  1.329202  0.117175         1.477507         1.169199\n",
       "3   LinearRegression  1.345105  0.114694         1.478509         1.197537\n",
       "4       RandomForest  1.382858  0.118358         1.525410         1.228821"
      ]
     },
     "metadata": {},
     "output_type": "display_data"
    },
    {
     "name": "stdout",
     "output_type": "stream",
     "text": [
      "Weights:\n",
      "LinearRegression: 0.583\n",
      "SVR: 0.219\n",
      "RandomForest: 0.198\n",
      " \n",
      " \n",
      "**Copy and Paste following lines into the next cell.**\n",
      "##### LinearRegression\n",
      "Best R2 = 0.3059975028820128  \n",
      "Weight = 0.583\n",
      "##### SVR\n",
      "Best C = 0.009987591721365137  \n",
      "Best kernel = linear  \n",
      "Best R2 = 0.29289588961890667  \n",
      "Weight = 0.219\n",
      "##### RandomForest\n",
      "Best max_depth = 2  \n",
      "Best n_estimators = 99  \n",
      "Best R2 = 0.2860908295924146  \n",
      "Weight = 0.198\n",
      " \n",
      " \n",
      "Start to tune hyperparameters\n"
     ]
    },
    {
     "name": "stderr",
     "output_type": "stream",
     "text": [
      "100%|████████████████████████████████████████████████████████████████████████████████████| 1/1 [00:00<00:00, 20.90it/s]\n"
     ]
    },
    {
     "name": "stdout",
     "output_type": "stream",
     "text": [
      "LinearRegression\n",
      "Best R2 = 0.18443384779923216\n"
     ]
    },
    {
     "name": "stderr",
     "output_type": "stream",
     "text": [
      "100%|██████████████████████████████████████████████████████████████████████████████████| 20/20 [00:13<00:00,  1.47it/s]\n"
     ]
    },
    {
     "name": "stdout",
     "output_type": "stream",
     "text": [
      "SVR\n",
      "Best C = 2.0806111557222104\n",
      "Best kernel = linear\n",
      "Best R2 = 0.28487280913948104\n"
     ]
    },
    {
     "name": "stderr",
     "output_type": "stream",
     "text": [
      "100%|██████████████████████████████████████████████████████████████████████████████████| 20/20 [01:51<00:00,  5.56s/it]\n"
     ]
    },
    {
     "name": "stdout",
     "output_type": "stream",
     "text": [
      "RandomForest\n",
      "Best max_depth = 2\n",
      "Best n_estimators = 78\n",
      "Best R2 = 0.2669861453973298\n",
      "Start to determine Ensemble weights.\n"
     ]
    },
    {
     "name": "stderr",
     "output_type": "stream",
     "text": [
      "100%|████████████████████████████████████████████████████████████████████████████████| 200/200 [00:11<00:00, 17.81it/s]"
     ]
    },
    {
     "name": "stdout",
     "output_type": "stream",
     "text": [
      "下午平均風速\n"
     ]
    },
    {
     "name": "stderr",
     "output_type": "stream",
     "text": [
      "\n"
     ]
    },
    {
     "data": {
      "text/html": [
       "<div>\n",
       "<style scoped>\n",
       "    .dataframe tbody tr th:only-of-type {\n",
       "        vertical-align: middle;\n",
       "    }\n",
       "\n",
       "    .dataframe tbody tr th {\n",
       "        vertical-align: top;\n",
       "    }\n",
       "\n",
       "    .dataframe thead th {\n",
       "        text-align: right;\n",
       "    }\n",
       "</style>\n",
       "<table border=\"1\" class=\"dataframe\">\n",
       "  <thead>\n",
       "    <tr style=\"text-align: right;\">\n",
       "      <th></th>\n",
       "      <th>Model</th>\n",
       "      <th>Avg MAE</th>\n",
       "      <th>Std MAE</th>\n",
       "      <th>90th percentile</th>\n",
       "      <th>10th percentile</th>\n",
       "    </tr>\n",
       "  </thead>\n",
       "  <tbody>\n",
       "    <tr>\n",
       "      <th>0</th>\n",
       "      <td>Weighted_Ensemble</td>\n",
       "      <td>0.978756</td>\n",
       "      <td>0.113956</td>\n",
       "      <td>1.142485</td>\n",
       "      <td>0.837598</td>\n",
       "    </tr>\n",
       "    <tr>\n",
       "      <th>1</th>\n",
       "      <td>Ensemble</td>\n",
       "      <td>0.980616</td>\n",
       "      <td>0.113914</td>\n",
       "      <td>1.146238</td>\n",
       "      <td>0.846208</td>\n",
       "    </tr>\n",
       "    <tr>\n",
       "      <th>2</th>\n",
       "      <td>SVR</td>\n",
       "      <td>0.987522</td>\n",
       "      <td>0.121783</td>\n",
       "      <td>1.167617</td>\n",
       "      <td>0.831367</td>\n",
       "    </tr>\n",
       "    <tr>\n",
       "      <th>3</th>\n",
       "      <td>LinearRegression</td>\n",
       "      <td>1.031789</td>\n",
       "      <td>0.114550</td>\n",
       "      <td>1.179676</td>\n",
       "      <td>0.890462</td>\n",
       "    </tr>\n",
       "    <tr>\n",
       "      <th>4</th>\n",
       "      <td>RandomForest</td>\n",
       "      <td>1.018296</td>\n",
       "      <td>0.129026</td>\n",
       "      <td>1.194967</td>\n",
       "      <td>0.859078</td>\n",
       "    </tr>\n",
       "  </tbody>\n",
       "</table>\n",
       "</div>"
      ],
      "text/plain": [
       "               Model   Avg MAE   Std MAE  90th percentile  10th percentile\n",
       "0  Weighted_Ensemble  0.978756  0.113956         1.142485         0.837598\n",
       "1           Ensemble  0.980616  0.113914         1.146238         0.846208\n",
       "2                SVR  0.987522  0.121783         1.167617         0.831367\n",
       "3   LinearRegression  1.031789  0.114550         1.179676         0.890462\n",
       "4       RandomForest  1.018296  0.129026         1.194967         0.859078"
      ]
     },
     "metadata": {},
     "output_type": "display_data"
    },
    {
     "name": "stdout",
     "output_type": "stream",
     "text": [
      "Weights:\n",
      "LinearRegression: 0.172\n",
      "SVR: 0.333\n",
      "RandomForest: 0.494\n",
      " \n",
      " \n",
      "**Copy and Paste following lines into the next cell.**\n",
      "##### LinearRegression\n",
      "Best R2 = 0.18443384779923216  \n",
      "Weight = 0.172\n",
      "##### SVR\n",
      "Best C = 2.0806111557222104  \n",
      "Best kernel = linear  \n",
      "Best R2 = 0.28487280913948104  \n",
      "Weight = 0.333\n",
      "##### RandomForest\n",
      "Best max_depth = 2  \n",
      "Best n_estimators = 78  \n",
      "Best R2 = 0.2669861453973298  \n",
      "Weight = 0.494\n",
      " \n",
      " \n",
      "Start to tune hyperparameters\n"
     ]
    },
    {
     "name": "stderr",
     "output_type": "stream",
     "text": [
      "100%|████████████████████████████████████████████████████████████████████████████████████| 1/1 [00:00<00:00, 21.14it/s]\n"
     ]
    },
    {
     "name": "stdout",
     "output_type": "stream",
     "text": [
      "LinearRegression\n",
      "Best R2 = 0.22536370773087872\n"
     ]
    },
    {
     "name": "stderr",
     "output_type": "stream",
     "text": [
      "100%|██████████████████████████████████████████████████████████████████████████████████| 20/20 [00:40<00:00,  2.04s/it]\n"
     ]
    },
    {
     "name": "stdout",
     "output_type": "stream",
     "text": [
      "SVR\n",
      "Best C = 1.2883711096761679\n",
      "Best kernel = linear\n",
      "Best R2 = 0.17661158315962003\n"
     ]
    },
    {
     "name": "stderr",
     "output_type": "stream",
     "text": [
      "100%|██████████████████████████████████████████████████████████████████████████████████| 20/20 [02:05<00:00,  6.30s/it]\n"
     ]
    },
    {
     "name": "stdout",
     "output_type": "stream",
     "text": [
      "RandomForest\n",
      "Best max_depth = 3\n",
      "Best n_estimators = 141\n",
      "Best R2 = 0.21608294045328683\n",
      "Start to determine Ensemble weights.\n"
     ]
    },
    {
     "name": "stderr",
     "output_type": "stream",
     "text": [
      "100%|████████████████████████████████████████████████████████████████████████████████| 200/200 [00:19<00:00, 10.08it/s]"
     ]
    },
    {
     "name": "stdout",
     "output_type": "stream",
     "text": [
      "傍晚平均氣溫\n"
     ]
    },
    {
     "name": "stderr",
     "output_type": "stream",
     "text": [
      "\n"
     ]
    },
    {
     "data": {
      "text/html": [
       "<div>\n",
       "<style scoped>\n",
       "    .dataframe tbody tr th:only-of-type {\n",
       "        vertical-align: middle;\n",
       "    }\n",
       "\n",
       "    .dataframe tbody tr th {\n",
       "        vertical-align: top;\n",
       "    }\n",
       "\n",
       "    .dataframe thead th {\n",
       "        text-align: right;\n",
       "    }\n",
       "</style>\n",
       "<table border=\"1\" class=\"dataframe\">\n",
       "  <thead>\n",
       "    <tr style=\"text-align: right;\">\n",
       "      <th></th>\n",
       "      <th>Model</th>\n",
       "      <th>Avg MAE</th>\n",
       "      <th>Std MAE</th>\n",
       "      <th>90th percentile</th>\n",
       "      <th>10th percentile</th>\n",
       "    </tr>\n",
       "  </thead>\n",
       "  <tbody>\n",
       "    <tr>\n",
       "      <th>0</th>\n",
       "      <td>Ensemble</td>\n",
       "      <td>1.175232</td>\n",
       "      <td>0.096924</td>\n",
       "      <td>1.296427</td>\n",
       "      <td>1.046049</td>\n",
       "    </tr>\n",
       "    <tr>\n",
       "      <th>1</th>\n",
       "      <td>Weighted_Ensemble</td>\n",
       "      <td>1.186663</td>\n",
       "      <td>0.091642</td>\n",
       "      <td>1.297223</td>\n",
       "      <td>1.061384</td>\n",
       "    </tr>\n",
       "    <tr>\n",
       "      <th>2</th>\n",
       "      <td>RandomForest</td>\n",
       "      <td>1.201869</td>\n",
       "      <td>0.094439</td>\n",
       "      <td>1.311252</td>\n",
       "      <td>1.076924</td>\n",
       "    </tr>\n",
       "    <tr>\n",
       "      <th>3</th>\n",
       "      <td>LinearRegression</td>\n",
       "      <td>1.195502</td>\n",
       "      <td>0.093698</td>\n",
       "      <td>1.313689</td>\n",
       "      <td>1.070394</td>\n",
       "    </tr>\n",
       "    <tr>\n",
       "      <th>4</th>\n",
       "      <td>SVR</td>\n",
       "      <td>1.185231</td>\n",
       "      <td>0.108588</td>\n",
       "      <td>1.331320</td>\n",
       "      <td>1.037651</td>\n",
       "    </tr>\n",
       "  </tbody>\n",
       "</table>\n",
       "</div>"
      ],
      "text/plain": [
       "               Model   Avg MAE   Std MAE  90th percentile  10th percentile\n",
       "0           Ensemble  1.175232  0.096924         1.296427         1.046049\n",
       "1  Weighted_Ensemble  1.186663  0.091642         1.297223         1.061384\n",
       "2       RandomForest  1.201869  0.094439         1.311252         1.076924\n",
       "3   LinearRegression  1.195502  0.093698         1.313689         1.070394\n",
       "4                SVR  1.185231  0.108588         1.331320         1.037651"
      ]
     },
     "metadata": {},
     "output_type": "display_data"
    },
    {
     "name": "stdout",
     "output_type": "stream",
     "text": [
      "Weights:\n",
      "LinearRegression: 0.607\n",
      "SVR: 0.000\n",
      "RandomForest: 0.393\n",
      " \n",
      " \n",
      "**Copy and Paste following lines into the next cell.**\n",
      "##### LinearRegression\n",
      "Best R2 = 0.22536370773087872  \n",
      "Weight = 0.607\n",
      "##### SVR\n",
      "Best C = 1.2883711096761679  \n",
      "Best kernel = linear  \n",
      "Best R2 = 0.17661158315962003  \n",
      "Weight = 0.000\n",
      "##### RandomForest\n",
      "Best max_depth = 3  \n",
      "Best n_estimators = 141  \n",
      "Best R2 = 0.21608294045328683  \n",
      "Weight = 0.393\n",
      " \n",
      " \n",
      "Start to tune hyperparameters\n"
     ]
    },
    {
     "name": "stderr",
     "output_type": "stream",
     "text": [
      "100%|████████████████████████████████████████████████████████████████████████████████████| 1/1 [00:00<00:00, 20.95it/s]\n"
     ]
    },
    {
     "name": "stdout",
     "output_type": "stream",
     "text": [
      "LinearRegression\n",
      "Best R2 = 0.2475641811226616\n"
     ]
    },
    {
     "name": "stderr",
     "output_type": "stream",
     "text": [
      "100%|██████████████████████████████████████████████████████████████████████████████████| 20/20 [00:22<00:00,  1.14s/it]\n"
     ]
    },
    {
     "name": "stdout",
     "output_type": "stream",
     "text": [
      "SVR\n",
      "Best C = 0.2541235706156377\n",
      "Best kernel = linear\n",
      "Best R2 = 0.39709073342820383\n"
     ]
    },
    {
     "name": "stderr",
     "output_type": "stream",
     "text": [
      "100%|██████████████████████████████████████████████████████████████████████████████████| 20/20 [02:11<00:00,  6.57s/it]\n"
     ]
    },
    {
     "name": "stdout",
     "output_type": "stream",
     "text": [
      "RandomForest\n",
      "Best max_depth = 5\n",
      "Best n_estimators = 162\n",
      "Best R2 = 0.30109801234849204\n",
      "Start to determine Ensemble weights.\n"
     ]
    },
    {
     "name": "stderr",
     "output_type": "stream",
     "text": [
      "100%|████████████████████████████████████████████████████████████████████████████████| 200/200 [00:23<00:00,  8.43it/s]"
     ]
    },
    {
     "name": "stdout",
     "output_type": "stream",
     "text": [
      "傍晚平均風速\n"
     ]
    },
    {
     "name": "stderr",
     "output_type": "stream",
     "text": [
      "\n"
     ]
    },
    {
     "data": {
      "text/html": [
       "<div>\n",
       "<style scoped>\n",
       "    .dataframe tbody tr th:only-of-type {\n",
       "        vertical-align: middle;\n",
       "    }\n",
       "\n",
       "    .dataframe tbody tr th {\n",
       "        vertical-align: top;\n",
       "    }\n",
       "\n",
       "    .dataframe thead th {\n",
       "        text-align: right;\n",
       "    }\n",
       "</style>\n",
       "<table border=\"1\" class=\"dataframe\">\n",
       "  <thead>\n",
       "    <tr style=\"text-align: right;\">\n",
       "      <th></th>\n",
       "      <th>Model</th>\n",
       "      <th>Avg MAE</th>\n",
       "      <th>Std MAE</th>\n",
       "      <th>90th percentile</th>\n",
       "      <th>10th percentile</th>\n",
       "    </tr>\n",
       "  </thead>\n",
       "  <tbody>\n",
       "    <tr>\n",
       "      <th>0</th>\n",
       "      <td>Weighted_Ensemble</td>\n",
       "      <td>0.938500</td>\n",
       "      <td>0.137138</td>\n",
       "      <td>1.094391</td>\n",
       "      <td>0.776757</td>\n",
       "    </tr>\n",
       "    <tr>\n",
       "      <th>1</th>\n",
       "      <td>Ensemble</td>\n",
       "      <td>0.943257</td>\n",
       "      <td>0.136629</td>\n",
       "      <td>1.106926</td>\n",
       "      <td>0.777508</td>\n",
       "    </tr>\n",
       "    <tr>\n",
       "      <th>2</th>\n",
       "      <td>SVR</td>\n",
       "      <td>0.954928</td>\n",
       "      <td>0.145028</td>\n",
       "      <td>1.132348</td>\n",
       "      <td>0.777832</td>\n",
       "    </tr>\n",
       "    <tr>\n",
       "      <th>3</th>\n",
       "      <td>RandomForest</td>\n",
       "      <td>0.979168</td>\n",
       "      <td>0.141870</td>\n",
       "      <td>1.153382</td>\n",
       "      <td>0.814049</td>\n",
       "    </tr>\n",
       "    <tr>\n",
       "      <th>4</th>\n",
       "      <td>LinearRegression</td>\n",
       "      <td>0.987318</td>\n",
       "      <td>0.133723</td>\n",
       "      <td>1.158572</td>\n",
       "      <td>0.815457</td>\n",
       "    </tr>\n",
       "  </tbody>\n",
       "</table>\n",
       "</div>"
      ],
      "text/plain": [
       "               Model   Avg MAE   Std MAE  90th percentile  10th percentile\n",
       "0  Weighted_Ensemble  0.938500  0.137138         1.094391         0.776757\n",
       "1           Ensemble  0.943257  0.136629         1.106926         0.777508\n",
       "2                SVR  0.954928  0.145028         1.132348         0.777832\n",
       "3       RandomForest  0.979168  0.141870         1.153382         0.814049\n",
       "4   LinearRegression  0.987318  0.133723         1.158572         0.815457"
      ]
     },
     "metadata": {},
     "output_type": "display_data"
    },
    {
     "name": "stdout",
     "output_type": "stream",
     "text": [
      "Weights:\n",
      "LinearRegression: 0.183\n",
      "SVR: 0.393\n",
      "RandomForest: 0.424\n",
      " \n",
      " \n",
      "**Copy and Paste following lines into the next cell.**\n",
      "##### LinearRegression\n",
      "Best R2 = 0.2475641811226616  \n",
      "Weight = 0.183\n",
      "##### SVR\n",
      "Best C = 0.2541235706156377  \n",
      "Best kernel = linear  \n",
      "Best R2 = 0.39709073342820383  \n",
      "Weight = 0.393\n",
      "##### RandomForest\n",
      "Best max_depth = 5  \n",
      "Best n_estimators = 162  \n",
      "Best R2 = 0.30109801234849204  \n",
      "Weight = 0.424\n",
      " \n",
      " \n"
     ]
    }
   ],
   "source": [
    "for des in ['午後', '下午', '傍晚']:\n",
    "    model_xcols = {\n",
    "        'LinearRegression': ['溫度'],\n",
    "        'SVR': ['溫度'],\n",
    "        'RandomForest': ['溫度'],\n",
    "    }\n",
    "    Y_feature = f'{des}平均氣溫'\n",
    "    flow_control(Y_feature, model_xcols, forecast_obs_df, speed_test=speed_test)\n",
    "\n",
    "    model_xcols = {\n",
    "        'LinearRegression': ['風速'],\n",
    "        'SVR': ['風速'],\n",
    "        'RandomForest': ['風速'],\n",
    "    }\n",
    "    Y_feature = f'{des}平均風速'\n",
    "    flow_control(Y_feature, model_xcols, forecast_obs_df, speed_test=speed_test)\n",
    "         "
   ]
  },
  {
   "cell_type": "markdown",
   "id": "d4fcbb20-fee2-4337-a02a-351b34609716",
   "metadata": {},
   "source": [
    "### 日照率"
   ]
  },
  {
   "cell_type": "markdown",
   "id": "53262643-e9ec-4d08-addc-862f3a92438f",
   "metadata": {},
   "source": [
    "雖然實際上跟太陽能發電量比較相關的是全天空日射量  \n",
    "但是在 EDA 環節我們可以看到，日照率乘上天文日射量之後，跟全天空日射量有 r=0.9 左右的極高相關性  \n",
    "而天文日射量是給定日期就可以確切計算出來的  \n",
    "所以這邊選擇日照率為預測標的  \n",
    "單位為百分點  "
   ]
  },
  {
   "cell_type": "code",
   "execution_count": 30,
   "id": "fd758846-5ea4-40ea-a188-8e3ddbc9fb18",
   "metadata": {},
   "outputs": [
    {
     "name": "stdout",
     "output_type": "stream",
     "text": [
      "Start to tune hyperparameters\n"
     ]
    },
    {
     "name": "stderr",
     "output_type": "stream",
     "text": [
      "100%|██████████████████████████████████████████████████████████████████████████████████| 20/20 [03:51<00:00, 11.55s/it]\n"
     ]
    },
    {
     "name": "stdout",
     "output_type": "stream",
     "text": [
      "RandomForest\n",
      "Best max_depth = 11\n",
      "Best n_estimators = 185\n",
      "Best R2 = 0.571757864711497\n"
     ]
    },
    {
     "name": "stderr",
     "output_type": "stream",
     "text": [
      "100%|██████████████████████████████████████████████████████████████████████████████████| 20/20 [01:36<00:00,  4.83s/it]\n"
     ]
    },
    {
     "name": "stdout",
     "output_type": "stream",
     "text": [
      "XGBoost\n",
      "Best max_depth = 2\n",
      "Best n_estimators = 38\n",
      "Best R2 = 0.5766016833496657\n"
     ]
    },
    {
     "name": "stderr",
     "output_type": "stream",
     "text": [
      "100%|██████████████████████████████████████████████████████████████████████████████████| 20/20 [01:23<00:00,  4.16s/it]\n"
     ]
    },
    {
     "name": "stdout",
     "output_type": "stream",
     "text": [
      "LightGBM\n",
      "Best max_depth = 14\n",
      "Best n_estimators = 40\n",
      "Best R2 = 0.5209517010767505\n"
     ]
    },
    {
     "name": "stderr",
     "output_type": "stream",
     "text": [
      "100%|██████████████████████████████████████████████████████████████████████████████████| 20/20 [00:21<00:00,  1.09s/it]\n"
     ]
    },
    {
     "name": "stdout",
     "output_type": "stream",
     "text": [
      "SVR\n",
      "Best C = 6.559776781960609\n",
      "Best kernel = sigmoid\n",
      "Best R2 = 0.6092787338561055\n"
     ]
    },
    {
     "name": "stderr",
     "output_type": "stream",
     "text": [
      "100%|██████████████████████████████████████████████████████████████████████████████████| 20/20 [00:54<00:00,  2.74s/it]\n"
     ]
    },
    {
     "name": "stdout",
     "output_type": "stream",
     "text": [
      "NuSVR\n",
      "Best C = 8.523419300615599\n",
      "Best kernel = sigmoid\n",
      "Best nu = 0.7008060234343356\n",
      "Best R2 = 0.6237898280911507\n"
     ]
    },
    {
     "name": "stderr",
     "output_type": "stream",
     "text": [
      "100%|██████████████████████████████████████████████████████████████████████████████████| 20/20 [15:09<00:00, 45.47s/it]\n"
     ]
    },
    {
     "name": "stdout",
     "output_type": "stream",
     "text": [
      "FCN\n",
      "Best L2_factor = 0.0026807168682426823\n",
      "Best dropout_factor = 0.3089577919587767\n",
      "Best R2 = 0.5843179587259031\n",
      "Start to determine Ensemble weights.\n"
     ]
    },
    {
     "name": "stderr",
     "output_type": "stream",
     "text": [
      "100%|██████████████████████████████████████████████████████████████████████████████████| 50/50 [08:06<00:00,  9.73s/it]"
     ]
    },
    {
     "name": "stdout",
     "output_type": "stream",
     "text": [
      "日照率\n"
     ]
    },
    {
     "name": "stderr",
     "output_type": "stream",
     "text": [
      "\n"
     ]
    },
    {
     "data": {
      "text/html": [
       "<div>\n",
       "<style scoped>\n",
       "    .dataframe tbody tr th:only-of-type {\n",
       "        vertical-align: middle;\n",
       "    }\n",
       "\n",
       "    .dataframe tbody tr th {\n",
       "        vertical-align: top;\n",
       "    }\n",
       "\n",
       "    .dataframe thead th {\n",
       "        text-align: right;\n",
       "    }\n",
       "</style>\n",
       "<table border=\"1\" class=\"dataframe\">\n",
       "  <thead>\n",
       "    <tr style=\"text-align: right;\">\n",
       "      <th></th>\n",
       "      <th>Model</th>\n",
       "      <th>Avg MAE</th>\n",
       "      <th>Std MAE</th>\n",
       "      <th>90th percentile</th>\n",
       "      <th>10th percentile</th>\n",
       "    </tr>\n",
       "  </thead>\n",
       "  <tbody>\n",
       "    <tr>\n",
       "      <th>0</th>\n",
       "      <td>Ensemble</td>\n",
       "      <td>13.939838</td>\n",
       "      <td>1.197868</td>\n",
       "      <td>15.341926</td>\n",
       "      <td>12.583453</td>\n",
       "    </tr>\n",
       "    <tr>\n",
       "      <th>1</th>\n",
       "      <td>Weighted_Ensemble</td>\n",
       "      <td>13.639628</td>\n",
       "      <td>1.273150</td>\n",
       "      <td>15.430986</td>\n",
       "      <td>11.974807</td>\n",
       "    </tr>\n",
       "    <tr>\n",
       "      <th>2</th>\n",
       "      <td>XGBoost</td>\n",
       "      <td>14.050832</td>\n",
       "      <td>1.269437</td>\n",
       "      <td>15.756019</td>\n",
       "      <td>12.116423</td>\n",
       "    </tr>\n",
       "    <tr>\n",
       "      <th>3</th>\n",
       "      <td>NuSVR</td>\n",
       "      <td>13.776933</td>\n",
       "      <td>1.269813</td>\n",
       "      <td>15.796761</td>\n",
       "      <td>12.278018</td>\n",
       "    </tr>\n",
       "    <tr>\n",
       "      <th>4</th>\n",
       "      <td>SVR</td>\n",
       "      <td>13.956617</td>\n",
       "      <td>1.267728</td>\n",
       "      <td>15.864361</td>\n",
       "      <td>12.542185</td>\n",
       "    </tr>\n",
       "    <tr>\n",
       "      <th>5</th>\n",
       "      <td>RandomForest</td>\n",
       "      <td>14.700984</td>\n",
       "      <td>1.338766</td>\n",
       "      <td>16.245090</td>\n",
       "      <td>12.889741</td>\n",
       "    </tr>\n",
       "    <tr>\n",
       "      <th>6</th>\n",
       "      <td>LightGBM</td>\n",
       "      <td>15.333200</td>\n",
       "      <td>1.300595</td>\n",
       "      <td>16.876716</td>\n",
       "      <td>13.829395</td>\n",
       "    </tr>\n",
       "    <tr>\n",
       "      <th>7</th>\n",
       "      <td>FCN</td>\n",
       "      <td>15.520745</td>\n",
       "      <td>1.545206</td>\n",
       "      <td>17.453591</td>\n",
       "      <td>13.075344</td>\n",
       "    </tr>\n",
       "  </tbody>\n",
       "</table>\n",
       "</div>"
      ],
      "text/plain": [
       "               Model    Avg MAE   Std MAE  90th percentile  10th percentile\n",
       "0           Ensemble  13.939838  1.197868        15.341926        12.583453\n",
       "1  Weighted_Ensemble  13.639628  1.273150        15.430986        11.974807\n",
       "2            XGBoost  14.050832  1.269437        15.756019        12.116423\n",
       "3              NuSVR  13.776933  1.269813        15.796761        12.278018\n",
       "4                SVR  13.956617  1.267728        15.864361        12.542185\n",
       "5       RandomForest  14.700984  1.338766        16.245090        12.889741\n",
       "6           LightGBM  15.333200  1.300595        16.876716        13.829395\n",
       "7                FCN  15.520745  1.545206        17.453591        13.075344"
      ]
     },
     "metadata": {},
     "output_type": "display_data"
    },
    {
     "name": "stdout",
     "output_type": "stream",
     "text": [
      "Weights:\n",
      "RandomForest: 0.000\n",
      "XGBoost: 0.343\n",
      "LightGBM: 0.000\n",
      "SVR: 0.000\n",
      "NuSVR: 0.657\n",
      "FCN: 0.000\n",
      " \n",
      " \n",
      "**Copy and Paste following lines into the next cell.**\n",
      "##### RandomForest\n",
      "Best max_depth = 11  \n",
      "Best n_estimators = 185  \n",
      "Best R2 = 0.571757864711497  \n",
      "Weight = 0.000\n",
      "##### XGBoost\n",
      "Best max_depth = 2  \n",
      "Best n_estimators = 38  \n",
      "Best R2 = 0.5766016833496657  \n",
      "Weight = 0.343\n",
      "##### LightGBM\n",
      "Best max_depth = 14  \n",
      "Best n_estimators = 40  \n",
      "Best R2 = 0.5209517010767505  \n",
      "Weight = 0.000\n",
      "##### SVR\n",
      "Best C = 6.559776781960609  \n",
      "Best kernel = sigmoid  \n",
      "Best R2 = 0.6092787338561055  \n",
      "Weight = 0.000\n",
      "##### NuSVR\n",
      "Best C = 8.523419300615599  \n",
      "Best kernel = sigmoid  \n",
      "Best nu = 0.7008060234343356  \n",
      "Best R2 = 0.6237898280911507  \n",
      "Weight = 0.657\n",
      "##### FCN\n",
      "Best L2_factor = 0.0026807168682426823  \n",
      "Best dropout_factor = 0.3089577919587767  \n",
      "Best R2 = 0.5843179587259031  \n",
      "Weight = 0.000\n",
      " \n",
      " \n"
     ]
    }
   ],
   "source": [
    "# 被預測的標的\n",
    "Y_feature = '日照率'\n",
    "# 定義集成學習使用的模型以及模型們各自使用的 X 特徵\n",
    "model_xcols = {\n",
    "        'RandomForest': ['晴', '多雲', '陰', '短暫陣雨', '短暫陣雨或雷雨', '午後短暫雷陣雨', '陣雨或雷雨', '相對溼度'],\n",
    "        'XGBoost': ['晴', '多雲', '陰', '短暫陣雨', '短暫陣雨或雷雨', '午後短暫雷陣雨', '陣雨或雷雨', '相對溼度'],\n",
    "        'LightGBM': ['晴', '多雲', '陰', '短暫陣雨', '短暫陣雨或雷雨', '午後短暫雷陣雨', '陣雨或雷雨', '相對溼度'],\n",
    "        'SVR': ['晴', '多雲', '陰', '短暫陣雨', '短暫陣雨或雷雨', '午後短暫雷陣雨', '陣雨或雷雨', '相對溼度'],\n",
    "        'NuSVR': ['晴', '多雲', '陰', '短暫陣雨', '短暫陣雨或雷雨', '午後短暫雷陣雨', '陣雨或雷雨', '相對溼度'],\n",
    "        'FCN': ['晴', '多雲', '陰', '短暫陣雨', '短暫陣雨或雷雨', '午後短暫雷陣雨', '陣雨或雷雨', '相對溼度'],\n",
    "    }\n",
    "\n",
    "flow_control(Y_feature, model_xcols, forecast_obs_df, speed_test=speed_test)"
   ]
  },
  {
   "cell_type": "markdown",
   "id": "e1678cee-f759-4b34-8c01-18481fc0617e",
   "metadata": {},
   "source": [
    "#### 最佳超參數與權重"
   ]
  },
  {
   "cell_type": "markdown",
   "id": "ed6ee005-2ba2-40ff-a56d-435d4ad2f894",
   "metadata": {},
   "source": [
    "##### RandomForest\n",
    "Best max_depth = 11  \n",
    "Best n_estimators = 146  \n",
    "Best R2 = 0.5870948515049399  \n",
    "Weight = 0.038\n",
    "##### XGBoost\n",
    "Best max_depth = 2  \n",
    "Best n_estimators = 23  \n",
    "Best R2 = 0.5890760918959569  \n",
    "Weight = 0.142\n",
    "##### LightGBM\n",
    "Best max_depth = 6  \n",
    "Best n_estimators = 34  \n",
    "Best R2 = 0.501255556359024  \n",
    "Weight = 0.000\n",
    "##### SVR\n",
    "Best C = 10.510584166812476  \n",
    "Best kernel = sigmoid  \n",
    "Best R2 = 0.6175865641668637  \n",
    "Weight = 0.330\n",
    "##### NuSVR\n",
    "Best C = 9.024585024739107  \n",
    "Best kernel = sigmoid  \n",
    "Best nu = 0.7512492841501225  \n",
    "Best R2 = 0.6253677869498243  \n",
    "Weight = 0.343\n",
    "##### FCN\n",
    "Best L2_factor = 0.021517425264349053  \n",
    "Best dropout_factor = 0.36979837303627927  \n",
    "Best R2 = 0.5866018727468167  \n",
    "Weight = 0.147"
   ]
  },
  {
   "cell_type": "markdown",
   "id": "86778135-68d7-4b74-9aca-3383dfd858f8",
   "metadata": {},
   "source": [
    "### 高溫"
   ]
  },
  {
   "cell_type": "code",
   "execution_count": 31,
   "id": "2da80d77-f0fe-40aa-8ae3-f10241289dd2",
   "metadata": {},
   "outputs": [
    {
     "name": "stdout",
     "output_type": "stream",
     "text": [
      "Start to tune hyperparameters\n"
     ]
    },
    {
     "name": "stderr",
     "output_type": "stream",
     "text": [
      "100%|████████████████████████████████████████████████████████████████████████████████████| 1/1 [00:00<00:00, 19.58it/s]\n"
     ]
    },
    {
     "name": "stdout",
     "output_type": "stream",
     "text": [
      "LinearRegression\n",
      "Best R2 = 0.5208473903723145\n"
     ]
    },
    {
     "name": "stderr",
     "output_type": "stream",
     "text": [
      "100%|██████████████████████████████████████████████████████████████████████████████████| 20/20 [21:41<00:00, 65.09s/it]\n"
     ]
    },
    {
     "name": "stdout",
     "output_type": "stream",
     "text": [
      "FCN\n",
      "Best L2_factor = 0.003939613562228334\n",
      "Best dropout_factor = 0.13803212221837197\n",
      "Best R2 = 0.5743030260387081\n"
     ]
    },
    {
     "name": "stderr",
     "output_type": "stream",
     "text": [
      "100%|██████████████████████████████████████████████████████████████████████████████████| 20/20 [02:13<00:00,  6.67s/it]\n"
     ]
    },
    {
     "name": "stdout",
     "output_type": "stream",
     "text": [
      "RandomForest\n",
      "Best max_depth = 5\n",
      "Best n_estimators = 93\n",
      "Best R2 = 0.5305792453344224\n"
     ]
    },
    {
     "name": "stderr",
     "output_type": "stream",
     "text": [
      "100%|██████████████████████████████████████████████████████████████████████████████████| 20/20 [01:27<00:00,  4.39s/it]\n"
     ]
    },
    {
     "name": "stdout",
     "output_type": "stream",
     "text": [
      "XGBoost\n",
      "Best max_depth = 2\n",
      "Best n_estimators = 14\n",
      "Best R2 = 0.5335713388575904\n"
     ]
    },
    {
     "name": "stderr",
     "output_type": "stream",
     "text": [
      "100%|██████████████████████████████████████████████████████████████████████████████████| 20/20 [01:49<00:00,  5.47s/it]\n"
     ]
    },
    {
     "name": "stdout",
     "output_type": "stream",
     "text": [
      "SVR\n",
      "Best C = 192.51684898769778\n",
      "Best kernel = linear\n",
      "Best R2 = 0.5295654310428849\n"
     ]
    },
    {
     "name": "stderr",
     "output_type": "stream",
     "text": [
      "100%|██████████████████████████████████████████████████████████████████████████████████| 20/20 [00:42<00:00,  2.12s/it]\n"
     ]
    },
    {
     "name": "stdout",
     "output_type": "stream",
     "text": [
      "NuSVR\n",
      "Best C = 4.91644015680394\n",
      "Best kernel = linear\n",
      "Best nu = 0.38216796028895883\n",
      "Best R2 = 0.5346219332910935\n"
     ]
    },
    {
     "name": "stderr",
     "output_type": "stream",
     "text": [
      "100%|██████████████████████████████████████████████████████████████████████████████████| 20/20 [01:24<00:00,  4.23s/it]\n"
     ]
    },
    {
     "name": "stdout",
     "output_type": "stream",
     "text": [
      "LightGBM\n",
      "Best max_depth = 14\n",
      "Best n_estimators = 32\n",
      "Best R2 = 0.530144108413089\n",
      "Start to determine Ensemble weights.\n"
     ]
    },
    {
     "name": "stderr",
     "output_type": "stream",
     "text": [
      "100%|██████████████████████████████████████████████████████████████████████████████████| 50/50 [10:37<00:00, 12.76s/it]"
     ]
    },
    {
     "name": "stdout",
     "output_type": "stream",
     "text": [
      "最高氣溫\n"
     ]
    },
    {
     "name": "stderr",
     "output_type": "stream",
     "text": [
      "\n"
     ]
    },
    {
     "data": {
      "text/html": [
       "<div>\n",
       "<style scoped>\n",
       "    .dataframe tbody tr th:only-of-type {\n",
       "        vertical-align: middle;\n",
       "    }\n",
       "\n",
       "    .dataframe tbody tr th {\n",
       "        vertical-align: top;\n",
       "    }\n",
       "\n",
       "    .dataframe thead th {\n",
       "        text-align: right;\n",
       "    }\n",
       "</style>\n",
       "<table border=\"1\" class=\"dataframe\">\n",
       "  <thead>\n",
       "    <tr style=\"text-align: right;\">\n",
       "      <th></th>\n",
       "      <th>Model</th>\n",
       "      <th>Avg MAE</th>\n",
       "      <th>Std MAE</th>\n",
       "      <th>90th percentile</th>\n",
       "      <th>10th percentile</th>\n",
       "    </tr>\n",
       "  </thead>\n",
       "  <tbody>\n",
       "    <tr>\n",
       "      <th>0</th>\n",
       "      <td>Ensemble</td>\n",
       "      <td>0.930953</td>\n",
       "      <td>0.084280</td>\n",
       "      <td>1.026577</td>\n",
       "      <td>0.823139</td>\n",
       "    </tr>\n",
       "    <tr>\n",
       "      <th>1</th>\n",
       "      <td>Weighted_Ensemble</td>\n",
       "      <td>0.926324</td>\n",
       "      <td>0.083972</td>\n",
       "      <td>1.029584</td>\n",
       "      <td>0.816302</td>\n",
       "    </tr>\n",
       "    <tr>\n",
       "      <th>2</th>\n",
       "      <td>SVR</td>\n",
       "      <td>0.954239</td>\n",
       "      <td>0.083162</td>\n",
       "      <td>1.041560</td>\n",
       "      <td>0.824766</td>\n",
       "    </tr>\n",
       "    <tr>\n",
       "      <th>3</th>\n",
       "      <td>RandomForest</td>\n",
       "      <td>0.942250</td>\n",
       "      <td>0.086392</td>\n",
       "      <td>1.046302</td>\n",
       "      <td>0.818848</td>\n",
       "    </tr>\n",
       "    <tr>\n",
       "      <th>4</th>\n",
       "      <td>NuSVR</td>\n",
       "      <td>0.962395</td>\n",
       "      <td>0.082015</td>\n",
       "      <td>1.051814</td>\n",
       "      <td>0.846132</td>\n",
       "    </tr>\n",
       "    <tr>\n",
       "      <th>5</th>\n",
       "      <td>XGBoost</td>\n",
       "      <td>0.956549</td>\n",
       "      <td>0.090398</td>\n",
       "      <td>1.062729</td>\n",
       "      <td>0.821423</td>\n",
       "    </tr>\n",
       "    <tr>\n",
       "      <th>6</th>\n",
       "      <td>LinearRegression</td>\n",
       "      <td>0.962666</td>\n",
       "      <td>0.082114</td>\n",
       "      <td>1.063223</td>\n",
       "      <td>0.837421</td>\n",
       "    </tr>\n",
       "    <tr>\n",
       "      <th>7</th>\n",
       "      <td>LightGBM</td>\n",
       "      <td>0.956766</td>\n",
       "      <td>0.087682</td>\n",
       "      <td>1.073938</td>\n",
       "      <td>0.834152</td>\n",
       "    </tr>\n",
       "    <tr>\n",
       "      <th>8</th>\n",
       "      <td>FCN</td>\n",
       "      <td>0.975322</td>\n",
       "      <td>0.087399</td>\n",
       "      <td>1.088512</td>\n",
       "      <td>0.856804</td>\n",
       "    </tr>\n",
       "  </tbody>\n",
       "</table>\n",
       "</div>"
      ],
      "text/plain": [
       "               Model   Avg MAE   Std MAE  90th percentile  10th percentile\n",
       "0           Ensemble  0.930953  0.084280         1.026577         0.823139\n",
       "1  Weighted_Ensemble  0.926324  0.083972         1.029584         0.816302\n",
       "2                SVR  0.954239  0.083162         1.041560         0.824766\n",
       "3       RandomForest  0.942250  0.086392         1.046302         0.818848\n",
       "4              NuSVR  0.962395  0.082015         1.051814         0.846132\n",
       "5            XGBoost  0.956549  0.090398         1.062729         0.821423\n",
       "6   LinearRegression  0.962666  0.082114         1.063223         0.837421\n",
       "7           LightGBM  0.956766  0.087682         1.073938         0.834152\n",
       "8                FCN  0.975322  0.087399         1.088512         0.856804"
      ]
     },
     "metadata": {},
     "output_type": "display_data"
    },
    {
     "name": "stdout",
     "output_type": "stream",
     "text": [
      "Weights:\n",
      "LinearRegression: 0.000\n",
      "FCN: 0.063\n",
      "RandomForest: 0.275\n",
      "XGBoost: 0.000\n",
      "SVR: 0.114\n",
      "NuSVR: 0.294\n",
      "LightGBM: 0.254\n",
      " \n",
      " \n",
      "**Copy and Paste following lines into the next cell.**\n",
      "##### LinearRegression\n",
      "Best R2 = 0.5208473903723145  \n",
      "Weight = 0.000\n",
      "##### FCN\n",
      "Best L2_factor = 0.003939613562228334  \n",
      "Best dropout_factor = 0.13803212221837197  \n",
      "Best R2 = 0.5743030260387081  \n",
      "Weight = 0.063\n",
      "##### RandomForest\n",
      "Best max_depth = 5  \n",
      "Best n_estimators = 93  \n",
      "Best R2 = 0.5305792453344224  \n",
      "Weight = 0.275\n",
      "##### XGBoost\n",
      "Best max_depth = 2  \n",
      "Best n_estimators = 14  \n",
      "Best R2 = 0.5335713388575904  \n",
      "Weight = 0.000\n",
      "##### SVR\n",
      "Best C = 192.51684898769778  \n",
      "Best kernel = linear  \n",
      "Best R2 = 0.5295654310428849  \n",
      "Weight = 0.114\n",
      "##### NuSVR\n",
      "Best C = 4.91644015680394  \n",
      "Best kernel = linear  \n",
      "Best nu = 0.38216796028895883  \n",
      "Best R2 = 0.5346219332910935  \n",
      "Weight = 0.294\n",
      "##### LightGBM\n",
      "Best max_depth = 14  \n",
      "Best n_estimators = 32  \n",
      "Best R2 = 0.530144108413089  \n",
      "Weight = 0.254\n",
      " \n",
      " \n"
     ]
    }
   ],
   "source": [
    "Y_feature = '最高氣溫'\n",
    "model_xcols = {\n",
    "    'LinearRegression': ['溫度'],\n",
    "    'FCN': ['溫度'],\n",
    "    'RandomForest': ['溫度'],\n",
    "    'XGBoost': ['溫度'],\n",
    "    'SVR': ['溫度'],\n",
    "    'NuSVR': ['溫度'],\n",
    "    'LightGBM': ['溫度'],\n",
    "}\n",
    "\n",
    "flow_control(Y_feature, model_xcols, forecast_obs_df, speed_test=speed_test)"
   ]
  },
  {
   "cell_type": "markdown",
   "id": "21e2c1db-9c5e-4b67-8e1c-fed5226dd2e6",
   "metadata": {},
   "source": [
    "#### 最佳超參數與權重"
   ]
  },
  {
   "cell_type": "markdown",
   "id": "5c4e346d-10c5-4e7a-a0e9-a64228b5c115",
   "metadata": {},
   "source": [
    "##### LinearRegression\n",
    "Best R2 = 0.5534044274964922  \n",
    "Weight = 0.000\n",
    "##### FCN\n",
    "Best L2_factor = 0.0012580849117066048  \n",
    "Best dropout_factor = 0.17731620058252304  \n",
    "Best R2 = 0.5839900603099359  \n",
    "Weight = 0.229\n",
    "##### RandomForest\n",
    "Best max_depth = 4  \n",
    "Best n_estimators = 120  \n",
    "Best R2 = 0.5409705773728722  \n",
    "Weight = 0.000\n",
    "##### XGBoost\n",
    "Best max_depth = 2  \n",
    "Best n_estimators = 22  \n",
    "Best R2 = 0.5428448378319348  \n",
    "Weight = 0.000\n",
    "##### SVR\n",
    "Best C = 1.7157289141337408  \n",
    "Best kernel = linear  \n",
    "Best R2 = 0.5448564962294009  \n",
    "Weight = 0.253\n",
    "##### NuSVR\n",
    "Best C = 0.1539035393298039  \n",
    "Best kernel = linear  \n",
    "Best nu = 0.44010303108936244  \n",
    "Best R2 = 0.5592848657357319  \n",
    "Weight = 0.179\n",
    "##### LightGBM\n",
    "Best max_depth = 2  \n",
    "Best n_estimators = 73  \n",
    "Best R2 = 0.5435463799154244  \n",
    "Weight = 0.339"
   ]
  },
  {
   "cell_type": "markdown",
   "id": "87d41dc3-d3df-422a-a06b-d71f30707369",
   "metadata": {},
   "source": [
    "### 低溫"
   ]
  },
  {
   "cell_type": "code",
   "execution_count": 32,
   "id": "6dc8ae65-b304-4ec9-ab77-6d8316c6ebb6",
   "metadata": {},
   "outputs": [
    {
     "name": "stdout",
     "output_type": "stream",
     "text": [
      "Start to tune hyperparameters\n"
     ]
    },
    {
     "name": "stderr",
     "output_type": "stream",
     "text": [
      "100%|████████████████████████████████████████████████████████████████████████████████████| 1/1 [00:00<00:00, 21.50it/s]\n"
     ]
    },
    {
     "name": "stdout",
     "output_type": "stream",
     "text": [
      "LinearRegression\n",
      "Best R2 = 0.2154177188638925\n"
     ]
    },
    {
     "name": "stderr",
     "output_type": "stream",
     "text": [
      "100%|██████████████████████████████████████████████████████████████████████████████████| 20/20 [20:54<00:00, 62.72s/it]\n"
     ]
    },
    {
     "name": "stdout",
     "output_type": "stream",
     "text": [
      "FCN\n",
      "Best L2_factor = 0.019663323472363207\n",
      "Best dropout_factor = 0.16052608145482855\n",
      "Best R2 = 0.25242671218295076\n"
     ]
    },
    {
     "name": "stderr",
     "output_type": "stream",
     "text": [
      "100%|██████████████████████████████████████████████████████████████████████████████████| 20/20 [02:05<00:00,  6.26s/it]\n"
     ]
    },
    {
     "name": "stdout",
     "output_type": "stream",
     "text": [
      "RandomForest\n",
      "Best max_depth = 4\n",
      "Best n_estimators = 156\n",
      "Best R2 = 0.24889454702186922\n"
     ]
    },
    {
     "name": "stderr",
     "output_type": "stream",
     "text": [
      "100%|██████████████████████████████████████████████████████████████████████████████████| 20/20 [01:34<00:00,  4.73s/it]\n"
     ]
    },
    {
     "name": "stdout",
     "output_type": "stream",
     "text": [
      "XGBoost\n",
      "Best max_depth = 2\n",
      "Best n_estimators = 15\n",
      "Best R2 = 0.24103306292102109\n"
     ]
    },
    {
     "name": "stderr",
     "output_type": "stream",
     "text": [
      "100%|██████████████████████████████████████████████████████████████████████████████████| 20/20 [00:58<00:00,  2.91s/it]\n"
     ]
    },
    {
     "name": "stdout",
     "output_type": "stream",
     "text": [
      "SVR\n",
      "Best C = 0.0728374975766668\n",
      "Best kernel = linear\n",
      "Best R2 = 0.20139612214561067\n"
     ]
    },
    {
     "name": "stderr",
     "output_type": "stream",
     "text": [
      "100%|██████████████████████████████████████████████████████████████████████████████████| 20/20 [00:35<00:00,  1.79s/it]\n"
     ]
    },
    {
     "name": "stdout",
     "output_type": "stream",
     "text": [
      "NuSVR\n",
      "Best C = 0.9995438427496642\n",
      "Best kernel = rbf\n",
      "Best nu = 0.4900179080149257\n",
      "Best R2 = 0.22033912881474513\n"
     ]
    },
    {
     "name": "stderr",
     "output_type": "stream",
     "text": [
      "100%|██████████████████████████████████████████████████████████████████████████████████| 20/20 [01:17<00:00,  3.85s/it]\n"
     ]
    },
    {
     "name": "stdout",
     "output_type": "stream",
     "text": [
      "LightGBM\n",
      "Best max_depth = 5\n",
      "Best n_estimators = 26\n",
      "Best R2 = 0.24585201132136797\n",
      "Start to determine Ensemble weights.\n"
     ]
    },
    {
     "name": "stderr",
     "output_type": "stream",
     "text": [
      "100%|██████████████████████████████████████████████████████████████████████████████████| 50/50 [10:23<00:00, 12.46s/it]"
     ]
    },
    {
     "name": "stdout",
     "output_type": "stream",
     "text": [
      "最低氣溫\n"
     ]
    },
    {
     "name": "stderr",
     "output_type": "stream",
     "text": [
      "\n"
     ]
    },
    {
     "data": {
      "text/html": [
       "<div>\n",
       "<style scoped>\n",
       "    .dataframe tbody tr th:only-of-type {\n",
       "        vertical-align: middle;\n",
       "    }\n",
       "\n",
       "    .dataframe tbody tr th {\n",
       "        vertical-align: top;\n",
       "    }\n",
       "\n",
       "    .dataframe thead th {\n",
       "        text-align: right;\n",
       "    }\n",
       "</style>\n",
       "<table border=\"1\" class=\"dataframe\">\n",
       "  <thead>\n",
       "    <tr style=\"text-align: right;\">\n",
       "      <th></th>\n",
       "      <th>Model</th>\n",
       "      <th>Avg MAE</th>\n",
       "      <th>Std MAE</th>\n",
       "      <th>90th percentile</th>\n",
       "      <th>10th percentile</th>\n",
       "    </tr>\n",
       "  </thead>\n",
       "  <tbody>\n",
       "    <tr>\n",
       "      <th>0</th>\n",
       "      <td>Weighted_Ensemble</td>\n",
       "      <td>0.891960</td>\n",
       "      <td>0.074301</td>\n",
       "      <td>0.984879</td>\n",
       "      <td>0.805257</td>\n",
       "    </tr>\n",
       "    <tr>\n",
       "      <th>1</th>\n",
       "      <td>NuSVR</td>\n",
       "      <td>0.901111</td>\n",
       "      <td>0.077133</td>\n",
       "      <td>0.985382</td>\n",
       "      <td>0.814613</td>\n",
       "    </tr>\n",
       "    <tr>\n",
       "      <th>2</th>\n",
       "      <td>XGBoost</td>\n",
       "      <td>0.895446</td>\n",
       "      <td>0.077031</td>\n",
       "      <td>0.985389</td>\n",
       "      <td>0.796593</td>\n",
       "    </tr>\n",
       "    <tr>\n",
       "      <th>3</th>\n",
       "      <td>Ensemble</td>\n",
       "      <td>0.893720</td>\n",
       "      <td>0.075778</td>\n",
       "      <td>0.985525</td>\n",
       "      <td>0.807374</td>\n",
       "    </tr>\n",
       "    <tr>\n",
       "      <th>4</th>\n",
       "      <td>LightGBM</td>\n",
       "      <td>0.901020</td>\n",
       "      <td>0.071721</td>\n",
       "      <td>0.997967</td>\n",
       "      <td>0.804125</td>\n",
       "    </tr>\n",
       "    <tr>\n",
       "      <th>5</th>\n",
       "      <td>RandomForest</td>\n",
       "      <td>0.898036</td>\n",
       "      <td>0.074205</td>\n",
       "      <td>1.001096</td>\n",
       "      <td>0.800107</td>\n",
       "    </tr>\n",
       "    <tr>\n",
       "      <th>6</th>\n",
       "      <td>LinearRegression</td>\n",
       "      <td>0.915708</td>\n",
       "      <td>0.080417</td>\n",
       "      <td>1.029123</td>\n",
       "      <td>0.814357</td>\n",
       "    </tr>\n",
       "    <tr>\n",
       "      <th>7</th>\n",
       "      <td>SVR</td>\n",
       "      <td>0.912456</td>\n",
       "      <td>0.078684</td>\n",
       "      <td>1.029161</td>\n",
       "      <td>0.821073</td>\n",
       "    </tr>\n",
       "    <tr>\n",
       "      <th>8</th>\n",
       "      <td>FCN</td>\n",
       "      <td>0.926109</td>\n",
       "      <td>0.080177</td>\n",
       "      <td>1.038114</td>\n",
       "      <td>0.815247</td>\n",
       "    </tr>\n",
       "  </tbody>\n",
       "</table>\n",
       "</div>"
      ],
      "text/plain": [
       "               Model   Avg MAE   Std MAE  90th percentile  10th percentile\n",
       "0  Weighted_Ensemble  0.891960  0.074301         0.984879         0.805257\n",
       "1              NuSVR  0.901111  0.077133         0.985382         0.814613\n",
       "2            XGBoost  0.895446  0.077031         0.985389         0.796593\n",
       "3           Ensemble  0.893720  0.075778         0.985525         0.807374\n",
       "4           LightGBM  0.901020  0.071721         0.997967         0.804125\n",
       "5       RandomForest  0.898036  0.074205         1.001096         0.800107\n",
       "6   LinearRegression  0.915708  0.080417         1.029123         0.814357\n",
       "7                SVR  0.912456  0.078684         1.029161         0.821073\n",
       "8                FCN  0.926109  0.080177         1.038114         0.815247"
      ]
     },
     "metadata": {},
     "output_type": "display_data"
    },
    {
     "name": "stdout",
     "output_type": "stream",
     "text": [
      "Weights:\n",
      "LinearRegression: 0.021\n",
      "FCN: 0.000\n",
      "RandomForest: 0.253\n",
      "XGBoost: 0.257\n",
      "SVR: 0.156\n",
      "NuSVR: 0.033\n",
      "LightGBM: 0.280\n",
      " \n",
      " \n",
      "**Copy and Paste following lines into the next cell.**\n",
      "##### LinearRegression\n",
      "Best R2 = 0.2154177188638925  \n",
      "Weight = 0.021\n",
      "##### FCN\n",
      "Best L2_factor = 0.019663323472363207  \n",
      "Best dropout_factor = 0.16052608145482855  \n",
      "Best R2 = 0.25242671218295076  \n",
      "Weight = 0.000\n",
      "##### RandomForest\n",
      "Best max_depth = 4  \n",
      "Best n_estimators = 156  \n",
      "Best R2 = 0.24889454702186922  \n",
      "Weight = 0.253\n",
      "##### XGBoost\n",
      "Best max_depth = 2  \n",
      "Best n_estimators = 15  \n",
      "Best R2 = 0.24103306292102109  \n",
      "Weight = 0.257\n",
      "##### SVR\n",
      "Best C = 0.0728374975766668  \n",
      "Best kernel = linear  \n",
      "Best R2 = 0.20139612214561067  \n",
      "Weight = 0.156\n",
      "##### NuSVR\n",
      "Best C = 0.9995438427496642  \n",
      "Best kernel = rbf  \n",
      "Best nu = 0.4900179080149257  \n",
      "Best R2 = 0.22033912881474513  \n",
      "Weight = 0.033\n",
      "##### LightGBM\n",
      "Best max_depth = 5  \n",
      "Best n_estimators = 26  \n",
      "Best R2 = 0.24585201132136797  \n",
      "Weight = 0.280\n",
      " \n",
      " \n"
     ]
    }
   ],
   "source": [
    "Y_feature = '最低氣溫'\n",
    "model_xcols = {\n",
    "    'LinearRegression': ['溫度'],\n",
    "    'FCN': ['溫度'],\n",
    "    'RandomForest': ['溫度'],\n",
    "    'XGBoost': ['溫度'],\n",
    "    'SVR': ['溫度'],\n",
    "    'NuSVR': ['溫度'],\n",
    "    'LightGBM': ['溫度'],\n",
    "}\n",
    "\n",
    "flow_control(Y_feature, model_xcols, forecast_obs_df, speed_test=speed_test)"
   ]
  },
  {
   "cell_type": "markdown",
   "id": "d792ec53-6724-4c90-93af-7552e11b42bd",
   "metadata": {},
   "source": [
    "#### 最佳超參數與權重"
   ]
  },
  {
   "cell_type": "markdown",
   "id": "89a87660-d0b6-41c4-9362-68887cf6a8e9",
   "metadata": {},
   "source": [
    "##### LinearRegression\n",
    "Best R2 = 0.14205229333746497  \n",
    "Weight = 0.000\n",
    "##### FCN\n",
    "Best L2_factor = 0.0037237461029340944  \n",
    "Best dropout_factor = 0.37515051123242515  \n",
    "Best R2 = 0.1970300802761308  \n",
    "Weight = 0.000\n",
    "##### RandomForest\n",
    "Best max_depth = 5  \n",
    "Best n_estimators = 77  \n",
    "Best R2 = 0.25684110582949154  \n",
    "Weight = 0.797\n",
    "##### XGBoost\n",
    "Best max_depth = 2  \n",
    "Best n_estimators = 10  \n",
    "Best R2 = 0.22489063953343127  \n",
    "Weight = 0.000\n",
    "##### SVR\n",
    "Best C = 0.11744054294023308  \n",
    "Best kernel = rbf  \n",
    "Best R2 = 0.2016527418134913  \n",
    "Weight = 0.203\n",
    "##### NuSVR\n",
    "Best C = 0.8638927850606558  \n",
    "Best kernel = rbf  \n",
    "Best nu = 0.42847121164079394  \n",
    "Best R2 = 0.1889467419868108  \n",
    "Weight = 0.000\n",
    "##### LightGBM\n",
    "Best max_depth = 10  \n",
    "Best n_estimators = 29  \n",
    "Best R2 = 0.2075151445577908  \n",
    "Weight = 0.000"
   ]
  },
  {
   "cell_type": "markdown",
   "id": "7a913cb4-2540-4bda-b7be-6e2c48a340b8",
   "metadata": {},
   "source": [
    "### 平均溫"
   ]
  },
  {
   "cell_type": "code",
   "execution_count": 33,
   "id": "287a653c-0dc0-4ff6-a630-3b2479049d27",
   "metadata": {},
   "outputs": [
    {
     "name": "stdout",
     "output_type": "stream",
     "text": [
      "Start to tune hyperparameters\n"
     ]
    },
    {
     "name": "stderr",
     "output_type": "stream",
     "text": [
      "100%|████████████████████████████████████████████████████████████████████████████████████| 1/1 [00:00<00:00, 20.44it/s]\n"
     ]
    },
    {
     "name": "stdout",
     "output_type": "stream",
     "text": [
      "LinearRegression\n",
      "Best R2 = 0.4291458173205749\n"
     ]
    },
    {
     "name": "stderr",
     "output_type": "stream",
     "text": [
      "100%|██████████████████████████████████████████████████████████████████████████████████| 20/20 [20:48<00:00, 62.44s/it]\n"
     ]
    },
    {
     "name": "stdout",
     "output_type": "stream",
     "text": [
      "FCN\n",
      "Best L2_factor = 0.0036126748601312346\n",
      "Best dropout_factor = 0.1817838973041575\n",
      "Best R2 = 0.43198895824383604\n"
     ]
    },
    {
     "name": "stderr",
     "output_type": "stream",
     "text": [
      "100%|██████████████████████████████████████████████████████████████████████████████████| 20/20 [02:04<00:00,  6.22s/it]\n"
     ]
    },
    {
     "name": "stdout",
     "output_type": "stream",
     "text": [
      "RandomForest\n",
      "Best max_depth = 5\n",
      "Best n_estimators = 143\n",
      "Best R2 = 0.4602196826325705\n"
     ]
    },
    {
     "name": "stderr",
     "output_type": "stream",
     "text": [
      "100%|██████████████████████████████████████████████████████████████████████████████████| 20/20 [01:34<00:00,  4.74s/it]\n"
     ]
    },
    {
     "name": "stdout",
     "output_type": "stream",
     "text": [
      "XGBoost\n",
      "Best max_depth = 2\n",
      "Best n_estimators = 14\n",
      "Best R2 = 0.4630274272034281\n"
     ]
    },
    {
     "name": "stderr",
     "output_type": "stream",
     "text": [
      "100%|██████████████████████████████████████████████████████████████████████████████████| 20/20 [00:07<00:00,  2.61it/s]\n"
     ]
    },
    {
     "name": "stdout",
     "output_type": "stream",
     "text": [
      "SVR\n",
      "Best C = 0.08008218341041393\n",
      "Best kernel = linear\n",
      "Best R2 = 0.4306606781368645\n"
     ]
    },
    {
     "name": "stderr",
     "output_type": "stream",
     "text": [
      "100%|██████████████████████████████████████████████████████████████████████████████████| 20/20 [00:42<00:00,  2.13s/it]\n"
     ]
    },
    {
     "name": "stdout",
     "output_type": "stream",
     "text": [
      "NuSVR\n",
      "Best C = 0.028340029384373234\n",
      "Best kernel = linear\n",
      "Best nu = 0.38106739527477745\n",
      "Best R2 = 0.4413085334182674\n"
     ]
    },
    {
     "name": "stderr",
     "output_type": "stream",
     "text": [
      "100%|██████████████████████████████████████████████████████████████████████████████████| 20/20 [01:32<00:00,  4.64s/it]\n"
     ]
    },
    {
     "name": "stdout",
     "output_type": "stream",
     "text": [
      "LightGBM\n",
      "Best max_depth = 2\n",
      "Best n_estimators = 142\n",
      "Best R2 = 0.43573814859162097\n",
      "Start to determine Ensemble weights.\n"
     ]
    },
    {
     "name": "stderr",
     "output_type": "stream",
     "text": [
      "100%|██████████████████████████████████████████████████████████████████████████████████| 50/50 [10:02<00:00, 12.05s/it]"
     ]
    },
    {
     "name": "stdout",
     "output_type": "stream",
     "text": [
      "氣溫\n"
     ]
    },
    {
     "name": "stderr",
     "output_type": "stream",
     "text": [
      "\n"
     ]
    },
    {
     "data": {
      "text/html": [
       "<div>\n",
       "<style scoped>\n",
       "    .dataframe tbody tr th:only-of-type {\n",
       "        vertical-align: middle;\n",
       "    }\n",
       "\n",
       "    .dataframe tbody tr th {\n",
       "        vertical-align: top;\n",
       "    }\n",
       "\n",
       "    .dataframe thead th {\n",
       "        text-align: right;\n",
       "    }\n",
       "</style>\n",
       "<table border=\"1\" class=\"dataframe\">\n",
       "  <thead>\n",
       "    <tr style=\"text-align: right;\">\n",
       "      <th></th>\n",
       "      <th>Model</th>\n",
       "      <th>Avg MAE</th>\n",
       "      <th>Std MAE</th>\n",
       "      <th>90th percentile</th>\n",
       "      <th>10th percentile</th>\n",
       "    </tr>\n",
       "  </thead>\n",
       "  <tbody>\n",
       "    <tr>\n",
       "      <th>0</th>\n",
       "      <td>Weighted_Ensemble</td>\n",
       "      <td>0.708176</td>\n",
       "      <td>0.062086</td>\n",
       "      <td>0.777683</td>\n",
       "      <td>0.621395</td>\n",
       "    </tr>\n",
       "    <tr>\n",
       "      <th>1</th>\n",
       "      <td>RandomForest</td>\n",
       "      <td>0.712661</td>\n",
       "      <td>0.062474</td>\n",
       "      <td>0.786769</td>\n",
       "      <td>0.642392</td>\n",
       "    </tr>\n",
       "    <tr>\n",
       "      <th>2</th>\n",
       "      <td>XGBoost</td>\n",
       "      <td>0.717158</td>\n",
       "      <td>0.062309</td>\n",
       "      <td>0.787743</td>\n",
       "      <td>0.644981</td>\n",
       "    </tr>\n",
       "    <tr>\n",
       "      <th>3</th>\n",
       "      <td>Ensemble</td>\n",
       "      <td>0.714811</td>\n",
       "      <td>0.064601</td>\n",
       "      <td>0.789623</td>\n",
       "      <td>0.627709</td>\n",
       "    </tr>\n",
       "    <tr>\n",
       "      <th>4</th>\n",
       "      <td>LightGBM</td>\n",
       "      <td>0.724884</td>\n",
       "      <td>0.065953</td>\n",
       "      <td>0.792515</td>\n",
       "      <td>0.646569</td>\n",
       "    </tr>\n",
       "    <tr>\n",
       "      <th>5</th>\n",
       "      <td>NuSVR</td>\n",
       "      <td>0.734197</td>\n",
       "      <td>0.066755</td>\n",
       "      <td>0.808168</td>\n",
       "      <td>0.631763</td>\n",
       "    </tr>\n",
       "    <tr>\n",
       "      <th>6</th>\n",
       "      <td>LinearRegression</td>\n",
       "      <td>0.739890</td>\n",
       "      <td>0.066586</td>\n",
       "      <td>0.813392</td>\n",
       "      <td>0.629610</td>\n",
       "    </tr>\n",
       "    <tr>\n",
       "      <th>7</th>\n",
       "      <td>SVR</td>\n",
       "      <td>0.735758</td>\n",
       "      <td>0.067559</td>\n",
       "      <td>0.818756</td>\n",
       "      <td>0.638055</td>\n",
       "    </tr>\n",
       "    <tr>\n",
       "      <th>8</th>\n",
       "      <td>FCN</td>\n",
       "      <td>0.749070</td>\n",
       "      <td>0.065461</td>\n",
       "      <td>0.825230</td>\n",
       "      <td>0.661131</td>\n",
       "    </tr>\n",
       "  </tbody>\n",
       "</table>\n",
       "</div>"
      ],
      "text/plain": [
       "               Model   Avg MAE   Std MAE  90th percentile  10th percentile\n",
       "0  Weighted_Ensemble  0.708176  0.062086         0.777683         0.621395\n",
       "1       RandomForest  0.712661  0.062474         0.786769         0.642392\n",
       "2            XGBoost  0.717158  0.062309         0.787743         0.644981\n",
       "3           Ensemble  0.714811  0.064601         0.789623         0.627709\n",
       "4           LightGBM  0.724884  0.065953         0.792515         0.646569\n",
       "5              NuSVR  0.734197  0.066755         0.808168         0.631763\n",
       "6   LinearRegression  0.739890  0.066586         0.813392         0.629610\n",
       "7                SVR  0.735758  0.067559         0.818756         0.638055\n",
       "8                FCN  0.749070  0.065461         0.825230         0.661131"
      ]
     },
     "metadata": {},
     "output_type": "display_data"
    },
    {
     "name": "stdout",
     "output_type": "stream",
     "text": [
      "Weights:\n",
      "LinearRegression: 0.000\n",
      "FCN: 0.000\n",
      "RandomForest: 0.484\n",
      "XGBoost: 0.003\n",
      "SVR: 0.000\n",
      "NuSVR: 0.397\n",
      "LightGBM: 0.115\n",
      " \n",
      " \n",
      "**Copy and Paste following lines into the next cell.**\n",
      "##### LinearRegression\n",
      "Best R2 = 0.4291458173205749  \n",
      "Weight = 0.000\n",
      "##### FCN\n",
      "Best L2_factor = 0.0036126748601312346  \n",
      "Best dropout_factor = 0.1817838973041575  \n",
      "Best R2 = 0.43198895824383604  \n",
      "Weight = 0.000\n",
      "##### RandomForest\n",
      "Best max_depth = 5  \n",
      "Best n_estimators = 143  \n",
      "Best R2 = 0.4602196826325705  \n",
      "Weight = 0.484\n",
      "##### XGBoost\n",
      "Best max_depth = 2  \n",
      "Best n_estimators = 14  \n",
      "Best R2 = 0.4630274272034281  \n",
      "Weight = 0.003\n",
      "##### SVR\n",
      "Best C = 0.08008218341041393  \n",
      "Best kernel = linear  \n",
      "Best R2 = 0.4306606781368645  \n",
      "Weight = 0.000\n",
      "##### NuSVR\n",
      "Best C = 0.028340029384373234  \n",
      "Best kernel = linear  \n",
      "Best nu = 0.38106739527477745  \n",
      "Best R2 = 0.4413085334182674  \n",
      "Weight = 0.397\n",
      "##### LightGBM\n",
      "Best max_depth = 2  \n",
      "Best n_estimators = 142  \n",
      "Best R2 = 0.43573814859162097  \n",
      "Weight = 0.115\n",
      " \n",
      " \n"
     ]
    }
   ],
   "source": [
    "Y_feature = '氣溫'\n",
    "model_xcols = {\n",
    "    'LinearRegression': ['溫度'],\n",
    "    'FCN': ['溫度'],\n",
    "    'RandomForest': ['溫度'],\n",
    "    'XGBoost': ['溫度'],\n",
    "    'SVR': ['溫度'],\n",
    "    'NuSVR': ['溫度'],\n",
    "    'LightGBM': ['溫度'],\n",
    "}\n",
    "\n",
    "flow_control(Y_feature, model_xcols, forecast_obs_df, speed_test=speed_test)"
   ]
  },
  {
   "cell_type": "markdown",
   "id": "c8be02b1-c869-47f5-a396-bee6c1cb56da",
   "metadata": {},
   "source": [
    "#### 最佳超參數與權重"
   ]
  },
  {
   "cell_type": "markdown",
   "id": "5bf0c897-6abe-4c09-b38c-602d786b9ad7",
   "metadata": {},
   "source": [
    "##### LinearRegression\n",
    "Best R2 = 0.412985625467958  \n",
    "Weight = 0.000\n",
    "##### FCN\n",
    "Best L2_factor = 0.0010283389751594885  \n",
    "Best dropout_factor = 0.3059333281801748  \n",
    "Best R2 = 0.4410662110913644  \n",
    "Weight = 0.000\n",
    "##### RandomForest\n",
    "Best max_depth = 4  \n",
    "Best n_estimators = 165  \n",
    "Best R2 = 0.44955960316903565  \n",
    "Weight = 0.495\n",
    "##### XGBoost\n",
    "Best max_depth = 2  \n",
    "Best n_estimators = 74  \n",
    "Best R2 = 0.4151441540062713  \n",
    "Weight = 0.094\n",
    "##### SVR\n",
    "Best C = 0.008473094131137855  \n",
    "Best kernel = linear  \n",
    "Best R2 = 0.4264848817494777  \n",
    "Weight = 0.279\n",
    "##### NuSVR\n",
    "Best C = 184.29333614114873  \n",
    "Best kernel = linear  \n",
    "Best nu = 0.3423328614196417  \n",
    "Best R2 = 0.4249491691133574  \n",
    "Weight = 0.131\n",
    "##### LightGBM\n",
    "Best max_depth = 10  \n",
    "Best n_estimators = 25  \n",
    "Best R2 = 0.4268000484226063  \n",
    "Weight = 0.002"
   ]
  },
  {
   "cell_type": "markdown",
   "id": "92dda953-cd2c-4dd1-aec8-b3501b4dae2b",
   "metadata": {},
   "source": [
    "### 風速"
   ]
  },
  {
   "cell_type": "code",
   "execution_count": 34,
   "id": "ddbb6d31-14b9-4377-88e2-2e4e5b15123e",
   "metadata": {},
   "outputs": [
    {
     "name": "stdout",
     "output_type": "stream",
     "text": [
      "Start to tune hyperparameters\n"
     ]
    },
    {
     "name": "stderr",
     "output_type": "stream",
     "text": [
      "100%|██████████████████████████████████████████████████████████████████████████████████| 20/20 [21:35<00:00, 64.80s/it]\n"
     ]
    },
    {
     "name": "stdout",
     "output_type": "stream",
     "text": [
      "FCN\n",
      "Best L2_factor = 0.12935373036681566\n",
      "Best dropout_factor = 0.4128124094325431\n",
      "Best R2 = 0.5992917762441617\n"
     ]
    },
    {
     "name": "stderr",
     "output_type": "stream",
     "text": [
      "100%|██████████████████████████████████████████████████████████████████████████████████| 20/20 [06:57<00:00, 20.89s/it]\n"
     ]
    },
    {
     "name": "stdout",
     "output_type": "stream",
     "text": [
      "RandomForest\n",
      "Best max_depth = 9\n",
      "Best n_estimators = 167\n",
      "Best R2 = 0.5159077068868289\n"
     ]
    },
    {
     "name": "stderr",
     "output_type": "stream",
     "text": [
      "100%|██████████████████████████████████████████████████████████████████████████████████| 20/20 [01:33<00:00,  4.66s/it]\n"
     ]
    },
    {
     "name": "stdout",
     "output_type": "stream",
     "text": [
      "XGBoost\n",
      "Best max_depth = 4\n",
      "Best n_estimators = 122\n",
      "Best R2 = 0.4505540300462423\n"
     ]
    },
    {
     "name": "stderr",
     "output_type": "stream",
     "text": [
      "100%|██████████████████████████████████████████████████████████████████████████████████| 20/20 [01:18<00:00,  3.93s/it]\n"
     ]
    },
    {
     "name": "stdout",
     "output_type": "stream",
     "text": [
      "LightGBM\n",
      "Best max_depth = 9\n",
      "Best n_estimators = 19\n",
      "Best R2 = 0.5063642637143637\n"
     ]
    },
    {
     "name": "stderr",
     "output_type": "stream",
     "text": [
      "100%|██████████████████████████████████████████████████████████████████████████████████| 20/20 [01:11<00:00,  3.57s/it]\n"
     ]
    },
    {
     "name": "stdout",
     "output_type": "stream",
     "text": [
      "SVR\n",
      "Best C = 0.7357754502543328\n",
      "Best kernel = linear\n",
      "Best R2 = 0.5655356922928988\n"
     ]
    },
    {
     "name": "stderr",
     "output_type": "stream",
     "text": [
      "100%|██████████████████████████████████████████████████████████████████████████████████| 20/20 [01:39<00:00,  4.96s/it]\n"
     ]
    },
    {
     "name": "stdout",
     "output_type": "stream",
     "text": [
      "NuSVR\n",
      "Best C = 0.21962982174665854\n",
      "Best kernel = linear\n",
      "Best nu = 0.7616588175508587\n",
      "Best R2 = 0.5581192572123792\n",
      "Start to determine Ensemble weights.\n"
     ]
    },
    {
     "name": "stderr",
     "output_type": "stream",
     "text": [
      "100%|██████████████████████████████████████████████████████████████████████████████████| 50/50 [13:06<00:00, 15.73s/it]"
     ]
    },
    {
     "name": "stdout",
     "output_type": "stream",
     "text": [
      "風速\n"
     ]
    },
    {
     "name": "stderr",
     "output_type": "stream",
     "text": [
      "\n"
     ]
    },
    {
     "data": {
      "text/html": [
       "<div>\n",
       "<style scoped>\n",
       "    .dataframe tbody tr th:only-of-type {\n",
       "        vertical-align: middle;\n",
       "    }\n",
       "\n",
       "    .dataframe tbody tr th {\n",
       "        vertical-align: top;\n",
       "    }\n",
       "\n",
       "    .dataframe thead th {\n",
       "        text-align: right;\n",
       "    }\n",
       "</style>\n",
       "<table border=\"1\" class=\"dataframe\">\n",
       "  <thead>\n",
       "    <tr style=\"text-align: right;\">\n",
       "      <th></th>\n",
       "      <th>Model</th>\n",
       "      <th>Avg MAE</th>\n",
       "      <th>Std MAE</th>\n",
       "      <th>90th percentile</th>\n",
       "      <th>10th percentile</th>\n",
       "    </tr>\n",
       "  </thead>\n",
       "  <tbody>\n",
       "    <tr>\n",
       "      <th>0</th>\n",
       "      <td>Weighted_Ensemble</td>\n",
       "      <td>0.631981</td>\n",
       "      <td>0.117493</td>\n",
       "      <td>0.753450</td>\n",
       "      <td>0.491402</td>\n",
       "    </tr>\n",
       "    <tr>\n",
       "      <th>1</th>\n",
       "      <td>Ensemble</td>\n",
       "      <td>0.637492</td>\n",
       "      <td>0.119968</td>\n",
       "      <td>0.760797</td>\n",
       "      <td>0.482972</td>\n",
       "    </tr>\n",
       "    <tr>\n",
       "      <th>2</th>\n",
       "      <td>RandomForest</td>\n",
       "      <td>0.674442</td>\n",
       "      <td>0.117872</td>\n",
       "      <td>0.794064</td>\n",
       "      <td>0.526390</td>\n",
       "    </tr>\n",
       "    <tr>\n",
       "      <th>3</th>\n",
       "      <td>SVR</td>\n",
       "      <td>0.682671</td>\n",
       "      <td>0.117353</td>\n",
       "      <td>0.830542</td>\n",
       "      <td>0.546494</td>\n",
       "    </tr>\n",
       "    <tr>\n",
       "      <th>4</th>\n",
       "      <td>LightGBM</td>\n",
       "      <td>0.710920</td>\n",
       "      <td>0.119312</td>\n",
       "      <td>0.833085</td>\n",
       "      <td>0.576853</td>\n",
       "    </tr>\n",
       "    <tr>\n",
       "      <th>5</th>\n",
       "      <td>XGBoost</td>\n",
       "      <td>0.694569</td>\n",
       "      <td>0.121323</td>\n",
       "      <td>0.844572</td>\n",
       "      <td>0.556417</td>\n",
       "    </tr>\n",
       "    <tr>\n",
       "      <th>6</th>\n",
       "      <td>NuSVR</td>\n",
       "      <td>0.687477</td>\n",
       "      <td>0.119034</td>\n",
       "      <td>0.857087</td>\n",
       "      <td>0.541952</td>\n",
       "    </tr>\n",
       "    <tr>\n",
       "      <th>7</th>\n",
       "      <td>FCN</td>\n",
       "      <td>0.741840</td>\n",
       "      <td>0.138866</td>\n",
       "      <td>0.935429</td>\n",
       "      <td>0.535835</td>\n",
       "    </tr>\n",
       "  </tbody>\n",
       "</table>\n",
       "</div>"
      ],
      "text/plain": [
       "               Model   Avg MAE   Std MAE  90th percentile  10th percentile\n",
       "0  Weighted_Ensemble  0.631981  0.117493         0.753450         0.491402\n",
       "1           Ensemble  0.637492  0.119968         0.760797         0.482972\n",
       "2       RandomForest  0.674442  0.117872         0.794064         0.526390\n",
       "3                SVR  0.682671  0.117353         0.830542         0.546494\n",
       "4           LightGBM  0.710920  0.119312         0.833085         0.576853\n",
       "5            XGBoost  0.694569  0.121323         0.844572         0.556417\n",
       "6              NuSVR  0.687477  0.119034         0.857087         0.541952\n",
       "7                FCN  0.741840  0.138866         0.935429         0.535835"
      ]
     },
     "metadata": {},
     "output_type": "display_data"
    },
    {
     "name": "stdout",
     "output_type": "stream",
     "text": [
      "Weights:\n",
      "FCN: 0.063\n",
      "RandomForest: 0.273\n",
      "XGBoost: 0.214\n",
      "LightGBM: 0.000\n",
      "SVR: 0.450\n",
      "NuSVR: 0.000\n",
      " \n",
      " \n",
      "**Copy and Paste following lines into the next cell.**\n",
      "##### FCN\n",
      "Best L2_factor = 0.12935373036681566  \n",
      "Best dropout_factor = 0.4128124094325431  \n",
      "Best R2 = 0.5992917762441617  \n",
      "Weight = 0.063\n",
      "##### RandomForest\n",
      "Best max_depth = 9  \n",
      "Best n_estimators = 167  \n",
      "Best R2 = 0.5159077068868289  \n",
      "Weight = 0.273\n",
      "##### XGBoost\n",
      "Best max_depth = 4  \n",
      "Best n_estimators = 122  \n",
      "Best R2 = 0.4505540300462423  \n",
      "Weight = 0.214\n",
      "##### LightGBM\n",
      "Best max_depth = 9  \n",
      "Best n_estimators = 19  \n",
      "Best R2 = 0.5063642637143637  \n",
      "Weight = 0.000\n",
      "##### SVR\n",
      "Best C = 0.7357754502543328  \n",
      "Best kernel = linear  \n",
      "Best R2 = 0.5655356922928988  \n",
      "Weight = 0.450\n",
      "##### NuSVR\n",
      "Best C = 0.21962982174665854  \n",
      "Best kernel = linear  \n",
      "Best nu = 0.7616588175508587  \n",
      "Best R2 = 0.5581192572123792  \n",
      "Weight = 0.000\n",
      " \n",
      " \n"
     ]
    }
   ],
   "source": [
    "Y_feature = '風速'\n",
    "model_xcols = {\n",
    "    'FCN': ['風速', '東西風', '南北風', '溫度'],\n",
    "    'RandomForest': ['風速', '東西風', '南北風', '晴', '多雲', '陰', '短暫陣雨', '短暫陣雨或雷雨', '午後短暫雷陣雨', '陣雨或雷雨', '相對溼度', '溫度'],\n",
    "    'XGBoost': ['風速', '東西風', '南北風', '溫度'],\n",
    "    'LightGBM': ['風速', '東西風', '南北風', '溫度'],\n",
    "    'SVR': ['風速', '東西風', '南北風', '溫度'],\n",
    "    'NuSVR': ['風速', '東西風', '南北風', '溫度'],\n",
    "}\n",
    "\n",
    "flow_control(Y_feature, model_xcols, forecast_obs_df, speed_test=speed_test)"
   ]
  },
  {
   "cell_type": "markdown",
   "id": "5c4be399-f1a0-41c2-9b70-cea0f47f6d74",
   "metadata": {},
   "source": [
    "#### 最佳超參數與權重"
   ]
  },
  {
   "cell_type": "markdown",
   "id": "f3946461-d3d1-4228-b92f-c3d76060fbe5",
   "metadata": {},
   "source": [
    "##### FCN\n",
    "Best L2_factor = 0.05592638704213049  \n",
    "Best dropout_factor = 0.07847548007604593  \n",
    "Best R2 = 0.5813076958470627  \n",
    "Weight = 0.167\n",
    "##### RandomForest\n",
    "Best max_depth = 11  \n",
    "Best n_estimators = 42  \n",
    "Best R2 = 0.5347812133985134  \n",
    "Weight = 0.536\n",
    "##### XGBoost\n",
    "Best max_depth = 2  \n",
    "Best n_estimators = 129  \n",
    "Best R2 = 0.4174075328171598  \n",
    "Weight = 0.000\n",
    "##### LightGBM\n",
    "Best max_depth = 9  \n",
    "Best n_estimators = 14  \n",
    "Best R2 = 0.5009043458667409  \n",
    "Weight = 0.000\n",
    "##### SVR\n",
    "Best C = 23.778858785551915  \n",
    "Best kernel = linear  \n",
    "Best R2 = 0.5609041655735929  \n",
    "Weight = 0.297\n",
    "##### NuSVR\n",
    "Best C = 41.50123732942291  \n",
    "Best kernel = linear  \n",
    "Best nu = 0.5195660952664151  \n",
    "Best R2 = 0.5516527526034817  \n",
    "Weight = 0.000"
   ]
  },
  {
   "cell_type": "markdown",
   "id": "0ea1f413-cb97-46db-891e-2a42ed942855",
   "metadata": {},
   "source": [
    "## 預測電力資料"
   ]
  },
  {
   "cell_type": "markdown",
   "id": "2cdabaa6-2d1b-4472-87f3-fef38c54f165",
   "metadata": {},
   "source": [
    "台電官網上可以抓到的歷史電力資料，據我後來觀察，應該是每天用電負載尖峰的那一刻，每個機組的發電功率  \n",
    "所以我們在這邊的預測標的也會是這個數值\n",
    "\n",
    "以下所有電力相關數字單位皆為萬瓩，1萬瓩 = 10MW = 10,000,000 W\n",
    "\n",
    "Note: 這邊是以實時氣象觀測資料預測電力資料，但是這兩組數據基本上是同時得知的  \n",
    "所以實務上我們是用氣象預報預測第二天的氣象觀測，再用這個預測值預測第二天的電力資料  \n",
    "因此實際上的預測誤差會比這邊顯示的數值高一點  \n",
    "實際的預測情形可以到 <a href='http://ec2-54-206-30-159.ap-southeast-2.compute.amazonaws.com:8501'> 這個網站 </a> 查看"
   ]
  },
  {
   "cell_type": "markdown",
   "id": "e171639d-f29d-474c-b189-051214f50a5b",
   "metadata": {},
   "source": [
    "### 風力"
   ]
  },
  {
   "cell_type": "markdown",
   "id": "5cf8baa7-045b-4eb9-b8ca-241f0a8ee85c",
   "metadata": {},
   "source": [
    "在我蒐集的資料範圍中，風力發電數值的標準差約為 68萬瓩"
   ]
  },
  {
   "cell_type": "code",
   "execution_count": 35,
   "id": "53e84c36-1f88-4d4d-8a69-a828ef820973",
   "metadata": {},
   "outputs": [
    {
     "name": "stdout",
     "output_type": "stream",
     "text": [
      "Start to tune hyperparameters\n"
     ]
    },
    {
     "name": "stderr",
     "output_type": "stream",
     "text": [
      "100%|████████████████████████████████████████████████████████████████████████████████████| 1/1 [00:00<00:00, 16.40it/s]\n"
     ]
    },
    {
     "name": "stdout",
     "output_type": "stream",
     "text": [
      "LinearRegression\n",
      "Best R2 = 0.6171993026861705\n"
     ]
    },
    {
     "name": "stderr",
     "output_type": "stream",
     "text": [
      "100%|██████████████████████████████████████████████████████████████████████████████████| 20/20 [24:42<00:00, 74.12s/it]\n"
     ]
    },
    {
     "name": "stdout",
     "output_type": "stream",
     "text": [
      "FCN\n",
      "Best L2_factor = 0.008603606007001316\n",
      "Best dropout_factor = 0.1606367016172888\n",
      "Best R2 = 0.7731515107318294\n"
     ]
    },
    {
     "name": "stderr",
     "output_type": "stream",
     "text": [
      "100%|██████████████████████████████████████████████████████████████████████████████████| 20/20 [05:51<00:00, 17.56s/it]\n"
     ]
    },
    {
     "name": "stdout",
     "output_type": "stream",
     "text": [
      "RandomForest\n",
      "Best max_depth = 14\n",
      "Best n_estimators = 113\n",
      "Best R2 = 0.776186397135709\n"
     ]
    },
    {
     "name": "stderr",
     "output_type": "stream",
     "text": [
      "100%|██████████████████████████████████████████████████████████████████████████████████| 20/20 [02:08<00:00,  6.40s/it]\n"
     ]
    },
    {
     "name": "stdout",
     "output_type": "stream",
     "text": [
      "XGBoost\n",
      "Best max_depth = 2\n",
      "Best n_estimators = 97\n",
      "Best R2 = 0.7679023222876239\n"
     ]
    },
    {
     "name": "stderr",
     "output_type": "stream",
     "text": [
      "100%|██████████████████████████████████████████████████████████████████████████████████| 20/20 [02:10<00:00,  6.53s/it]\n"
     ]
    },
    {
     "name": "stdout",
     "output_type": "stream",
     "text": [
      "LightGBM\n",
      "Best max_depth = 8\n",
      "Best n_estimators = 43\n",
      "Best R2 = 0.7663081909480964\n"
     ]
    },
    {
     "name": "stderr",
     "output_type": "stream",
     "text": [
      "100%|██████████████████████████████████████████████████████████████████████████████████| 20/20 [00:16<00:00,  1.21it/s]\n"
     ]
    },
    {
     "name": "stdout",
     "output_type": "stream",
     "text": [
      "SVR\n",
      "Best C = 2.0158720708721565\n",
      "Best kernel = sigmoid\n",
      "Best R2 = 0.6402239147848072\n"
     ]
    },
    {
     "name": "stderr",
     "output_type": "stream",
     "text": [
      "100%|██████████████████████████████████████████████████████████████████████████████████| 20/20 [00:22<00:00,  1.14s/it]\n"
     ]
    },
    {
     "name": "stdout",
     "output_type": "stream",
     "text": [
      "NuSVR\n",
      "Best C = 155.76752701760665\n",
      "Best kernel = rbf\n",
      "Best nu = 0.663339231324241\n",
      "Best R2 = 0.7683295750227099\n",
      "Start to determine Ensemble weights.\n"
     ]
    },
    {
     "name": "stderr",
     "output_type": "stream",
     "text": [
      "100%|██████████████████████████████████████████████████████████████████████████████████| 50/50 [12:47<00:00, 15.34s/it]"
     ]
    },
    {
     "name": "stdout",
     "output_type": "stream",
     "text": [
      "風力\n"
     ]
    },
    {
     "name": "stderr",
     "output_type": "stream",
     "text": [
      "\n"
     ]
    },
    {
     "data": {
      "text/html": [
       "<div>\n",
       "<style scoped>\n",
       "    .dataframe tbody tr th:only-of-type {\n",
       "        vertical-align: middle;\n",
       "    }\n",
       "\n",
       "    .dataframe tbody tr th {\n",
       "        vertical-align: top;\n",
       "    }\n",
       "\n",
       "    .dataframe thead th {\n",
       "        text-align: right;\n",
       "    }\n",
       "</style>\n",
       "<table border=\"1\" class=\"dataframe\">\n",
       "  <thead>\n",
       "    <tr style=\"text-align: right;\">\n",
       "      <th></th>\n",
       "      <th>Model</th>\n",
       "      <th>Avg MAE</th>\n",
       "      <th>Std MAE</th>\n",
       "      <th>90th percentile</th>\n",
       "      <th>10th percentile</th>\n",
       "    </tr>\n",
       "  </thead>\n",
       "  <tbody>\n",
       "    <tr>\n",
       "      <th>0</th>\n",
       "      <td>Weighted_Ensemble</td>\n",
       "      <td>21.947171</td>\n",
       "      <td>2.050298</td>\n",
       "      <td>24.789188</td>\n",
       "      <td>19.359038</td>\n",
       "    </tr>\n",
       "    <tr>\n",
       "      <th>1</th>\n",
       "      <td>NuSVR</td>\n",
       "      <td>23.596613</td>\n",
       "      <td>1.924787</td>\n",
       "      <td>25.525252</td>\n",
       "      <td>21.011300</td>\n",
       "    </tr>\n",
       "    <tr>\n",
       "      <th>2</th>\n",
       "      <td>Ensemble</td>\n",
       "      <td>23.789690</td>\n",
       "      <td>2.088476</td>\n",
       "      <td>26.206230</td>\n",
       "      <td>20.907698</td>\n",
       "    </tr>\n",
       "    <tr>\n",
       "      <th>3</th>\n",
       "      <td>RandomForest</td>\n",
       "      <td>23.600535</td>\n",
       "      <td>2.242565</td>\n",
       "      <td>26.243521</td>\n",
       "      <td>21.095757</td>\n",
       "    </tr>\n",
       "    <tr>\n",
       "      <th>4</th>\n",
       "      <td>XGBoost</td>\n",
       "      <td>24.058891</td>\n",
       "      <td>2.224500</td>\n",
       "      <td>26.570670</td>\n",
       "      <td>21.051337</td>\n",
       "    </tr>\n",
       "    <tr>\n",
       "      <th>5</th>\n",
       "      <td>LightGBM</td>\n",
       "      <td>24.167063</td>\n",
       "      <td>2.258272</td>\n",
       "      <td>27.054718</td>\n",
       "      <td>21.372469</td>\n",
       "    </tr>\n",
       "    <tr>\n",
       "      <th>6</th>\n",
       "      <td>FCN</td>\n",
       "      <td>24.959707</td>\n",
       "      <td>2.702547</td>\n",
       "      <td>28.785636</td>\n",
       "      <td>21.698703</td>\n",
       "    </tr>\n",
       "    <tr>\n",
       "      <th>7</th>\n",
       "      <td>LinearRegression</td>\n",
       "      <td>32.124057</td>\n",
       "      <td>2.344379</td>\n",
       "      <td>34.829219</td>\n",
       "      <td>28.415752</td>\n",
       "    </tr>\n",
       "    <tr>\n",
       "      <th>8</th>\n",
       "      <td>SVR</td>\n",
       "      <td>32.594511</td>\n",
       "      <td>2.207381</td>\n",
       "      <td>35.875877</td>\n",
       "      <td>29.565865</td>\n",
       "    </tr>\n",
       "  </tbody>\n",
       "</table>\n",
       "</div>"
      ],
      "text/plain": [
       "               Model    Avg MAE   Std MAE  90th percentile  10th percentile\n",
       "0  Weighted_Ensemble  21.947171  2.050298        24.789188        19.359038\n",
       "1              NuSVR  23.596613  1.924787        25.525252        21.011300\n",
       "2           Ensemble  23.789690  2.088476        26.206230        20.907698\n",
       "3       RandomForest  23.600535  2.242565        26.243521        21.095757\n",
       "4            XGBoost  24.058891  2.224500        26.570670        21.051337\n",
       "5           LightGBM  24.167063  2.258272        27.054718        21.372469\n",
       "6                FCN  24.959707  2.702547        28.785636        21.698703\n",
       "7   LinearRegression  32.124057  2.344379        34.829219        28.415752\n",
       "8                SVR  32.594511  2.207381        35.875877        29.565865"
      ]
     },
     "metadata": {},
     "output_type": "display_data"
    },
    {
     "name": "stdout",
     "output_type": "stream",
     "text": [
      "Weights:\n",
      "LinearRegression: 0.000\n",
      "FCN: 0.144\n",
      "RandomForest: 0.202\n",
      "XGBoost: 0.267\n",
      "LightGBM: 0.000\n",
      "SVR: 0.000\n",
      "NuSVR: 0.387\n",
      " \n",
      " \n",
      "**Copy and Paste following lines into the next cell.**\n",
      "##### LinearRegression\n",
      "Best R2 = 0.6171993026861705  \n",
      "Weight = 0.000\n",
      "##### FCN\n",
      "Best L2_factor = 0.008603606007001316  \n",
      "Best dropout_factor = 0.1606367016172888  \n",
      "Best R2 = 0.7731515107318294  \n",
      "Weight = 0.144\n",
      "##### RandomForest\n",
      "Best max_depth = 14  \n",
      "Best n_estimators = 113  \n",
      "Best R2 = 0.776186397135709  \n",
      "Weight = 0.202\n",
      "##### XGBoost\n",
      "Best max_depth = 2  \n",
      "Best n_estimators = 97  \n",
      "Best R2 = 0.7679023222876239  \n",
      "Weight = 0.267\n",
      "##### LightGBM\n",
      "Best max_depth = 8  \n",
      "Best n_estimators = 43  \n",
      "Best R2 = 0.7663081909480964  \n",
      "Weight = 0.000\n",
      "##### SVR\n",
      "Best C = 2.0158720708721565  \n",
      "Best kernel = sigmoid  \n",
      "Best R2 = 0.6402239147848072  \n",
      "Weight = 0.000\n",
      "##### NuSVR\n",
      "Best C = 155.76752701760665  \n",
      "Best kernel = rbf  \n",
      "Best nu = 0.663339231324241  \n",
      "Best R2 = 0.7683295750227099  \n",
      "Weight = 0.387\n",
      " \n",
      " \n"
     ]
    }
   ],
   "source": [
    "Y_feature = '風力'\n",
    "\n",
    "model_xcols = {\n",
    "    'LinearRegression': ['風速', '日期數字', '假日', '週六', '週日', '補班', '1~3月', '11~12月', '午後平均風速', '下午平均風速', '傍晚平均風速'],\n",
    "    'FCN': ['風速', '日期數字', '假日', '週六', '週日', '補班', '1~3月', '11~12月', '午後平均風速', '下午平均風速', '傍晚平均風速'],\n",
    "    'RandomForest': ['風速', '日期數字', '假日', '週六', '週日', '補班', '1~3月', '11~12月', '午後平均風速', '下午平均風速', '傍晚平均風速'],\n",
    "    'XGBoost': ['風速', '日期數字', '假日', '週六', '週日', '補班', '1~3月', '11~12月', '午後平均風速', '下午平均風速', '傍晚平均風速'],\n",
    "    'LightGBM': ['風速', '日期數字', '假日', '週六', '週日', '補班', '1~3月', '11~12月', '午後平均風速', '下午平均風速', '傍晚平均風速'],\n",
    "    'SVR': ['風速', '日期數字', '假日', '週六', '週日', '補班', '1~3月', '11~12月', '午後平均風速', '下午平均風速', '傍晚平均風速'],\n",
    "    'NuSVR': ['風速', '日期數字', '假日', '週六', '週日', '補班', '1~3月', '11~12月', '午後平均風速', '下午平均風速', '傍晚平均風速'],\n",
    "}\n",
    "\n",
    "flow_control(Y_feature, model_xcols, weather_power_df, speed_test=speed_test)"
   ]
  },
  {
   "cell_type": "markdown",
   "id": "88633e7b-84d3-4b7e-8258-6fec020663cc",
   "metadata": {},
   "source": [
    "#### 最佳超參數與權重"
   ]
  },
  {
   "cell_type": "markdown",
   "id": "adbbc5a8-57f3-4605-a626-4980d5734dff",
   "metadata": {},
   "source": [
    "##### LinearRegression\n",
    "Best R2 = 0.6044580733181938  \n",
    "Weight = 0.000\n",
    "##### FCN\n",
    "Best L2_factor = 0.03002014221111957  \n",
    "Best dropout_factor = 0.1129475402935946  \n",
    "Best R2 = 0.7277066975377966  \n",
    "Weight = 0.062\n",
    "##### RandomForest\n",
    "Best max_depth = 7  \n",
    "Best n_estimators = 188  \n",
    "Best R2 = 0.739926308023377  \n",
    "Weight = 0.000\n",
    "##### XGBoost\n",
    "Best max_depth = 2  \n",
    "Best n_estimators = 82  \n",
    "Best R2 = 0.7433508737111479  \n",
    "Weight = 0.307\n",
    "##### LightGBM\n",
    "Best max_depth = 10  \n",
    "Best n_estimators = 123  \n",
    "Best R2 = 0.7397801530188338  \n",
    "Weight = 0.260\n",
    "##### SVR\n",
    "Best C = 43.4883715636823  \n",
    "Best kernel = rbf  \n",
    "Best R2 = 0.7397300609763093  \n",
    "Weight = 0.201\n",
    "##### NuSVR\n",
    "Best C = 56.8991555460406  \n",
    "Best kernel = rbf  \n",
    "Best nu = 0.42159107656237693  \n",
    "Best R2 = 0.7347554525194468  \n",
    "Weight = 0.170"
   ]
  },
  {
   "cell_type": "markdown",
   "id": "17647ecf-4c85-4e87-abac-2dc2159c6531",
   "metadata": {},
   "source": [
    "### 太陽能\n"
   ]
  },
  {
   "cell_type": "markdown",
   "id": "08378a9b-05ac-4fc1-9409-dac57bc903a4",
   "metadata": {},
   "source": [
    "太陽能發電數值的原始標準差約為 260 萬瓩"
   ]
  },
  {
   "cell_type": "code",
   "execution_count": 36,
   "id": "0c5a9c8e-fc2d-4f70-ac02-60f50b4df9cb",
   "metadata": {},
   "outputs": [
    {
     "name": "stdout",
     "output_type": "stream",
     "text": [
      "Start to tune hyperparameters\n"
     ]
    },
    {
     "name": "stderr",
     "output_type": "stream",
     "text": [
      "100%|████████████████████████████████████████████████████████████████████████████████████| 1/1 [00:00<00:00, 19.03it/s]\n"
     ]
    },
    {
     "name": "stdout",
     "output_type": "stream",
     "text": [
      "LinearRegression\n",
      "Best R2 = 0.6846159903974504\n"
     ]
    },
    {
     "name": "stderr",
     "output_type": "stream",
     "text": [
      "100%|██████████████████████████████████████████████████████████████████████████████████| 20/20 [24:14<00:00, 72.72s/it]\n"
     ]
    },
    {
     "name": "stdout",
     "output_type": "stream",
     "text": [
      "FCN\n",
      "Best L2_factor = 0.0015577779362233922\n",
      "Best dropout_factor = 0.2506061455703462\n",
      "Best R2 = 0.7336825040857166\n"
     ]
    },
    {
     "name": "stderr",
     "output_type": "stream",
     "text": [
      "100%|██████████████████████████████████████████████████████████████████████████████████| 20/20 [07:27<00:00, 22.37s/it]\n"
     ]
    },
    {
     "name": "stdout",
     "output_type": "stream",
     "text": [
      "RandomForest\n",
      "Best max_depth = 12\n",
      "Best n_estimators = 193\n",
      "Best R2 = 0.696177487768557\n"
     ]
    },
    {
     "name": "stderr",
     "output_type": "stream",
     "text": [
      "100%|██████████████████████████████████████████████████████████████████████████████████| 20/20 [03:25<00:00, 10.28s/it]\n"
     ]
    },
    {
     "name": "stdout",
     "output_type": "stream",
     "text": [
      "XGBoost\n",
      "Best max_depth = 2\n",
      "Best n_estimators = 100\n",
      "Best R2 = 0.6769264648868403\n"
     ]
    },
    {
     "name": "stderr",
     "output_type": "stream",
     "text": [
      "100%|██████████████████████████████████████████████████████████████████████████████████| 20/20 [02:11<00:00,  6.57s/it]\n"
     ]
    },
    {
     "name": "stdout",
     "output_type": "stream",
     "text": [
      "LightGBM\n",
      "Best max_depth = 3\n",
      "Best n_estimators = 69\n",
      "Best R2 = 0.6695968519976954\n"
     ]
    },
    {
     "name": "stderr",
     "output_type": "stream",
     "text": [
      "100%|██████████████████████████████████████████████████████████████████████████████████| 20/20 [00:13<00:00,  1.53it/s]\n"
     ]
    },
    {
     "name": "stdout",
     "output_type": "stream",
     "text": [
      "SVR\n",
      "Best C = 35.54674592854777\n",
      "Best kernel = linear\n",
      "Best R2 = 0.6887863921292163\n"
     ]
    },
    {
     "name": "stderr",
     "output_type": "stream",
     "text": [
      "100%|██████████████████████████████████████████████████████████████████████████████████| 20/20 [00:06<00:00,  2.88it/s]\n"
     ]
    },
    {
     "name": "stdout",
     "output_type": "stream",
     "text": [
      "NuSVR\n",
      "Best C = 2.337682125183769\n",
      "Best kernel = linear\n",
      "Best nu = 0.3990382069279208\n",
      "Best R2 = 0.6754387168561933\n",
      "Start to determine Ensemble weights.\n"
     ]
    },
    {
     "name": "stderr",
     "output_type": "stream",
     "text": [
      "100%|██████████████████████████████████████████████████████████████████████████████████| 50/50 [12:40<00:00, 15.21s/it]"
     ]
    },
    {
     "name": "stdout",
     "output_type": "stream",
     "text": [
      "太陽能\n"
     ]
    },
    {
     "name": "stderr",
     "output_type": "stream",
     "text": [
      "\n"
     ]
    },
    {
     "data": {
      "text/html": [
       "<div>\n",
       "<style scoped>\n",
       "    .dataframe tbody tr th:only-of-type {\n",
       "        vertical-align: middle;\n",
       "    }\n",
       "\n",
       "    .dataframe tbody tr th {\n",
       "        vertical-align: top;\n",
       "    }\n",
       "\n",
       "    .dataframe thead th {\n",
       "        text-align: right;\n",
       "    }\n",
       "</style>\n",
       "<table border=\"1\" class=\"dataframe\">\n",
       "  <thead>\n",
       "    <tr style=\"text-align: right;\">\n",
       "      <th></th>\n",
       "      <th>Model</th>\n",
       "      <th>Avg MAE</th>\n",
       "      <th>Std MAE</th>\n",
       "      <th>90th percentile</th>\n",
       "      <th>10th percentile</th>\n",
       "    </tr>\n",
       "  </thead>\n",
       "  <tbody>\n",
       "    <tr>\n",
       "      <th>0</th>\n",
       "      <td>Weighted_Ensemble</td>\n",
       "      <td>93.964408</td>\n",
       "      <td>9.989523</td>\n",
       "      <td>108.105628</td>\n",
       "      <td>79.457706</td>\n",
       "    </tr>\n",
       "    <tr>\n",
       "      <th>1</th>\n",
       "      <td>Ensemble</td>\n",
       "      <td>99.157150</td>\n",
       "      <td>9.637068</td>\n",
       "      <td>112.176561</td>\n",
       "      <td>85.072779</td>\n",
       "    </tr>\n",
       "    <tr>\n",
       "      <th>2</th>\n",
       "      <td>FCN</td>\n",
       "      <td>99.260213</td>\n",
       "      <td>12.406962</td>\n",
       "      <td>113.720331</td>\n",
       "      <td>82.676511</td>\n",
       "    </tr>\n",
       "    <tr>\n",
       "      <th>3</th>\n",
       "      <td>RandomForest</td>\n",
       "      <td>99.730024</td>\n",
       "      <td>10.369802</td>\n",
       "      <td>114.708233</td>\n",
       "      <td>87.260225</td>\n",
       "    </tr>\n",
       "    <tr>\n",
       "      <th>4</th>\n",
       "      <td>LightGBM</td>\n",
       "      <td>106.107843</td>\n",
       "      <td>10.142168</td>\n",
       "      <td>118.116547</td>\n",
       "      <td>88.955620</td>\n",
       "    </tr>\n",
       "    <tr>\n",
       "      <th>5</th>\n",
       "      <td>XGBoost</td>\n",
       "      <td>107.491957</td>\n",
       "      <td>11.023897</td>\n",
       "      <td>123.184077</td>\n",
       "      <td>92.972984</td>\n",
       "    </tr>\n",
       "    <tr>\n",
       "      <th>6</th>\n",
       "      <td>SVR</td>\n",
       "      <td>113.940246</td>\n",
       "      <td>9.654999</td>\n",
       "      <td>126.604544</td>\n",
       "      <td>100.794610</td>\n",
       "    </tr>\n",
       "    <tr>\n",
       "      <th>7</th>\n",
       "      <td>LinearRegression</td>\n",
       "      <td>113.372975</td>\n",
       "      <td>10.596272</td>\n",
       "      <td>128.038573</td>\n",
       "      <td>97.926668</td>\n",
       "    </tr>\n",
       "    <tr>\n",
       "      <th>8</th>\n",
       "      <td>NuSVR</td>\n",
       "      <td>117.002776</td>\n",
       "      <td>9.710519</td>\n",
       "      <td>128.660305</td>\n",
       "      <td>100.643472</td>\n",
       "    </tr>\n",
       "  </tbody>\n",
       "</table>\n",
       "</div>"
      ],
      "text/plain": [
       "               Model     Avg MAE    Std MAE  90th percentile  10th percentile\n",
       "0  Weighted_Ensemble   93.964408   9.989523       108.105628        79.457706\n",
       "1           Ensemble   99.157150   9.637068       112.176561        85.072779\n",
       "2                FCN   99.260213  12.406962       113.720331        82.676511\n",
       "3       RandomForest   99.730024  10.369802       114.708233        87.260225\n",
       "4           LightGBM  106.107843  10.142168       118.116547        88.955620\n",
       "5            XGBoost  107.491957  11.023897       123.184077        92.972984\n",
       "6                SVR  113.940246   9.654999       126.604544       100.794610\n",
       "7   LinearRegression  113.372975  10.596272       128.038573        97.926668\n",
       "8              NuSVR  117.002776   9.710519       128.660305       100.643472"
      ]
     },
     "metadata": {},
     "output_type": "display_data"
    },
    {
     "name": "stdout",
     "output_type": "stream",
     "text": [
      "Weights:\n",
      "LinearRegression: 0.148\n",
      "FCN: 0.387\n",
      "RandomForest: 0.224\n",
      "XGBoost: 0.180\n",
      "LightGBM: 0.061\n",
      "SVR: 0.000\n",
      "NuSVR: 0.000\n",
      " \n",
      " \n",
      "**Copy and Paste following lines into the next cell.**\n",
      "##### LinearRegression\n",
      "Best R2 = 0.6846159903974504  \n",
      "Weight = 0.148\n",
      "##### FCN\n",
      "Best L2_factor = 0.0015577779362233922  \n",
      "Best dropout_factor = 0.2506061455703462  \n",
      "Best R2 = 0.7336825040857166  \n",
      "Weight = 0.387\n",
      "##### RandomForest\n",
      "Best max_depth = 12  \n",
      "Best n_estimators = 193  \n",
      "Best R2 = 0.696177487768557  \n",
      "Weight = 0.224\n",
      "##### XGBoost\n",
      "Best max_depth = 2  \n",
      "Best n_estimators = 100  \n",
      "Best R2 = 0.6769264648868403  \n",
      "Weight = 0.180\n",
      "##### LightGBM\n",
      "Best max_depth = 3  \n",
      "Best n_estimators = 69  \n",
      "Best R2 = 0.6695968519976954  \n",
      "Weight = 0.061\n",
      "##### SVR\n",
      "Best C = 35.54674592854777  \n",
      "Best kernel = linear  \n",
      "Best R2 = 0.6887863921292163  \n",
      "Weight = 0.000\n",
      "##### NuSVR\n",
      "Best C = 2.337682125183769  \n",
      "Best kernel = linear  \n",
      "Best nu = 0.3990382069279208  \n",
      "Best R2 = 0.6754387168561933  \n",
      "Weight = 0.000\n",
      " \n",
      " \n"
     ]
    }
   ],
   "source": [
    "Y_feature = '太陽能'\n",
    "\n",
    "model_xcols = {\n",
    "    'LinearRegression': ['氣溫', '最高氣溫', '最低氣溫', '全天空日射量', '日期數字', '假日', '週六', '週日', '補班', '白日長度'],\n",
    "    'FCN': ['氣溫', '最高氣溫', '最低氣溫', '全天空日射量', '日期數字', '假日', '週六', '週日', '補班', '白日長度'],\n",
    "    'RandomForest': ['氣溫', '最高氣溫', '最低氣溫', '全天空日射量', '日期數字', '假日', '週六', '週日', '補班', '白日長度'],\n",
    "    'XGBoost': ['氣溫', '最高氣溫', '最低氣溫', '全天空日射量', '日期數字', '假日', '週六', '週日', '補班', '白日長度'],\n",
    "    'LightGBM': ['氣溫', '最高氣溫', '最低氣溫', '全天空日射量', '日期數字', '假日', '週六', '週日', '補班', '白日長度'],\n",
    "    'SVR': ['氣溫', '最高氣溫', '最低氣溫', '全天空日射量', '日期數字', '假日', '週六', '週日', '補班', '白日長度'],\n",
    "    'NuSVR': ['氣溫', '最高氣溫', '最低氣溫', '全天空日射量', '日期數字', '假日', '週六', '週日', '補班', '白日長度'],\n",
    "}\n",
    "\n",
    "flow_control(Y_feature, model_xcols, weather_power_df, speed_test=speed_test)"
   ]
  },
  {
   "cell_type": "markdown",
   "id": "daee5ba3-dc06-4186-8249-c5f4a9084b3c",
   "metadata": {},
   "source": [
    "#### 最佳超參數與權重"
   ]
  },
  {
   "cell_type": "markdown",
   "id": "25e696ce-fcbe-4723-a503-49bc6460eaa4",
   "metadata": {},
   "source": [
    "##### LinearRegression\n",
    "Best R2 = 0.6893254685091934  \n",
    "Weight = 0.000\n",
    "##### FCN\n",
    "Best L2_factor = 0.16993690927931668  \n",
    "Best dropout_factor = 0.26311208913533524  \n",
    "Best R2 = 0.7702212180762896  \n",
    "Weight = 0.286\n",
    "##### RandomForest\n",
    "Best max_depth = 12  \n",
    "Best n_estimators = 134  \n",
    "Best R2 = 0.7258615014540506  \n",
    "Weight = 0.000\n",
    "##### XGBoost\n",
    "Best max_depth = 3  \n",
    "Best n_estimators = 80  \n",
    "Best R2 = 0.7180991262122053  \n",
    "Weight = 0.110\n",
    "##### LightGBM\n",
    "Best max_depth = 5  \n",
    "Best n_estimators = 56  \n",
    "Best R2 = 0.6956657014942508  \n",
    "Weight = 0.096\n",
    "##### SVR\n",
    "Best C = 6.694986116951681  \n",
    "Best kernel = linear  \n",
    "Best R2 = 0.6946904903081259  \n",
    "Weight = 0.000\n",
    "##### NuSVR\n",
    "Best C = 177.2132188450082  \n",
    "Best kernel = rbf  \n",
    "Best nu = 0.895376762270945  \n",
    "Best R2 = 0.7579144014682827  \n",
    "Weight = 0.508"
   ]
  },
  {
   "cell_type": "markdown",
   "id": "e03d3a27-87d8-479d-a87c-f75efad5207f",
   "metadata": {},
   "source": [
    "### 尖峰負載"
   ]
  },
  {
   "cell_type": "markdown",
   "id": "a0ab0da1-49b7-4f27-a2b9-03c4ae92e067",
   "metadata": {},
   "source": [
    "尖峰負載的原始標準差約為 410 萬瓩"
   ]
  },
  {
   "cell_type": "code",
   "execution_count": 37,
   "id": "92919b34-c4ff-46eb-9613-c8c7b0c37e9e",
   "metadata": {},
   "outputs": [
    {
     "name": "stdout",
     "output_type": "stream",
     "text": [
      "Start to tune hyperparameters\n"
     ]
    },
    {
     "name": "stderr",
     "output_type": "stream",
     "text": [
      "100%|████████████████████████████████████████████████████████████████████████████████████| 1/1 [00:00<00:00, 19.76it/s]\n"
     ]
    },
    {
     "name": "stdout",
     "output_type": "stream",
     "text": [
      "LinearRegression\n",
      "Best R2 = 0.8925183491953909\n"
     ]
    },
    {
     "name": "stderr",
     "output_type": "stream",
     "text": [
      "100%|██████████████████████████████████████████████████████████████████████████████████| 20/20 [25:07<00:00, 75.36s/it]\n"
     ]
    },
    {
     "name": "stdout",
     "output_type": "stream",
     "text": [
      "FCN\n",
      "Best L2_factor = 0.10425819337184065\n",
      "Best dropout_factor = 0.0035655506712701512\n",
      "Best R2 = 0.9568310894068462\n"
     ]
    },
    {
     "name": "stderr",
     "output_type": "stream",
     "text": [
      "100%|██████████████████████████████████████████████████████████████████████████████████| 20/20 [05:21<00:00, 16.09s/it]\n"
     ]
    },
    {
     "name": "stdout",
     "output_type": "stream",
     "text": [
      "RandomForest\n",
      "Best max_depth = 8\n",
      "Best n_estimators = 99\n",
      "Best R2 = 0.9339271241423087\n"
     ]
    },
    {
     "name": "stderr",
     "output_type": "stream",
     "text": [
      "100%|██████████████████████████████████████████████████████████████████████████████████| 20/20 [03:09<00:00,  9.49s/it]\n"
     ]
    },
    {
     "name": "stdout",
     "output_type": "stream",
     "text": [
      "XGBoost\n",
      "Best max_depth = 3\n",
      "Best n_estimators = 90\n",
      "Best R2 = 0.9441996765320942\n"
     ]
    },
    {
     "name": "stderr",
     "output_type": "stream",
     "text": [
      "100%|██████████████████████████████████████████████████████████████████████████████████| 20/20 [03:03<00:00,  9.18s/it]\n"
     ]
    },
    {
     "name": "stdout",
     "output_type": "stream",
     "text": [
      "LightGBM\n",
      "Best max_depth = 9\n",
      "Best n_estimators = 164\n",
      "Best R2 = 0.9060664356971319\n"
     ]
    },
    {
     "name": "stderr",
     "output_type": "stream",
     "text": [
      "100%|██████████████████████████████████████████████████████████████████████████████████| 20/20 [00:11<00:00,  1.72it/s]\n"
     ]
    },
    {
     "name": "stdout",
     "output_type": "stream",
     "text": [
      "SVR\n",
      "Best C = 13.515421532403904\n",
      "Best kernel = linear\n",
      "Best R2 = 0.8825791395735105\n"
     ]
    },
    {
     "name": "stderr",
     "output_type": "stream",
     "text": [
      "100%|██████████████████████████████████████████████████████████████████████████████████| 20/20 [00:11<00:00,  1.78it/s]\n"
     ]
    },
    {
     "name": "stdout",
     "output_type": "stream",
     "text": [
      "NuSVR\n",
      "Best C = 195.88226591434008\n",
      "Best kernel = rbf\n",
      "Best nu = 0.7047373423919561\n",
      "Best R2 = 0.9589082462351279\n",
      "Start to determine Ensemble weights.\n"
     ]
    },
    {
     "name": "stderr",
     "output_type": "stream",
     "text": [
      "100%|██████████████████████████████████████████████████████████████████████████████████| 50/50 [12:28<00:00, 14.96s/it]"
     ]
    },
    {
     "name": "stdout",
     "output_type": "stream",
     "text": [
      "尖峰負載\n"
     ]
    },
    {
     "name": "stderr",
     "output_type": "stream",
     "text": [
      "\n"
     ]
    },
    {
     "data": {
      "text/html": [
       "<div>\n",
       "<style scoped>\n",
       "    .dataframe tbody tr th:only-of-type {\n",
       "        vertical-align: middle;\n",
       "    }\n",
       "\n",
       "    .dataframe tbody tr th {\n",
       "        vertical-align: top;\n",
       "    }\n",
       "\n",
       "    .dataframe thead th {\n",
       "        text-align: right;\n",
       "    }\n",
       "</style>\n",
       "<table border=\"1\" class=\"dataframe\">\n",
       "  <thead>\n",
       "    <tr style=\"text-align: right;\">\n",
       "      <th></th>\n",
       "      <th>Model</th>\n",
       "      <th>Avg MAE</th>\n",
       "      <th>Std MAE</th>\n",
       "      <th>90th percentile</th>\n",
       "      <th>10th percentile</th>\n",
       "    </tr>\n",
       "  </thead>\n",
       "  <tbody>\n",
       "    <tr>\n",
       "      <th>0</th>\n",
       "      <td>Weighted_Ensemble</td>\n",
       "      <td>52.566298</td>\n",
       "      <td>5.832317</td>\n",
       "      <td>59.407225</td>\n",
       "      <td>46.052171</td>\n",
       "    </tr>\n",
       "    <tr>\n",
       "      <th>1</th>\n",
       "      <td>NuSVR</td>\n",
       "      <td>55.963550</td>\n",
       "      <td>7.188452</td>\n",
       "      <td>64.515882</td>\n",
       "      <td>46.065013</td>\n",
       "    </tr>\n",
       "    <tr>\n",
       "      <th>2</th>\n",
       "      <td>FCN</td>\n",
       "      <td>59.373526</td>\n",
       "      <td>7.211713</td>\n",
       "      <td>68.306404</td>\n",
       "      <td>49.643449</td>\n",
       "    </tr>\n",
       "    <tr>\n",
       "      <th>3</th>\n",
       "      <td>Ensemble</td>\n",
       "      <td>62.949014</td>\n",
       "      <td>6.270494</td>\n",
       "      <td>69.540912</td>\n",
       "      <td>54.722979</td>\n",
       "    </tr>\n",
       "    <tr>\n",
       "      <th>4</th>\n",
       "      <td>XGBoost</td>\n",
       "      <td>72.266061</td>\n",
       "      <td>7.345056</td>\n",
       "      <td>82.190014</td>\n",
       "      <td>62.586442</td>\n",
       "    </tr>\n",
       "    <tr>\n",
       "      <th>5</th>\n",
       "      <td>RandomForest</td>\n",
       "      <td>74.525400</td>\n",
       "      <td>8.684421</td>\n",
       "      <td>87.289745</td>\n",
       "      <td>64.750575</td>\n",
       "    </tr>\n",
       "    <tr>\n",
       "      <th>6</th>\n",
       "      <td>LightGBM</td>\n",
       "      <td>87.886586</td>\n",
       "      <td>9.924120</td>\n",
       "      <td>99.195692</td>\n",
       "      <td>74.183713</td>\n",
       "    </tr>\n",
       "    <tr>\n",
       "      <th>7</th>\n",
       "      <td>LinearRegression</td>\n",
       "      <td>109.662984</td>\n",
       "      <td>8.021210</td>\n",
       "      <td>118.353995</td>\n",
       "      <td>99.154899</td>\n",
       "    </tr>\n",
       "    <tr>\n",
       "      <th>8</th>\n",
       "      <td>SVR</td>\n",
       "      <td>110.876763</td>\n",
       "      <td>8.435909</td>\n",
       "      <td>121.850580</td>\n",
       "      <td>99.832590</td>\n",
       "    </tr>\n",
       "  </tbody>\n",
       "</table>\n",
       "</div>"
      ],
      "text/plain": [
       "               Model     Avg MAE   Std MAE  90th percentile  10th percentile\n",
       "0  Weighted_Ensemble   52.566298  5.832317        59.407225        46.052171\n",
       "1              NuSVR   55.963550  7.188452        64.515882        46.065013\n",
       "2                FCN   59.373526  7.211713        68.306404        49.643449\n",
       "3           Ensemble   62.949014  6.270494        69.540912        54.722979\n",
       "4            XGBoost   72.266061  7.345056        82.190014        62.586442\n",
       "5       RandomForest   74.525400  8.684421        87.289745        64.750575\n",
       "6           LightGBM   87.886586  9.924120        99.195692        74.183713\n",
       "7   LinearRegression  109.662984  8.021210       118.353995        99.154899\n",
       "8                SVR  110.876763  8.435909       121.850580        99.832590"
      ]
     },
     "metadata": {},
     "output_type": "display_data"
    },
    {
     "name": "stdout",
     "output_type": "stream",
     "text": [
      "Weights:\n",
      "LinearRegression: 0.000\n",
      "FCN: 0.455\n",
      "RandomForest: 0.000\n",
      "XGBoost: 0.115\n",
      "LightGBM: 0.109\n",
      "SVR: 0.004\n",
      "NuSVR: 0.317\n",
      " \n",
      " \n",
      "**Copy and Paste following lines into the next cell.**\n",
      "##### LinearRegression\n",
      "Best R2 = 0.8925183491953909  \n",
      "Weight = 0.000\n",
      "##### FCN\n",
      "Best L2_factor = 0.10425819337184065  \n",
      "Best dropout_factor = 0.0035655506712701512  \n",
      "Best R2 = 0.9568310894068462  \n",
      "Weight = 0.455\n",
      "##### RandomForest\n",
      "Best max_depth = 8  \n",
      "Best n_estimators = 99  \n",
      "Best R2 = 0.9339271241423087  \n",
      "Weight = 0.000\n",
      "##### XGBoost\n",
      "Best max_depth = 3  \n",
      "Best n_estimators = 90  \n",
      "Best R2 = 0.9441996765320942  \n",
      "Weight = 0.115\n",
      "##### LightGBM\n",
      "Best max_depth = 9  \n",
      "Best n_estimators = 164  \n",
      "Best R2 = 0.9060664356971319  \n",
      "Weight = 0.109\n",
      "##### SVR\n",
      "Best C = 13.515421532403904  \n",
      "Best kernel = linear  \n",
      "Best R2 = 0.8825791395735105  \n",
      "Weight = 0.004\n",
      "##### NuSVR\n",
      "Best C = 195.88226591434008  \n",
      "Best kernel = rbf  \n",
      "Best nu = 0.7047373423919561  \n",
      "Best R2 = 0.9589082462351279  \n",
      "Weight = 0.317\n",
      " \n",
      " \n"
     ]
    }
   ],
   "source": [
    "Y_feature = '尖峰負載'\n",
    "\n",
    "model_xcols = {\n",
    "    'LinearRegression': ['氣溫', '最高氣溫', '最低氣溫', '日期數字', '假日', '週六', '週日', '補班', '1~3月', '11~12月'],\n",
    "    'FCN': ['氣溫', '最高氣溫', '最低氣溫', '日期數字', '假日', '週六', '週日', '補班', '1~3月', '11~12月'],\n",
    "    'RandomForest': ['氣溫', '最高氣溫', '最低氣溫', '日期數字', '假日', '週六', '週日', '補班', '1~3月', '11~12月'],\n",
    "    'XGBoost': ['氣溫', '最高氣溫', '最低氣溫', '日期數字', '假日', '週六', '週日', '補班', '1~3月', '11~12月'],\n",
    "    'LightGBM': ['氣溫', '最高氣溫', '最低氣溫', '日期數字', '假日', '週六', '週日', '補班', '1~3月', '11~12月'],\n",
    "    'SVR': ['氣溫', '最高氣溫', '最低氣溫', '日期數字', '假日', '週六', '週日', '補班', '1~3月', '11~12月'],\n",
    "    'NuSVR': ['氣溫', '最高氣溫', '最低氣溫', '日期數字', '假日', '週六', '週日', '補班', '1~3月', '11~12月'],\n",
    "}\n",
    "\n",
    "flow_control(Y_feature, model_xcols, weather_power_df, speed_test=speed_test)"
   ]
  },
  {
   "cell_type": "markdown",
   "id": "4ff32f54-c650-42c4-b42e-accfdfad6f63",
   "metadata": {},
   "source": [
    "#### 最佳超參數與權重"
   ]
  },
  {
   "cell_type": "markdown",
   "id": "2a3e3a78-9b4d-4196-a6b6-9c795a1c2a76",
   "metadata": {},
   "source": [
    "##### LinearRegression\n",
    "Best R2 = 0.8890289107063775  \n",
    "Weight = 0.000\n",
    "##### FCN\n",
    "Best L2_factor = 0.029438708713891412  \n",
    "Best dropout_factor = 0.03116915624902694  \n",
    "Best R2 = 0.9577894981452781  \n",
    "Weight = 0.549\n",
    "##### RandomForest\n",
    "Best max_depth = 13  \n",
    "Best n_estimators = 184  \n",
    "Best R2 = 0.9323579004467799  \n",
    "Weight = 0.013\n",
    "##### XGBoost\n",
    "Best max_depth = 2  \n",
    "Best n_estimators = 104  \n",
    "Best R2 = 0.9421413919017114  \n",
    "Weight = 0.202\n",
    "##### LightGBM\n",
    "Best max_depth = 7  \n",
    "Best n_estimators = 195  \n",
    "Best R2 = 0.902646535842623  \n",
    "Weight = 0.181\n",
    "##### SVR\n",
    "Best C = 37.19208540364481  \n",
    "Best kernel = linear  \n",
    "Best R2 = 0.8797513372128146  \n",
    "Weight = 0.000\n",
    "##### NuSVR\n",
    "Best C = 34.75381072717423  \n",
    "Best kernel = rbf  \n",
    "Best nu = 0.42062297329040543  \n",
    "Best R2 = 0.8956020285392687  \n",
    "Weight = 0.055"
   ]
  },
  {
   "cell_type": "markdown",
   "id": "db3c73e0-9ee5-4ff4-b0a0-2061cee20bfa",
   "metadata": {},
   "source": [
    "### 夜尖峰"
   ]
  },
  {
   "cell_type": "markdown",
   "id": "1d290b77-d5bb-47ba-919a-a77484977ee7",
   "metadata": {},
   "source": [
    "通常台灣全天用電的峰值會發生在下午 1 到 2 點，但是在非工作日或是氣溫較低的時候，有時用電峰值會發生在傍晚 5~7 點左右  \n",
    "這種狀況之下，台電的歷史資料中太陽能的部分就會變成 0 或者很接近 0，因為取樣時太陽快要或已經下山  \n",
    "為了處理「夜尖峰」狀況對於太陽能數值預測的影響，我也嘗試預測了夜尖峰的發生與否  \n",
    "這個問題跟前面預測數值的回歸問題不同，基本上是個分類問題，所以衡量指標變成了 f1-score"
   ]
  },
  {
   "cell_type": "code",
   "execution_count": 38,
   "id": "1de62e0e-8152-433a-a3ee-4bd2fce9c28a",
   "metadata": {},
   "outputs": [
    {
     "name": "stdout",
     "output_type": "stream",
     "text": [
      "Start to tune hyperparameters\n"
     ]
    },
    {
     "name": "stderr",
     "output_type": "stream",
     "text": [
      "100%|██████████████████████████████████████████████████████████████████████████████████| 20/20 [26:27<00:00, 79.37s/it]\n"
     ]
    },
    {
     "name": "stdout",
     "output_type": "stream",
     "text": [
      "FCN\n",
      "Best L2_factor = 0.03377078593016343\n",
      "Best dropout_factor = 0.31125954161240865\n",
      "Best F1 = 0.8644128449006498\n"
     ]
    },
    {
     "name": "stderr",
     "output_type": "stream",
     "text": [
      "100%|██████████████████████████████████████████████████████████████████████████████████| 20/20 [00:15<00:00,  1.28it/s]\n"
     ]
    },
    {
     "name": "stdout",
     "output_type": "stream",
     "text": [
      "LogisticRegression\n",
      "Best C = 6.509226859076185\n",
      "Best solver = saga\n",
      "Best F1 = 0.8509791126002184\n"
     ]
    },
    {
     "name": "stderr",
     "output_type": "stream",
     "text": [
      "100%|██████████████████████████████████████████████████████████████████████████████████| 20/20 [03:30<00:00, 10.53s/it]\n"
     ]
    },
    {
     "name": "stdout",
     "output_type": "stream",
     "text": [
      "RandomForest\n",
      "Best max_depth = 14\n",
      "Best n_estimators = 200\n",
      "Best F1 = 0.7834369628549726\n"
     ]
    },
    {
     "name": "stderr",
     "output_type": "stream",
     "text": [
      "100%|██████████████████████████████████████████████████████████████████████████████████| 20/20 [01:31<00:00,  4.60s/it]\n"
     ]
    },
    {
     "name": "stdout",
     "output_type": "stream",
     "text": [
      "XGBoost\n",
      "Best max_depth = 5\n",
      "Best n_estimators = 11\n",
      "Best F1 = 0.8376364543947514\n"
     ]
    },
    {
     "name": "stderr",
     "output_type": "stream",
     "text": [
      "100%|██████████████████████████████████████████████████████████████████████████████████| 20/20 [02:07<00:00,  6.38s/it]\n"
     ]
    },
    {
     "name": "stdout",
     "output_type": "stream",
     "text": [
      "LightGBM\n",
      "Best max_depth = 10\n",
      "Best n_estimators = 44\n",
      "Best F1 = 0.7922909461600137\n"
     ]
    },
    {
     "name": "stderr",
     "output_type": "stream",
     "text": [
      "100%|██████████████████████████████████████████████████████████████████████████████████| 20/20 [00:08<00:00,  2.24it/s]\n"
     ]
    },
    {
     "name": "stdout",
     "output_type": "stream",
     "text": [
      "SVC\n",
      "Best C = 9.80782542344959\n",
      "Best kernel = rbf\n",
      "Best F1 = 0.8535587363934832\n",
      "Start to determine Ensemble weights.\n"
     ]
    },
    {
     "name": "stderr",
     "output_type": "stream",
     "text": [
      "100%|██████████████████████████████████████████████████████████████████████████████████| 50/50 [15:06<00:00, 18.13s/it]"
     ]
    },
    {
     "name": "stdout",
     "output_type": "stream",
     "text": [
      "夜尖峰\n"
     ]
    },
    {
     "name": "stderr",
     "output_type": "stream",
     "text": [
      "\n"
     ]
    },
    {
     "data": {
      "text/html": [
       "<div>\n",
       "<style scoped>\n",
       "    .dataframe tbody tr th:only-of-type {\n",
       "        vertical-align: middle;\n",
       "    }\n",
       "\n",
       "    .dataframe tbody tr th {\n",
       "        vertical-align: top;\n",
       "    }\n",
       "\n",
       "    .dataframe thead th {\n",
       "        text-align: right;\n",
       "    }\n",
       "</style>\n",
       "<table border=\"1\" class=\"dataframe\">\n",
       "  <thead>\n",
       "    <tr style=\"text-align: right;\">\n",
       "      <th></th>\n",
       "      <th>Model</th>\n",
       "      <th>Avg F1</th>\n",
       "      <th>Std F1</th>\n",
       "      <th>90th percentile</th>\n",
       "      <th>10th percentile</th>\n",
       "    </tr>\n",
       "  </thead>\n",
       "  <tbody>\n",
       "    <tr>\n",
       "      <th>0</th>\n",
       "      <td>Ensemble</td>\n",
       "      <td>0.877525</td>\n",
       "      <td>0.046048</td>\n",
       "      <td>0.936170</td>\n",
       "      <td>0.810811</td>\n",
       "    </tr>\n",
       "    <tr>\n",
       "      <th>1</th>\n",
       "      <td>Weighted_Ensemble</td>\n",
       "      <td>0.861186</td>\n",
       "      <td>0.050889</td>\n",
       "      <td>0.931034</td>\n",
       "      <td>0.789474</td>\n",
       "    </tr>\n",
       "    <tr>\n",
       "      <th>2</th>\n",
       "      <td>FCN</td>\n",
       "      <td>0.850890</td>\n",
       "      <td>0.056281</td>\n",
       "      <td>0.915254</td>\n",
       "      <td>0.784314</td>\n",
       "    </tr>\n",
       "    <tr>\n",
       "      <th>3</th>\n",
       "      <td>XGBoost</td>\n",
       "      <td>0.851554</td>\n",
       "      <td>0.054796</td>\n",
       "      <td>0.916667</td>\n",
       "      <td>0.780488</td>\n",
       "    </tr>\n",
       "    <tr>\n",
       "      <th>4</th>\n",
       "      <td>LogisticRegression</td>\n",
       "      <td>0.860657</td>\n",
       "      <td>0.057658</td>\n",
       "      <td>0.937500</td>\n",
       "      <td>0.775510</td>\n",
       "    </tr>\n",
       "    <tr>\n",
       "      <th>5</th>\n",
       "      <td>SVC</td>\n",
       "      <td>0.859601</td>\n",
       "      <td>0.056362</td>\n",
       "      <td>0.933333</td>\n",
       "      <td>0.774194</td>\n",
       "    </tr>\n",
       "    <tr>\n",
       "      <th>6</th>\n",
       "      <td>LightGBM</td>\n",
       "      <td>0.804717</td>\n",
       "      <td>0.053897</td>\n",
       "      <td>0.878049</td>\n",
       "      <td>0.733333</td>\n",
       "    </tr>\n",
       "    <tr>\n",
       "      <th>7</th>\n",
       "      <td>RandomForest</td>\n",
       "      <td>0.787811</td>\n",
       "      <td>0.067726</td>\n",
       "      <td>0.857143</td>\n",
       "      <td>0.689655</td>\n",
       "    </tr>\n",
       "  </tbody>\n",
       "</table>\n",
       "</div>"
      ],
      "text/plain": [
       "                Model    Avg F1    Std F1  90th percentile  10th percentile\n",
       "0            Ensemble  0.877525  0.046048         0.936170         0.810811\n",
       "1   Weighted_Ensemble  0.861186  0.050889         0.931034         0.789474\n",
       "2                 FCN  0.850890  0.056281         0.915254         0.784314\n",
       "3             XGBoost  0.851554  0.054796         0.916667         0.780488\n",
       "4  LogisticRegression  0.860657  0.057658         0.937500         0.775510\n",
       "5                 SVC  0.859601  0.056362         0.933333         0.774194\n",
       "6            LightGBM  0.804717  0.053897         0.878049         0.733333\n",
       "7        RandomForest  0.787811  0.067726         0.857143         0.689655"
      ]
     },
     "metadata": {},
     "output_type": "display_data"
    },
    {
     "name": "stdout",
     "output_type": "stream",
     "text": [
      "Weights:\n",
      "FCN: 0.220\n",
      "LogisticRegression: 0.267\n",
      "RandomForest: 0.146\n",
      "XGBoost: 0.186\n",
      "LightGBM: 0.043\n",
      "SVC: 0.138\n",
      " \n",
      " \n",
      "**Copy and Paste following lines into the next cell.**\n",
      "##### FCN\n",
      "Best L2_factor = 0.03377078593016343  \n",
      "Best dropout_factor = 0.31125954161240865  \n",
      "Best R2 = 0.8644128449006498  \n",
      "Weight = 0.220\n",
      "##### LogisticRegression\n",
      "Best C = 6.509226859076185  \n",
      "Best solver = saga  \n",
      "Best R2 = 0.8509791126002184  \n",
      "Weight = 0.267\n",
      "##### RandomForest\n",
      "Best max_depth = 14  \n",
      "Best n_estimators = 200  \n",
      "Best R2 = 0.7834369628549726  \n",
      "Weight = 0.146\n",
      "##### XGBoost\n",
      "Best max_depth = 5  \n",
      "Best n_estimators = 11  \n",
      "Best R2 = 0.8376364543947514  \n",
      "Weight = 0.186\n",
      "##### LightGBM\n",
      "Best max_depth = 10  \n",
      "Best n_estimators = 44  \n",
      "Best R2 = 0.7922909461600137  \n",
      "Weight = 0.043\n",
      "##### SVC\n",
      "Best C = 9.80782542344959  \n",
      "Best kernel = rbf  \n",
      "Best R2 = 0.8535587363934832  \n",
      "Weight = 0.138\n",
      " \n",
      " \n"
     ]
    }
   ],
   "source": [
    "Y_feature = '夜尖峰'\n",
    "model_xcols = {\n",
    "    'FCN': ['氣溫', '最高氣溫', '最低氣溫', '日期數字', '假日', '週六', '週日', '補班', '白日長度', '午後平均氣溫', '下午平均氣溫', '傍晚平均氣溫'],\n",
    "    'LogisticRegression': ['氣溫', '最高氣溫', '最低氣溫', '日期數字', '假日', '週六', '週日', '補班', '白日長度', '午後平均氣溫', '下午平均氣溫', '傍晚平均氣溫'],\n",
    "    'RandomForest': ['氣溫', '最高氣溫', '最低氣溫', '日期數字', '假日', '週六', '週日', '補班', '白日長度', '午後平均氣溫', '下午平均氣溫', '傍晚平均氣溫'],\n",
    "    'XGBoost': ['氣溫', '最高氣溫', '最低氣溫', '日期數字', '假日', '週六', '週日', '補班', '白日長度', '午後平均氣溫', '下午平均氣溫', '傍晚平均氣溫'],\n",
    "    'LightGBM': ['氣溫', '最高氣溫', '最低氣溫', '日期數字', '假日', '週六', '週日', '補班', '白日長度', '午後平均氣溫', '下午平均氣溫', '傍晚平均氣溫'],\n",
    "    'SVC': ['氣溫', '最高氣溫', '最低氣溫', '日期數字', '假日', '週六', '週日', '補班', '白日長度', '午後平均氣溫', '下午平均氣溫', '傍晚平均氣溫']\n",
    "}\n",
    "\n",
    "flow_control(Y_feature, model_xcols, weather_power_df, mode='classifier', speed_test=speed_test)"
   ]
  },
  {
   "cell_type": "markdown",
   "id": "da7a6d30-c864-4be6-bbf8-1d5f8e93ee56",
   "metadata": {},
   "source": [
    "#### 最佳超參數與權重"
   ]
  },
  {
   "cell_type": "markdown",
   "id": "f6a92659-f820-4930-b3a5-4d2f31bc97b5",
   "metadata": {},
   "source": [
    "##### FCN\n",
    "Best L2_factor = 0.002576271940664411  \n",
    "Best dropout_factor = 0.1252443332428825  \n",
    "Best R2 = 0.8748909576667637  \n",
    "Weight = 0.153\n",
    "##### LogisticRegression\n",
    "Best C = 0.7975026697912178  \n",
    "Best solver = sag  \n",
    "Best R2 = 0.8541996823354088  \n",
    "Weight = 0.331\n",
    "##### RandomForest\n",
    "Best max_depth = 14  \n",
    "Best n_estimators = 95  \n",
    "Best R2 = 0.8186294971282218  \n",
    "Weight = 0.208\n",
    "##### XGBoost\n",
    "Best max_depth = 15  \n",
    "Best n_estimators = 33  \n",
    "Best R2 = 0.8624582788638403  \n",
    "Weight = 0.291\n",
    "##### LightGBM\n",
    "Best max_depth = 2  \n",
    "Best n_estimators = 56  \n",
    "Best R2 = 0.8285599799076798  \n",
    "Weight = 0.000\n",
    "##### SVC\n",
    "Best C = 1.2964550960648644  \n",
    "Best kernel = rbf  \n",
    "Best R2 = 0.8649222578257927  \n",
    "Weight = 0.016"
   ]
  },
  {
   "cell_type": "code",
   "execution_count": null,
   "id": "6c7996fe-82c2-4c7e-b8a6-c2c513bd89c9",
   "metadata": {},
   "outputs": [],
   "source": []
  }
 ],
 "metadata": {
  "kernelspec": {
   "display_name": "Python 3 (ipykernel)",
   "language": "python",
   "name": "python3"
  },
  "language_info": {
   "codemirror_mode": {
    "name": "ipython",
    "version": 3
   },
   "file_extension": ".py",
   "mimetype": "text/x-python",
   "name": "python",
   "nbconvert_exporter": "python",
   "pygments_lexer": "ipython3",
   "version": "3.9.19"
  }
 },
 "nbformat": 4,
 "nbformat_minor": 5
}
