{
 "cells": [
  {
   "cell_type": "markdown",
   "id": "a624a12d-fc57-412e-bb02-ce5f13a07b37",
   "metadata": {},
   "source": [
    "# 超參數及集成學習權重最佳化"
   ]
  },
  {
   "cell_type": "markdown",
   "id": "eda10dfc-bfb4-4db9-bc8c-63f2ef29dc16",
   "metadata": {},
   "source": [
    "我們的目的是要以前一天的氣象預報來預測當天的電力資訊，但是我們手上的氣象預報歷史資料是從2024年七月開始蒐集，直接拿來預測電力資訊天數不夠，  \n",
    "所以除了 Power_predict.ipynb 裡面敘述的從氣象觀測歷史資料預測電力資料的模型之外，我們還需要建立從氣象預報資料來預測氣象觀測資料的模型。  \n",
    "\n",
    "這裡的氣象資料預測的模型建立方式跟電力資料的模型大同小異，主要的不同點是氣象資料預測可以把每天每站的數據當成一個樣本，這樣我們就可以在相對短時間之內累積足夠的樣本數。\n",
    "\n",
    "同時這個筆記本也要處理超參數的最佳化，我們使用 optuna 這個第三方套件來達成這個任務。  \n",
    "另外我們也嘗試最佳化集成學習時各模型的權重，具體方法為計算出模型之間的誤差相關矩陣，再從這個矩陣解出最佳權重組合。"
   ]
  },
  {
   "cell_type": "markdown",
   "id": "174f73c1-0bda-447d-bb61-bf37da56de8c",
   "metadata": {},
   "source": [
    "## 初始化"
   ]
  },
  {
   "cell_type": "markdown",
   "id": "d74f38ef-58b0-4829-942d-4a6f3d1425e2",
   "metadata": {},
   "source": [
    "### 匯入模組與套件"
   ]
  },
  {
   "cell_type": "code",
   "execution_count": 1,
   "id": "0b9ea70f-ab7e-4cd0-b081-ba8a6f48e687",
   "metadata": {},
   "outputs": [],
   "source": [
    "import numpy as np\n",
    "import pandas as pd\n",
    "import matplotlib.pyplot as plt\n",
    "import matplotlib\n",
    "#這兩行讓 matplotlib 的圖可以顯示中文，同時正常顯示負號\n",
    "matplotlib.rc('font', family='Microsoft JhengHei')\n",
    "plt.rcParams['axes.unicode_minus'] = False\n",
    "import datetime\n",
    "from copy import deepcopy\n",
    "import os\n",
    "import joblib\n",
    "import json\n",
    "from tqdm import tqdm\n",
    "import optuna\n",
    "\n",
    "# 設置Optuna日誌級別為 WARNING，僅顯示警告及以上級別的信息\n",
    "optuna.logging.set_verbosity(optuna.logging.WARNING)\n",
    "\n",
    "pd.set_option('future.no_silent_downcasting', True)"
   ]
  },
  {
   "cell_type": "code",
   "execution_count": 2,
   "id": "1f916ac5-edb8-43ad-8247-bd9e0d2e8498",
   "metadata": {},
   "outputs": [],
   "source": [
    "from xgboost import XGBRegressor\n",
    "from lightgbm import LGBMRegressor\n",
    "from sklearn.ensemble import RandomForestRegressor\n",
    "from sklearn.model_selection import KFold\n",
    "from sklearn.svm import SVR, NuSVR"
   ]
  },
  {
   "cell_type": "code",
   "execution_count": 3,
   "id": "333a424d-c059-4656-975c-935ab472988f",
   "metadata": {},
   "outputs": [],
   "source": [
    "from sklearn.svm import SVC, NuSVC\n",
    "from sklearn.ensemble import RandomForestClassifier\n",
    "from sklearn.linear_model import LogisticRegression, LinearRegression\n",
    "from xgboost import XGBClassifier\n",
    "from lightgbm import LGBMClassifier"
   ]
  },
  {
   "cell_type": "code",
   "execution_count": 4,
   "id": "6b01ea02-033a-4c09-99cc-44a3bdbb09ad",
   "metadata": {},
   "outputs": [],
   "source": [
    "from sklearn.model_selection import train_test_split\n",
    "from sklearn.preprocessing import StandardScaler\n",
    "from scipy.optimize import minimize\n",
    "from sklearn.metrics import f1_score"
   ]
  },
  {
   "cell_type": "code",
   "execution_count": 5,
   "id": "0e814235-4019-4c60-ab84-21971b70a730",
   "metadata": {},
   "outputs": [],
   "source": [
    "import warnings\n",
    "from sklearn.exceptions import ConvergenceWarning\n",
    "warnings.filterwarnings(\"ignore\", category=ConvergenceWarning)"
   ]
  },
  {
   "cell_type": "code",
   "execution_count": 6,
   "id": "32663eb4-901f-47ff-b101-bca7e25cd075",
   "metadata": {},
   "outputs": [],
   "source": [
    "import torch\n",
    "import torch.nn as nn\n",
    "from torch.utils.data import DataLoader, TensorDataset\n",
    "import torch.optim as optim"
   ]
  },
  {
   "cell_type": "code",
   "execution_count": 7,
   "id": "afebb39d-8843-4475-81b0-9df51a37c3d2",
   "metadata": {},
   "outputs": [],
   "source": [
    "from Pytorch_models.metrics import Array_Metrics\n",
    "from Pytorch_models import models as pytorch_models\n",
    "from Pytorch_models import api\n",
    "MAE = Array_Metrics.mae\n",
    "R2_score = Array_Metrics.r2"
   ]
  },
  {
   "cell_type": "code",
   "execution_count": 8,
   "id": "51aed92e-4413-4ef2-a950-0871452e76b1",
   "metadata": {},
   "outputs": [],
   "source": [
    "from utils.prepare_data import prepare_forecast_observation_df, prepare_data"
   ]
  },
  {
   "cell_type": "code",
   "execution_count": 9,
   "id": "5a896f47-caea-47af-96bd-54ba71a142eb",
   "metadata": {},
   "outputs": [],
   "source": [
    "def FCN_model(input_f, output_f, feature_counts, dropout_factor=0, L2_factor=1e-15, mode='regressor'):\n",
    "    if mode == 'regressor':\n",
    "        model = pytorch_models.SimpleNN(input_f, output_f, feature_counts, dropout_factor)\n",
    "    elif mode == 'classifier':\n",
    "        model = pytorch_models.SimpleNN_classifer(input_f, output_f, feature_counts, dropout_factor)\n",
    "    Model_API = api.Model_API(model, L2_factor=L2_factor, classifer=(mode=='classifier'))\n",
    "    return Model_API"
   ]
  },
  {
   "cell_type": "markdown",
   "id": "73c002c0-eaa4-4b0c-90df-d60039a7705c",
   "metadata": {},
   "source": [
    "### 初始參數"
   ]
  },
  {
   "cell_type": "code",
   "execution_count": 10,
   "id": "41bf8ba4-bf38-4beb-af7b-29e00e121f87",
   "metadata": {},
   "outputs": [],
   "source": [
    "speed_test = False\n",
    "\n",
    "# 資料的開始與結束日期\n",
    "start_date = '2023-08-01'\n",
    "end_date = '2025-01-01'\n",
    "\n",
    "# 此值為 False 則重新計算，True 則從存檔中讀取\n",
    "optuna_done = {\n",
    "    '日照率': False,\n",
    "    '最高氣溫': False,\n",
    "    '最低氣溫': False,\n",
    "    '氣溫': False,\n",
    "    '風速': False,\n",
    "    '風力': False,\n",
    "    '太陽能': False,\n",
    "    '尖峰負載': False,\n",
    "    '夜尖峰': False,\n",
    "}\n",
    "\n",
    "weights_determined = {\n",
    "    '日照率': False,\n",
    "    '最高氣溫': False,\n",
    "    '最低氣溫': False,\n",
    "    '氣溫': False,\n",
    "    '風速': False,\n",
    "    '風力': False,\n",
    "    '太陽能': False,\n",
    "    '尖峰負載': False,\n",
    "    '夜尖峰': False,\n",
    "}"
   ]
  },
  {
   "cell_type": "code",
   "execution_count": 11,
   "id": "993a9059-99c9-4e83-86e9-44cbbeb60e3d",
   "metadata": {},
   "outputs": [],
   "source": [
    "# 定義每個 model_label 對應的 model\n",
    "model_class_dict = {}\n",
    "model_class_dict['regressor'] = {\n",
    "    'LinearRegression': LinearRegression,\n",
    "    'RandomForest': RandomForestRegressor,\n",
    "    'XGBoost': XGBRegressor,\n",
    "    'LightGBM': LGBMRegressor,\n",
    "    'SVR': SVR,\n",
    "    'NuSVR': NuSVR,\n",
    "    'FCN': FCN_model,\n",
    "}\n",
    "model_class_dict['classifier'] = {\n",
    "    'RandomForest': RandomForestClassifier,\n",
    "    'XGBoost': XGBClassifier,\n",
    "    'LightGBM': LGBMClassifier,\n",
    "    'SVC': SVC,\n",
    "    'NuSVC': NuSVC,\n",
    "    'LogisticRegression': LogisticRegression,\n",
    "    'FCN': FCN_model,\n",
    "}"
   ]
  },
  {
   "cell_type": "markdown",
   "id": "2797ea2b-b4a7-4c71-9d16-217948e2438e",
   "metadata": {},
   "source": [
    "### 讀取資料"
   ]
  },
  {
   "cell_type": "markdown",
   "id": "206aa955-32d7-4af6-8dbc-080f61f5db60",
   "metadata": {},
   "source": [
    "讀取先前經由爬蟲定時抓取的預報與觀測資料"
   ]
  },
  {
   "cell_type": "code",
   "execution_count": 12,
   "id": "cc102d6b-6564-4f55-a7fd-44e834544049",
   "metadata": {},
   "outputs": [],
   "source": [
    "data_path = './historical/data/'\n",
    "train_model_path = './trained_model_parameters/model_meta_2024-09-03/'"
   ]
  },
  {
   "cell_type": "code",
   "execution_count": 13,
   "id": "0dcf13bc-fc77-43f7-ba00-e5fa42671e2e",
   "metadata": {},
   "outputs": [],
   "source": [
    "forecast_obs_df = prepare_forecast_observation_df(data_path, start_date=start_date, end_date=end_date)\n",
    "weather_power_df = prepare_data(data_path, start_date=start_date, end_date=end_date)"
   ]
  },
  {
   "cell_type": "markdown",
   "id": "72dbd112-db6b-4c14-adfc-01f475e07d32",
   "metadata": {},
   "source": [
    "## 函數"
   ]
  },
  {
   "cell_type": "markdown",
   "id": "43c5c9b0-3ddf-4765-9f2a-b671a4dcb68a",
   "metadata": {},
   "source": [
    "### 超參數最佳化"
   ]
  },
  {
   "cell_type": "markdown",
   "id": "d4695195-9096-4225-85ff-04accabddd05",
   "metadata": {},
   "source": [
    "這部分的函數有：  \n",
    "1. get_XY: 從 DataFrame 中提取需要的 X 與 Y 兩個 numpy array。\n",
    "2. five_fold_test: 執行一次 5-fold 測試，會呼叫 get_XY_from_forecast_and_observation。\n",
    "3. assign_model: 根據 model_label 與超參數字典建立一個模型。\n",
    "3. hyperparameter_tuning: 針對特定的模型與超參數組合，呼叫 five_fold_test 執行多次 5-fold 測試，並回傳 R2 值。\n",
    "4. optuna_operation: 利用第三方套件 optuna 執行超參數調整，會呼叫 hyperparameter_tuning。\n",
    "\n",
    "流程控制函數 flow_control 會呼叫 optuna_operation，而主程式只會直接呼叫 flow_control。"
   ]
  },
  {
   "cell_type": "code",
   "execution_count": 14,
   "id": "95014553-4c93-4dd2-bace-5898c46cab84",
   "metadata": {},
   "outputs": [],
   "source": [
    "def get_XY(data_df, Y_feature, X_features=None):\n",
    "    date_related_cols = ['日期數字', '假日', '週六', '週日', '補班', '1~3月', '11~12月', '白日長度']\n",
    "    \n",
    "    if Y_feature in ['最高氣溫', '最低氣溫', '氣溫', '風速', '日照率', '全天空日射量']:\n",
    "        target = 'obs'\n",
    "    elif Y_feature in ['風力', '太陽能', '尖峰負載', '夜尖峰']:\n",
    "        target = 'pwd'\n",
    "\n",
    "    X_cols = []\n",
    "    if X_features is None:\n",
    "        for this_col in data_df.columns:\n",
    "            if '_' in this_col:\n",
    "                X_cols.append(this_col)\n",
    "        if target == 'pwd':\n",
    "            X_cols += date_related_cols\n",
    "    else:\n",
    "        for col in data_df.columns:\n",
    "            if target == 'obs':\n",
    "                dash_splited = col.split('預報_')\n",
    "            elif target == 'pwd':\n",
    "                dash_splited = col.split('_')\n",
    "            if len(dash_splited) >= 2:\n",
    "                if dash_splited[0] in X_features:\n",
    "                    X_cols.append(col)\n",
    "            else:\n",
    "                if col in date_related_cols and col in X_features:\n",
    "                    X_cols.append(col)\n",
    "\n",
    "    Xs = np.array(data_df[X_cols])\n",
    "    Ys = np.array(data_df[Y_feature])\n",
    "\n",
    "    Xs = Xs[np.invert(np.isnan(Ys)),:]\n",
    "    Ys = Ys[np.invert(np.isnan(Ys))]\n",
    "\n",
    "    return Xs, Ys, X_cols"
   ]
  },
  {
   "cell_type": "code",
   "execution_count": 15,
   "id": "f496d22a-ed77-443f-b526-b1188dda6111",
   "metadata": {},
   "outputs": [],
   "source": [
    "def five_fold_test(Xs, Ys, model=XGBRegressor(), mode='regressor',\n",
    "                   deep_learning=False, fold_n=5, standard_scale=True, always_test_last_chunk=False):\n",
    "    \n",
    "    def metric(Y_test, Y_pred, mode=mode):\n",
    "        if mode == 'regressor':\n",
    "            return 1 - np.mean((Y_test - Y_pred)**2) / np.var(Y_test)\n",
    "        elif mode == 'classifier':\n",
    "            return f1_score(Y_test, Y_pred)\n",
    "\n",
    "    shuffle = not always_test_last_chunk\n",
    "    kf = KFold(n_splits=fold_n, shuffle=shuffle)\n",
    "    \n",
    "    XY_folds = {}\n",
    "    for i, (train_index, test_index) in enumerate(kf.split(Xs)):\n",
    "        XY_folds[i] = (train_index, test_index)\n",
    "    \n",
    "    metric_test_list, metric_train_list = [], []\n",
    "\n",
    "    if always_test_last_chunk:\n",
    "        iters = [fold_n-1]\n",
    "    else:\n",
    "        iters = range(fold_n)\n",
    "    \n",
    "    for i in iters:\n",
    "        if deep_learning:\n",
    "            input_f = model.model.params['input_f']\n",
    "            output_f = model.model.params['output_f']\n",
    "            feature_counts = model.model.params['feature_counts']\n",
    "            dropout_factor = model.model.params['dropout_factor']\n",
    "            L2_factor = model.L2_factor\n",
    "            model = FCN_model(input_f=input_f, output_f=output_f, feature_counts=feature_counts,\n",
    "                              dropout_factor=dropout_factor, L2_factor=L2_factor,mode=mode)\n",
    "            \n",
    "        X_train = Xs[XY_folds[i][0]]\n",
    "        X_test = Xs[XY_folds[i][1]]\n",
    "        Y_train = Ys[XY_folds[i][0]]\n",
    "        Y_test = Ys[XY_folds[i][1]]\n",
    "\n",
    "        if deep_learning:\n",
    "            X_train_DL, X_val, Y_train_DL, Y_val = train_test_split(X_train, Y_train, test_size=0.20)\n",
    "    \n",
    "        if standard_scale:\n",
    "            scaler = StandardScaler()\n",
    "            scaler.fit(X_train)\n",
    "            X_train = scaler.transform(X_train)\n",
    "            X_test = scaler.transform(X_test)\n",
    "            if deep_learning:\n",
    "                X_val = scaler.transform(X_val)\n",
    "            \n",
    "        if deep_learning:\n",
    "            _ = model.fit(X_train_DL, Y_train_DL, X_val, Y_val)\n",
    "        else:\n",
    "            _ = model.fit(X_train, Y_train)\n",
    "    \n",
    "        Y_pred = model.predict(X_test)\n",
    "        metric_test_list.append(metric(Y_test, Y_pred))\n",
    "\n",
    "        Y_pred = model.predict(X_train)\n",
    "        metric_train_list.append(metric(Y_train, Y_pred))\n",
    "\n",
    "    metric_test = np.mean(metric_test_list)\n",
    "    metric_train = np.mean(metric_train_list)\n",
    "    return metric_test, metric_train"
   ]
  },
  {
   "cell_type": "code",
   "execution_count": 16,
   "id": "1f15b8fb-52a9-4ea1-82f0-b84a37a656a4",
   "metadata": {},
   "outputs": [],
   "source": [
    "def assign_model(model_label, Xs, cfg, mode):\n",
    "    \n",
    "    if model_label == 'LightGBM':\n",
    "        model = model_class_dict[mode][model_label](force_col_wise=True, verbose=-1, **cfg)\n",
    "    elif model_label == 'FCN':\n",
    "        model = model_class_dict[mode][model_label](input_f=Xs.shape[1], output_f=1, feature_counts=[16, 16, 16, 8], mode=mode, **cfg)\n",
    "    else:\n",
    "        model = model_class_dict[mode][model_label](**cfg)\n",
    "\n",
    "    return model"
   ]
  },
  {
   "cell_type": "code",
   "execution_count": 17,
   "id": "a31496ed-0c2f-4c82-96ef-833f16e4a771",
   "metadata": {},
   "outputs": [],
   "source": [
    "def hyperparameter_tuning(trial, Xs, Ys, mode='regressor',\n",
    "                          model_label='RandomForest', n_iters=50, always_test_last_chunk=False):\n",
    "\n",
    "    deep_learning = model_label in ['FCN']\n",
    "    standard_scale = not deep_learning\n",
    "\n",
    "    if model_label in ['RandomForest', 'XGBoost', 'LightGBM']:\n",
    "        cfg = {'max_depth': trial.suggest_int('max_depth', 2, 15),\n",
    "               'n_estimators': trial.suggest_int('n_estimators', 10, 200)}     \n",
    "    elif model_label in ['SVR', 'SVC']:\n",
    "        cfg = {'C': trial.suggest_float('C', 1e-3, 2e2, log=True),\n",
    "               'kernel': trial.suggest_categorical('kernel', ['linear', 'poly', 'rbf', 'sigmoid'])}\n",
    "    elif model_label in ['NuSVR', 'NuSVC']:\n",
    "        cfg = {'C': trial.suggest_float('C', 1e-3, 2e2, log=True),\n",
    "               'kernel': trial.suggest_categorical('kernel', ['linear', 'poly', 'rbf', 'sigmoid']),\n",
    "               'nu': trial.suggest_float('nu', 0.1, 0.9)}\n",
    "    elif model_label == 'FCN':\n",
    "        cfg = {'L2_factor': trial.suggest_float('L2_factor', 1e-3, 1, log=True),\n",
    "               'dropout_factor': trial.suggest_float('dropout_factor', 0, 0.5)}\n",
    "    elif model_label == 'LogisticRegression':\n",
    "        cfg = {'C': trial.suggest_float('C', 1e-3, 2e2, log=True),\n",
    "               'solver': trial.suggest_categorical('solver', ['lbfgs', 'liblinear', 'newton-cg', 'newton-cholesky', 'sag', 'saga'])}\n",
    "    elif model_label == 'LinearRegression':\n",
    "        cfg = {}\n",
    "\n",
    "    model = assign_model(model_label, Xs, cfg, mode)\n",
    "   \n",
    "    metric_list = []\n",
    "    iterator = range(n_iters)\n",
    "    for i in iterator:\n",
    "        metric, _ = five_fold_test(Xs, Ys, model, mode=mode, \n",
    "                                   deep_learning=deep_learning, standard_scale=standard_scale, always_test_last_chunk=always_test_last_chunk)\n",
    "        metric_list.append(metric)\n",
    "\n",
    "    return np.mean(metric_list) - np.std(metric_list)"
   ]
  },
  {
   "cell_type": "code",
   "execution_count": 18,
   "id": "5603dc94-8aad-4a25-8c15-c16d35a08549",
   "metadata": {},
   "outputs": [],
   "source": [
    "def optuna_operation(model_xcols, Y_feature, data_df, mode='regressor', speed_test=False,\n",
    "                     optuna_n_trials=30, n_iters=30, always_test_last_chunk=False):\n",
    "\n",
    "    if mode == 'regressor':\n",
    "        metric_name = 'R2'\n",
    "    elif mode == 'classifier':\n",
    "        metric_name = 'F1'\n",
    "        \n",
    "    model_hyperparameters_dict = {}\n",
    "    model_r2_dict = {}\n",
    "    \n",
    "    if always_test_last_chunk:\n",
    "        n_iters = 1\n",
    "\n",
    "    model_labels = list(model_xcols.keys())\n",
    "    \n",
    "    for model_label in model_labels:\n",
    "        X_features = model_xcols[model_label]\n",
    "        Xs, Ys, _ = get_XY(data_df, Y_feature, X_features)\n",
    "\n",
    "        this_n_iters = n_iters\n",
    "        this_optuna_n_trials = optuna_n_trials\n",
    "\n",
    "        if model_label == 'FCN':\n",
    "            this_n_iters = min(this_n_iters, 1)\n",
    "            if speed_test:\n",
    "                this_optuna_n_trials = 4\n",
    "\n",
    "        if model_label == 'LinearRegression':\n",
    "            this_optuna_n_trials = 1\n",
    "            this_n_iters = 10\n",
    "            \n",
    "        def target_func(trial, model_label=model_label, Xs=Xs, Ys=Ys, mode=mode,\n",
    "                        n_iters=this_n_iters, always_test_last_chunk=always_test_last_chunk):\n",
    "            return hyperparameter_tuning(trial, model_label=model_label, Xs=Xs, Ys=Ys, mode=mode,\n",
    "                                         n_iters=n_iters, always_test_last_chunk=always_test_last_chunk)\n",
    "        \n",
    "        sampler = optuna.samplers.TPESampler()\n",
    "        study = optuna.create_study(sampler=sampler, direction='maximize')\n",
    "        with tqdm(total=this_optuna_n_trials) as pbar:\n",
    "            for _ in range(this_optuna_n_trials):\n",
    "                study.optimize(target_func, n_trials=1, catch=(Exception,))\n",
    "                pbar.update(1)\n",
    "        \n",
    "        print(model_label)\n",
    "        for key, v in study.best_params.items():\n",
    "            print(f\"Best {key} = {v}\")\n",
    "        print(f\"Best {metric_name} = {study.best_value}\")\n",
    "    \n",
    "        model_hyperparameters_dict[model_label] = study.best_params\n",
    "        model_r2_dict[model_label] = study.best_value\n",
    "\n",
    "    return model_hyperparameters_dict, model_r2_dict"
   ]
  },
  {
   "cell_type": "markdown",
   "id": "08fc6511-40ea-4ff7-b520-b95fe18bfe1e",
   "metadata": {},
   "source": [
    "### Ensemble"
   ]
  },
  {
   "cell_type": "markdown",
   "id": "6c58e03b-5c09-4200-a0b8-8fb779217419",
   "metadata": {},
   "source": [
    "這部分的函數有：\n",
    "1. cross_correlation_matrix: 由不同模型的預測誤差產生相關矩陣。\n",
    "2. sovle_optimal_weights: 由誤差相關矩陣解出最佳權重。\n",
    "3. find_avg_score_with_given_model_list: 算出 N 組模型預測誤差樣本，再從中解出最佳權重，並提供不同模型的平均誤差。\n",
    "4. save_model_metadata: 儲存這份筆記本得到的每個被預測值所採用的模型組合，以及每個模型採用的特徵、超參數與權重。\n",
    "\n",
    "流程控制函數中會呼叫 find_avg_score_with_given_model_list 與 save_model_metadata"
   ]
  },
  {
   "cell_type": "code",
   "execution_count": 19,
   "id": "21fd8684-bd83-48df-87e3-dfdd01aa4f50",
   "metadata": {},
   "outputs": [],
   "source": [
    "def cross_correlation_matrix(residuals):\n",
    "    N = len(residuals)\n",
    "    matrix = np.zeros((N, N))\n",
    "    for i in range(N):\n",
    "        for j in range(i, N):\n",
    "            matrix[i][j] = np.mean(np.array(residuals[i]) * np.array(residuals[j]))\n",
    "\n",
    "    for i in range(1, N):\n",
    "        for j in range(i):\n",
    "            matrix[i][j] = matrix[j][i]\n",
    "\n",
    "    return matrix"
   ]
  },
  {
   "cell_type": "code",
   "execution_count": 20,
   "id": "36002714-ae2f-4097-902e-a94df23c90ca",
   "metadata": {},
   "outputs": [],
   "source": [
    "def sovle_optimal_weights(matrix):\n",
    "    N = matrix.shape[0]\n",
    "    def objective(weights):\n",
    "        return weights.T @ matrix @ weights\n",
    "\n",
    "    initial_weights = np.array([1/N] * N)\n",
    "    constraints = ({'type': 'eq', 'fun': lambda w: np.sum(w) - 1})\n",
    "    bounds = [(0, 1)] * N\n",
    "    result = minimize(objective, initial_weights, method='SLSQP', bounds=bounds, constraints=constraints)\n",
    "    \n",
    "    optimal_weights = result.x\n",
    "    return optimal_weights"
   ]
  },
  {
   "cell_type": "code",
   "execution_count": 21,
   "id": "8053d288-2f40-4ec9-b87a-bd6eeac07848",
   "metadata": {},
   "outputs": [],
   "source": [
    "def predict(model_label, Y_train, train_ind, test_ind, mode,\n",
    "            model_hyperparameters_dict, model_xcols, data_df, Y_feature):\n",
    "    \n",
    "    X_features = model_xcols[model_label]\n",
    "    Xs, _, _ = get_XY(data_df, Y_feature=Y_feature, X_features=X_features)\n",
    "\n",
    "    model = assign_model(model_label, Xs, cfg=model_hyperparameters_dict[model_label], mode=mode)\n",
    "\n",
    "    deep_learning = False\n",
    "    if model_label == 'FCN':\n",
    "        deep_learning = True\n",
    "\n",
    "    X_train = Xs[train_ind]\n",
    "    X_test = Xs[test_ind]\n",
    "    \n",
    "    if deep_learning:\n",
    "        X_train_dl, X_val, Y_train_dl, Y_val = train_test_split(X_train, Y_train, test_size=0.20)\n",
    "        _ = model.fit(X_train_dl, Y_train_dl, X_val, Y_val)\n",
    "    else:\n",
    "        scaler = StandardScaler()\n",
    "        X_scaler = scaler.fit(X_train)\n",
    "        X_train = X_scaler.transform(X_train)\n",
    "        X_test = X_scaler.transform(X_test)\n",
    "        _ = model.fit(X_train, Y_train)\n",
    "    YP = model.predict(X_test)\n",
    "    return YP "
   ]
  },
  {
   "cell_type": "code",
   "execution_count": 22,
   "id": "852125ce-adf4-4560-8c77-74384dfce176",
   "metadata": {},
   "outputs": [],
   "source": [
    "def get_residual_corr_matrix(model_hyperparameters_dict, ensemble_models, model_xcols,\n",
    "                             data_df, Ys, Y_feature, mode,\n",
    "                             n_iters, n_samples):\n",
    "    \n",
    "    def get_prediction_func(model_hyperparameters_dict=model_hyperparameters_dict,\n",
    "                            model_xcols=model_xcols,\n",
    "                            data_df=data_df,\n",
    "                            Y_feature=Y_feature,\n",
    "                            mode=mode):\n",
    "        def func(model_label, Y_train, train_ind, test_ind):\n",
    "            return predict(model_label, Y_train, train_ind, test_ind, mode,\n",
    "                           model_hyperparameters_dict, model_xcols, data_df, Y_feature)\n",
    "        return func\n",
    "        \n",
    "    get_prediction = get_prediction_func()\n",
    "    \n",
    "    Y_pred_iters, Y_test_iters, model_metric = [], [], []\n",
    "    matrix = np.zeros((len(ensemble_models), len(ensemble_models)))\n",
    "    for i in tqdm(range(n_iters)):\n",
    "        train_ind, test_ind, _, _ = train_test_split(np.arange(n_samples), np.arange(n_samples), test_size=0.2)\n",
    "        \n",
    "        Y_train = Ys[train_ind]\n",
    "        Y_test = Ys[test_ind]\n",
    "        \n",
    "        Y_preds, this_metric = [], []\n",
    "        for model_label in ensemble_models:\n",
    "            YP = get_prediction(model_label, Y_train, train_ind, test_ind)\n",
    "            if mode == 'regressor':\n",
    "                this_metric.append(MAE(Y_test, YP))\n",
    "            elif mode == 'classifier':\n",
    "                YP[np.where(YP<0.5)] = 0\n",
    "                YP[np.where(YP>=0.5)] = 1\n",
    "                this_metric.append(f1_score(Y_test, YP))\n",
    "            Y_preds.append(YP)\n",
    "            \n",
    "        residuals = Y_preds - np.array([Y_test] * len(Y_preds)).reshape(len(Y_preds),-1)\n",
    "        matrix += cross_correlation_matrix(residuals)\n",
    "\n",
    "        model_metric.append(this_metric)\n",
    "        Y_pred_iters.append(Y_preds)\n",
    "        Y_test_iters.append(Y_test)\n",
    "    matrix = matrix / n_iters\n",
    "    return matrix, model_metric, Y_pred_iters, Y_test_iters"
   ]
  },
  {
   "cell_type": "code",
   "execution_count": 23,
   "id": "5a9c73a9-711c-4f4c-889f-8c7e07608555",
   "metadata": {},
   "outputs": [],
   "source": [
    "def get_weighted_ensemble_metric(Y_pred_iters, Y_test_iters, weights, mode):\n",
    "    n_iters = len(Y_pred_iters)\n",
    "    weighted_metric = []\n",
    "    for i in range(n_iters):\n",
    "        weighted_YP = np.sum(Y_pred_iters[i] * np.concatenate([weights.reshape(-1,1),] * Y_test_iters[0].shape[0], axis = 1), axis=0)\n",
    "        if mode == 'regressor':\n",
    "            weighted_metric.append(MAE(Y_test_iters[i], weighted_YP))\n",
    "        elif mode == 'classifier':\n",
    "            weighted_YP[np.where(weighted_YP<0.5)] = 0\n",
    "            weighted_YP[np.where(weighted_YP>=0.5)] = 1\n",
    "            weighted_metric.append(f1_score(Y_test_iters[i], weighted_YP))\n",
    "    weighted_metric = np.array(weighted_metric).reshape(-1, 1)\n",
    "    return weighted_metric"
   ]
  },
  {
   "cell_type": "code",
   "execution_count": 24,
   "id": "be8752c8-22af-48de-b9d4-5fe481285d10",
   "metadata": {
    "editable": true,
    "slideshow": {
     "slide_type": ""
    },
    "tags": []
   },
   "outputs": [],
   "source": [
    "def find_optimal_weights(model_hyperparameters_dict, model_xcols, \n",
    "                         data_df, Y_feature, mode='regressor', \n",
    "                         n_iters=200, weights=None):\n",
    "\n",
    "    if mode == 'regressor':\n",
    "        metric_name = 'MAE'\n",
    "    elif mode == 'classifier':\n",
    "        metric_name = 'F1'       \n",
    "    \n",
    "    if weights is None:\n",
    "        ensemble_models = list(model_hyperparameters_dict.keys())\n",
    "    else:\n",
    "        ensemble_models = list(weights.keys())\n",
    "\n",
    "    n_models = len(ensemble_models)\n",
    "\n",
    "    X_features = model_xcols[ensemble_models[0]]\n",
    "    Xs, Ys, _ = get_XY(data_df, Y_feature=Y_feature, X_features=X_features)\n",
    "    n_samples = Xs.shape[0]\n",
    "\n",
    "    matrix, model_metric, Y_pred_iters, Y_test_iters = get_residual_corr_matrix(model_hyperparameters_dict=model_hyperparameters_dict,\n",
    "                                                                                model_xcols=model_xcols, ensemble_models=ensemble_models,\n",
    "                                                                                data_df=data_df, Ys=Ys, Y_feature=Y_feature, mode=mode,\n",
    "                                                                                n_iters=n_iters, n_samples=n_samples)\n",
    "    \n",
    "    if weights is None:\n",
    "        optimal_weights = sovle_optimal_weights(matrix)\n",
    "    else:\n",
    "        optimal_weights = weights\n",
    "\n",
    "    uniform_weights = np.array([1/n_models] * n_models)\n",
    "    uniform_metric = get_weighted_ensemble_metric(Y_pred_iters, Y_test_iters, uniform_weights, mode)\n",
    "    optimal_metric = get_weighted_ensemble_metric(Y_pred_iters, Y_test_iters, optimal_weights, mode)\n",
    "\n",
    "    array_metric = np.concatenate([model_metric, uniform_metric, optimal_metric], axis=1)\n",
    "    \n",
    "    metric_dict = {\n",
    "        'Model': ensemble_models + ['Ensemble', 'Weighted_Ensemble'],\n",
    "        f'Avg {metric_name}': list(np.mean(array_metric, axis=0)), \n",
    "        f'Std {metric_name}': list(np.std(array_metric, axis=0)),\n",
    "        '90th percentile': list(np.sort(array_metric, axis=0)[int(array_metric.shape[0] * 0.9) - 1]),\n",
    "        '10th percentile': list(np.sort(array_metric, axis=0)[int(array_metric.shape[0] * 0.1) - 1])\n",
    "        }\n",
    "    \n",
    "    df = pd.DataFrame(metric_dict)\n",
    "    if mode == 'regressor':\n",
    "        df = df.sort_values('90th percentile').reset_index(drop=True)\n",
    "    elif mode == 'classifier':\n",
    "        df = df.sort_values('10th percentile', ascending=False).reset_index(drop=True)\n",
    "\n",
    "    if weights is not None:\n",
    "        return df\n",
    "        \n",
    "    optimal_weights_dict = {ensemble_models[i]: w for i, w in enumerate(optimal_weights)}\n",
    "        \n",
    "    return df, optimal_weights_dict"
   ]
  },
  {
   "cell_type": "code",
   "execution_count": 25,
   "id": "e3e22f58-f327-4c83-94de-cd89045a4b45",
   "metadata": {},
   "outputs": [],
   "source": [
    "def save_model_metadata(file_path, model_xcols, model_hyperparameters_dict, optimal_weights):\n",
    "    model_labels = list(model_hyperparameters_dict)\n",
    "    output_dict = {\n",
    "        'X_feature_dict':{},\n",
    "        'hyperparameters_dict':{},\n",
    "        'weights':{}\n",
    "    }\n",
    "    for model_label in model_labels:\n",
    "        if optimal_weights[model_label] > 0.0005:\n",
    "            output_dict['X_feature_dict'][model_label] = model_xcols[model_label]\n",
    "            output_dict['hyperparameters_dict'][model_label] = model_hyperparameters_dict[model_label]\n",
    "            output_dict['weights'][model_label] = optimal_weights[model_label]\n",
    "\n",
    "    with open(file_path, 'w') as f:\n",
    "        json.dump(output_dict, f)"
   ]
  },
  {
   "cell_type": "markdown",
   "id": "3ecae0a5-e869-445f-898b-0d53a816cb05",
   "metadata": {},
   "source": [
    "### 流程控制"
   ]
  },
  {
   "cell_type": "markdown",
   "id": "04155fd3-5db7-4a49-b0d9-a223f55735a2",
   "metadata": {},
   "source": [
    "主要被主程式呼叫的函數  \n",
    "負責管理超參數及權重的計算與存取"
   ]
  },
  {
   "cell_type": "code",
   "execution_count": 26,
   "id": "c716316d-0a5a-4f95-bd91-a47d77d7ba24",
   "metadata": {},
   "outputs": [],
   "source": [
    "def flow_control(Y_feature, model_xcols, data_df, mode='regressor', speed_test=False,\n",
    "                 train_model_path=train_model_path, optuna_done=optuna_done, weights_determined=weights_determined):\n",
    "\n",
    "    n_iter_dict = {\n",
    "        'hyper_parameter': 15,\n",
    "        'ensemble_weight': 200\n",
    "    }\n",
    "    if speed_test:\n",
    "        n_iter_dict = {\n",
    "            'hyper_parameter': 1,\n",
    "            'ensemble_weight': 20\n",
    "        }\n",
    "    \n",
    "    this_model_path = f'{train_model_path}{Y_feature}/'\n",
    "    os.makedirs(this_model_path, exist_ok=True)\n",
    "\n",
    "    # 如果指定的 meta 檔存在，並且初始參數規定不須重新計算，則套用存檔數值。\n",
    "    if os.path.exists(f'{train_model_path}{Y_feature}/meta.json'):\n",
    "        with open(f'{train_model_path}{Y_feature}/meta.json', 'r') as f:\n",
    "            meta = json.load(f)\n",
    "    else:\n",
    "        optuna_done[Y_feature] = False\n",
    "        weights_determined[Y_feature] = False\n",
    "\n",
    "    # 超參數\n",
    "    print('Start to tune hyperparameters')\n",
    "    if optuna_done[Y_feature]:\n",
    "        model_xcols = meta['X_feature_dict']\n",
    "        model_hyperparameters_dict = meta['hyperparameters_dict']\n",
    "    else: \n",
    "        model_hyperparameters_dict, model_r2_dict = optuna_operation(model_xcols, Y_feature, data_df, mode=mode,\n",
    "                                                                     n_iters=n_iter_dict['hyper_parameter'], speed_test=speed_test)\n",
    "    \n",
    "    # 集成權重\n",
    "    print('Start to determine Ensemble weights.')\n",
    "    if weights_determined[Y_feature]:\n",
    "        optimal_weights = meta['weights']\n",
    "        df = pd.read_csv(f'{this_model_path}predict_MAE.df')\n",
    "        display(df)\n",
    "        print('Weights:')\n",
    "        for i, k in enumerate(model_hyperparameters_dict.keys()):\n",
    "            print(f'{k}: {optimal_weights[k]:.3f}')\n",
    "    else:\n",
    "        if 'FCN' in model_hyperparameters_dict.keys():\n",
    "            n_iters = int(n_iter_dict['ensemble_weight']/4)\n",
    "        else:\n",
    "            n_iters = n_iter_dict['ensemble_weight']\n",
    "        df, optimal_weights = find_optimal_weights(model_hyperparameters_dict, model_xcols, data_df, Y_feature=Y_feature, \n",
    "                                                   mode=mode, n_iters=n_iters)\n",
    "        display(df)\n",
    "        df.to_csv(f'{this_model_path}predict_MAE.df', index=False, encoding='utf-8-sig')\n",
    "        print('Weights:')\n",
    "        for i, k in enumerate(model_hyperparameters_dict.keys()):\n",
    "            print(f'{k}: {optimal_weights[k]:.3f}')\n",
    "\n",
    "    print(' ')\n",
    "    print(' ')\n",
    "    print('**Copy and Paste following lines into the next cell.**')\n",
    "    for model_label in model_hyperparameters_dict.keys():\n",
    "        print('##### ' + model_label)\n",
    "        for key, v in model_hyperparameters_dict[model_label].items():\n",
    "            print(f\"Best {key} = {v}  \")\n",
    "        if 'model_r2_dict' in locals().keys():\n",
    "            print(f\"Best R2 = {model_r2_dict[model_label]}  \")\n",
    "        print(f'Weight = {optimal_weights[model_label]:.3f}')\n",
    "    print(' ')\n",
    "    print(' ')\n",
    "    \n",
    "    save_model_metadata(this_model_path + 'meta.json', model_xcols, model_hyperparameters_dict, optimal_weights)"
   ]
  },
  {
   "cell_type": "markdown",
   "id": "671e557a-e133-49a1-b150-803b92846ab2",
   "metadata": {},
   "source": [
    "## 預測氣象數值"
   ]
  },
  {
   "cell_type": "markdown",
   "id": "d4fcbb20-fee2-4337-a02a-351b34609716",
   "metadata": {},
   "source": [
    "### 日照率"
   ]
  },
  {
   "cell_type": "code",
   "execution_count": 27,
   "id": "fd758846-5ea4-40ea-a188-8e3ddbc9fb18",
   "metadata": {},
   "outputs": [
    {
     "name": "stdout",
     "output_type": "stream",
     "text": [
      "Start to tune hyperparameters\n"
     ]
    },
    {
     "name": "stderr",
     "output_type": "stream",
     "text": [
      "100%|██████████████████████████████████████████████████████████████████████████████████| 30/30 [05:38<00:00, 11.28s/it]\n"
     ]
    },
    {
     "name": "stdout",
     "output_type": "stream",
     "text": [
      "RandomForest\n",
      "Best max_depth = 11\n",
      "Best n_estimators = 146\n",
      "Best R2 = 0.5870948515049399\n"
     ]
    },
    {
     "name": "stderr",
     "output_type": "stream",
     "text": [
      "100%|██████████████████████████████████████████████████████████████████████████████████| 30/30 [02:03<00:00,  4.12s/it]\n"
     ]
    },
    {
     "name": "stdout",
     "output_type": "stream",
     "text": [
      "XGBoost\n",
      "Best max_depth = 2\n",
      "Best n_estimators = 23\n",
      "Best R2 = 0.5890760918959569\n"
     ]
    },
    {
     "name": "stderr",
     "output_type": "stream",
     "text": [
      "100%|██████████████████████████████████████████████████████████████████████████████████| 30/30 [01:57<00:00,  3.92s/it]\n"
     ]
    },
    {
     "name": "stdout",
     "output_type": "stream",
     "text": [
      "LightGBM\n",
      "Best max_depth = 6\n",
      "Best n_estimators = 34\n",
      "Best R2 = 0.501255556359024\n"
     ]
    },
    {
     "name": "stderr",
     "output_type": "stream",
     "text": [
      "100%|██████████████████████████████████████████████████████████████████████████████████| 30/30 [00:43<00:00,  1.45s/it]\n"
     ]
    },
    {
     "name": "stdout",
     "output_type": "stream",
     "text": [
      "SVR\n",
      "Best C = 10.510584166812476\n",
      "Best kernel = sigmoid\n",
      "Best R2 = 0.6175865641668637\n"
     ]
    },
    {
     "name": "stderr",
     "output_type": "stream",
     "text": [
      "100%|██████████████████████████████████████████████████████████████████████████████████| 30/30 [01:39<00:00,  3.32s/it]\n"
     ]
    },
    {
     "name": "stdout",
     "output_type": "stream",
     "text": [
      "NuSVR\n",
      "Best C = 9.024585024739107\n",
      "Best kernel = sigmoid\n",
      "Best nu = 0.7512492841501225\n",
      "Best R2 = 0.6253677869498243\n"
     ]
    },
    {
     "name": "stderr",
     "output_type": "stream",
     "text": [
      "100%|██████████████████████████████████████████████████████████████████████████████████| 30/30 [20:53<00:00, 41.79s/it]\n"
     ]
    },
    {
     "name": "stdout",
     "output_type": "stream",
     "text": [
      "FCN\n",
      "Best L2_factor = 0.021517425264349053\n",
      "Best dropout_factor = 0.36979837303627927\n",
      "Best R2 = 0.5866018727468167\n",
      "Start to determine Ensemble weights.\n"
     ]
    },
    {
     "name": "stderr",
     "output_type": "stream",
     "text": [
      "100%|██████████████████████████████████████████████████████████████████████████████████| 50/50 [07:19<00:00,  8.79s/it]\n"
     ]
    },
    {
     "data": {
      "text/html": [
       "<div>\n",
       "<style scoped>\n",
       "    .dataframe tbody tr th:only-of-type {\n",
       "        vertical-align: middle;\n",
       "    }\n",
       "\n",
       "    .dataframe tbody tr th {\n",
       "        vertical-align: top;\n",
       "    }\n",
       "\n",
       "    .dataframe thead th {\n",
       "        text-align: right;\n",
       "    }\n",
       "</style>\n",
       "<table border=\"1\" class=\"dataframe\">\n",
       "  <thead>\n",
       "    <tr style=\"text-align: right;\">\n",
       "      <th></th>\n",
       "      <th>Model</th>\n",
       "      <th>Avg MAE</th>\n",
       "      <th>Std MAE</th>\n",
       "      <th>90th percentile</th>\n",
       "      <th>10th percentile</th>\n",
       "    </tr>\n",
       "  </thead>\n",
       "  <tbody>\n",
       "    <tr>\n",
       "      <th>0</th>\n",
       "      <td>Weighted_Ensemble</td>\n",
       "      <td>13.595763</td>\n",
       "      <td>1.610992</td>\n",
       "      <td>15.473017</td>\n",
       "      <td>11.486974</td>\n",
       "    </tr>\n",
       "    <tr>\n",
       "      <th>1</th>\n",
       "      <td>NuSVR</td>\n",
       "      <td>13.815586</td>\n",
       "      <td>1.604628</td>\n",
       "      <td>15.656854</td>\n",
       "      <td>11.581361</td>\n",
       "    </tr>\n",
       "    <tr>\n",
       "      <th>2</th>\n",
       "      <td>Ensemble</td>\n",
       "      <td>13.905168</td>\n",
       "      <td>1.589992</td>\n",
       "      <td>15.775646</td>\n",
       "      <td>11.783316</td>\n",
       "    </tr>\n",
       "    <tr>\n",
       "      <th>3</th>\n",
       "      <td>SVR</td>\n",
       "      <td>13.765910</td>\n",
       "      <td>1.561043</td>\n",
       "      <td>15.834404</td>\n",
       "      <td>11.394574</td>\n",
       "    </tr>\n",
       "    <tr>\n",
       "      <th>4</th>\n",
       "      <td>RandomForest</td>\n",
       "      <td>14.645338</td>\n",
       "      <td>1.728273</td>\n",
       "      <td>16.471008</td>\n",
       "      <td>12.239370</td>\n",
       "    </tr>\n",
       "    <tr>\n",
       "      <th>5</th>\n",
       "      <td>XGBoost</td>\n",
       "      <td>14.426582</td>\n",
       "      <td>1.767970</td>\n",
       "      <td>16.539145</td>\n",
       "      <td>12.007534</td>\n",
       "    </tr>\n",
       "    <tr>\n",
       "      <th>6</th>\n",
       "      <td>FCN</td>\n",
       "      <td>15.270799</td>\n",
       "      <td>2.071383</td>\n",
       "      <td>17.468977</td>\n",
       "      <td>12.852590</td>\n",
       "    </tr>\n",
       "    <tr>\n",
       "      <th>7</th>\n",
       "      <td>LightGBM</td>\n",
       "      <td>16.162745</td>\n",
       "      <td>1.623713</td>\n",
       "      <td>17.753286</td>\n",
       "      <td>14.225410</td>\n",
       "    </tr>\n",
       "  </tbody>\n",
       "</table>\n",
       "</div>"
      ],
      "text/plain": [
       "               Model    Avg MAE   Std MAE  90th percentile  10th percentile\n",
       "0  Weighted_Ensemble  13.595763  1.610992        15.473017        11.486974\n",
       "1              NuSVR  13.815586  1.604628        15.656854        11.581361\n",
       "2           Ensemble  13.905168  1.589992        15.775646        11.783316\n",
       "3                SVR  13.765910  1.561043        15.834404        11.394574\n",
       "4       RandomForest  14.645338  1.728273        16.471008        12.239370\n",
       "5            XGBoost  14.426582  1.767970        16.539145        12.007534\n",
       "6                FCN  15.270799  2.071383        17.468977        12.852590\n",
       "7           LightGBM  16.162745  1.623713        17.753286        14.225410"
      ]
     },
     "metadata": {},
     "output_type": "display_data"
    },
    {
     "name": "stdout",
     "output_type": "stream",
     "text": [
      "Weights:\n",
      "RandomForest: 0.038\n",
      "XGBoost: 0.142\n",
      "LightGBM: 0.000\n",
      "SVR: 0.330\n",
      "NuSVR: 0.343\n",
      "FCN: 0.147\n",
      " \n",
      " \n",
      "**Copy and Paste following lines into the next cell.**\n",
      "##### RandomForest\n",
      "Best max_depth = 11  \n",
      "Best n_estimators = 146  \n",
      "Best R2 = 0.5870948515049399  \n",
      "Weight = 0.038\n",
      "##### XGBoost\n",
      "Best max_depth = 2  \n",
      "Best n_estimators = 23  \n",
      "Best R2 = 0.5890760918959569  \n",
      "Weight = 0.142\n",
      "##### LightGBM\n",
      "Best max_depth = 6  \n",
      "Best n_estimators = 34  \n",
      "Best R2 = 0.501255556359024  \n",
      "Weight = 0.000\n",
      "##### SVR\n",
      "Best C = 10.510584166812476  \n",
      "Best kernel = sigmoid  \n",
      "Best R2 = 0.6175865641668637  \n",
      "Weight = 0.330\n",
      "##### NuSVR\n",
      "Best C = 9.024585024739107  \n",
      "Best kernel = sigmoid  \n",
      "Best nu = 0.7512492841501225  \n",
      "Best R2 = 0.6253677869498243  \n",
      "Weight = 0.343\n",
      "##### FCN\n",
      "Best L2_factor = 0.021517425264349053  \n",
      "Best dropout_factor = 0.36979837303627927  \n",
      "Best R2 = 0.5866018727468167  \n",
      "Weight = 0.147\n",
      " \n",
      " \n"
     ]
    }
   ],
   "source": [
    "# 被預測的標的\n",
    "Y_feature = '日照率'\n",
    "# 定義集成學習使用的模型以及模型們各自使用的 X 特徵\n",
    "model_xcols = {\n",
    "        'RandomForest': ['晴', '多雲', '陰', '短暫陣雨', '短暫陣雨或雷雨', '午後短暫雷陣雨', '陣雨或雷雨', '相對溼度'],\n",
    "        'XGBoost': ['晴', '多雲', '陰', '短暫陣雨', '短暫陣雨或雷雨', '午後短暫雷陣雨', '陣雨或雷雨', '相對溼度'],\n",
    "        'LightGBM': ['晴', '多雲', '陰', '短暫陣雨', '短暫陣雨或雷雨', '午後短暫雷陣雨', '陣雨或雷雨', '相對溼度'],\n",
    "        'SVR': ['晴', '多雲', '陰', '短暫陣雨', '短暫陣雨或雷雨', '午後短暫雷陣雨', '陣雨或雷雨', '相對溼度'],\n",
    "        'NuSVR': ['晴', '多雲', '陰', '短暫陣雨', '短暫陣雨或雷雨', '午後短暫雷陣雨', '陣雨或雷雨', '相對溼度'],\n",
    "        'FCN': ['晴', '多雲', '陰', '短暫陣雨', '短暫陣雨或雷雨', '午後短暫雷陣雨', '陣雨或雷雨', '相對溼度'],\n",
    "    }\n",
    "\n",
    "flow_control(Y_feature, model_xcols, forecast_obs_df, speed_test=speed_test)"
   ]
  },
  {
   "cell_type": "markdown",
   "id": "ed6ee005-2ba2-40ff-a56d-435d4ad2f894",
   "metadata": {},
   "source": [
    "##### RandomForest\n",
    "Best max_depth = 11  \n",
    "Best n_estimators = 146  \n",
    "Best R2 = 0.5870948515049399  \n",
    "Weight = 0.038\n",
    "##### XGBoost\n",
    "Best max_depth = 2  \n",
    "Best n_estimators = 23  \n",
    "Best R2 = 0.5890760918959569  \n",
    "Weight = 0.142\n",
    "##### LightGBM\n",
    "Best max_depth = 6  \n",
    "Best n_estimators = 34  \n",
    "Best R2 = 0.501255556359024  \n",
    "Weight = 0.000\n",
    "##### SVR\n",
    "Best C = 10.510584166812476  \n",
    "Best kernel = sigmoid  \n",
    "Best R2 = 0.6175865641668637  \n",
    "Weight = 0.330\n",
    "##### NuSVR\n",
    "Best C = 9.024585024739107  \n",
    "Best kernel = sigmoid  \n",
    "Best nu = 0.7512492841501225  \n",
    "Best R2 = 0.6253677869498243  \n",
    "Weight = 0.343\n",
    "##### FCN\n",
    "Best L2_factor = 0.021517425264349053  \n",
    "Best dropout_factor = 0.36979837303627927  \n",
    "Best R2 = 0.5866018727468167  \n",
    "Weight = 0.147"
   ]
  },
  {
   "cell_type": "markdown",
   "id": "86778135-68d7-4b74-9aca-3383dfd858f8",
   "metadata": {},
   "source": [
    "### 高溫"
   ]
  },
  {
   "cell_type": "code",
   "execution_count": 28,
   "id": "2da80d77-f0fe-40aa-8ae3-f10241289dd2",
   "metadata": {},
   "outputs": [
    {
     "name": "stdout",
     "output_type": "stream",
     "text": [
      "Start to tune hyperparameters\n"
     ]
    },
    {
     "name": "stderr",
     "output_type": "stream",
     "text": [
      "100%|████████████████████████████████████████████████████████████████████████████████████| 1/1 [00:00<00:00, 21.60it/s]\n"
     ]
    },
    {
     "name": "stdout",
     "output_type": "stream",
     "text": [
      "LinearRegression\n",
      "Best R2 = 0.5534044274964922\n"
     ]
    },
    {
     "name": "stderr",
     "output_type": "stream",
     "text": [
      "100%|██████████████████████████████████████████████████████████████████████████████████| 30/30 [28:55<00:00, 57.85s/it]\n"
     ]
    },
    {
     "name": "stdout",
     "output_type": "stream",
     "text": [
      "FCN\n",
      "Best L2_factor = 0.0012580849117066048\n",
      "Best dropout_factor = 0.17731620058252304\n",
      "Best R2 = 0.5839900603099359\n"
     ]
    },
    {
     "name": "stderr",
     "output_type": "stream",
     "text": [
      "100%|██████████████████████████████████████████████████████████████████████████████████| 30/30 [02:49<00:00,  5.64s/it]\n"
     ]
    },
    {
     "name": "stdout",
     "output_type": "stream",
     "text": [
      "RandomForest\n",
      "Best max_depth = 4\n",
      "Best n_estimators = 120\n",
      "Best R2 = 0.5409705773728722\n"
     ]
    },
    {
     "name": "stderr",
     "output_type": "stream",
     "text": [
      "100%|██████████████████████████████████████████████████████████████████████████████████| 30/30 [01:58<00:00,  3.95s/it]\n"
     ]
    },
    {
     "name": "stdout",
     "output_type": "stream",
     "text": [
      "XGBoost\n",
      "Best max_depth = 2\n",
      "Best n_estimators = 22\n",
      "Best R2 = 0.5428448378319348\n"
     ]
    },
    {
     "name": "stderr",
     "output_type": "stream",
     "text": [
      "100%|██████████████████████████████████████████████████████████████████████████████████| 30/30 [00:49<00:00,  1.66s/it]\n"
     ]
    },
    {
     "name": "stdout",
     "output_type": "stream",
     "text": [
      "SVR\n",
      "Best C = 1.7157289141337408\n",
      "Best kernel = linear\n",
      "Best R2 = 0.5448564962294009\n"
     ]
    },
    {
     "name": "stderr",
     "output_type": "stream",
     "text": [
      "100%|██████████████████████████████████████████████████████████████████████████████████| 30/30 [01:02<00:00,  2.10s/it]\n"
     ]
    },
    {
     "name": "stdout",
     "output_type": "stream",
     "text": [
      "NuSVR\n",
      "Best C = 0.1539035393298039\n",
      "Best kernel = linear\n",
      "Best nu = 0.44010303108936244\n",
      "Best R2 = 0.5592848657357319\n"
     ]
    },
    {
     "name": "stderr",
     "output_type": "stream",
     "text": [
      "100%|██████████████████████████████████████████████████████████████████████████████████| 30/30 [01:45<00:00,  3.52s/it]\n"
     ]
    },
    {
     "name": "stdout",
     "output_type": "stream",
     "text": [
      "LightGBM\n",
      "Best max_depth = 2\n",
      "Best n_estimators = 73\n",
      "Best R2 = 0.5435463799154244\n",
      "Start to determine Ensemble weights.\n"
     ]
    },
    {
     "name": "stderr",
     "output_type": "stream",
     "text": [
      "100%|██████████████████████████████████████████████████████████████████████████████████| 50/50 [09:08<00:00, 10.96s/it]\n"
     ]
    },
    {
     "data": {
      "text/html": [
       "<div>\n",
       "<style scoped>\n",
       "    .dataframe tbody tr th:only-of-type {\n",
       "        vertical-align: middle;\n",
       "    }\n",
       "\n",
       "    .dataframe tbody tr th {\n",
       "        vertical-align: top;\n",
       "    }\n",
       "\n",
       "    .dataframe thead th {\n",
       "        text-align: right;\n",
       "    }\n",
       "</style>\n",
       "<table border=\"1\" class=\"dataframe\">\n",
       "  <thead>\n",
       "    <tr style=\"text-align: right;\">\n",
       "      <th></th>\n",
       "      <th>Model</th>\n",
       "      <th>Avg MAE</th>\n",
       "      <th>Std MAE</th>\n",
       "      <th>90th percentile</th>\n",
       "      <th>10th percentile</th>\n",
       "    </tr>\n",
       "  </thead>\n",
       "  <tbody>\n",
       "    <tr>\n",
       "      <th>0</th>\n",
       "      <td>Weighted_Ensemble</td>\n",
       "      <td>0.951746</td>\n",
       "      <td>0.075610</td>\n",
       "      <td>1.045881</td>\n",
       "      <td>0.857144</td>\n",
       "    </tr>\n",
       "    <tr>\n",
       "      <th>1</th>\n",
       "      <td>Ensemble</td>\n",
       "      <td>0.954719</td>\n",
       "      <td>0.075508</td>\n",
       "      <td>1.047991</td>\n",
       "      <td>0.858696</td>\n",
       "    </tr>\n",
       "    <tr>\n",
       "      <th>2</th>\n",
       "      <td>RandomForest</td>\n",
       "      <td>0.971621</td>\n",
       "      <td>0.074793</td>\n",
       "      <td>1.048283</td>\n",
       "      <td>0.872686</td>\n",
       "    </tr>\n",
       "    <tr>\n",
       "      <th>3</th>\n",
       "      <td>SVR</td>\n",
       "      <td>0.973197</td>\n",
       "      <td>0.078820</td>\n",
       "      <td>1.064940</td>\n",
       "      <td>0.872694</td>\n",
       "    </tr>\n",
       "    <tr>\n",
       "      <th>4</th>\n",
       "      <td>LightGBM</td>\n",
       "      <td>0.986867</td>\n",
       "      <td>0.075915</td>\n",
       "      <td>1.075697</td>\n",
       "      <td>0.890317</td>\n",
       "    </tr>\n",
       "    <tr>\n",
       "      <th>5</th>\n",
       "      <td>NuSVR</td>\n",
       "      <td>0.975101</td>\n",
       "      <td>0.078378</td>\n",
       "      <td>1.077545</td>\n",
       "      <td>0.876928</td>\n",
       "    </tr>\n",
       "    <tr>\n",
       "      <th>6</th>\n",
       "      <td>XGBoost</td>\n",
       "      <td>0.979652</td>\n",
       "      <td>0.080775</td>\n",
       "      <td>1.080958</td>\n",
       "      <td>0.869659</td>\n",
       "    </tr>\n",
       "    <tr>\n",
       "      <th>7</th>\n",
       "      <td>LinearRegression</td>\n",
       "      <td>0.982843</td>\n",
       "      <td>0.075963</td>\n",
       "      <td>1.081477</td>\n",
       "      <td>0.886479</td>\n",
       "    </tr>\n",
       "    <tr>\n",
       "      <th>8</th>\n",
       "      <td>FCN</td>\n",
       "      <td>0.979121</td>\n",
       "      <td>0.084873</td>\n",
       "      <td>1.084537</td>\n",
       "      <td>0.866002</td>\n",
       "    </tr>\n",
       "  </tbody>\n",
       "</table>\n",
       "</div>"
      ],
      "text/plain": [
       "               Model   Avg MAE   Std MAE  90th percentile  10th percentile\n",
       "0  Weighted_Ensemble  0.951746  0.075610         1.045881         0.857144\n",
       "1           Ensemble  0.954719  0.075508         1.047991         0.858696\n",
       "2       RandomForest  0.971621  0.074793         1.048283         0.872686\n",
       "3                SVR  0.973197  0.078820         1.064940         0.872694\n",
       "4           LightGBM  0.986867  0.075915         1.075697         0.890317\n",
       "5              NuSVR  0.975101  0.078378         1.077545         0.876928\n",
       "6            XGBoost  0.979652  0.080775         1.080958         0.869659\n",
       "7   LinearRegression  0.982843  0.075963         1.081477         0.886479\n",
       "8                FCN  0.979121  0.084873         1.084537         0.866002"
      ]
     },
     "metadata": {},
     "output_type": "display_data"
    },
    {
     "name": "stdout",
     "output_type": "stream",
     "text": [
      "Weights:\n",
      "LinearRegression: 0.000\n",
      "FCN: 0.229\n",
      "RandomForest: 0.000\n",
      "XGBoost: 0.000\n",
      "SVR: 0.253\n",
      "NuSVR: 0.179\n",
      "LightGBM: 0.339\n",
      " \n",
      " \n",
      "**Copy and Paste following lines into the next cell.**\n",
      "##### LinearRegression\n",
      "Best R2 = 0.5534044274964922  \n",
      "Weight = 0.000\n",
      "##### FCN\n",
      "Best L2_factor = 0.0012580849117066048  \n",
      "Best dropout_factor = 0.17731620058252304  \n",
      "Best R2 = 0.5839900603099359  \n",
      "Weight = 0.229\n",
      "##### RandomForest\n",
      "Best max_depth = 4  \n",
      "Best n_estimators = 120  \n",
      "Best R2 = 0.5409705773728722  \n",
      "Weight = 0.000\n",
      "##### XGBoost\n",
      "Best max_depth = 2  \n",
      "Best n_estimators = 22  \n",
      "Best R2 = 0.5428448378319348  \n",
      "Weight = 0.000\n",
      "##### SVR\n",
      "Best C = 1.7157289141337408  \n",
      "Best kernel = linear  \n",
      "Best R2 = 0.5448564962294009  \n",
      "Weight = 0.253\n",
      "##### NuSVR\n",
      "Best C = 0.1539035393298039  \n",
      "Best kernel = linear  \n",
      "Best nu = 0.44010303108936244  \n",
      "Best R2 = 0.5592848657357319  \n",
      "Weight = 0.179\n",
      "##### LightGBM\n",
      "Best max_depth = 2  \n",
      "Best n_estimators = 73  \n",
      "Best R2 = 0.5435463799154244  \n",
      "Weight = 0.339\n",
      " \n",
      " \n"
     ]
    }
   ],
   "source": [
    "Y_feature = '最高氣溫'\n",
    "model_xcols = {\n",
    "    'LinearRegression': ['溫度'],\n",
    "    'FCN': ['溫度'],\n",
    "    'RandomForest': ['溫度'],\n",
    "    'XGBoost': ['溫度'],\n",
    "    'SVR': ['溫度'],\n",
    "    'NuSVR': ['溫度'],\n",
    "    'LightGBM': ['溫度'],\n",
    "}\n",
    "\n",
    "flow_control(Y_feature, model_xcols, forecast_obs_df, speed_test=speed_test)"
   ]
  },
  {
   "cell_type": "markdown",
   "id": "5c4e346d-10c5-4e7a-a0e9-a64228b5c115",
   "metadata": {},
   "source": [
    "##### LinearRegression\n",
    "Best R2 = 0.5534044274964922  \n",
    "Weight = 0.000\n",
    "##### FCN\n",
    "Best L2_factor = 0.0012580849117066048  \n",
    "Best dropout_factor = 0.17731620058252304  \n",
    "Best R2 = 0.5839900603099359  \n",
    "Weight = 0.229\n",
    "##### RandomForest\n",
    "Best max_depth = 4  \n",
    "Best n_estimators = 120  \n",
    "Best R2 = 0.5409705773728722  \n",
    "Weight = 0.000\n",
    "##### XGBoost\n",
    "Best max_depth = 2  \n",
    "Best n_estimators = 22  \n",
    "Best R2 = 0.5428448378319348  \n",
    "Weight = 0.000\n",
    "##### SVR\n",
    "Best C = 1.7157289141337408  \n",
    "Best kernel = linear  \n",
    "Best R2 = 0.5448564962294009  \n",
    "Weight = 0.253\n",
    "##### NuSVR\n",
    "Best C = 0.1539035393298039  \n",
    "Best kernel = linear  \n",
    "Best nu = 0.44010303108936244  \n",
    "Best R2 = 0.5592848657357319  \n",
    "Weight = 0.179\n",
    "##### LightGBM\n",
    "Best max_depth = 2  \n",
    "Best n_estimators = 73  \n",
    "Best R2 = 0.5435463799154244  \n",
    "Weight = 0.339"
   ]
  },
  {
   "cell_type": "markdown",
   "id": "87d41dc3-d3df-422a-a06b-d71f30707369",
   "metadata": {},
   "source": [
    "### 低溫"
   ]
  },
  {
   "cell_type": "code",
   "execution_count": 29,
   "id": "6dc8ae65-b304-4ec9-ab77-6d8316c6ebb6",
   "metadata": {},
   "outputs": [
    {
     "name": "stdout",
     "output_type": "stream",
     "text": [
      "Start to tune hyperparameters\n"
     ]
    },
    {
     "name": "stderr",
     "output_type": "stream",
     "text": [
      "100%|████████████████████████████████████████████████████████████████████████████████████| 1/1 [00:00<00:00, 21.76it/s]\n"
     ]
    },
    {
     "name": "stdout",
     "output_type": "stream",
     "text": [
      "LinearRegression\n",
      "Best R2 = 0.14205229333746497\n"
     ]
    },
    {
     "name": "stderr",
     "output_type": "stream",
     "text": [
      "100%|██████████████████████████████████████████████████████████████████████████████████| 30/30 [30:25<00:00, 60.85s/it]\n"
     ]
    },
    {
     "name": "stdout",
     "output_type": "stream",
     "text": [
      "FCN\n",
      "Best L2_factor = 0.0037237461029340944\n",
      "Best dropout_factor = 0.37515051123242515\n",
      "Best R2 = 0.1970300802761308\n"
     ]
    },
    {
     "name": "stderr",
     "output_type": "stream",
     "text": [
      "100%|██████████████████████████████████████████████████████████████████████████████████| 30/30 [02:23<00:00,  4.78s/it]\n"
     ]
    },
    {
     "name": "stdout",
     "output_type": "stream",
     "text": [
      "RandomForest\n",
      "Best max_depth = 5\n",
      "Best n_estimators = 77\n",
      "Best R2 = 0.25684110582949154\n"
     ]
    },
    {
     "name": "stderr",
     "output_type": "stream",
     "text": [
      "100%|██████████████████████████████████████████████████████████████████████████████████| 30/30 [02:05<00:00,  4.17s/it]\n"
     ]
    },
    {
     "name": "stdout",
     "output_type": "stream",
     "text": [
      "XGBoost\n",
      "Best max_depth = 2\n",
      "Best n_estimators = 10\n",
      "Best R2 = 0.22489063953343127\n"
     ]
    },
    {
     "name": "stderr",
     "output_type": "stream",
     "text": [
      "100%|██████████████████████████████████████████████████████████████████████████████████| 30/30 [00:14<00:00,  2.10it/s]\n"
     ]
    },
    {
     "name": "stdout",
     "output_type": "stream",
     "text": [
      "SVR\n",
      "Best C = 0.11744054294023308\n",
      "Best kernel = rbf\n",
      "Best R2 = 0.2016527418134913\n"
     ]
    },
    {
     "name": "stderr",
     "output_type": "stream",
     "text": [
      "100%|██████████████████████████████████████████████████████████████████████████████████| 30/30 [00:27<00:00,  1.09it/s]\n"
     ]
    },
    {
     "name": "stdout",
     "output_type": "stream",
     "text": [
      "NuSVR\n",
      "Best C = 0.8638927850606558\n",
      "Best kernel = rbf\n",
      "Best nu = 0.42847121164079394\n",
      "Best R2 = 0.1889467419868108\n"
     ]
    },
    {
     "name": "stderr",
     "output_type": "stream",
     "text": [
      "100%|██████████████████████████████████████████████████████████████████████████████████| 30/30 [01:43<00:00,  3.45s/it]\n"
     ]
    },
    {
     "name": "stdout",
     "output_type": "stream",
     "text": [
      "LightGBM\n",
      "Best max_depth = 10\n",
      "Best n_estimators = 29\n",
      "Best R2 = 0.2075151445577908\n",
      "Start to determine Ensemble weights.\n"
     ]
    },
    {
     "name": "stderr",
     "output_type": "stream",
     "text": [
      "100%|██████████████████████████████████████████████████████████████████████████████████| 50/50 [10:12<00:00, 12.24s/it]\n"
     ]
    },
    {
     "data": {
      "text/html": [
       "<div>\n",
       "<style scoped>\n",
       "    .dataframe tbody tr th:only-of-type {\n",
       "        vertical-align: middle;\n",
       "    }\n",
       "\n",
       "    .dataframe tbody tr th {\n",
       "        vertical-align: top;\n",
       "    }\n",
       "\n",
       "    .dataframe thead th {\n",
       "        text-align: right;\n",
       "    }\n",
       "</style>\n",
       "<table border=\"1\" class=\"dataframe\">\n",
       "  <thead>\n",
       "    <tr style=\"text-align: right;\">\n",
       "      <th></th>\n",
       "      <th>Model</th>\n",
       "      <th>Avg MAE</th>\n",
       "      <th>Std MAE</th>\n",
       "      <th>90th percentile</th>\n",
       "      <th>10th percentile</th>\n",
       "    </tr>\n",
       "  </thead>\n",
       "  <tbody>\n",
       "    <tr>\n",
       "      <th>0</th>\n",
       "      <td>Weighted_Ensemble</td>\n",
       "      <td>0.832064</td>\n",
       "      <td>0.067129</td>\n",
       "      <td>0.922821</td>\n",
       "      <td>0.750269</td>\n",
       "    </tr>\n",
       "    <tr>\n",
       "      <th>1</th>\n",
       "      <td>RandomForest</td>\n",
       "      <td>0.836811</td>\n",
       "      <td>0.068074</td>\n",
       "      <td>0.928667</td>\n",
       "      <td>0.751581</td>\n",
       "    </tr>\n",
       "    <tr>\n",
       "      <th>2</th>\n",
       "      <td>XGBoost</td>\n",
       "      <td>0.853135</td>\n",
       "      <td>0.062239</td>\n",
       "      <td>0.935635</td>\n",
       "      <td>0.768678</td>\n",
       "    </tr>\n",
       "    <tr>\n",
       "      <th>3</th>\n",
       "      <td>Ensemble</td>\n",
       "      <td>0.850426</td>\n",
       "      <td>0.066059</td>\n",
       "      <td>0.935688</td>\n",
       "      <td>0.770268</td>\n",
       "    </tr>\n",
       "    <tr>\n",
       "      <th>4</th>\n",
       "      <td>NuSVR</td>\n",
       "      <td>0.861865</td>\n",
       "      <td>0.064986</td>\n",
       "      <td>0.942894</td>\n",
       "      <td>0.774223</td>\n",
       "    </tr>\n",
       "    <tr>\n",
       "      <th>5</th>\n",
       "      <td>SVR</td>\n",
       "      <td>0.871848</td>\n",
       "      <td>0.064665</td>\n",
       "      <td>0.947180</td>\n",
       "      <td>0.796388</td>\n",
       "    </tr>\n",
       "    <tr>\n",
       "      <th>6</th>\n",
       "      <td>LightGBM</td>\n",
       "      <td>0.859422</td>\n",
       "      <td>0.071505</td>\n",
       "      <td>0.947609</td>\n",
       "      <td>0.778564</td>\n",
       "    </tr>\n",
       "    <tr>\n",
       "      <th>7</th>\n",
       "      <td>FCN</td>\n",
       "      <td>0.884137</td>\n",
       "      <td>0.070493</td>\n",
       "      <td>0.962566</td>\n",
       "      <td>0.786326</td>\n",
       "    </tr>\n",
       "    <tr>\n",
       "      <th>8</th>\n",
       "      <td>LinearRegression</td>\n",
       "      <td>0.895719</td>\n",
       "      <td>0.071882</td>\n",
       "      <td>0.982990</td>\n",
       "      <td>0.806366</td>\n",
       "    </tr>\n",
       "  </tbody>\n",
       "</table>\n",
       "</div>"
      ],
      "text/plain": [
       "               Model   Avg MAE   Std MAE  90th percentile  10th percentile\n",
       "0  Weighted_Ensemble  0.832064  0.067129         0.922821         0.750269\n",
       "1       RandomForest  0.836811  0.068074         0.928667         0.751581\n",
       "2            XGBoost  0.853135  0.062239         0.935635         0.768678\n",
       "3           Ensemble  0.850426  0.066059         0.935688         0.770268\n",
       "4              NuSVR  0.861865  0.064986         0.942894         0.774223\n",
       "5                SVR  0.871848  0.064665         0.947180         0.796388\n",
       "6           LightGBM  0.859422  0.071505         0.947609         0.778564\n",
       "7                FCN  0.884137  0.070493         0.962566         0.786326\n",
       "8   LinearRegression  0.895719  0.071882         0.982990         0.806366"
      ]
     },
     "metadata": {},
     "output_type": "display_data"
    },
    {
     "name": "stdout",
     "output_type": "stream",
     "text": [
      "Weights:\n",
      "LinearRegression: 0.000\n",
      "FCN: 0.000\n",
      "RandomForest: 0.797\n",
      "XGBoost: 0.000\n",
      "SVR: 0.203\n",
      "NuSVR: 0.000\n",
      "LightGBM: 0.000\n",
      " \n",
      " \n",
      "**Copy and Paste following lines into the next cell.**\n",
      "##### LinearRegression\n",
      "Best R2 = 0.14205229333746497  \n",
      "Weight = 0.000\n",
      "##### FCN\n",
      "Best L2_factor = 0.0037237461029340944  \n",
      "Best dropout_factor = 0.37515051123242515  \n",
      "Best R2 = 0.1970300802761308  \n",
      "Weight = 0.000\n",
      "##### RandomForest\n",
      "Best max_depth = 5  \n",
      "Best n_estimators = 77  \n",
      "Best R2 = 0.25684110582949154  \n",
      "Weight = 0.797\n",
      "##### XGBoost\n",
      "Best max_depth = 2  \n",
      "Best n_estimators = 10  \n",
      "Best R2 = 0.22489063953343127  \n",
      "Weight = 0.000\n",
      "##### SVR\n",
      "Best C = 0.11744054294023308  \n",
      "Best kernel = rbf  \n",
      "Best R2 = 0.2016527418134913  \n",
      "Weight = 0.203\n",
      "##### NuSVR\n",
      "Best C = 0.8638927850606558  \n",
      "Best kernel = rbf  \n",
      "Best nu = 0.42847121164079394  \n",
      "Best R2 = 0.1889467419868108  \n",
      "Weight = 0.000\n",
      "##### LightGBM\n",
      "Best max_depth = 10  \n",
      "Best n_estimators = 29  \n",
      "Best R2 = 0.2075151445577908  \n",
      "Weight = 0.000\n",
      " \n",
      " \n"
     ]
    }
   ],
   "source": [
    "Y_feature = '最低氣溫'\n",
    "model_xcols = {\n",
    "    'LinearRegression': ['溫度'],\n",
    "    'FCN': ['溫度'],\n",
    "    'RandomForest': ['溫度'],\n",
    "    'XGBoost': ['溫度'],\n",
    "    'SVR': ['溫度'],\n",
    "    'NuSVR': ['溫度'],\n",
    "    'LightGBM': ['溫度'],\n",
    "}\n",
    "\n",
    "flow_control(Y_feature, model_xcols, forecast_obs_df, speed_test=speed_test)"
   ]
  },
  {
   "cell_type": "markdown",
   "id": "89a87660-d0b6-41c4-9362-68887cf6a8e9",
   "metadata": {},
   "source": [
    "##### LinearRegression\n",
    "Best R2 = 0.14205229333746497  \n",
    "Weight = 0.000\n",
    "##### FCN\n",
    "Best L2_factor = 0.0037237461029340944  \n",
    "Best dropout_factor = 0.37515051123242515  \n",
    "Best R2 = 0.1970300802761308  \n",
    "Weight = 0.000\n",
    "##### RandomForest\n",
    "Best max_depth = 5  \n",
    "Best n_estimators = 77  \n",
    "Best R2 = 0.25684110582949154  \n",
    "Weight = 0.797\n",
    "##### XGBoost\n",
    "Best max_depth = 2  \n",
    "Best n_estimators = 10  \n",
    "Best R2 = 0.22489063953343127  \n",
    "Weight = 0.000\n",
    "##### SVR\n",
    "Best C = 0.11744054294023308  \n",
    "Best kernel = rbf  \n",
    "Best R2 = 0.2016527418134913  \n",
    "Weight = 0.203\n",
    "##### NuSVR\n",
    "Best C = 0.8638927850606558  \n",
    "Best kernel = rbf  \n",
    "Best nu = 0.42847121164079394  \n",
    "Best R2 = 0.1889467419868108  \n",
    "Weight = 0.000\n",
    "##### LightGBM\n",
    "Best max_depth = 10  \n",
    "Best n_estimators = 29  \n",
    "Best R2 = 0.2075151445577908  \n",
    "Weight = 0.000"
   ]
  },
  {
   "cell_type": "markdown",
   "id": "7a913cb4-2540-4bda-b7be-6e2c48a340b8",
   "metadata": {},
   "source": [
    "### 平均溫"
   ]
  },
  {
   "cell_type": "code",
   "execution_count": 30,
   "id": "287a653c-0dc0-4ff6-a630-3b2479049d27",
   "metadata": {},
   "outputs": [
    {
     "name": "stdout",
     "output_type": "stream",
     "text": [
      "Start to tune hyperparameters\n"
     ]
    },
    {
     "name": "stderr",
     "output_type": "stream",
     "text": [
      "100%|████████████████████████████████████████████████████████████████████████████████████| 1/1 [00:00<00:00, 21.28it/s]\n"
     ]
    },
    {
     "name": "stdout",
     "output_type": "stream",
     "text": [
      "LinearRegression\n",
      "Best R2 = 0.412985625467958\n"
     ]
    },
    {
     "name": "stderr",
     "output_type": "stream",
     "text": [
      "100%|██████████████████████████████████████████████████████████████████████████████████| 30/30 [27:43<00:00, 55.44s/it]\n"
     ]
    },
    {
     "name": "stdout",
     "output_type": "stream",
     "text": [
      "FCN\n",
      "Best L2_factor = 0.0010283389751594885\n",
      "Best dropout_factor = 0.3059333281801748\n",
      "Best R2 = 0.4410662110913644\n"
     ]
    },
    {
     "name": "stderr",
     "output_type": "stream",
     "text": [
      "100%|██████████████████████████████████████████████████████████████████████████████████| 30/30 [03:29<00:00,  6.99s/it]\n"
     ]
    },
    {
     "name": "stdout",
     "output_type": "stream",
     "text": [
      "RandomForest\n",
      "Best max_depth = 4\n",
      "Best n_estimators = 165\n",
      "Best R2 = 0.44955960316903565\n"
     ]
    },
    {
     "name": "stderr",
     "output_type": "stream",
     "text": [
      "100%|██████████████████████████████████████████████████████████████████████████████████| 30/30 [02:27<00:00,  4.90s/it]\n"
     ]
    },
    {
     "name": "stdout",
     "output_type": "stream",
     "text": [
      "XGBoost\n",
      "Best max_depth = 2\n",
      "Best n_estimators = 74\n",
      "Best R2 = 0.4151441540062713\n"
     ]
    },
    {
     "name": "stderr",
     "output_type": "stream",
     "text": [
      "100%|██████████████████████████████████████████████████████████████████████████████████| 30/30 [00:13<00:00,  2.29it/s]\n"
     ]
    },
    {
     "name": "stdout",
     "output_type": "stream",
     "text": [
      "SVR\n",
      "Best C = 0.008473094131137855\n",
      "Best kernel = linear\n",
      "Best R2 = 0.4264848817494777\n"
     ]
    },
    {
     "name": "stderr",
     "output_type": "stream",
     "text": [
      "100%|██████████████████████████████████████████████████████████████████████████████████| 30/30 [02:39<00:00,  5.31s/it]\n"
     ]
    },
    {
     "name": "stdout",
     "output_type": "stream",
     "text": [
      "NuSVR\n",
      "Best C = 184.29333614114873\n",
      "Best kernel = linear\n",
      "Best nu = 0.3423328614196417\n",
      "Best R2 = 0.4249491691133574\n"
     ]
    },
    {
     "name": "stderr",
     "output_type": "stream",
     "text": [
      "100%|██████████████████████████████████████████████████████████████████████████████████| 30/30 [01:49<00:00,  3.65s/it]\n"
     ]
    },
    {
     "name": "stdout",
     "output_type": "stream",
     "text": [
      "LightGBM\n",
      "Best max_depth = 10\n",
      "Best n_estimators = 25\n",
      "Best R2 = 0.4268000484226063\n",
      "Start to determine Ensemble weights.\n"
     ]
    },
    {
     "name": "stderr",
     "output_type": "stream",
     "text": [
      "100%|██████████████████████████████████████████████████████████████████████████████████| 50/50 [09:57<00:00, 11.95s/it]\n"
     ]
    },
    {
     "data": {
      "text/html": [
       "<div>\n",
       "<style scoped>\n",
       "    .dataframe tbody tr th:only-of-type {\n",
       "        vertical-align: middle;\n",
       "    }\n",
       "\n",
       "    .dataframe tbody tr th {\n",
       "        vertical-align: top;\n",
       "    }\n",
       "\n",
       "    .dataframe thead th {\n",
       "        text-align: right;\n",
       "    }\n",
       "</style>\n",
       "<table border=\"1\" class=\"dataframe\">\n",
       "  <thead>\n",
       "    <tr style=\"text-align: right;\">\n",
       "      <th></th>\n",
       "      <th>Model</th>\n",
       "      <th>Avg MAE</th>\n",
       "      <th>Std MAE</th>\n",
       "      <th>90th percentile</th>\n",
       "      <th>10th percentile</th>\n",
       "    </tr>\n",
       "  </thead>\n",
       "  <tbody>\n",
       "    <tr>\n",
       "      <th>0</th>\n",
       "      <td>RandomForest</td>\n",
       "      <td>0.701252</td>\n",
       "      <td>0.056935</td>\n",
       "      <td>0.757835</td>\n",
       "      <td>0.629828</td>\n",
       "    </tr>\n",
       "    <tr>\n",
       "      <th>1</th>\n",
       "      <td>Weighted_Ensemble</td>\n",
       "      <td>0.694058</td>\n",
       "      <td>0.057037</td>\n",
       "      <td>0.768866</td>\n",
       "      <td>0.623698</td>\n",
       "    </tr>\n",
       "    <tr>\n",
       "      <th>2</th>\n",
       "      <td>Ensemble</td>\n",
       "      <td>0.700654</td>\n",
       "      <td>0.058551</td>\n",
       "      <td>0.783428</td>\n",
       "      <td>0.631756</td>\n",
       "    </tr>\n",
       "    <tr>\n",
       "      <th>3</th>\n",
       "      <td>NuSVR</td>\n",
       "      <td>0.724657</td>\n",
       "      <td>0.061396</td>\n",
       "      <td>0.785201</td>\n",
       "      <td>0.643895</td>\n",
       "    </tr>\n",
       "    <tr>\n",
       "      <th>4</th>\n",
       "      <td>LinearRegression</td>\n",
       "      <td>0.728070</td>\n",
       "      <td>0.059950</td>\n",
       "      <td>0.792448</td>\n",
       "      <td>0.663396</td>\n",
       "    </tr>\n",
       "    <tr>\n",
       "      <th>5</th>\n",
       "      <td>SVR</td>\n",
       "      <td>0.712170</td>\n",
       "      <td>0.061733</td>\n",
       "      <td>0.792775</td>\n",
       "      <td>0.629024</td>\n",
       "    </tr>\n",
       "    <tr>\n",
       "      <th>6</th>\n",
       "      <td>XGBoost</td>\n",
       "      <td>0.725220</td>\n",
       "      <td>0.058009</td>\n",
       "      <td>0.796913</td>\n",
       "      <td>0.642910</td>\n",
       "    </tr>\n",
       "    <tr>\n",
       "      <th>7</th>\n",
       "      <td>LightGBM</td>\n",
       "      <td>0.717611</td>\n",
       "      <td>0.061090</td>\n",
       "      <td>0.807781</td>\n",
       "      <td>0.639743</td>\n",
       "    </tr>\n",
       "    <tr>\n",
       "      <th>8</th>\n",
       "      <td>FCN</td>\n",
       "      <td>0.731574</td>\n",
       "      <td>0.065135</td>\n",
       "      <td>0.819495</td>\n",
       "      <td>0.653128</td>\n",
       "    </tr>\n",
       "  </tbody>\n",
       "</table>\n",
       "</div>"
      ],
      "text/plain": [
       "               Model   Avg MAE   Std MAE  90th percentile  10th percentile\n",
       "0       RandomForest  0.701252  0.056935         0.757835         0.629828\n",
       "1  Weighted_Ensemble  0.694058  0.057037         0.768866         0.623698\n",
       "2           Ensemble  0.700654  0.058551         0.783428         0.631756\n",
       "3              NuSVR  0.724657  0.061396         0.785201         0.643895\n",
       "4   LinearRegression  0.728070  0.059950         0.792448         0.663396\n",
       "5                SVR  0.712170  0.061733         0.792775         0.629024\n",
       "6            XGBoost  0.725220  0.058009         0.796913         0.642910\n",
       "7           LightGBM  0.717611  0.061090         0.807781         0.639743\n",
       "8                FCN  0.731574  0.065135         0.819495         0.653128"
      ]
     },
     "metadata": {},
     "output_type": "display_data"
    },
    {
     "name": "stdout",
     "output_type": "stream",
     "text": [
      "Weights:\n",
      "LinearRegression: 0.000\n",
      "FCN: 0.000\n",
      "RandomForest: 0.495\n",
      "XGBoost: 0.094\n",
      "SVR: 0.279\n",
      "NuSVR: 0.131\n",
      "LightGBM: 0.002\n",
      " \n",
      " \n",
      "**Copy and Paste following lines into the next cell.**\n",
      "##### LinearRegression\n",
      "Best R2 = 0.412985625467958  \n",
      "Weight = 0.000\n",
      "##### FCN\n",
      "Best L2_factor = 0.0010283389751594885  \n",
      "Best dropout_factor = 0.3059333281801748  \n",
      "Best R2 = 0.4410662110913644  \n",
      "Weight = 0.000\n",
      "##### RandomForest\n",
      "Best max_depth = 4  \n",
      "Best n_estimators = 165  \n",
      "Best R2 = 0.44955960316903565  \n",
      "Weight = 0.495\n",
      "##### XGBoost\n",
      "Best max_depth = 2  \n",
      "Best n_estimators = 74  \n",
      "Best R2 = 0.4151441540062713  \n",
      "Weight = 0.094\n",
      "##### SVR\n",
      "Best C = 0.008473094131137855  \n",
      "Best kernel = linear  \n",
      "Best R2 = 0.4264848817494777  \n",
      "Weight = 0.279\n",
      "##### NuSVR\n",
      "Best C = 184.29333614114873  \n",
      "Best kernel = linear  \n",
      "Best nu = 0.3423328614196417  \n",
      "Best R2 = 0.4249491691133574  \n",
      "Weight = 0.131\n",
      "##### LightGBM\n",
      "Best max_depth = 10  \n",
      "Best n_estimators = 25  \n",
      "Best R2 = 0.4268000484226063  \n",
      "Weight = 0.002\n",
      " \n",
      " \n"
     ]
    }
   ],
   "source": [
    "Y_feature = '氣溫'\n",
    "model_xcols = {\n",
    "    'LinearRegression': ['溫度'],\n",
    "    'FCN': ['溫度'],\n",
    "    'RandomForest': ['溫度'],\n",
    "    'XGBoost': ['溫度'],\n",
    "    'SVR': ['溫度'],\n",
    "    'NuSVR': ['溫度'],\n",
    "    'LightGBM': ['溫度'],\n",
    "}\n",
    "\n",
    "flow_control(Y_feature, model_xcols, forecast_obs_df, speed_test=speed_test)"
   ]
  },
  {
   "cell_type": "markdown",
   "id": "5bf0c897-6abe-4c09-b38c-602d786b9ad7",
   "metadata": {},
   "source": [
    "##### LinearRegression\n",
    "Best R2 = 0.412985625467958  \n",
    "Weight = 0.000\n",
    "##### FCN\n",
    "Best L2_factor = 0.0010283389751594885  \n",
    "Best dropout_factor = 0.3059333281801748  \n",
    "Best R2 = 0.4410662110913644  \n",
    "Weight = 0.000\n",
    "##### RandomForest\n",
    "Best max_depth = 4  \n",
    "Best n_estimators = 165  \n",
    "Best R2 = 0.44955960316903565  \n",
    "Weight = 0.495\n",
    "##### XGBoost\n",
    "Best max_depth = 2  \n",
    "Best n_estimators = 74  \n",
    "Best R2 = 0.4151441540062713  \n",
    "Weight = 0.094\n",
    "##### SVR\n",
    "Best C = 0.008473094131137855  \n",
    "Best kernel = linear  \n",
    "Best R2 = 0.4264848817494777  \n",
    "Weight = 0.279\n",
    "##### NuSVR\n",
    "Best C = 184.29333614114873  \n",
    "Best kernel = linear  \n",
    "Best nu = 0.3423328614196417  \n",
    "Best R2 = 0.4249491691133574  \n",
    "Weight = 0.131\n",
    "##### LightGBM\n",
    "Best max_depth = 10  \n",
    "Best n_estimators = 25  \n",
    "Best R2 = 0.4268000484226063  \n",
    "Weight = 0.002"
   ]
  },
  {
   "cell_type": "markdown",
   "id": "92dda953-cd2c-4dd1-aec8-b3501b4dae2b",
   "metadata": {},
   "source": [
    "### 風速"
   ]
  },
  {
   "cell_type": "code",
   "execution_count": 31,
   "id": "ddbb6d31-14b9-4377-88e2-2e4e5b15123e",
   "metadata": {},
   "outputs": [
    {
     "name": "stdout",
     "output_type": "stream",
     "text": [
      "Start to tune hyperparameters\n"
     ]
    },
    {
     "name": "stderr",
     "output_type": "stream",
     "text": [
      "100%|██████████████████████████████████████████████████████████████████████████████████| 30/30 [27:25<00:00, 54.86s/it]\n"
     ]
    },
    {
     "name": "stdout",
     "output_type": "stream",
     "text": [
      "FCN\n",
      "Best L2_factor = 0.05592638704213049\n",
      "Best dropout_factor = 0.07847548007604593\n",
      "Best R2 = 0.5813076958470627\n"
     ]
    },
    {
     "name": "stderr",
     "output_type": "stream",
     "text": [
      "100%|██████████████████████████████████████████████████████████████████████████████████| 30/30 [07:14<00:00, 14.48s/it]\n"
     ]
    },
    {
     "name": "stdout",
     "output_type": "stream",
     "text": [
      "RandomForest\n",
      "Best max_depth = 11\n",
      "Best n_estimators = 42\n",
      "Best R2 = 0.5347812133985134\n"
     ]
    },
    {
     "name": "stderr",
     "output_type": "stream",
     "text": [
      "100%|██████████████████████████████████████████████████████████████████████████████████| 30/30 [03:01<00:00,  6.04s/it]\n"
     ]
    },
    {
     "name": "stdout",
     "output_type": "stream",
     "text": [
      "XGBoost\n",
      "Best max_depth = 2\n",
      "Best n_estimators = 129\n",
      "Best R2 = 0.4174075328171598\n"
     ]
    },
    {
     "name": "stderr",
     "output_type": "stream",
     "text": [
      "100%|██████████████████████████████████████████████████████████████████████████████████| 30/30 [01:40<00:00,  3.34s/it]\n"
     ]
    },
    {
     "name": "stdout",
     "output_type": "stream",
     "text": [
      "LightGBM\n",
      "Best max_depth = 9\n",
      "Best n_estimators = 14\n",
      "Best R2 = 0.5009043458667409\n"
     ]
    },
    {
     "name": "stderr",
     "output_type": "stream",
     "text": [
      "100%|██████████████████████████████████████████████████████████████████████████████████| 30/30 [14:19<00:00, 28.64s/it]\n"
     ]
    },
    {
     "name": "stdout",
     "output_type": "stream",
     "text": [
      "SVR\n",
      "Best C = 23.778858785551915\n",
      "Best kernel = linear\n",
      "Best R2 = 0.5609041655735929\n"
     ]
    },
    {
     "name": "stderr",
     "output_type": "stream",
     "text": [
      "100%|██████████████████████████████████████████████████████████████████████████████████| 30/30 [29:54<00:00, 59.80s/it]\n"
     ]
    },
    {
     "name": "stdout",
     "output_type": "stream",
     "text": [
      "NuSVR\n",
      "Best C = 41.50123732942291\n",
      "Best kernel = linear\n",
      "Best nu = 0.5195660952664151\n",
      "Best R2 = 0.5516527526034817\n",
      "Start to determine Ensemble weights.\n"
     ]
    },
    {
     "name": "stderr",
     "output_type": "stream",
     "text": [
      "100%|██████████████████████████████████████████████████████████████████████████████████| 50/50 [09:47<00:00, 11.76s/it]\n"
     ]
    },
    {
     "data": {
      "text/html": [
       "<div>\n",
       "<style scoped>\n",
       "    .dataframe tbody tr th:only-of-type {\n",
       "        vertical-align: middle;\n",
       "    }\n",
       "\n",
       "    .dataframe tbody tr th {\n",
       "        vertical-align: top;\n",
       "    }\n",
       "\n",
       "    .dataframe thead th {\n",
       "        text-align: right;\n",
       "    }\n",
       "</style>\n",
       "<table border=\"1\" class=\"dataframe\">\n",
       "  <thead>\n",
       "    <tr style=\"text-align: right;\">\n",
       "      <th></th>\n",
       "      <th>Model</th>\n",
       "      <th>Avg MAE</th>\n",
       "      <th>Std MAE</th>\n",
       "      <th>90th percentile</th>\n",
       "      <th>10th percentile</th>\n",
       "    </tr>\n",
       "  </thead>\n",
       "  <tbody>\n",
       "    <tr>\n",
       "      <th>0</th>\n",
       "      <td>Weighted_Ensemble</td>\n",
       "      <td>0.641149</td>\n",
       "      <td>0.122737</td>\n",
       "      <td>0.788900</td>\n",
       "      <td>0.478972</td>\n",
       "    </tr>\n",
       "    <tr>\n",
       "      <th>1</th>\n",
       "      <td>Ensemble</td>\n",
       "      <td>0.651633</td>\n",
       "      <td>0.134014</td>\n",
       "      <td>0.806428</td>\n",
       "      <td>0.484556</td>\n",
       "    </tr>\n",
       "    <tr>\n",
       "      <th>2</th>\n",
       "      <td>RandomForest</td>\n",
       "      <td>0.677281</td>\n",
       "      <td>0.121363</td>\n",
       "      <td>0.819995</td>\n",
       "      <td>0.496929</td>\n",
       "    </tr>\n",
       "    <tr>\n",
       "      <th>3</th>\n",
       "      <td>SVR</td>\n",
       "      <td>0.694901</td>\n",
       "      <td>0.131119</td>\n",
       "      <td>0.862680</td>\n",
       "      <td>0.554611</td>\n",
       "    </tr>\n",
       "    <tr>\n",
       "      <th>4</th>\n",
       "      <td>NuSVR</td>\n",
       "      <td>0.704941</td>\n",
       "      <td>0.134148</td>\n",
       "      <td>0.883298</td>\n",
       "      <td>0.554146</td>\n",
       "    </tr>\n",
       "    <tr>\n",
       "      <th>5</th>\n",
       "      <td>FCN</td>\n",
       "      <td>0.722465</td>\n",
       "      <td>0.146154</td>\n",
       "      <td>0.901823</td>\n",
       "      <td>0.511010</td>\n",
       "    </tr>\n",
       "    <tr>\n",
       "      <th>6</th>\n",
       "      <td>XGBoost</td>\n",
       "      <td>0.732845</td>\n",
       "      <td>0.150622</td>\n",
       "      <td>0.929725</td>\n",
       "      <td>0.547871</td>\n",
       "    </tr>\n",
       "    <tr>\n",
       "      <th>7</th>\n",
       "      <td>LightGBM</td>\n",
       "      <td>0.757101</td>\n",
       "      <td>0.148423</td>\n",
       "      <td>0.947066</td>\n",
       "      <td>0.572576</td>\n",
       "    </tr>\n",
       "  </tbody>\n",
       "</table>\n",
       "</div>"
      ],
      "text/plain": [
       "               Model   Avg MAE   Std MAE  90th percentile  10th percentile\n",
       "0  Weighted_Ensemble  0.641149  0.122737         0.788900         0.478972\n",
       "1           Ensemble  0.651633  0.134014         0.806428         0.484556\n",
       "2       RandomForest  0.677281  0.121363         0.819995         0.496929\n",
       "3                SVR  0.694901  0.131119         0.862680         0.554611\n",
       "4              NuSVR  0.704941  0.134148         0.883298         0.554146\n",
       "5                FCN  0.722465  0.146154         0.901823         0.511010\n",
       "6            XGBoost  0.732845  0.150622         0.929725         0.547871\n",
       "7           LightGBM  0.757101  0.148423         0.947066         0.572576"
      ]
     },
     "metadata": {},
     "output_type": "display_data"
    },
    {
     "name": "stdout",
     "output_type": "stream",
     "text": [
      "Weights:\n",
      "FCN: 0.167\n",
      "RandomForest: 0.536\n",
      "XGBoost: 0.000\n",
      "LightGBM: 0.000\n",
      "SVR: 0.297\n",
      "NuSVR: 0.000\n",
      " \n",
      " \n",
      "**Copy and Paste following lines into the next cell.**\n",
      "##### FCN\n",
      "Best L2_factor = 0.05592638704213049  \n",
      "Best dropout_factor = 0.07847548007604593  \n",
      "Best R2 = 0.5813076958470627  \n",
      "Weight = 0.167\n",
      "##### RandomForest\n",
      "Best max_depth = 11  \n",
      "Best n_estimators = 42  \n",
      "Best R2 = 0.5347812133985134  \n",
      "Weight = 0.536\n",
      "##### XGBoost\n",
      "Best max_depth = 2  \n",
      "Best n_estimators = 129  \n",
      "Best R2 = 0.4174075328171598  \n",
      "Weight = 0.000\n",
      "##### LightGBM\n",
      "Best max_depth = 9  \n",
      "Best n_estimators = 14  \n",
      "Best R2 = 0.5009043458667409  \n",
      "Weight = 0.000\n",
      "##### SVR\n",
      "Best C = 23.778858785551915  \n",
      "Best kernel = linear  \n",
      "Best R2 = 0.5609041655735929  \n",
      "Weight = 0.297\n",
      "##### NuSVR\n",
      "Best C = 41.50123732942291  \n",
      "Best kernel = linear  \n",
      "Best nu = 0.5195660952664151  \n",
      "Best R2 = 0.5516527526034817  \n",
      "Weight = 0.000\n",
      " \n",
      " \n"
     ]
    }
   ],
   "source": [
    "Y_feature = '風速'\n",
    "model_xcols = {\n",
    "    'FCN': ['風速', '東西風', '南北風', '溫度'],\n",
    "    'RandomForest': ['風速', '東西風', '南北風', '晴', '多雲', '陰', '短暫陣雨', '短暫陣雨或雷雨', '午後短暫雷陣雨', '陣雨或雷雨', '相對溼度', '溫度'],\n",
    "    'XGBoost': ['風速', '東西風', '南北風', '溫度'],\n",
    "    'LightGBM': ['風速', '東西風', '南北風', '溫度'],\n",
    "    'SVR': ['風速', '東西風', '南北風', '溫度'],\n",
    "    'NuSVR': ['風速', '東西風', '南北風', '溫度'],\n",
    "}\n",
    "\n",
    "flow_control(Y_feature, model_xcols, forecast_obs_df, speed_test=speed_test)"
   ]
  },
  {
   "cell_type": "markdown",
   "id": "f3946461-d3d1-4228-b92f-c3d76060fbe5",
   "metadata": {},
   "source": [
    "##### FCN\n",
    "Best L2_factor = 0.05592638704213049  \n",
    "Best dropout_factor = 0.07847548007604593  \n",
    "Best R2 = 0.5813076958470627  \n",
    "Weight = 0.167\n",
    "##### RandomForest\n",
    "Best max_depth = 11  \n",
    "Best n_estimators = 42  \n",
    "Best R2 = 0.5347812133985134  \n",
    "Weight = 0.536\n",
    "##### XGBoost\n",
    "Best max_depth = 2  \n",
    "Best n_estimators = 129  \n",
    "Best R2 = 0.4174075328171598  \n",
    "Weight = 0.000\n",
    "##### LightGBM\n",
    "Best max_depth = 9  \n",
    "Best n_estimators = 14  \n",
    "Best R2 = 0.5009043458667409  \n",
    "Weight = 0.000\n",
    "##### SVR\n",
    "Best C = 23.778858785551915  \n",
    "Best kernel = linear  \n",
    "Best R2 = 0.5609041655735929  \n",
    "Weight = 0.297\n",
    "##### NuSVR\n",
    "Best C = 41.50123732942291  \n",
    "Best kernel = linear  \n",
    "Best nu = 0.5195660952664151  \n",
    "Best R2 = 0.5516527526034817  \n",
    "Weight = 0.000"
   ]
  },
  {
   "cell_type": "markdown",
   "id": "0ea1f413-cb97-46db-891e-2a42ed942855",
   "metadata": {},
   "source": [
    "## 預測電力資料"
   ]
  },
  {
   "cell_type": "markdown",
   "id": "e171639d-f29d-474c-b189-051214f50a5b",
   "metadata": {},
   "source": [
    "### 風力"
   ]
  },
  {
   "cell_type": "code",
   "execution_count": 32,
   "id": "53e84c36-1f88-4d4d-8a69-a828ef820973",
   "metadata": {},
   "outputs": [
    {
     "name": "stdout",
     "output_type": "stream",
     "text": [
      "Start to tune hyperparameters\n"
     ]
    },
    {
     "name": "stderr",
     "output_type": "stream",
     "text": [
      "100%|████████████████████████████████████████████████████████████████████████████████████| 1/1 [00:00<00:00, 18.93it/s]\n"
     ]
    },
    {
     "name": "stdout",
     "output_type": "stream",
     "text": [
      "LinearRegression\n",
      "Best R2 = 0.6044580733181938\n"
     ]
    },
    {
     "name": "stderr",
     "output_type": "stream",
     "text": [
      "100%|██████████████████████████████████████████████████████████████████████████████████| 30/30 [36:00<00:00, 72.02s/it]\n"
     ]
    },
    {
     "name": "stdout",
     "output_type": "stream",
     "text": [
      "FCN\n",
      "Best L2_factor = 0.03002014221111957\n",
      "Best dropout_factor = 0.1129475402935946\n",
      "Best R2 = 0.7277066975377966\n"
     ]
    },
    {
     "name": "stderr",
     "output_type": "stream",
     "text": [
      "100%|██████████████████████████████████████████████████████████████████████████████████| 30/30 [05:05<00:00, 10.18s/it]\n"
     ]
    },
    {
     "name": "stdout",
     "output_type": "stream",
     "text": [
      "RandomForest\n",
      "Best max_depth = 7\n",
      "Best n_estimators = 188\n",
      "Best R2 = 0.739926308023377\n"
     ]
    },
    {
     "name": "stderr",
     "output_type": "stream",
     "text": [
      "100%|██████████████████████████████████████████████████████████████████████████████████| 30/30 [02:57<00:00,  5.91s/it]\n"
     ]
    },
    {
     "name": "stdout",
     "output_type": "stream",
     "text": [
      "XGBoost\n",
      "Best max_depth = 2\n",
      "Best n_estimators = 82\n",
      "Best R2 = 0.7433508737111479\n"
     ]
    },
    {
     "name": "stderr",
     "output_type": "stream",
     "text": [
      "100%|██████████████████████████████████████████████████████████████████████████████████| 30/30 [04:17<00:00,  8.58s/it]\n"
     ]
    },
    {
     "name": "stdout",
     "output_type": "stream",
     "text": [
      "LightGBM\n",
      "Best max_depth = 10\n",
      "Best n_estimators = 123\n",
      "Best R2 = 0.7397801530188338\n"
     ]
    },
    {
     "name": "stderr",
     "output_type": "stream",
     "text": [
      "100%|██████████████████████████████████████████████████████████████████████████████████| 30/30 [00:19<00:00,  1.57it/s]\n"
     ]
    },
    {
     "name": "stdout",
     "output_type": "stream",
     "text": [
      "SVR\n",
      "Best C = 43.4883715636823\n",
      "Best kernel = rbf\n",
      "Best R2 = 0.7397300609763093\n"
     ]
    },
    {
     "name": "stderr",
     "output_type": "stream",
     "text": [
      "100%|██████████████████████████████████████████████████████████████████████████████████| 30/30 [00:15<00:00,  1.97it/s]\n"
     ]
    },
    {
     "name": "stdout",
     "output_type": "stream",
     "text": [
      "NuSVR\n",
      "Best C = 56.8991555460406\n",
      "Best kernel = rbf\n",
      "Best nu = 0.42159107656237693\n",
      "Best R2 = 0.7347554525194468\n",
      "Start to determine Ensemble weights.\n"
     ]
    },
    {
     "name": "stderr",
     "output_type": "stream",
     "text": [
      "100%|██████████████████████████████████████████████████████████████████████████████████| 50/50 [11:21<00:00, 13.64s/it]\n"
     ]
    },
    {
     "data": {
      "text/html": [
       "<div>\n",
       "<style scoped>\n",
       "    .dataframe tbody tr th:only-of-type {\n",
       "        vertical-align: middle;\n",
       "    }\n",
       "\n",
       "    .dataframe tbody tr th {\n",
       "        vertical-align: top;\n",
       "    }\n",
       "\n",
       "    .dataframe thead th {\n",
       "        text-align: right;\n",
       "    }\n",
       "</style>\n",
       "<table border=\"1\" class=\"dataframe\">\n",
       "  <thead>\n",
       "    <tr style=\"text-align: right;\">\n",
       "      <th></th>\n",
       "      <th>Model</th>\n",
       "      <th>Avg MAE</th>\n",
       "      <th>Std MAE</th>\n",
       "      <th>90th percentile</th>\n",
       "      <th>10th percentile</th>\n",
       "    </tr>\n",
       "  </thead>\n",
       "  <tbody>\n",
       "    <tr>\n",
       "      <th>0</th>\n",
       "      <td>Weighted_Ensemble</td>\n",
       "      <td>23.689793</td>\n",
       "      <td>2.447451</td>\n",
       "      <td>26.569012</td>\n",
       "      <td>20.047862</td>\n",
       "    </tr>\n",
       "    <tr>\n",
       "      <th>1</th>\n",
       "      <td>Ensemble</td>\n",
       "      <td>24.357148</td>\n",
       "      <td>2.600217</td>\n",
       "      <td>26.971047</td>\n",
       "      <td>20.640952</td>\n",
       "    </tr>\n",
       "    <tr>\n",
       "      <th>2</th>\n",
       "      <td>LightGBM</td>\n",
       "      <td>24.426788</td>\n",
       "      <td>2.657557</td>\n",
       "      <td>27.661451</td>\n",
       "      <td>21.102190</td>\n",
       "    </tr>\n",
       "    <tr>\n",
       "      <th>3</th>\n",
       "      <td>XGBoost</td>\n",
       "      <td>24.606834</td>\n",
       "      <td>2.541310</td>\n",
       "      <td>27.936836</td>\n",
       "      <td>21.117119</td>\n",
       "    </tr>\n",
       "    <tr>\n",
       "      <th>4</th>\n",
       "      <td>SVR</td>\n",
       "      <td>25.890909</td>\n",
       "      <td>2.355790</td>\n",
       "      <td>28.518512</td>\n",
       "      <td>22.982049</td>\n",
       "    </tr>\n",
       "    <tr>\n",
       "      <th>5</th>\n",
       "      <td>NuSVR</td>\n",
       "      <td>26.200458</td>\n",
       "      <td>2.399453</td>\n",
       "      <td>28.646622</td>\n",
       "      <td>23.128377</td>\n",
       "    </tr>\n",
       "    <tr>\n",
       "      <th>6</th>\n",
       "      <td>RandomForest</td>\n",
       "      <td>25.065664</td>\n",
       "      <td>2.884473</td>\n",
       "      <td>28.941073</td>\n",
       "      <td>21.261278</td>\n",
       "    </tr>\n",
       "    <tr>\n",
       "      <th>7</th>\n",
       "      <td>FCN</td>\n",
       "      <td>26.444157</td>\n",
       "      <td>2.956582</td>\n",
       "      <td>30.539933</td>\n",
       "      <td>22.437135</td>\n",
       "    </tr>\n",
       "    <tr>\n",
       "      <th>8</th>\n",
       "      <td>LinearRegression</td>\n",
       "      <td>33.072311</td>\n",
       "      <td>2.906614</td>\n",
       "      <td>36.625307</td>\n",
       "      <td>29.226393</td>\n",
       "    </tr>\n",
       "  </tbody>\n",
       "</table>\n",
       "</div>"
      ],
      "text/plain": [
       "               Model    Avg MAE   Std MAE  90th percentile  10th percentile\n",
       "0  Weighted_Ensemble  23.689793  2.447451        26.569012        20.047862\n",
       "1           Ensemble  24.357148  2.600217        26.971047        20.640952\n",
       "2           LightGBM  24.426788  2.657557        27.661451        21.102190\n",
       "3            XGBoost  24.606834  2.541310        27.936836        21.117119\n",
       "4                SVR  25.890909  2.355790        28.518512        22.982049\n",
       "5              NuSVR  26.200458  2.399453        28.646622        23.128377\n",
       "6       RandomForest  25.065664  2.884473        28.941073        21.261278\n",
       "7                FCN  26.444157  2.956582        30.539933        22.437135\n",
       "8   LinearRegression  33.072311  2.906614        36.625307        29.226393"
      ]
     },
     "metadata": {},
     "output_type": "display_data"
    },
    {
     "name": "stdout",
     "output_type": "stream",
     "text": [
      "Weights:\n",
      "LinearRegression: 0.000\n",
      "FCN: 0.062\n",
      "RandomForest: 0.000\n",
      "XGBoost: 0.307\n",
      "LightGBM: 0.260\n",
      "SVR: 0.201\n",
      "NuSVR: 0.170\n",
      " \n",
      " \n",
      "**Copy and Paste following lines into the next cell.**\n",
      "##### LinearRegression\n",
      "Best R2 = 0.6044580733181938  \n",
      "Weight = 0.000\n",
      "##### FCN\n",
      "Best L2_factor = 0.03002014221111957  \n",
      "Best dropout_factor = 0.1129475402935946  \n",
      "Best R2 = 0.7277066975377966  \n",
      "Weight = 0.062\n",
      "##### RandomForest\n",
      "Best max_depth = 7  \n",
      "Best n_estimators = 188  \n",
      "Best R2 = 0.739926308023377  \n",
      "Weight = 0.000\n",
      "##### XGBoost\n",
      "Best max_depth = 2  \n",
      "Best n_estimators = 82  \n",
      "Best R2 = 0.7433508737111479  \n",
      "Weight = 0.307\n",
      "##### LightGBM\n",
      "Best max_depth = 10  \n",
      "Best n_estimators = 123  \n",
      "Best R2 = 0.7397801530188338  \n",
      "Weight = 0.260\n",
      "##### SVR\n",
      "Best C = 43.4883715636823  \n",
      "Best kernel = rbf  \n",
      "Best R2 = 0.7397300609763093  \n",
      "Weight = 0.201\n",
      "##### NuSVR\n",
      "Best C = 56.8991555460406  \n",
      "Best kernel = rbf  \n",
      "Best nu = 0.42159107656237693  \n",
      "Best R2 = 0.7347554525194468  \n",
      "Weight = 0.170\n",
      " \n",
      " \n"
     ]
    }
   ],
   "source": [
    "Y_feature = '風力'\n",
    "\n",
    "model_xcols = {\n",
    "    'LinearRegression': ['風速', '日期數字', '假日', '週六', '週日', '補班', '1~3月', '11~12月'],\n",
    "    'FCN': ['風速', '日期數字', '假日', '週六', '週日', '補班', '1~3月', '11~12月'],\n",
    "    'RandomForest': ['風速', '日期數字', '假日', '週六', '週日', '補班', '1~3月', '11~12月'],\n",
    "    'XGBoost': ['風速', '日期數字', '假日', '週六', '週日', '補班', '1~3月', '11~12月'],\n",
    "    'LightGBM': ['風速', '日期數字', '假日', '週六', '週日', '補班', '1~3月', '11~12月'],\n",
    "    'SVR': ['風速', '日期數字', '假日', '週六', '週日', '補班', '1~3月', '11~12月'],\n",
    "    'NuSVR': ['風速', '日期數字', '假日', '週六', '週日', '補班', '1~3月', '11~12月'],\n",
    "}\n",
    "\n",
    "flow_control(Y_feature, model_xcols, weather_power_df, speed_test=speed_test)"
   ]
  },
  {
   "cell_type": "markdown",
   "id": "adbbc5a8-57f3-4605-a626-4980d5734dff",
   "metadata": {},
   "source": [
    "##### LinearRegression\n",
    "Best R2 = 0.6044580733181938  \n",
    "Weight = 0.000\n",
    "##### FCN\n",
    "Best L2_factor = 0.03002014221111957  \n",
    "Best dropout_factor = 0.1129475402935946  \n",
    "Best R2 = 0.7277066975377966  \n",
    "Weight = 0.062\n",
    "##### RandomForest\n",
    "Best max_depth = 7  \n",
    "Best n_estimators = 188  \n",
    "Best R2 = 0.739926308023377  \n",
    "Weight = 0.000\n",
    "##### XGBoost\n",
    "Best max_depth = 2  \n",
    "Best n_estimators = 82  \n",
    "Best R2 = 0.7433508737111479  \n",
    "Weight = 0.307\n",
    "##### LightGBM\n",
    "Best max_depth = 10  \n",
    "Best n_estimators = 123  \n",
    "Best R2 = 0.7397801530188338  \n",
    "Weight = 0.260\n",
    "##### SVR\n",
    "Best C = 43.4883715636823  \n",
    "Best kernel = rbf  \n",
    "Best R2 = 0.7397300609763093  \n",
    "Weight = 0.201\n",
    "##### NuSVR\n",
    "Best C = 56.8991555460406  \n",
    "Best kernel = rbf  \n",
    "Best nu = 0.42159107656237693  \n",
    "Best R2 = 0.7347554525194468  \n",
    "Weight = 0.170"
   ]
  },
  {
   "cell_type": "markdown",
   "id": "17647ecf-4c85-4e87-abac-2dc2159c6531",
   "metadata": {},
   "source": [
    "### 太陽能\n"
   ]
  },
  {
   "cell_type": "code",
   "execution_count": 33,
   "id": "0c5a9c8e-fc2d-4f70-ac02-60f50b4df9cb",
   "metadata": {},
   "outputs": [
    {
     "name": "stdout",
     "output_type": "stream",
     "text": [
      "Start to tune hyperparameters\n"
     ]
    },
    {
     "name": "stderr",
     "output_type": "stream",
     "text": [
      "100%|████████████████████████████████████████████████████████████████████████████████████| 1/1 [00:00<00:00, 18.47it/s]\n"
     ]
    },
    {
     "name": "stdout",
     "output_type": "stream",
     "text": [
      "LinearRegression\n",
      "Best R2 = 0.6893254685091934\n"
     ]
    },
    {
     "name": "stderr",
     "output_type": "stream",
     "text": [
      "100%|██████████████████████████████████████████████████████████████████████████████████| 30/30 [35:02<00:00, 70.07s/it]\n"
     ]
    },
    {
     "name": "stdout",
     "output_type": "stream",
     "text": [
      "FCN\n",
      "Best L2_factor = 0.16993690927931668\n",
      "Best dropout_factor = 0.26311208913533524\n",
      "Best R2 = 0.7702212180762896\n"
     ]
    },
    {
     "name": "stderr",
     "output_type": "stream",
     "text": [
      "100%|██████████████████████████████████████████████████████████████████████████████████| 30/30 [10:50<00:00, 21.69s/it]\n"
     ]
    },
    {
     "name": "stdout",
     "output_type": "stream",
     "text": [
      "RandomForest\n",
      "Best max_depth = 12\n",
      "Best n_estimators = 134\n",
      "Best R2 = 0.7258615014540506\n"
     ]
    },
    {
     "name": "stderr",
     "output_type": "stream",
     "text": [
      "100%|██████████████████████████████████████████████████████████████████████████████████| 30/30 [04:57<00:00,  9.92s/it]\n"
     ]
    },
    {
     "name": "stdout",
     "output_type": "stream",
     "text": [
      "XGBoost\n",
      "Best max_depth = 3\n",
      "Best n_estimators = 80\n",
      "Best R2 = 0.7180991262122053\n"
     ]
    },
    {
     "name": "stderr",
     "output_type": "stream",
     "text": [
      "100%|██████████████████████████████████████████████████████████████████████████████████| 30/30 [02:53<00:00,  5.80s/it]\n"
     ]
    },
    {
     "name": "stdout",
     "output_type": "stream",
     "text": [
      "LightGBM\n",
      "Best max_depth = 5\n",
      "Best n_estimators = 56\n",
      "Best R2 = 0.6956657014942508\n"
     ]
    },
    {
     "name": "stderr",
     "output_type": "stream",
     "text": [
      "100%|██████████████████████████████████████████████████████████████████████████████████| 30/30 [00:23<00:00,  1.26it/s]\n"
     ]
    },
    {
     "name": "stdout",
     "output_type": "stream",
     "text": [
      "SVR\n",
      "Best C = 6.694986116951681\n",
      "Best kernel = linear\n",
      "Best R2 = 0.6946904903081259\n"
     ]
    },
    {
     "name": "stderr",
     "output_type": "stream",
     "text": [
      "100%|██████████████████████████████████████████████████████████████████████████████████| 30/30 [00:19<00:00,  1.56it/s]\n"
     ]
    },
    {
     "name": "stdout",
     "output_type": "stream",
     "text": [
      "NuSVR\n",
      "Best C = 177.2132188450082\n",
      "Best kernel = rbf\n",
      "Best nu = 0.895376762270945\n",
      "Best R2 = 0.7579144014682827\n",
      "Start to determine Ensemble weights.\n"
     ]
    },
    {
     "name": "stderr",
     "output_type": "stream",
     "text": [
      "100%|██████████████████████████████████████████████████████████████████████████████████| 50/50 [13:34<00:00, 16.29s/it]\n"
     ]
    },
    {
     "data": {
      "text/html": [
       "<div>\n",
       "<style scoped>\n",
       "    .dataframe tbody tr th:only-of-type {\n",
       "        vertical-align: middle;\n",
       "    }\n",
       "\n",
       "    .dataframe tbody tr th {\n",
       "        vertical-align: top;\n",
       "    }\n",
       "\n",
       "    .dataframe thead th {\n",
       "        text-align: right;\n",
       "    }\n",
       "</style>\n",
       "<table border=\"1\" class=\"dataframe\">\n",
       "  <thead>\n",
       "    <tr style=\"text-align: right;\">\n",
       "      <th></th>\n",
       "      <th>Model</th>\n",
       "      <th>Avg MAE</th>\n",
       "      <th>Std MAE</th>\n",
       "      <th>90th percentile</th>\n",
       "      <th>10th percentile</th>\n",
       "    </tr>\n",
       "  </thead>\n",
       "  <tbody>\n",
       "    <tr>\n",
       "      <th>0</th>\n",
       "      <td>Weighted_Ensemble</td>\n",
       "      <td>82.813800</td>\n",
       "      <td>9.173639</td>\n",
       "      <td>93.198381</td>\n",
       "      <td>68.877181</td>\n",
       "    </tr>\n",
       "    <tr>\n",
       "      <th>1</th>\n",
       "      <td>NuSVR</td>\n",
       "      <td>83.893980</td>\n",
       "      <td>9.767768</td>\n",
       "      <td>94.697571</td>\n",
       "      <td>68.986657</td>\n",
       "    </tr>\n",
       "    <tr>\n",
       "      <th>2</th>\n",
       "      <td>Ensemble</td>\n",
       "      <td>89.487452</td>\n",
       "      <td>8.740659</td>\n",
       "      <td>99.071540</td>\n",
       "      <td>76.701945</td>\n",
       "    </tr>\n",
       "    <tr>\n",
       "      <th>3</th>\n",
       "      <td>FCN</td>\n",
       "      <td>91.121343</td>\n",
       "      <td>11.023916</td>\n",
       "      <td>103.026805</td>\n",
       "      <td>75.769183</td>\n",
       "    </tr>\n",
       "    <tr>\n",
       "      <th>4</th>\n",
       "      <td>RandomForest</td>\n",
       "      <td>92.968440</td>\n",
       "      <td>8.750425</td>\n",
       "      <td>103.866028</td>\n",
       "      <td>80.900226</td>\n",
       "    </tr>\n",
       "    <tr>\n",
       "      <th>5</th>\n",
       "      <td>XGBoost</td>\n",
       "      <td>98.244006</td>\n",
       "      <td>10.239459</td>\n",
       "      <td>112.106997</td>\n",
       "      <td>85.663249</td>\n",
       "    </tr>\n",
       "    <tr>\n",
       "      <th>6</th>\n",
       "      <td>LightGBM</td>\n",
       "      <td>101.745927</td>\n",
       "      <td>8.926734</td>\n",
       "      <td>114.475242</td>\n",
       "      <td>91.353746</td>\n",
       "    </tr>\n",
       "    <tr>\n",
       "      <th>7</th>\n",
       "      <td>SVR</td>\n",
       "      <td>111.455983</td>\n",
       "      <td>8.329078</td>\n",
       "      <td>119.238427</td>\n",
       "      <td>100.167045</td>\n",
       "    </tr>\n",
       "    <tr>\n",
       "      <th>8</th>\n",
       "      <td>LinearRegression</td>\n",
       "      <td>112.675842</td>\n",
       "      <td>8.966943</td>\n",
       "      <td>122.465924</td>\n",
       "      <td>98.758392</td>\n",
       "    </tr>\n",
       "  </tbody>\n",
       "</table>\n",
       "</div>"
      ],
      "text/plain": [
       "               Model     Avg MAE    Std MAE  90th percentile  10th percentile\n",
       "0  Weighted_Ensemble   82.813800   9.173639        93.198381        68.877181\n",
       "1              NuSVR   83.893980   9.767768        94.697571        68.986657\n",
       "2           Ensemble   89.487452   8.740659        99.071540        76.701945\n",
       "3                FCN   91.121343  11.023916       103.026805        75.769183\n",
       "4       RandomForest   92.968440   8.750425       103.866028        80.900226\n",
       "5            XGBoost   98.244006  10.239459       112.106997        85.663249\n",
       "6           LightGBM  101.745927   8.926734       114.475242        91.353746\n",
       "7                SVR  111.455983   8.329078       119.238427       100.167045\n",
       "8   LinearRegression  112.675842   8.966943       122.465924        98.758392"
      ]
     },
     "metadata": {},
     "output_type": "display_data"
    },
    {
     "name": "stdout",
     "output_type": "stream",
     "text": [
      "Weights:\n",
      "LinearRegression: 0.000\n",
      "FCN: 0.286\n",
      "RandomForest: 0.000\n",
      "XGBoost: 0.110\n",
      "LightGBM: 0.096\n",
      "SVR: 0.000\n",
      "NuSVR: 0.508\n",
      " \n",
      " \n",
      "**Copy and Paste following lines into the next cell.**\n",
      "##### LinearRegression\n",
      "Best R2 = 0.6893254685091934  \n",
      "Weight = 0.000\n",
      "##### FCN\n",
      "Best L2_factor = 0.16993690927931668  \n",
      "Best dropout_factor = 0.26311208913533524  \n",
      "Best R2 = 0.7702212180762896  \n",
      "Weight = 0.286\n",
      "##### RandomForest\n",
      "Best max_depth = 12  \n",
      "Best n_estimators = 134  \n",
      "Best R2 = 0.7258615014540506  \n",
      "Weight = 0.000\n",
      "##### XGBoost\n",
      "Best max_depth = 3  \n",
      "Best n_estimators = 80  \n",
      "Best R2 = 0.7180991262122053  \n",
      "Weight = 0.110\n",
      "##### LightGBM\n",
      "Best max_depth = 5  \n",
      "Best n_estimators = 56  \n",
      "Best R2 = 0.6956657014942508  \n",
      "Weight = 0.096\n",
      "##### SVR\n",
      "Best C = 6.694986116951681  \n",
      "Best kernel = linear  \n",
      "Best R2 = 0.6946904903081259  \n",
      "Weight = 0.000\n",
      "##### NuSVR\n",
      "Best C = 177.2132188450082  \n",
      "Best kernel = rbf  \n",
      "Best nu = 0.895376762270945  \n",
      "Best R2 = 0.7579144014682827  \n",
      "Weight = 0.508\n",
      " \n",
      " \n"
     ]
    }
   ],
   "source": [
    "Y_feature = '太陽能'\n",
    "\n",
    "model_xcols = {\n",
    "    'LinearRegression': ['氣溫', '最高氣溫', '最低氣溫', '全天空日射量', '日期數字', '假日', '週六', '週日', '補班', '白日長度'],\n",
    "    'FCN': ['氣溫', '最高氣溫', '最低氣溫', '全天空日射量', '日期數字', '假日', '週六', '週日', '補班', '白日長度'],\n",
    "    'RandomForest': ['氣溫', '最高氣溫', '最低氣溫', '全天空日射量', '日期數字', '假日', '週六', '週日', '補班', '白日長度'],\n",
    "    'XGBoost': ['氣溫', '最高氣溫', '最低氣溫', '全天空日射量', '日期數字', '假日', '週六', '週日', '補班', '白日長度'],\n",
    "    'LightGBM': ['氣溫', '最高氣溫', '最低氣溫', '全天空日射量', '日期數字', '假日', '週六', '週日', '補班', '白日長度'],\n",
    "    'SVR': ['氣溫', '最高氣溫', '最低氣溫', '全天空日射量', '日期數字', '假日', '週六', '週日', '補班', '白日長度'],\n",
    "    'NuSVR': ['氣溫', '最高氣溫', '最低氣溫', '全天空日射量', '日期數字', '假日', '週六', '週日', '補班', '白日長度'],\n",
    "}\n",
    "\n",
    "flow_control(Y_feature, model_xcols, weather_power_df, speed_test=speed_test)"
   ]
  },
  {
   "cell_type": "markdown",
   "id": "25e696ce-fcbe-4723-a503-49bc6460eaa4",
   "metadata": {},
   "source": [
    "##### LinearRegression\n",
    "Best R2 = 0.6893254685091934  \n",
    "Weight = 0.000\n",
    "##### FCN\n",
    "Best L2_factor = 0.16993690927931668  \n",
    "Best dropout_factor = 0.26311208913533524  \n",
    "Best R2 = 0.7702212180762896  \n",
    "Weight = 0.286\n",
    "##### RandomForest\n",
    "Best max_depth = 12  \n",
    "Best n_estimators = 134  \n",
    "Best R2 = 0.7258615014540506  \n",
    "Weight = 0.000\n",
    "##### XGBoost\n",
    "Best max_depth = 3  \n",
    "Best n_estimators = 80  \n",
    "Best R2 = 0.7180991262122053  \n",
    "Weight = 0.110\n",
    "##### LightGBM\n",
    "Best max_depth = 5  \n",
    "Best n_estimators = 56  \n",
    "Best R2 = 0.6956657014942508  \n",
    "Weight = 0.096\n",
    "##### SVR\n",
    "Best C = 6.694986116951681  \n",
    "Best kernel = linear  \n",
    "Best R2 = 0.6946904903081259  \n",
    "Weight = 0.000\n",
    "##### NuSVR\n",
    "Best C = 177.2132188450082  \n",
    "Best kernel = rbf  \n",
    "Best nu = 0.895376762270945  \n",
    "Best R2 = 0.7579144014682827  \n",
    "Weight = 0.508"
   ]
  },
  {
   "cell_type": "markdown",
   "id": "e03d3a27-87d8-479d-a87c-f75efad5207f",
   "metadata": {},
   "source": [
    "### 尖峰負載"
   ]
  },
  {
   "cell_type": "code",
   "execution_count": 34,
   "id": "92919b34-c4ff-46eb-9613-c8c7b0c37e9e",
   "metadata": {},
   "outputs": [
    {
     "name": "stdout",
     "output_type": "stream",
     "text": [
      "Start to tune hyperparameters\n"
     ]
    },
    {
     "name": "stderr",
     "output_type": "stream",
     "text": [
      "100%|████████████████████████████████████████████████████████████████████████████████████| 1/1 [00:00<00:00, 18.73it/s]\n"
     ]
    },
    {
     "name": "stdout",
     "output_type": "stream",
     "text": [
      "LinearRegression\n",
      "Best R2 = 0.8890289107063775\n"
     ]
    },
    {
     "name": "stderr",
     "output_type": "stream",
     "text": [
      "100%|██████████████████████████████████████████████████████████████████████████████████| 30/30 [35:44<00:00, 71.50s/it]\n"
     ]
    },
    {
     "name": "stdout",
     "output_type": "stream",
     "text": [
      "FCN\n",
      "Best L2_factor = 0.029438708713891412\n",
      "Best dropout_factor = 0.03116915624902694\n",
      "Best R2 = 0.9577894981452781\n"
     ]
    },
    {
     "name": "stderr",
     "output_type": "stream",
     "text": [
      "100%|██████████████████████████████████████████████████████████████████████████████████| 30/30 [09:22<00:00, 18.76s/it]\n"
     ]
    },
    {
     "name": "stdout",
     "output_type": "stream",
     "text": [
      "RandomForest\n",
      "Best max_depth = 13\n",
      "Best n_estimators = 184\n",
      "Best R2 = 0.9323579004467799\n"
     ]
    },
    {
     "name": "stderr",
     "output_type": "stream",
     "text": [
      "100%|██████████████████████████████████████████████████████████████████████████████████| 30/30 [03:56<00:00,  7.87s/it]\n"
     ]
    },
    {
     "name": "stdout",
     "output_type": "stream",
     "text": [
      "XGBoost\n",
      "Best max_depth = 2\n",
      "Best n_estimators = 104\n",
      "Best R2 = 0.9421413919017114\n"
     ]
    },
    {
     "name": "stderr",
     "output_type": "stream",
     "text": [
      "100%|██████████████████████████████████████████████████████████████████████████████████| 30/30 [04:42<00:00,  9.43s/it]\n"
     ]
    },
    {
     "name": "stdout",
     "output_type": "stream",
     "text": [
      "LightGBM\n",
      "Best max_depth = 7\n",
      "Best n_estimators = 195\n",
      "Best R2 = 0.902646535842623\n"
     ]
    },
    {
     "name": "stderr",
     "output_type": "stream",
     "text": [
      "100%|██████████████████████████████████████████████████████████████████████████████████| 30/30 [00:18<00:00,  1.61it/s]\n"
     ]
    },
    {
     "name": "stdout",
     "output_type": "stream",
     "text": [
      "SVR\n",
      "Best C = 37.19208540364481\n",
      "Best kernel = linear\n",
      "Best R2 = 0.8797513372128146\n"
     ]
    },
    {
     "name": "stderr",
     "output_type": "stream",
     "text": [
      "100%|██████████████████████████████████████████████████████████████████████████████████| 30/30 [00:18<00:00,  1.66it/s]\n"
     ]
    },
    {
     "name": "stdout",
     "output_type": "stream",
     "text": [
      "NuSVR\n",
      "Best C = 34.75381072717423\n",
      "Best kernel = rbf\n",
      "Best nu = 0.42062297329040543\n",
      "Best R2 = 0.8956020285392687\n",
      "Start to determine Ensemble weights.\n"
     ]
    },
    {
     "name": "stderr",
     "output_type": "stream",
     "text": [
      "100%|██████████████████████████████████████████████████████████████████████████████████| 50/50 [12:23<00:00, 14.86s/it]\n"
     ]
    },
    {
     "data": {
      "text/html": [
       "<div>\n",
       "<style scoped>\n",
       "    .dataframe tbody tr th:only-of-type {\n",
       "        vertical-align: middle;\n",
       "    }\n",
       "\n",
       "    .dataframe tbody tr th {\n",
       "        vertical-align: top;\n",
       "    }\n",
       "\n",
       "    .dataframe thead th {\n",
       "        text-align: right;\n",
       "    }\n",
       "</style>\n",
       "<table border=\"1\" class=\"dataframe\">\n",
       "  <thead>\n",
       "    <tr style=\"text-align: right;\">\n",
       "      <th></th>\n",
       "      <th>Model</th>\n",
       "      <th>Avg MAE</th>\n",
       "      <th>Std MAE</th>\n",
       "      <th>90th percentile</th>\n",
       "      <th>10th percentile</th>\n",
       "    </tr>\n",
       "  </thead>\n",
       "  <tbody>\n",
       "    <tr>\n",
       "      <th>0</th>\n",
       "      <td>Weighted_Ensemble</td>\n",
       "      <td>58.238429</td>\n",
       "      <td>7.517430</td>\n",
       "      <td>67.310282</td>\n",
       "      <td>49.154207</td>\n",
       "    </tr>\n",
       "    <tr>\n",
       "      <th>1</th>\n",
       "      <td>Ensemble</td>\n",
       "      <td>67.949573</td>\n",
       "      <td>7.563160</td>\n",
       "      <td>78.427612</td>\n",
       "      <td>57.839259</td>\n",
       "    </tr>\n",
       "    <tr>\n",
       "      <th>2</th>\n",
       "      <td>XGBoost</td>\n",
       "      <td>71.687087</td>\n",
       "      <td>7.331282</td>\n",
       "      <td>82.414173</td>\n",
       "      <td>61.136055</td>\n",
       "    </tr>\n",
       "    <tr>\n",
       "      <th>3</th>\n",
       "      <td>RandomForest</td>\n",
       "      <td>72.634203</td>\n",
       "      <td>8.286729</td>\n",
       "      <td>83.898491</td>\n",
       "      <td>62.559788</td>\n",
       "    </tr>\n",
       "    <tr>\n",
       "      <th>4</th>\n",
       "      <td>FCN</td>\n",
       "      <td>65.978280</td>\n",
       "      <td>10.876740</td>\n",
       "      <td>84.176985</td>\n",
       "      <td>54.346568</td>\n",
       "    </tr>\n",
       "    <tr>\n",
       "      <th>5</th>\n",
       "      <td>LightGBM</td>\n",
       "      <td>90.914490</td>\n",
       "      <td>9.900384</td>\n",
       "      <td>104.885466</td>\n",
       "      <td>78.953365</td>\n",
       "    </tr>\n",
       "    <tr>\n",
       "      <th>6</th>\n",
       "      <td>NuSVR</td>\n",
       "      <td>100.614051</td>\n",
       "      <td>9.578762</td>\n",
       "      <td>111.643131</td>\n",
       "      <td>88.209442</td>\n",
       "    </tr>\n",
       "    <tr>\n",
       "      <th>7</th>\n",
       "      <td>LinearRegression</td>\n",
       "      <td>111.827804</td>\n",
       "      <td>8.094048</td>\n",
       "      <td>123.230984</td>\n",
       "      <td>101.959491</td>\n",
       "    </tr>\n",
       "    <tr>\n",
       "      <th>8</th>\n",
       "      <td>SVR</td>\n",
       "      <td>111.714345</td>\n",
       "      <td>9.350355</td>\n",
       "      <td>125.866888</td>\n",
       "      <td>98.883680</td>\n",
       "    </tr>\n",
       "  </tbody>\n",
       "</table>\n",
       "</div>"
      ],
      "text/plain": [
       "               Model     Avg MAE    Std MAE  90th percentile  10th percentile\n",
       "0  Weighted_Ensemble   58.238429   7.517430        67.310282        49.154207\n",
       "1           Ensemble   67.949573   7.563160        78.427612        57.839259\n",
       "2            XGBoost   71.687087   7.331282        82.414173        61.136055\n",
       "3       RandomForest   72.634203   8.286729        83.898491        62.559788\n",
       "4                FCN   65.978280  10.876740        84.176985        54.346568\n",
       "5           LightGBM   90.914490   9.900384       104.885466        78.953365\n",
       "6              NuSVR  100.614051   9.578762       111.643131        88.209442\n",
       "7   LinearRegression  111.827804   8.094048       123.230984       101.959491\n",
       "8                SVR  111.714345   9.350355       125.866888        98.883680"
      ]
     },
     "metadata": {},
     "output_type": "display_data"
    },
    {
     "name": "stdout",
     "output_type": "stream",
     "text": [
      "Weights:\n",
      "LinearRegression: 0.000\n",
      "FCN: 0.549\n",
      "RandomForest: 0.013\n",
      "XGBoost: 0.202\n",
      "LightGBM: 0.181\n",
      "SVR: 0.000\n",
      "NuSVR: 0.055\n",
      " \n",
      " \n",
      "**Copy and Paste following lines into the next cell.**\n",
      "##### LinearRegression\n",
      "Best R2 = 0.8890289107063775  \n",
      "Weight = 0.000\n",
      "##### FCN\n",
      "Best L2_factor = 0.029438708713891412  \n",
      "Best dropout_factor = 0.03116915624902694  \n",
      "Best R2 = 0.9577894981452781  \n",
      "Weight = 0.549\n",
      "##### RandomForest\n",
      "Best max_depth = 13  \n",
      "Best n_estimators = 184  \n",
      "Best R2 = 0.9323579004467799  \n",
      "Weight = 0.013\n",
      "##### XGBoost\n",
      "Best max_depth = 2  \n",
      "Best n_estimators = 104  \n",
      "Best R2 = 0.9421413919017114  \n",
      "Weight = 0.202\n",
      "##### LightGBM\n",
      "Best max_depth = 7  \n",
      "Best n_estimators = 195  \n",
      "Best R2 = 0.902646535842623  \n",
      "Weight = 0.181\n",
      "##### SVR\n",
      "Best C = 37.19208540364481  \n",
      "Best kernel = linear  \n",
      "Best R2 = 0.8797513372128146  \n",
      "Weight = 0.000\n",
      "##### NuSVR\n",
      "Best C = 34.75381072717423  \n",
      "Best kernel = rbf  \n",
      "Best nu = 0.42062297329040543  \n",
      "Best R2 = 0.8956020285392687  \n",
      "Weight = 0.055\n",
      " \n",
      " \n"
     ]
    }
   ],
   "source": [
    "Y_feature = '尖峰負載'\n",
    "\n",
    "model_xcols = {\n",
    "    'LinearRegression': ['氣溫', '最高氣溫', '最低氣溫', '日期數字', '假日', '週六', '週日', '補班', '1~3月', '11~12月'],\n",
    "    'FCN': ['氣溫', '最高氣溫', '最低氣溫', '日期數字', '假日', '週六', '週日', '補班', '1~3月', '11~12月'],\n",
    "    'RandomForest': ['氣溫', '最高氣溫', '最低氣溫', '日期數字', '假日', '週六', '週日', '補班', '1~3月', '11~12月'],\n",
    "    'XGBoost': ['氣溫', '最高氣溫', '最低氣溫', '日期數字', '假日', '週六', '週日', '補班', '1~3月', '11~12月'],\n",
    "    'LightGBM': ['氣溫', '最高氣溫', '最低氣溫', '日期數字', '假日', '週六', '週日', '補班', '1~3月', '11~12月'],\n",
    "    'SVR': ['氣溫', '最高氣溫', '最低氣溫', '日期數字', '假日', '週六', '週日', '補班', '1~3月', '11~12月'],\n",
    "    'NuSVR': ['氣溫', '最高氣溫', '最低氣溫', '日期數字', '假日', '週六', '週日', '補班', '1~3月', '11~12月'],\n",
    "}\n",
    "\n",
    "flow_control(Y_feature, model_xcols, weather_power_df, speed_test=speed_test)"
   ]
  },
  {
   "cell_type": "markdown",
   "id": "2a3e3a78-9b4d-4196-a6b6-9c795a1c2a76",
   "metadata": {},
   "source": [
    "##### LinearRegression\n",
    "Best R2 = 0.8890289107063775  \n",
    "Weight = 0.000\n",
    "##### FCN\n",
    "Best L2_factor = 0.029438708713891412  \n",
    "Best dropout_factor = 0.03116915624902694  \n",
    "Best R2 = 0.9577894981452781  \n",
    "Weight = 0.549\n",
    "##### RandomForest\n",
    "Best max_depth = 13  \n",
    "Best n_estimators = 184  \n",
    "Best R2 = 0.9323579004467799  \n",
    "Weight = 0.013\n",
    "##### XGBoost\n",
    "Best max_depth = 2  \n",
    "Best n_estimators = 104  \n",
    "Best R2 = 0.9421413919017114  \n",
    "Weight = 0.202\n",
    "##### LightGBM\n",
    "Best max_depth = 7  \n",
    "Best n_estimators = 195  \n",
    "Best R2 = 0.902646535842623  \n",
    "Weight = 0.181\n",
    "##### SVR\n",
    "Best C = 37.19208540364481  \n",
    "Best kernel = linear  \n",
    "Best R2 = 0.8797513372128146  \n",
    "Weight = 0.000\n",
    "##### NuSVR\n",
    "Best C = 34.75381072717423  \n",
    "Best kernel = rbf  \n",
    "Best nu = 0.42062297329040543  \n",
    "Best R2 = 0.8956020285392687  \n",
    "Weight = 0.055"
   ]
  },
  {
   "cell_type": "markdown",
   "id": "db3c73e0-9ee5-4ff4-b0a0-2061cee20bfa",
   "metadata": {},
   "source": [
    "### 夜尖峰"
   ]
  },
  {
   "cell_type": "code",
   "execution_count": 35,
   "id": "1de62e0e-8152-433a-a3ee-4bd2fce9c28a",
   "metadata": {},
   "outputs": [
    {
     "name": "stdout",
     "output_type": "stream",
     "text": [
      "Start to tune hyperparameters\n"
     ]
    },
    {
     "name": "stderr",
     "output_type": "stream",
     "text": [
      "100%|██████████████████████████████████████████████████████████████████████████████████| 30/30 [41:15<00:00, 82.51s/it]\n"
     ]
    },
    {
     "name": "stdout",
     "output_type": "stream",
     "text": [
      "FCN\n",
      "Best L2_factor = 0.002576271940664411\n",
      "Best dropout_factor = 0.1252443332428825\n",
      "Best F1 = 0.8748909576667637\n"
     ]
    },
    {
     "name": "stderr",
     "output_type": "stream",
     "text": [
      "100%|██████████████████████████████████████████████████████████████████████████████████| 30/30 [00:13<00:00,  2.25it/s]\n"
     ]
    },
    {
     "name": "stdout",
     "output_type": "stream",
     "text": [
      "LogisticRegression\n",
      "Best C = 0.7975026697912178\n",
      "Best solver = sag\n",
      "Best F1 = 0.8541996823354088\n"
     ]
    },
    {
     "name": "stderr",
     "output_type": "stream",
     "text": [
      "100%|██████████████████████████████████████████████████████████████████████████████████| 30/30 [04:12<00:00,  8.42s/it]\n"
     ]
    },
    {
     "name": "stdout",
     "output_type": "stream",
     "text": [
      "RandomForest\n",
      "Best max_depth = 14\n",
      "Best n_estimators = 95\n",
      "Best F1 = 0.8186294971282218\n"
     ]
    },
    {
     "name": "stderr",
     "output_type": "stream",
     "text": [
      "100%|██████████████████████████████████████████████████████████████████████████████████| 30/30 [02:19<00:00,  4.63s/it]\n"
     ]
    },
    {
     "name": "stdout",
     "output_type": "stream",
     "text": [
      "XGBoost\n",
      "Best max_depth = 15\n",
      "Best n_estimators = 33\n",
      "Best F1 = 0.8624582788638403\n"
     ]
    },
    {
     "name": "stderr",
     "output_type": "stream",
     "text": [
      "100%|██████████████████████████████████████████████████████████████████████████████████| 30/30 [03:12<00:00,  6.40s/it]\n"
     ]
    },
    {
     "name": "stdout",
     "output_type": "stream",
     "text": [
      "LightGBM\n",
      "Best max_depth = 2\n",
      "Best n_estimators = 56\n",
      "Best F1 = 0.8285599799076798\n"
     ]
    },
    {
     "name": "stderr",
     "output_type": "stream",
     "text": [
      "100%|██████████████████████████████████████████████████████████████████████████████████| 30/30 [00:17<00:00,  1.72it/s]\n"
     ]
    },
    {
     "name": "stdout",
     "output_type": "stream",
     "text": [
      "SVC\n",
      "Best C = 1.2964550960648644\n",
      "Best kernel = rbf\n",
      "Best F1 = 0.8649222578257927\n",
      "Start to determine Ensemble weights.\n"
     ]
    },
    {
     "name": "stderr",
     "output_type": "stream",
     "text": [
      "100%|██████████████████████████████████████████████████████████████████████████████████| 50/50 [13:37<00:00, 16.35s/it]\n"
     ]
    },
    {
     "data": {
      "text/html": [
       "<div>\n",
       "<style scoped>\n",
       "    .dataframe tbody tr th:only-of-type {\n",
       "        vertical-align: middle;\n",
       "    }\n",
       "\n",
       "    .dataframe tbody tr th {\n",
       "        vertical-align: top;\n",
       "    }\n",
       "\n",
       "    .dataframe thead th {\n",
       "        text-align: right;\n",
       "    }\n",
       "</style>\n",
       "<table border=\"1\" class=\"dataframe\">\n",
       "  <thead>\n",
       "    <tr style=\"text-align: right;\">\n",
       "      <th></th>\n",
       "      <th>Model</th>\n",
       "      <th>Avg F1</th>\n",
       "      <th>Std F1</th>\n",
       "      <th>90th percentile</th>\n",
       "      <th>10th percentile</th>\n",
       "    </tr>\n",
       "  </thead>\n",
       "  <tbody>\n",
       "    <tr>\n",
       "      <th>0</th>\n",
       "      <td>Ensemble</td>\n",
       "      <td>0.884325</td>\n",
       "      <td>0.054831</td>\n",
       "      <td>0.947368</td>\n",
       "      <td>0.814815</td>\n",
       "    </tr>\n",
       "    <tr>\n",
       "      <th>1</th>\n",
       "      <td>XGBoost</td>\n",
       "      <td>0.877427</td>\n",
       "      <td>0.046210</td>\n",
       "      <td>0.933333</td>\n",
       "      <td>0.810811</td>\n",
       "    </tr>\n",
       "    <tr>\n",
       "      <th>2</th>\n",
       "      <td>LogisticRegression</td>\n",
       "      <td>0.871987</td>\n",
       "      <td>0.054327</td>\n",
       "      <td>0.928571</td>\n",
       "      <td>0.800000</td>\n",
       "    </tr>\n",
       "    <tr>\n",
       "      <th>3</th>\n",
       "      <td>Weighted_Ensemble</td>\n",
       "      <td>0.877506</td>\n",
       "      <td>0.053421</td>\n",
       "      <td>0.930233</td>\n",
       "      <td>0.800000</td>\n",
       "    </tr>\n",
       "    <tr>\n",
       "      <th>4</th>\n",
       "      <td>SVC</td>\n",
       "      <td>0.869981</td>\n",
       "      <td>0.058050</td>\n",
       "      <td>0.930233</td>\n",
       "      <td>0.769231</td>\n",
       "    </tr>\n",
       "    <tr>\n",
       "      <th>5</th>\n",
       "      <td>LightGBM</td>\n",
       "      <td>0.832040</td>\n",
       "      <td>0.057751</td>\n",
       "      <td>0.904762</td>\n",
       "      <td>0.765957</td>\n",
       "    </tr>\n",
       "    <tr>\n",
       "      <th>6</th>\n",
       "      <td>RandomForest</td>\n",
       "      <td>0.836314</td>\n",
       "      <td>0.057493</td>\n",
       "      <td>0.900000</td>\n",
       "      <td>0.758621</td>\n",
       "    </tr>\n",
       "    <tr>\n",
       "      <th>7</th>\n",
       "      <td>FCN</td>\n",
       "      <td>0.838140</td>\n",
       "      <td>0.064904</td>\n",
       "      <td>0.918919</td>\n",
       "      <td>0.750000</td>\n",
       "    </tr>\n",
       "  </tbody>\n",
       "</table>\n",
       "</div>"
      ],
      "text/plain": [
       "                Model    Avg F1    Std F1  90th percentile  10th percentile\n",
       "0            Ensemble  0.884325  0.054831         0.947368         0.814815\n",
       "1             XGBoost  0.877427  0.046210         0.933333         0.810811\n",
       "2  LogisticRegression  0.871987  0.054327         0.928571         0.800000\n",
       "3   Weighted_Ensemble  0.877506  0.053421         0.930233         0.800000\n",
       "4                 SVC  0.869981  0.058050         0.930233         0.769231\n",
       "5            LightGBM  0.832040  0.057751         0.904762         0.765957\n",
       "6        RandomForest  0.836314  0.057493         0.900000         0.758621\n",
       "7                 FCN  0.838140  0.064904         0.918919         0.750000"
      ]
     },
     "metadata": {},
     "output_type": "display_data"
    },
    {
     "name": "stdout",
     "output_type": "stream",
     "text": [
      "Weights:\n",
      "FCN: 0.153\n",
      "LogisticRegression: 0.331\n",
      "RandomForest: 0.208\n",
      "XGBoost: 0.291\n",
      "LightGBM: 0.000\n",
      "SVC: 0.016\n",
      " \n",
      " \n",
      "**Copy and Paste following lines into the next cell.**\n",
      "##### FCN\n",
      "Best L2_factor = 0.002576271940664411  \n",
      "Best dropout_factor = 0.1252443332428825  \n",
      "Best R2 = 0.8748909576667637  \n",
      "Weight = 0.153\n",
      "##### LogisticRegression\n",
      "Best C = 0.7975026697912178  \n",
      "Best solver = sag  \n",
      "Best R2 = 0.8541996823354088  \n",
      "Weight = 0.331\n",
      "##### RandomForest\n",
      "Best max_depth = 14  \n",
      "Best n_estimators = 95  \n",
      "Best R2 = 0.8186294971282218  \n",
      "Weight = 0.208\n",
      "##### XGBoost\n",
      "Best max_depth = 15  \n",
      "Best n_estimators = 33  \n",
      "Best R2 = 0.8624582788638403  \n",
      "Weight = 0.291\n",
      "##### LightGBM\n",
      "Best max_depth = 2  \n",
      "Best n_estimators = 56  \n",
      "Best R2 = 0.8285599799076798  \n",
      "Weight = 0.000\n",
      "##### SVC\n",
      "Best C = 1.2964550960648644  \n",
      "Best kernel = rbf  \n",
      "Best R2 = 0.8649222578257927  \n",
      "Weight = 0.016\n",
      " \n",
      " \n"
     ]
    }
   ],
   "source": [
    "Y_feature = '夜尖峰'\n",
    "model_xcols = {\n",
    "    'FCN': ['氣溫', '最高氣溫', '最低氣溫', '日期數字', '假日', '週六', '週日', '補班', '白日長度'],\n",
    "    'LogisticRegression': ['氣溫', '最高氣溫', '最低氣溫', '日期數字', '假日', '週六', '週日', '補班', '白日長度'],\n",
    "    'RandomForest': ['氣溫', '最高氣溫', '最低氣溫', '日期數字', '假日', '週六', '週日', '補班', '白日長度'],\n",
    "    'XGBoost': ['氣溫', '最高氣溫', '最低氣溫', '日期數字', '假日', '週六', '週日', '補班', '白日長度'],\n",
    "    'LightGBM': ['氣溫', '最高氣溫', '最低氣溫', '日期數字', '假日', '週六', '週日', '補班', '白日長度'],\n",
    "    'SVC': ['氣溫', '最高氣溫', '最低氣溫', '日期數字', '假日', '週六', '週日', '補班', '白日長度']\n",
    "}\n",
    "\n",
    "flow_control(Y_feature, model_xcols, weather_power_df, mode='classifier', speed_test=speed_test)"
   ]
  },
  {
   "cell_type": "markdown",
   "id": "f6a92659-f820-4930-b3a5-4d2f31bc97b5",
   "metadata": {},
   "source": [
    "##### FCN\n",
    "Best L2_factor = 0.002576271940664411  \n",
    "Best dropout_factor = 0.1252443332428825  \n",
    "Best R2 = 0.8748909576667637  \n",
    "Weight = 0.153\n",
    "##### LogisticRegression\n",
    "Best C = 0.7975026697912178  \n",
    "Best solver = sag  \n",
    "Best R2 = 0.8541996823354088  \n",
    "Weight = 0.331\n",
    "##### RandomForest\n",
    "Best max_depth = 14  \n",
    "Best n_estimators = 95  \n",
    "Best R2 = 0.8186294971282218  \n",
    "Weight = 0.208\n",
    "##### XGBoost\n",
    "Best max_depth = 15  \n",
    "Best n_estimators = 33  \n",
    "Best R2 = 0.8624582788638403  \n",
    "Weight = 0.291\n",
    "##### LightGBM\n",
    "Best max_depth = 2  \n",
    "Best n_estimators = 56  \n",
    "Best R2 = 0.8285599799076798  \n",
    "Weight = 0.000\n",
    "##### SVC\n",
    "Best C = 1.2964550960648644  \n",
    "Best kernel = rbf  \n",
    "Best R2 = 0.8649222578257927  \n",
    "Weight = 0.016"
   ]
  },
  {
   "cell_type": "code",
   "execution_count": null,
   "id": "6c7996fe-82c2-4c7e-b8a6-c2c513bd89c9",
   "metadata": {},
   "outputs": [],
   "source": []
  }
 ],
 "metadata": {
  "kernelspec": {
   "display_name": "Python 3 (ipykernel)",
   "language": "python",
   "name": "python3"
  },
  "language_info": {
   "codemirror_mode": {
    "name": "ipython",
    "version": 3
   },
   "file_extension": ".py",
   "mimetype": "text/x-python",
   "name": "python",
   "nbconvert_exporter": "python",
   "pygments_lexer": "ipython3",
   "version": "3.9.19"
  }
 },
 "nbformat": 4,
 "nbformat_minor": 5
}
