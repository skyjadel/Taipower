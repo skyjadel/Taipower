{
 "cells": [
  {
   "cell_type": "markdown",
   "id": "b20e0a82-d08a-4bcf-96ca-6b98c5ff49f2",
   "metadata": {},
   "source": [
    "# 從氣象署預報預測真實氣象觀測數值"
   ]
  },
  {
   "cell_type": "markdown",
   "id": "eda10dfc-bfb4-4db9-bc8c-63f2ef29dc16",
   "metadata": {},
   "source": [
    "這個筆記本包含了模型第一部分的建立  \n",
    "以及超參數的調整與集成學習的權重決定"
   ]
  },
  {
   "cell_type": "markdown",
   "id": "174f73c1-0bda-447d-bb61-bf37da56de8c",
   "metadata": {},
   "source": [
    "## 初始化"
   ]
  },
  {
   "cell_type": "code",
   "execution_count": 1,
   "id": "0b9ea70f-ab7e-4cd0-b081-ba8a6f48e687",
   "metadata": {},
   "outputs": [],
   "source": [
    "import numpy as np\n",
    "import pandas as pd\n",
    "import matplotlib.pyplot as plt\n",
    "import matplotlib\n",
    "#這兩行讓 matplotlib 的圖可以顯示中文，同時正常顯示負號\n",
    "matplotlib.rc('font', family='Microsoft JhengHei')\n",
    "plt.rcParams['axes.unicode_minus'] = False\n",
    "import datetime\n",
    "from copy import deepcopy\n",
    "import os\n",
    "import joblib\n",
    "import json\n",
    "from tqdm import tqdm\n",
    "import optuna\n",
    "\n",
    "# 設置Optuna日誌級別為 WARNING，僅顯示警告及以上級別的信息\n",
    "optuna.logging.set_verbosity(optuna.logging.WARNING)\n",
    "\n",
    "pd.set_option('future.no_silent_downcasting', True)"
   ]
  },
  {
   "cell_type": "code",
   "execution_count": 2,
   "id": "77949b3c-a746-4a43-a9a5-dc4c5529cd12",
   "metadata": {},
   "outputs": [],
   "source": [
    "from sklearn.preprocessing import StandardScaler\n",
    "from sklearn.linear_model import LinearRegression\n",
    "from sklearn.model_selection import train_test_split\n",
    "from xgboost import XGBRegressor\n",
    "from lightgbm import LGBMRegressor\n",
    "from sklearn.ensemble import RandomForestRegressor\n",
    "from sklearn.model_selection import KFold\n",
    "from sklearn.svm import SVR, NuSVR\n",
    "\n",
    "from scipy.optimize import minimize"
   ]
  },
  {
   "cell_type": "code",
   "execution_count": 3,
   "id": "32663eb4-901f-47ff-b101-bca7e25cd075",
   "metadata": {},
   "outputs": [],
   "source": [
    "import torch\n",
    "import torch.nn as nn\n",
    "from torch.utils.data import DataLoader, TensorDataset\n",
    "import torch.optim as optim"
   ]
  },
  {
   "cell_type": "code",
   "execution_count": 4,
   "id": "afebb39d-8843-4475-81b0-9df51a37c3d2",
   "metadata": {},
   "outputs": [],
   "source": [
    "from Pytorch_models.metrics import Array_Metrics\n",
    "from Pytorch_models import models as pytorch_models\n",
    "from Pytorch_models import api\n",
    "MAE = Array_Metrics.mae\n",
    "R2_score = Array_Metrics.r2"
   ]
  },
  {
   "cell_type": "code",
   "execution_count": 5,
   "id": "51aed92e-4413-4ef2-a950-0871452e76b1",
   "metadata": {},
   "outputs": [],
   "source": [
    "from utils.prepare_data import prepare_forecast_observation_df, prepare_data"
   ]
  },
  {
   "cell_type": "code",
   "execution_count": 6,
   "id": "41bf8ba4-bf38-4beb-af7b-29e00e121f87",
   "metadata": {},
   "outputs": [],
   "source": [
    "speed_test = True\n",
    "\n",
    "start_date = '2023-08-01'\n",
    "end_date = '2025-01-01'\n",
    "\n",
    "# 此值為 False 則重新計算，True 則從存檔中讀取\n",
    "optuna_done = {\n",
    "    '日照率': False,\n",
    "    '最高氣溫': False,\n",
    "    '最低氣溫': False,\n",
    "    '氣溫': False,\n",
    "    '風速': False,\n",
    "}\n",
    "\n",
    "weights_determined = {\n",
    "    '日照率': False,\n",
    "    '最高氣溫': False,\n",
    "    '最低氣溫': False,\n",
    "    '氣溫': False,\n",
    "    '風速': False,\n",
    "}"
   ]
  },
  {
   "cell_type": "markdown",
   "id": "2797ea2b-b4a7-4c71-9d16-217948e2438e",
   "metadata": {},
   "source": [
    "## 讀取並整理資料"
   ]
  },
  {
   "cell_type": "markdown",
   "id": "206aa955-32d7-4af6-8dbc-080f61f5db60",
   "metadata": {},
   "source": [
    "讀取先前經由爬蟲定時抓取的預報與觀測資料，並調整格式"
   ]
  },
  {
   "cell_type": "code",
   "execution_count": 7,
   "id": "cc102d6b-6564-4f55-a7fd-44e834544049",
   "metadata": {},
   "outputs": [],
   "source": [
    "data_path = './historical/data/'\n",
    "train_model_path = './trained_model_parameters/model_meta_2024-09-03/'"
   ]
  },
  {
   "cell_type": "code",
   "execution_count": 8,
   "id": "0dcf13bc-fc77-43f7-ba00-e5fa42671e2e",
   "metadata": {},
   "outputs": [],
   "source": [
    "forecast_obs_df = prepare_forecast_observation_df(data_path, start_date=start_date, end_date=end_date)\n",
    "weather_power_df = prepare_data(data_path, start_date=start_date, end_date=end_date)\n",
    "weather_power_df['夜尖峰'] = [0 if se > 20 else 1 for se in weather_power_df['太陽能']]"
   ]
  },
  {
   "cell_type": "markdown",
   "id": "72dbd112-db6b-4c14-adfc-01f475e07d32",
   "metadata": {},
   "source": [
    "## 函數"
   ]
  },
  {
   "cell_type": "markdown",
   "id": "248d8ff6-dc57-488d-bcb6-d36ac88d4d86",
   "metadata": {},
   "source": [
    "### FCN model API"
   ]
  },
  {
   "cell_type": "code",
   "execution_count": 9,
   "id": "5a896f47-caea-47af-96bd-54ba71a142eb",
   "metadata": {},
   "outputs": [],
   "source": [
    "def FCN_model(input_f, output_f, feature_counts, dropout_factor=0, L2_factor=1e-15, mode='regressor'):\n",
    "    if mode == 'regressor':\n",
    "        model = pytorch_models.SimpleNN(input_f, output_f, feature_counts, dropout_factor)\n",
    "    elif mode == 'classifier':\n",
    "        model = pytorch_models.SimpleNN_classifer(input_f, output_f, feature_counts, dropout_factor)\n",
    "    Model_API = api.Model_API(model, L2_factor=L2_factor, classifer=(mode=='classifier'))\n",
    "    return Model_API"
   ]
  },
  {
   "cell_type": "markdown",
   "id": "43c5c9b0-3ddf-4765-9f2a-b671a4dcb68a",
   "metadata": {},
   "source": [
    "### Hyper Parameter Tuning"
   ]
  },
  {
   "cell_type": "markdown",
   "id": "d4695195-9096-4225-85ff-04accabddd05",
   "metadata": {},
   "source": [
    "這部分的函數有：  \n",
    "1. get_XY_from_forecast_and_observation: 從 DataFrame 中提取需要的 X 與 Y 兩個 numpy array。\n",
    "2. five_fold_test: 執行一次 5-fold 測試，會呼叫 get_XY_from_forecast_and_observation。\n",
    "3. hyperparameter_tuning: 針對特定的模型與超參數組合，呼叫 five_fold_test 執行多次 5-fold 測試，並回傳 R2 值。\n",
    "4. optuna_operation: 利用第三方套件 optuna 執行超參數調整，會呼叫 hyperparameter_tuning。\n",
    "\n",
    "流程控制函數 flow_control 會呼叫 optuna_operation，而主程式只會直接呼叫 flow_control。"
   ]
  },
  {
   "cell_type": "code",
   "execution_count": 10,
   "id": "95014553-4c93-4dd2-bace-5898c46cab84",
   "metadata": {},
   "outputs": [],
   "source": [
    "def get_XY(data_df, Y_feature, X_features=None):\n",
    "    date_related_cols = ['日期數字', '假日', '週六', '週日', '補班', '1~3月', '11~12月', '白日長度']\n",
    "    \n",
    "    if Y_feature in ['最高氣溫', '最低氣溫', '氣溫', '風速', '日照率', '全天空日射量']:\n",
    "        target = 'obs'\n",
    "    elif Y_feature in ['風力', '太陽能', '尖峰負載', '夜尖峰']:\n",
    "        target = 'pwd'\n",
    "\n",
    "    X_cols = []\n",
    "    if X_features is None:\n",
    "        for this_col in data_df.columns:\n",
    "            if '_' in this_col:\n",
    "                X_cols.append(this_col)\n",
    "        if target == 'pwd':\n",
    "            X_cols += date_related_cols\n",
    "    else:\n",
    "        for col in data_df.columns:\n",
    "            if target == 'obs':\n",
    "                dash_splited = col.split('預報_')\n",
    "            elif target == 'pwd':\n",
    "                dash_splited = col.split('_')\n",
    "            if len(dash_splited) >= 2:\n",
    "                if dash_splited[0] in X_features:\n",
    "                    X_cols.append(col)\n",
    "            else:\n",
    "                if col in date_related_cols and col in X_features:\n",
    "                    X_cols.append(col)\n",
    "\n",
    "    Xs = np.array(data_df[X_cols])\n",
    "    Ys = np.array(data_df[Y_feature])\n",
    "\n",
    "    Xs = Xs[np.invert(np.isnan(Ys)),:]\n",
    "    Ys = Ys[np.invert(np.isnan(Ys))]\n",
    "\n",
    "    return Xs, Ys, X_cols"
   ]
  },
  {
   "cell_type": "code",
   "execution_count": 11,
   "id": "f496d22a-ed77-443f-b526-b1188dda6111",
   "metadata": {},
   "outputs": [],
   "source": [
    "def five_fold_test(Xs, Ys, model=XGBRegressor(), mode='regressor',\n",
    "                   deep_learning=False, fold_n=5, standard_scale=True, always_test_last_chunk=False):\n",
    "    \n",
    "    def metric(Y_test, Y_pred, mode=mode):\n",
    "        if mode == 'regressor':\n",
    "            return 1 - np.mean((Y_test - Y_pred)**2) / np.var(Y_test)\n",
    "        elif mode == 'classifier':\n",
    "            return f1_score(Y_test, Y_pred)\n",
    "\n",
    "    shuffle = not always_test_last_chunk\n",
    "    kf = KFold(n_splits=fold_n, shuffle=shuffle)\n",
    "    \n",
    "    XY_folds = {}\n",
    "    for i, (train_index, test_index) in enumerate(kf.split(Xs)):\n",
    "        XY_folds[i] = (train_index, test_index)\n",
    "    \n",
    "    metric_test_list = []\n",
    "    metric_train_list = []\n",
    "\n",
    "    if always_test_last_chunk:\n",
    "        iters = [fold_n-1]\n",
    "    else:\n",
    "        iters = range(fold_n)\n",
    "    \n",
    "    for i in iters:\n",
    "        if deep_learning:\n",
    "            input_f = model.model.params['input_f']\n",
    "            output_f = model.model.params['output_f']\n",
    "            feature_counts = model.model.params['feature_counts']\n",
    "            dropout_factor = model.model.params['dropout_factor']\n",
    "            L2_factor = model.L2_factor\n",
    "            model = FCN_model(input_f=input_f, output_f=output_f, feature_counts=feature_counts,\n",
    "                              dropout_factor=dropout_factor, L2_factor=L2_factor,mode=mode)\n",
    "            \n",
    "        X_train = Xs[XY_folds[i][0]]\n",
    "        X_test = Xs[XY_folds[i][1]]\n",
    "        Y_train = Ys[XY_folds[i][0]]\n",
    "        Y_test = Ys[XY_folds[i][1]]\n",
    "\n",
    "        if deep_learning:\n",
    "            X_train_DL, X_val, Y_train_DL, Y_val = train_test_split(X_train, Y_train, test_size=0.20)\n",
    "    \n",
    "        if standard_scale:\n",
    "            scaler = StandardScaler()\n",
    "            scaler.fit(X_train)\n",
    "            X_train = scaler.transform(X_train)\n",
    "            X_test = scaler.transform(X_test)\n",
    "            if deep_learning:\n",
    "                X_val = scaler.transform(X_val)\n",
    "            \n",
    "        if deep_learning:\n",
    "            _ = model.fit(X_train_DL, Y_train_DL, X_val, Y_val)\n",
    "        else:\n",
    "            _ = model.fit(X_train, Y_train)\n",
    "    \n",
    "        Y_pred = model.predict(X_test)\n",
    "        metric_test_list.append(metric(Y_test, Y_pred))\n",
    "\n",
    "        Y_pred = model.predict(X_train)\n",
    "        metric_train_list.append(metric(Y_train, Y_pred))\n",
    "\n",
    "    metric_test = np.mean(metric_test_list)\n",
    "    metric_train = np.mean(metric_train_list)\n",
    "    return metric_test, metric_train"
   ]
  },
  {
   "cell_type": "code",
   "execution_count": 12,
   "id": "a31496ed-0c2f-4c82-96ef-833f16e4a771",
   "metadata": {},
   "outputs": [],
   "source": [
    "def hyperparameter_tuning(trial, Xs, Ys, model_label='RandomForest', n_iters=50, always_test_last_chunk=False):\n",
    "    deep_learning = False\n",
    "    standard_scale = True\n",
    "    if model_label in ['RandomForest', 'XGBoost', 'LightGBM']:\n",
    "        cfg = {'max_depth': trial.suggest_int('max_depth', 2, 15),\n",
    "               'n_estimators': trial.suggest_int('n_estimators', 10, 200)}\n",
    "        max_depth = cfg['max_depth']\n",
    "        n_estimators = cfg['n_estimators']\n",
    "    \n",
    "        if model_label == 'RandomForest':\n",
    "            model = RandomForestRegressor(max_depth=max_depth, n_estimators=n_estimators)\n",
    "        elif model_label == 'XGBoost':\n",
    "            model = XGBRegressor(max_depth=max_depth, n_estimators=n_estimators)\n",
    "        elif model_label == 'LightGBM':\n",
    "            model = LGBMRegressor(force_col_wise=True, verbose=-1, max_depth=max_depth, n_estimators=n_estimators)\n",
    "    elif model_label == 'SVR':\n",
    "        cfg = {'C': trial.suggest_float('C', 1e-3, 2e2, log=True),\n",
    "               'kernel': trial.suggest_categorical('kernel', ['linear', 'poly', 'rbf', 'sigmoid'])}\n",
    "        C = cfg['C']\n",
    "        kernel = cfg['kernel']\n",
    "        model = SVR(C=C, kernel=kernel)\n",
    "    elif model_label == 'NuSVR':\n",
    "        cfg = {'C': trial.suggest_float('C', 1e-3, 2e2, log=True),\n",
    "               'kernel': trial.suggest_categorical('kernel', ['linear', 'poly', 'rbf', 'sigmoid']),\n",
    "               'nu': trial.suggest_float('nu', 0.1, 0.9)}\n",
    "        C = cfg['C']\n",
    "        kernel = cfg['kernel']\n",
    "        nu = cfg['nu']\n",
    "        model = NuSVR(C=C, kernel=kernel, nu=nu)\n",
    "    elif model_label == 'FCN':\n",
    "        deep_learning = True\n",
    "        standard_scale = False\n",
    "        cfg = {'L2_factor': trial.suggest_float('L2_factor', 1e-3, 1, log=True),\n",
    "               'dropout_factor': trial.suggest_float('dropout_factor', 0, 0.5)}\n",
    "        L2_factor = cfg['L2_factor']\n",
    "        dropout_factor = cfg['dropout_factor']\n",
    "        input_f = Xs.shape[1] \n",
    "        output_f = 1 \n",
    "        feature_counts = [16, 16, 16, 8]\n",
    "        model = FCN_model(input_f=input_f, output_f=output_f, feature_counts=feature_counts,\n",
    "                          dropout_factor=dropout_factor, L2_factor=L2_factor)\n",
    "    elif model_label == 'LinearRegression':\n",
    "        model = LinearRegression()\n",
    "        \n",
    "    R2_list = []\n",
    "    iterator = range(n_iters)\n",
    "    for i in iterator:\n",
    "        R2, _ = five_fold_test(Xs, Ys, model, deep_learning=deep_learning, standard_scale=standard_scale, always_test_last_chunk=always_test_last_chunk)\n",
    "        R2_list.append(R2)\n",
    "\n",
    "    return np.mean(R2_list) - np.std(R2_list)"
   ]
  },
  {
   "cell_type": "code",
   "execution_count": 13,
   "id": "5603dc94-8aad-4a25-8c15-c16d35a08549",
   "metadata": {},
   "outputs": [],
   "source": [
    "def optuna_operation(model_xcols, Y_feature, data_df, speed_test=False,\n",
    "                     optuna_n_trials=30, n_iters=30, always_test_last_chunk=False):\n",
    "    model_hyperparameters_dict = {}\n",
    "    model_r2_dict = {}\n",
    "    \n",
    "    if always_test_last_chunk:\n",
    "        n_iters = 1\n",
    "\n",
    "    model_labels = list(model_xcols.keys())\n",
    "    \n",
    "    for model_label in model_labels:\n",
    "        X_features = model_xcols[model_label]\n",
    "        Xs, Ys, _ = get_XY(data_df, Y_feature, X_features)\n",
    "\n",
    "        this_n_iters = n_iters\n",
    "        this_optuna_n_trials = optuna_n_trials\n",
    "\n",
    "        if model_label == 'FCN':\n",
    "            this_n_iters = min(this_n_iters, 1)\n",
    "            if speed_test:\n",
    "                this_optuna_n_trials = 4\n",
    "\n",
    "        if model_label == 'LinearRegression':\n",
    "            this_optuna_n_trials = 1\n",
    "            this_n_iters = 10\n",
    "            \n",
    "        def target_func(trial, model_label=model_label, Xs=Xs, Ys=Ys, n_iters=this_n_iters, always_test_last_chunk=always_test_last_chunk):\n",
    "            return hyperparameter_tuning(trial, model_label=model_label, Xs=Xs, Ys=Ys, n_iters=n_iters, always_test_last_chunk=always_test_last_chunk)\n",
    "        \n",
    "        sampler = optuna.samplers.TPESampler()\n",
    "        study = optuna.create_study(sampler=sampler, direction='maximize')\n",
    "        with tqdm(total=this_optuna_n_trials) as pbar:\n",
    "            for _ in range(this_optuna_n_trials):\n",
    "                study.optimize(target_func, n_trials=1, catch=(Exception,))\n",
    "                pbar.update(1)\n",
    "        \n",
    "        print(model_label)\n",
    "        for key, v in study.best_params.items():\n",
    "            print(f\"Best {key} = {v}\")\n",
    "        print(f\"Best R2 = {study.best_value}\")\n",
    "    \n",
    "        model_hyperparameters_dict[model_label] = study.best_params\n",
    "        model_r2_dict[model_label] = study.best_value\n",
    "\n",
    "    return model_hyperparameters_dict, model_r2_dict"
   ]
  },
  {
   "cell_type": "markdown",
   "id": "08fc6511-40ea-4ff7-b520-b95fe18bfe1e",
   "metadata": {},
   "source": [
    "### Ensemble"
   ]
  },
  {
   "cell_type": "markdown",
   "id": "6c58e03b-5c09-4200-a0b8-8fb779217419",
   "metadata": {},
   "source": [
    "這部分的函數有：\n",
    "1. cross_correlation_matrix: 由不同模型的預測誤差產生相關矩陣。\n",
    "2. sovle_optimal_weights: 由誤差相關矩陣解出最佳權重。\n",
    "3. assign_model: 由 model_label 與 model_hyperparameters_dict 產生一個模型 instance。\n",
    "4. find_avg_score_with_given_model_list: 算出 N 組模型預測誤差樣本，再從中解出最佳權重，並提供不同模型的平均誤差。\n",
    "5. save_model_metadata: 儲存這份筆記本得到的每個被預測值所採用的模型組合，以及每個模型採用的特徵、超參數與權重。\n",
    "\n",
    "流程控制函數中會呼叫 find_avg_score_with_given_model_list 與 save_model_metadata"
   ]
  },
  {
   "cell_type": "code",
   "execution_count": 14,
   "id": "21fd8684-bd83-48df-87e3-dfdd01aa4f50",
   "metadata": {},
   "outputs": [],
   "source": [
    "def cross_correlation_matrix(residuals):\n",
    "    N = len(residuals)\n",
    "    matrix = np.zeros((N, N))\n",
    "    for i in range(N):\n",
    "        for j in range(i, N):\n",
    "            matrix[i][j] = np.mean(np.array(residuals[i]) * np.array(residuals[j]))\n",
    "\n",
    "    for i in range(1, N):\n",
    "        for j in range(i):\n",
    "            matrix[i][j] = matrix[j][i]\n",
    "\n",
    "    return matrix"
   ]
  },
  {
   "cell_type": "code",
   "execution_count": 15,
   "id": "36002714-ae2f-4097-902e-a94df23c90ca",
   "metadata": {},
   "outputs": [],
   "source": [
    "def sovle_optimal_weights(matrix):\n",
    "    N = matrix.shape[0]\n",
    "    def objective(weights):\n",
    "        return weights.T @ matrix @ weights\n",
    "\n",
    "    initial_weights = np.array([1/N] * N)\n",
    "    constraints = ({'type': 'eq', 'fun': lambda w: np.sum(w) - 1})\n",
    "    bounds = [(0, 1)] * N\n",
    "    result = minimize(objective, initial_weights, method='SLSQP', bounds=bounds, constraints=constraints)\n",
    "    \n",
    "    optimal_weights = result.x\n",
    "    return optimal_weights"
   ]
  },
  {
   "cell_type": "code",
   "execution_count": 16,
   "id": "1f15b8fb-52a9-4ea1-82f0-b84a37a656a4",
   "metadata": {},
   "outputs": [],
   "source": [
    "def assign_model(model_label, Xs, model_hyperparameters_dict, mode='regressor'):\n",
    "    if mode == 'regressor':\n",
    "        if model_label == 'LinearRegression':\n",
    "            model = LinearRegression()\n",
    "        elif model_label == 'RandomForest':\n",
    "            model = RandomForestRegressor(**model_hyperparameters_dict[model_label])\n",
    "        elif model_label == 'XGBoost':\n",
    "            model = XGBRegressor(**model_hyperparameters_dict[model_label])\n",
    "        elif model_label == 'LightGBM':\n",
    "            model = LGBMRegressor(force_col_wise=True, verbose=-1, **model_hyperparameters_dict[model_label])\n",
    "        elif model_label == 'SVR':\n",
    "            model = SVR(**model_hyperparameters_dict[model_label])\n",
    "        elif model_label == 'NuSVR':\n",
    "            model = NuSVR(**model_hyperparameters_dict[model_label])\n",
    "        elif model_label == 'FCN':\n",
    "            input_f = Xs.shape[1]\n",
    "            output_f = 1\n",
    "            feature_counts = [16, 16, 16, 8]\n",
    "            model = FCN_model(input_f=input_f, output_f=output_f, feature_counts=feature_counts,\n",
    "                      **model_hyperparameters_dict[model_label])\n",
    "    elif mode == 'classifier':\n",
    "        if model_label == 'FCN':\n",
    "            input_f = Xs.shape[1]\n",
    "            output_f = 1\n",
    "            feature_counts = [16, 16, 16, 8]\n",
    "            model = FCN_model(input_f=input_f, output_f=output_f, feature_counts=feature_counts,\n",
    "                                mode='classifier', \n",
    "                                **model_hyperparameters_dict[model_label])\n",
    "        elif model_label == 'RandomForest':\n",
    "            model = RandomForestClassifier(**model_hyperparameters_dict[model_label])\n",
    "        elif model_label == 'XGBoost':\n",
    "            model = XGBClassifier(**model_hyperparameters_dict[model_label])\n",
    "        elif model_label == 'LightGBM':\n",
    "            model = LGBMClassifier(force_col_wise=True, verbose=-1, **model_hyperparameters_dict[model_label])\n",
    "        elif model_label == 'SVC':\n",
    "            model = SVC(**model_hyperparameters_dict[model_label])\n",
    "        elif model_label == 'NuSVC':\n",
    "            model = NuSVC(**model_hyperparameters_dict[model_label])\n",
    "        elif model_label == 'LogisticRegression':\n",
    "            model = LogisticRegression(**model_hyperparameters_dict[model_label])\n",
    "    return model"
   ]
  },
  {
   "cell_type": "code",
   "execution_count": 17,
   "id": "be8752c8-22af-48de-b9d4-5fe481285d10",
   "metadata": {
    "editable": true,
    "slideshow": {
     "slide_type": ""
    },
    "tags": []
   },
   "outputs": [],
   "source": [
    "def find_avg_score_with_given_model_list(model_hyperparameters_dict, model_xcols,\n",
    "                                         data_df, Y_feature, mode='regressor',\n",
    "                                         n_iters=200, weights=None):\n",
    "\n",
    "    if mode == 'regressor':\n",
    "        metric_name = 'MAE'\n",
    "    elif mode == 'classifier':\n",
    "        metric_name = 'F1'\n",
    "    \n",
    "    def get_prediction(model_label, Y_train, train_ind, test_ind,\n",
    "                       model_hyperparameters_dict=model_hyperparameters_dict,\n",
    "                       model_xcols=model_xcols,\n",
    "                       data_df=data_df, \n",
    "                       Y_feature=Y_feature):\n",
    "        \n",
    "        X_features = model_xcols[model_label]\n",
    "        Xs, _, _ = get_XY(data_df, Y_feature=Y_feature, X_features=X_features)\n",
    "\n",
    "        model = assign_model(model_label, Xs, model_hyperparameters_dict=model_hyperparameters_dict, mode=mode)\n",
    "\n",
    "        deep_learning = False\n",
    "        if model_label == 'FCN':\n",
    "            deep_learning = True\n",
    "    \n",
    "        X_train = Xs[train_ind]\n",
    "        X_test = Xs[test_ind]\n",
    "        \n",
    "        if deep_learning:\n",
    "            X_train_dl, X_val, Y_train_dl, Y_val = train_test_split(X_train, Y_train, test_size=0.20)\n",
    "            _ = model.fit(X_train_dl, Y_train_dl, X_val, Y_val)\n",
    "        else:\n",
    "            scaler = StandardScaler()\n",
    "            X_scaler = scaler.fit(X_train)\n",
    "            X_train = X_scaler.transform(X_train)\n",
    "            X_test = X_scaler.transform(X_test)\n",
    "            _ = model.fit(X_train, Y_train)\n",
    "        YP = model.predict(X_test)\n",
    "        return YP        \n",
    "    \n",
    "    if weights is None:\n",
    "        ensemble_models = list(model_hyperparameters_dict.keys())\n",
    "    else:\n",
    "        ensemble_models = list(weights.keys())\n",
    "        \n",
    "    Y_pred_iters = []\n",
    "    Y_test_iters = []\n",
    "    metric = []\n",
    "\n",
    "    X_features=model_xcols[ensemble_models[0]]\n",
    "    Xs, Ys, _ = get_XY(data_df, Y_feature=Y_feature, X_features=X_features)\n",
    "\n",
    "    matrix = np.zeros((len(ensemble_models), len(ensemble_models)))\n",
    "    for i in tqdm(range(n_iters)):\n",
    "        train_ind, test_ind, _, _ = train_test_split(np.arange(Xs.shape[0]), np.arange(Xs.shape[0]), test_size=0.20)\n",
    "        \n",
    "        Y_train = Ys[train_ind]\n",
    "        Y_test = Ys[test_ind]\n",
    "        \n",
    "        Y_preds = []\n",
    "        this_metric = []\n",
    "        for model_label in ensemble_models:\n",
    "            YP = get_prediction(model_label, Y_train, train_ind, test_ind)\n",
    "            if mode == 'regressor':\n",
    "                this_metric.append(MAE(Y_test, YP))\n",
    "            elif mode == 'classifier':\n",
    "                YP[np.where(YP<0.5)] = 0\n",
    "                YP[np.where(YP>=0.5)] = 1\n",
    "                this_metric.append(f1_score(Y_test, YP))\n",
    "            Y_preds.append(YP)\n",
    "            \n",
    "        residuals = Y_preds - np.array([Y_test] * len(Y_preds)).reshape(len(Y_preds),-1)\n",
    "        if weights is None:\n",
    "            matrix += cross_correlation_matrix(residuals)\n",
    "\n",
    "        uniform_ensemble_YP = np.mean(Y_preds, axis=0)\n",
    "        if mode == 'regressor':\n",
    "            this_metric.append(MAE(Y_test, uniform_ensemble_YP))\n",
    "        elif mode == 'classifier':\n",
    "            uniform_ensemble_YP[np.where(uniform_ensemble_YP<0.5)] = 0\n",
    "            uniform_ensemble_YP[np.where(uniform_ensemble_YP>=0.5)] = 1\n",
    "            this_metric.append(f1_score(Y_test, uniform_ensemble_YP))\n",
    "\n",
    "        metric.append(this_metric)\n",
    "        Y_pred_iters.append(Y_preds)\n",
    "        Y_test_iters.append(Y_test)\n",
    "\n",
    "    if weights is None:\n",
    "        matrix = matrix / n_iters\n",
    "        optimal_weights = sovle_optimal_weights(matrix)\n",
    "    else:\n",
    "        optimal_weights = weights\n",
    "\n",
    "    weighted_metric = []\n",
    "    for i in range(n_iters):\n",
    "        weighted_YP = np.sum(Y_pred_iters[i] * np.concatenate([optimal_weights.reshape(-1,1),] * Y_test_iters[0].shape[0], axis = 1), axis=0)\n",
    "        if mode == 'regressor':\n",
    "            weighted_metric.append(MAE(Y_test_iters[i], weighted_YP))\n",
    "        elif mode == 'classifier':\n",
    "            weighted_YP[np.where(weighted_YP<0.5)] = 0\n",
    "            weighted_YP[np.where(weighted_YP>=0.5)] = 1\n",
    "            weighted_metric.append(f1_score(Y_test_iters[i], weighted_YP))\n",
    "    weighted_metric = np.array(weighted_metric).reshape(-1, 1)\n",
    "    array_metric = np.array(metric)\n",
    "    array_metric = np.concatenate([metric, weighted_metric], axis=1)\n",
    "    \n",
    "    metric_dict = {\n",
    "        'Model': ensemble_models + ['Ensemble', 'Weighted_Ensemble'],\n",
    "        f'Avg {metric_name}': list(np.mean(array_metric, axis=0)), \n",
    "        f'Std {metric_name}': list(np.std(array_metric, axis=0)),\n",
    "        '90th percentile': list(np.sort(array_metric, axis=0)[int(array_metric.shape[0] * 0.9) - 1]),\n",
    "        '10th percentile': list(np.sort(array_metric, axis=0)[int(array_metric.shape[0] * 0.1) - 1])\n",
    "        }\n",
    "    \n",
    "    df = pd.DataFrame(metric_dict)\n",
    "    if mode == 'regressor':\n",
    "        df = df.sort_values('90th percentile').reset_index(drop=True)\n",
    "    elif mode == 'classifier':\n",
    "        df = df.sort_values('10th percentile').reset_index(drop=True)\n",
    "\n",
    "    if weights is not None:\n",
    "        return df\n",
    "        \n",
    "    optimal_weights_dict = {}\n",
    "    for i, w in enumerate(optimal_weights):\n",
    "        optimal_weights_dict[ensemble_models[i]] = w\n",
    "        \n",
    "    return df, optimal_weights_dict"
   ]
  },
  {
   "cell_type": "code",
   "execution_count": 18,
   "id": "e3e22f58-f327-4c83-94de-cd89045a4b45",
   "metadata": {},
   "outputs": [],
   "source": [
    "def save_model_metadata(file_path, model_xcols, model_hyperparameters_dict, optimal_weights):\n",
    "    model_labels = list(model_hyperparameters_dict)\n",
    "    output_dict = {\n",
    "        'X_feature_dict':{},\n",
    "        'hyperparameters_dict':{},\n",
    "        'weights':{}\n",
    "    }\n",
    "    for model_label in model_labels:\n",
    "        if optimal_weights[model_label] > 0.0005:\n",
    "            output_dict['X_feature_dict'][model_label] = model_xcols[model_label]\n",
    "            output_dict['hyperparameters_dict'][model_label] = model_hyperparameters_dict[model_label]\n",
    "            output_dict['weights'][model_label] = optimal_weights[model_label]\n",
    "\n",
    "    with open(file_path, 'w') as f:\n",
    "        json.dump(output_dict, f)"
   ]
  },
  {
   "cell_type": "markdown",
   "id": "3ecae0a5-e869-445f-898b-0d53a816cb05",
   "metadata": {},
   "source": [
    "### 流程控制"
   ]
  },
  {
   "cell_type": "code",
   "execution_count": 19,
   "id": "c716316d-0a5a-4f95-bd91-a47d77d7ba24",
   "metadata": {},
   "outputs": [],
   "source": [
    "def flow_control(Y_feature, model_xcols, data_df, speed_test=False,\n",
    "                 train_model_path=train_model_path, optuna_done=optuna_done, weights_determined=weights_determined):\n",
    "\n",
    "    n_iter_dict = {\n",
    "        'hyper_parameter': 30,\n",
    "        'ensemble_weight': 200\n",
    "    }\n",
    "    if speed_test:\n",
    "        n_iter_dict = {\n",
    "            'hyper_parameter': 1,\n",
    "            'ensemble_weight': 20\n",
    "        }\n",
    "    \n",
    "    this_model_path = f'{train_model_path}{Y_feature}/'\n",
    "    os.makedirs(this_model_path, exist_ok=True)\n",
    "\n",
    "    # 如果指定的 meta 檔存在，並且初始參數規定不須重新計算，則套用存檔數值。\n",
    "    if os.path.exists(f'{train_model_path}{Y_feature}/meta.json'):\n",
    "        with open(f'{train_model_path}{Y_feature}/meta.json', 'r') as f:\n",
    "            meta = json.load(f)\n",
    "    else:\n",
    "        optuna_done[Y_feature] = False\n",
    "        weights_determined[Y_feature] = False\n",
    "\n",
    "    # 超參數\n",
    "    if optuna_done[Y_feature]:\n",
    "        model_xcols = meta['X_feature_dict']\n",
    "        model_hyperparameters_dict = meta['hyperparameters_dict']\n",
    "    else: \n",
    "        model_hyperparameters_dict, model_r2_dict = optuna_operation(model_xcols, Y_feature, data_df,\n",
    "                                                                     n_iters=n_iter_dict['hyper_parameter'], speed_test=speed_test)\n",
    "\n",
    "    # 集成權重\n",
    "    if weights_determined[Y_feature]:\n",
    "        optimal_weights = meta['weights']\n",
    "        df = pd.read_csv(f'{this_model_path}predict_MAE.df')\n",
    "        display(df)\n",
    "        print('Weights:')\n",
    "        for i, k in enumerate(model_hyperparameters_dict.keys()):\n",
    "            print(f'{k}: {optimal_weights[k]:.3f}')\n",
    "    else:\n",
    "        if 'FCN' in model_hyperparameters_dict.keys():\n",
    "            n_iters = int(n_iter_dict['ensemble_weight']/4)\n",
    "        else:\n",
    "            n_iters = n_iter_dict['ensemble_weight']\n",
    "        df, optimal_weights = find_avg_score_with_given_model_list(model_hyperparameters_dict, model_xcols, data_df, Y_feature, n_iters=n_iters)\n",
    "        display(df)\n",
    "        df.to_csv(f'{this_model_path}predict_MAE.df', index=False, encoding='utf-8-sig')\n",
    "        print('Weights:')\n",
    "        for i, k in enumerate(model_hyperparameters_dict.keys()):\n",
    "            print(f'{k}: {optimal_weights[k]:.3f}')\n",
    "\n",
    "    print(' ')\n",
    "    print(' ')\n",
    "    print('**Copy and Paste following lines into the next cell.**')\n",
    "    for model_label in model_hyperparameters_dict.keys():\n",
    "        print('##### ' + model_label)\n",
    "        for key, v in model_hyperparameters_dict[model_label].items():\n",
    "            print(f\"Best {key} = {v}  \")\n",
    "        if 'model_r2_dict' in locals().keys():\n",
    "            print(f\"Best R2 = {model_r2_dict[model_label]}  \")\n",
    "        print(f'Weight = {optimal_weights[model_label]:.3f}')\n",
    "    print(' ')\n",
    "    print(' ')\n",
    "    \n",
    "    save_model_metadata(this_model_path + 'meta.json', model_xcols, model_hyperparameters_dict, optimal_weights)"
   ]
  },
  {
   "cell_type": "markdown",
   "id": "d4fcbb20-fee2-4337-a02a-351b34609716",
   "metadata": {},
   "source": [
    "## 日照率"
   ]
  },
  {
   "cell_type": "code",
   "execution_count": 20,
   "id": "fd758846-5ea4-40ea-a188-8e3ddbc9fb18",
   "metadata": {},
   "outputs": [
    {
     "name": "stderr",
     "output_type": "stream",
     "text": [
      "100%|██████████████████████████████████████████████████████████████████████████████████| 30/30 [00:13<00:00,  2.15it/s]\n"
     ]
    },
    {
     "name": "stdout",
     "output_type": "stream",
     "text": [
      "RandomForest\n",
      "Best max_depth = 5\n",
      "Best n_estimators = 58\n",
      "Best R2 = 0.6256715903550362\n"
     ]
    },
    {
     "name": "stderr",
     "output_type": "stream",
     "text": [
      "100%|██████████████████████████████████████████████████████████████████████████████████| 30/30 [00:15<00:00,  1.98it/s]\n"
     ]
    },
    {
     "name": "stdout",
     "output_type": "stream",
     "text": [
      "XGBoost\n",
      "Best max_depth = 4\n",
      "Best n_estimators = 189\n",
      "Best R2 = 0.5877245861952668\n"
     ]
    },
    {
     "name": "stderr",
     "output_type": "stream",
     "text": [
      "100%|██████████████████████████████████████████████████████████████████████████████████| 30/30 [00:07<00:00,  3.97it/s]\n"
     ]
    },
    {
     "name": "stdout",
     "output_type": "stream",
     "text": [
      "LightGBM\n",
      "Best max_depth = 4\n",
      "Best n_estimators = 67\n",
      "Best R2 = 0.5674625412883484\n"
     ]
    },
    {
     "name": "stderr",
     "output_type": "stream",
     "text": [
      "100%|██████████████████████████████████████████████████████████████████████████████████| 30/30 [00:00<00:00, 33.97it/s]\n"
     ]
    },
    {
     "name": "stdout",
     "output_type": "stream",
     "text": [
      "SVR\n",
      "Best C = 11.518378182409693\n",
      "Best kernel = sigmoid\n",
      "Best R2 = 0.6566459940695035\n"
     ]
    },
    {
     "name": "stderr",
     "output_type": "stream",
     "text": [
      "100%|██████████████████████████████████████████████████████████████████████████████████| 30/30 [00:00<00:00, 48.91it/s]\n"
     ]
    },
    {
     "name": "stdout",
     "output_type": "stream",
     "text": [
      "NuSVR\n",
      "Best C = 0.570362585613368\n",
      "Best kernel = linear\n",
      "Best nu = 0.6108608664976618\n",
      "Best R2 = 0.6797318701856108\n"
     ]
    },
    {
     "name": "stderr",
     "output_type": "stream",
     "text": [
      "100%|████████████████████████████████████████████████████████████████████████████████████| 4/4 [03:12<00:00, 48.10s/it]\n"
     ]
    },
    {
     "name": "stdout",
     "output_type": "stream",
     "text": [
      "FCN\n",
      "Best L2_factor = 0.02578546166740118\n",
      "Best dropout_factor = 0.34243967658484603\n",
      "Best R2 = 0.6010095954700934\n"
     ]
    },
    {
     "name": "stderr",
     "output_type": "stream",
     "text": [
      "100%|████████████████████████████████████████████████████████████████████████████████████| 5/5 [00:46<00:00,  9.31s/it]\n"
     ]
    },
    {
     "data": {
      "text/html": [
       "<div>\n",
       "<style scoped>\n",
       "    .dataframe tbody tr th:only-of-type {\n",
       "        vertical-align: middle;\n",
       "    }\n",
       "\n",
       "    .dataframe tbody tr th {\n",
       "        vertical-align: top;\n",
       "    }\n",
       "\n",
       "    .dataframe thead th {\n",
       "        text-align: right;\n",
       "    }\n",
       "</style>\n",
       "<table border=\"1\" class=\"dataframe\">\n",
       "  <thead>\n",
       "    <tr style=\"text-align: right;\">\n",
       "      <th></th>\n",
       "      <th>Model</th>\n",
       "      <th>Avg MAE</th>\n",
       "      <th>Std MAE</th>\n",
       "      <th>90th percentile</th>\n",
       "      <th>10th percentile</th>\n",
       "    </tr>\n",
       "  </thead>\n",
       "  <tbody>\n",
       "    <tr>\n",
       "      <th>0</th>\n",
       "      <td>RandomForest</td>\n",
       "      <td>13.236224</td>\n",
       "      <td>0.815073</td>\n",
       "      <td>13.390493</td>\n",
       "      <td>14.605342</td>\n",
       "    </tr>\n",
       "    <tr>\n",
       "      <th>1</th>\n",
       "      <td>Ensemble</td>\n",
       "      <td>13.048759</td>\n",
       "      <td>1.125362</td>\n",
       "      <td>13.719504</td>\n",
       "      <td>14.583912</td>\n",
       "    </tr>\n",
       "    <tr>\n",
       "      <th>2</th>\n",
       "      <td>Weighted_Ensemble</td>\n",
       "      <td>12.762585</td>\n",
       "      <td>1.132402</td>\n",
       "      <td>13.805559</td>\n",
       "      <td>14.056757</td>\n",
       "    </tr>\n",
       "    <tr>\n",
       "      <th>3</th>\n",
       "      <td>SVR</td>\n",
       "      <td>13.192176</td>\n",
       "      <td>1.230251</td>\n",
       "      <td>14.077248</td>\n",
       "      <td>14.634167</td>\n",
       "    </tr>\n",
       "    <tr>\n",
       "      <th>4</th>\n",
       "      <td>NuSVR</td>\n",
       "      <td>13.485810</td>\n",
       "      <td>0.814391</td>\n",
       "      <td>14.141957</td>\n",
       "      <td>14.220147</td>\n",
       "    </tr>\n",
       "    <tr>\n",
       "      <th>5</th>\n",
       "      <td>LightGBM</td>\n",
       "      <td>15.306682</td>\n",
       "      <td>0.928340</td>\n",
       "      <td>15.704966</td>\n",
       "      <td>16.755512</td>\n",
       "    </tr>\n",
       "    <tr>\n",
       "      <th>6</th>\n",
       "      <td>XGBoost</td>\n",
       "      <td>14.277844</td>\n",
       "      <td>1.780111</td>\n",
       "      <td>16.001747</td>\n",
       "      <td>16.142594</td>\n",
       "    </tr>\n",
       "    <tr>\n",
       "      <th>7</th>\n",
       "      <td>FCN</td>\n",
       "      <td>14.916318</td>\n",
       "      <td>1.698531</td>\n",
       "      <td>16.350252</td>\n",
       "      <td>16.674059</td>\n",
       "    </tr>\n",
       "  </tbody>\n",
       "</table>\n",
       "</div>"
      ],
      "text/plain": [
       "               Model    Avg MAE   Std MAE  90th percentile  10th percentile\n",
       "0       RandomForest  13.236224  0.815073        13.390493        14.605342\n",
       "1           Ensemble  13.048759  1.125362        13.719504        14.583912\n",
       "2  Weighted_Ensemble  12.762585  1.132402        13.805559        14.056757\n",
       "3                SVR  13.192176  1.230251        14.077248        14.634167\n",
       "4              NuSVR  13.485810  0.814391        14.141957        14.220147\n",
       "5           LightGBM  15.306682  0.928340        15.704966        16.755512\n",
       "6            XGBoost  14.277844  1.780111        16.001747        16.142594\n",
       "7                FCN  14.916318  1.698531        16.350252        16.674059"
      ]
     },
     "metadata": {},
     "output_type": "display_data"
    },
    {
     "name": "stdout",
     "output_type": "stream",
     "text": [
      "Weights:\n",
      "RandomForest: 0.410\n",
      "XGBoost: 0.000\n",
      "LightGBM: 0.000\n",
      "SVR: 0.284\n",
      "NuSVR: 0.118\n",
      "FCN: 0.189\n",
      " \n",
      " \n",
      "**Copy and Paste following lines into the next cell.**\n",
      "##### RandomForest\n",
      "Best max_depth = 5  \n",
      "Best n_estimators = 58  \n",
      "Best R2 = 0.6256715903550362  \n",
      "Weight = 0.410\n",
      "##### XGBoost\n",
      "Best max_depth = 4  \n",
      "Best n_estimators = 189  \n",
      "Best R2 = 0.5877245861952668  \n",
      "Weight = 0.000\n",
      "##### LightGBM\n",
      "Best max_depth = 4  \n",
      "Best n_estimators = 67  \n",
      "Best R2 = 0.5674625412883484  \n",
      "Weight = 0.000\n",
      "##### SVR\n",
      "Best C = 11.518378182409693  \n",
      "Best kernel = sigmoid  \n",
      "Best R2 = 0.6566459940695035  \n",
      "Weight = 0.284\n",
      "##### NuSVR\n",
      "Best C = 0.570362585613368  \n",
      "Best kernel = linear  \n",
      "Best nu = 0.6108608664976618  \n",
      "Best R2 = 0.6797318701856108  \n",
      "Weight = 0.118\n",
      "##### FCN\n",
      "Best L2_factor = 0.02578546166740118  \n",
      "Best dropout_factor = 0.34243967658484603  \n",
      "Best R2 = 0.6010095954700934  \n",
      "Weight = 0.189\n",
      " \n",
      " \n"
     ]
    }
   ],
   "source": [
    "# 被預測的標的\n",
    "Y_feature = '日照率'\n",
    "# 定義集成學習使用的模型以及模型們各自使用的 X 特徵\n",
    "model_xcols = {\n",
    "        'RandomForest': ['晴', '多雲', '陰', '短暫陣雨', '短暫陣雨或雷雨', '午後短暫雷陣雨', '陣雨或雷雨', '相對溼度'],\n",
    "        'XGBoost': ['晴', '多雲', '陰', '短暫陣雨', '短暫陣雨或雷雨', '午後短暫雷陣雨', '陣雨或雷雨', '相對溼度'],\n",
    "        'LightGBM': ['晴', '多雲', '陰', '短暫陣雨', '短暫陣雨或雷雨', '午後短暫雷陣雨', '陣雨或雷雨', '相對溼度'],\n",
    "        'SVR': ['晴', '多雲', '陰', '短暫陣雨', '短暫陣雨或雷雨', '午後短暫雷陣雨', '陣雨或雷雨', '相對溼度'],\n",
    "        'NuSVR': ['晴', '多雲', '陰', '短暫陣雨', '短暫陣雨或雷雨', '午後短暫雷陣雨', '陣雨或雷雨', '相對溼度'],\n",
    "        'FCN': ['晴', '多雲', '陰', '短暫陣雨', '短暫陣雨或雷雨', '午後短暫雷陣雨', '陣雨或雷雨', '相對溼度'],\n",
    "    }\n",
    "\n",
    "flow_control(Y_feature, model_xcols, forecast_obs_df, speed_test=speed_test)"
   ]
  },
  {
   "cell_type": "markdown",
   "id": "ed6ee005-2ba2-40ff-a56d-435d4ad2f894",
   "metadata": {},
   "source": [
    "##### RandomForest\n",
    "Best max_depth = 6  \n",
    "Best n_estimators = 118  \n",
    "Best R2 = 0.58590582473441  \n",
    "Weight = 0.000\n",
    "##### XGBoost\n",
    "Best max_depth = 2  \n",
    "Best n_estimators = 46  \n",
    "Best R2 = 0.5703384347670741  \n",
    "Weight = 0.098\n",
    "##### LightGBM\n",
    "Best max_depth = 2  \n",
    "Best n_estimators = 51  \n",
    "Best R2 = 0.505207647156635  \n",
    "Weight = 0.000\n",
    "##### SVR\n",
    "Best C = 0.14990594685121092  \n",
    "Best kernel = linear  \n",
    "Best R2 = 0.6340689844535041  \n",
    "Weight = 0.661\n",
    "##### NuSVR\n",
    "Best C = 30.749226509121666  \n",
    "Best kernel = rbf  \n",
    "Best nu = 0.7479722390341714  \n",
    "Best R2 = 0.6075744670435312  \n",
    "Weight = 0.197\n",
    "##### FCN\n",
    "Best L2_factor = 0.0010602996524167788  \n",
    "Best dropout_factor = 0.2182544879896376  \n",
    "Best R2 = 0.5924729617089556  \n",
    "Weight = 0.044"
   ]
  },
  {
   "cell_type": "markdown",
   "id": "4b20cbd4-2e32-498c-9ac4-ef38654be73b",
   "metadata": {},
   "source": [
    "## 溫度"
   ]
  },
  {
   "cell_type": "markdown",
   "id": "86778135-68d7-4b74-9aca-3383dfd858f8",
   "metadata": {},
   "source": [
    "### 高溫"
   ]
  },
  {
   "cell_type": "code",
   "execution_count": 21,
   "id": "2da80d77-f0fe-40aa-8ae3-f10241289dd2",
   "metadata": {},
   "outputs": [
    {
     "name": "stderr",
     "output_type": "stream",
     "text": [
      "100%|████████████████████████████████████████████████████████████████████████████████████| 1/1 [00:00<00:00, 21.68it/s]\n"
     ]
    },
    {
     "name": "stdout",
     "output_type": "stream",
     "text": [
      "LinearRegression\n",
      "Best R2 = 0.5538733358169409\n"
     ]
    },
    {
     "name": "stderr",
     "output_type": "stream",
     "text": [
      "100%|████████████████████████████████████████████████████████████████████████████████████| 4/4 [03:39<00:00, 54.77s/it]\n"
     ]
    },
    {
     "name": "stdout",
     "output_type": "stream",
     "text": [
      "FCN\n",
      "Best L2_factor = 0.0016713876561696985\n",
      "Best dropout_factor = 0.22816777777281472\n",
      "Best R2 = 0.5696605288176384\n"
     ]
    },
    {
     "name": "stderr",
     "output_type": "stream",
     "text": [
      "100%|██████████████████████████████████████████████████████████████████████████████████| 30/30 [00:15<00:00,  1.95it/s]\n"
     ]
    },
    {
     "name": "stdout",
     "output_type": "stream",
     "text": [
      "RandomForest\n",
      "Best max_depth = 8\n",
      "Best n_estimators = 195\n",
      "Best R2 = 0.5857433548541846\n"
     ]
    },
    {
     "name": "stderr",
     "output_type": "stream",
     "text": [
      "100%|██████████████████████████████████████████████████████████████████████████████████| 30/30 [00:10<00:00,  2.99it/s]\n"
     ]
    },
    {
     "name": "stdout",
     "output_type": "stream",
     "text": [
      "XGBoost\n",
      "Best max_depth = 3\n",
      "Best n_estimators = 25\n",
      "Best R2 = 0.5832692262670349\n"
     ]
    },
    {
     "name": "stderr",
     "output_type": "stream",
     "text": [
      "100%|██████████████████████████████████████████████████████████████████████████████████| 30/30 [00:01<00:00, 15.11it/s]\n"
     ]
    },
    {
     "name": "stdout",
     "output_type": "stream",
     "text": [
      "SVR\n",
      "Best C = 0.0530938555233717\n",
      "Best kernel = linear\n",
      "Best R2 = 0.5691599259949109\n"
     ]
    },
    {
     "name": "stderr",
     "output_type": "stream",
     "text": [
      "100%|██████████████████████████████████████████████████████████████████████████████████| 30/30 [00:00<00:00, 34.48it/s]\n"
     ]
    },
    {
     "name": "stdout",
     "output_type": "stream",
     "text": [
      "NuSVR\n",
      "Best C = 1.1703419803709574\n",
      "Best kernel = linear\n",
      "Best nu = 0.4806549699363593\n",
      "Best R2 = 0.5749890373392107\n"
     ]
    },
    {
     "name": "stderr",
     "output_type": "stream",
     "text": [
      "100%|██████████████████████████████████████████████████████████████████████████████████| 30/30 [00:09<00:00,  3.19it/s]\n"
     ]
    },
    {
     "name": "stdout",
     "output_type": "stream",
     "text": [
      "LightGBM\n",
      "Best max_depth = 7\n",
      "Best n_estimators = 52\n",
      "Best R2 = 0.5886040366004186\n"
     ]
    },
    {
     "name": "stderr",
     "output_type": "stream",
     "text": [
      "100%|████████████████████████████████████████████████████████████████████████████████████| 5/5 [01:00<00:00, 12.03s/it]\n"
     ]
    },
    {
     "data": {
      "text/html": [
       "<div>\n",
       "<style scoped>\n",
       "    .dataframe tbody tr th:only-of-type {\n",
       "        vertical-align: middle;\n",
       "    }\n",
       "\n",
       "    .dataframe tbody tr th {\n",
       "        vertical-align: top;\n",
       "    }\n",
       "\n",
       "    .dataframe thead th {\n",
       "        text-align: right;\n",
       "    }\n",
       "</style>\n",
       "<table border=\"1\" class=\"dataframe\">\n",
       "  <thead>\n",
       "    <tr style=\"text-align: right;\">\n",
       "      <th></th>\n",
       "      <th>Model</th>\n",
       "      <th>Avg MAE</th>\n",
       "      <th>Std MAE</th>\n",
       "      <th>90th percentile</th>\n",
       "      <th>10th percentile</th>\n",
       "    </tr>\n",
       "  </thead>\n",
       "  <tbody>\n",
       "    <tr>\n",
       "      <th>0</th>\n",
       "      <td>RandomForest</td>\n",
       "      <td>1.084352</td>\n",
       "      <td>0.087632</td>\n",
       "      <td>1.079866</td>\n",
       "      <td>1.245451</td>\n",
       "    </tr>\n",
       "    <tr>\n",
       "      <th>1</th>\n",
       "      <td>Weighted_Ensemble</td>\n",
       "      <td>1.046371</td>\n",
       "      <td>0.076856</td>\n",
       "      <td>1.088678</td>\n",
       "      <td>1.123768</td>\n",
       "    </tr>\n",
       "    <tr>\n",
       "      <th>2</th>\n",
       "      <td>SVR</td>\n",
       "      <td>1.072317</td>\n",
       "      <td>0.073179</td>\n",
       "      <td>1.110753</td>\n",
       "      <td>1.125063</td>\n",
       "    </tr>\n",
       "    <tr>\n",
       "      <th>3</th>\n",
       "      <td>Ensemble</td>\n",
       "      <td>1.065532</td>\n",
       "      <td>0.078677</td>\n",
       "      <td>1.124655</td>\n",
       "      <td>1.141473</td>\n",
       "    </tr>\n",
       "    <tr>\n",
       "      <th>4</th>\n",
       "      <td>LightGBM</td>\n",
       "      <td>1.080364</td>\n",
       "      <td>0.072192</td>\n",
       "      <td>1.149321</td>\n",
       "      <td>1.167973</td>\n",
       "    </tr>\n",
       "    <tr>\n",
       "      <th>5</th>\n",
       "      <td>LinearRegression</td>\n",
       "      <td>1.113703</td>\n",
       "      <td>0.079222</td>\n",
       "      <td>1.153975</td>\n",
       "      <td>1.207452</td>\n",
       "    </tr>\n",
       "    <tr>\n",
       "      <th>6</th>\n",
       "      <td>NuSVR</td>\n",
       "      <td>1.101816</td>\n",
       "      <td>0.081852</td>\n",
       "      <td>1.163335</td>\n",
       "      <td>1.172897</td>\n",
       "    </tr>\n",
       "    <tr>\n",
       "      <th>7</th>\n",
       "      <td>XGBoost</td>\n",
       "      <td>1.101507</td>\n",
       "      <td>0.100010</td>\n",
       "      <td>1.176288</td>\n",
       "      <td>1.239496</td>\n",
       "    </tr>\n",
       "    <tr>\n",
       "      <th>8</th>\n",
       "      <td>FCN</td>\n",
       "      <td>1.119185</td>\n",
       "      <td>0.066226</td>\n",
       "      <td>1.177173</td>\n",
       "      <td>1.177915</td>\n",
       "    </tr>\n",
       "  </tbody>\n",
       "</table>\n",
       "</div>"
      ],
      "text/plain": [
       "               Model   Avg MAE   Std MAE  90th percentile  10th percentile\n",
       "0       RandomForest  1.084352  0.087632         1.079866         1.245451\n",
       "1  Weighted_Ensemble  1.046371  0.076856         1.088678         1.123768\n",
       "2                SVR  1.072317  0.073179         1.110753         1.125063\n",
       "3           Ensemble  1.065532  0.078677         1.124655         1.141473\n",
       "4           LightGBM  1.080364  0.072192         1.149321         1.167973\n",
       "5   LinearRegression  1.113703  0.079222         1.153975         1.207452\n",
       "6              NuSVR  1.101816  0.081852         1.163335         1.172897\n",
       "7            XGBoost  1.101507  0.100010         1.176288         1.239496\n",
       "8                FCN  1.119185  0.066226         1.177173         1.177915"
      ]
     },
     "metadata": {},
     "output_type": "display_data"
    },
    {
     "name": "stdout",
     "output_type": "stream",
     "text": [
      "Weights:\n",
      "LinearRegression: 0.000\n",
      "FCN: 0.000\n",
      "RandomForest: 0.192\n",
      "XGBoost: 0.000\n",
      "SVR: 0.382\n",
      "NuSVR: 0.000\n",
      "LightGBM: 0.426\n",
      " \n",
      " \n",
      "**Copy and Paste following lines into the next cell.**\n",
      "##### LinearRegression\n",
      "Best R2 = 0.5538733358169409  \n",
      "Weight = 0.000\n",
      "##### FCN\n",
      "Best L2_factor = 0.0016713876561696985  \n",
      "Best dropout_factor = 0.22816777777281472  \n",
      "Best R2 = 0.5696605288176384  \n",
      "Weight = 0.000\n",
      "##### RandomForest\n",
      "Best max_depth = 8  \n",
      "Best n_estimators = 195  \n",
      "Best R2 = 0.5857433548541846  \n",
      "Weight = 0.192\n",
      "##### XGBoost\n",
      "Best max_depth = 3  \n",
      "Best n_estimators = 25  \n",
      "Best R2 = 0.5832692262670349  \n",
      "Weight = 0.000\n",
      "##### SVR\n",
      "Best C = 0.0530938555233717  \n",
      "Best kernel = linear  \n",
      "Best R2 = 0.5691599259949109  \n",
      "Weight = 0.382\n",
      "##### NuSVR\n",
      "Best C = 1.1703419803709574  \n",
      "Best kernel = linear  \n",
      "Best nu = 0.4806549699363593  \n",
      "Best R2 = 0.5749890373392107  \n",
      "Weight = 0.000\n",
      "##### LightGBM\n",
      "Best max_depth = 7  \n",
      "Best n_estimators = 52  \n",
      "Best R2 = 0.5886040366004186  \n",
      "Weight = 0.426\n",
      " \n",
      " \n"
     ]
    }
   ],
   "source": [
    "Y_feature = '最高氣溫'\n",
    "model_xcols = {\n",
    "    'LinearRegression': ['溫度'],\n",
    "    'FCN': ['溫度'],\n",
    "    'RandomForest': ['溫度'],\n",
    "    'XGBoost': ['溫度'],\n",
    "    'SVR': ['溫度'],\n",
    "    'NuSVR': ['溫度'],\n",
    "    'LightGBM': ['溫度'],\n",
    "}\n",
    "\n",
    "flow_control(Y_feature, model_xcols, forecast_obs_df, speed_test=speed_test)"
   ]
  },
  {
   "cell_type": "markdown",
   "id": "5c4e346d-10c5-4e7a-a0e9-a64228b5c115",
   "metadata": {},
   "source": [
    "##### FCN\n",
    "Best L2_factor = 0.006366896218364759  \n",
    "Best dropout_factor = 0.19396856681257302  \n",
    "Best R2 = 0.6048279316550031  \n",
    "##### RandomForest\n",
    "Best max_depth = 4  \n",
    "Best n_estimators = 47  \n",
    "Best R2 = 0.6352240070534566  \n",
    "##### XGBoost\n",
    "Best max_depth = 2  \n",
    "Best n_estimators = 12  \n",
    "Best R2 = 0.6272021513938951  \n",
    "##### LightGBM\n",
    "Best max_depth = 4  \n",
    "Best n_estimators = 26  \n",
    "Best R2 = 0.6061314180772585  \n",
    "##### SVR\n",
    "Best C = 0.05583870083012335  \n",
    "Best kernel = linear  \n",
    "Best R2 = 0.604340159328353  \n",
    "##### NuSVR\n",
    "Best C = 0.09975849736100006  \n",
    "Best kernel = linear  \n",
    "Best nu = 0.7091007437639489  \n",
    "Best R2 = 0.6044918833713732"
   ]
  },
  {
   "cell_type": "markdown",
   "id": "87d41dc3-d3df-422a-a06b-d71f30707369",
   "metadata": {},
   "source": [
    "### 低溫"
   ]
  },
  {
   "cell_type": "code",
   "execution_count": 22,
   "id": "6dc8ae65-b304-4ec9-ab77-6d8316c6ebb6",
   "metadata": {},
   "outputs": [
    {
     "name": "stderr",
     "output_type": "stream",
     "text": [
      "100%|████████████████████████████████████████████████████████████████████████████████████| 1/1 [00:00<00:00, 21.17it/s]\n"
     ]
    },
    {
     "name": "stdout",
     "output_type": "stream",
     "text": [
      "LinearRegression\n",
      "Best R2 = 0.14978603084028827\n"
     ]
    },
    {
     "name": "stderr",
     "output_type": "stream",
     "text": [
      "100%|████████████████████████████████████████████████████████████████████████████████████| 4/4 [03:31<00:00, 52.92s/it]\n"
     ]
    },
    {
     "name": "stdout",
     "output_type": "stream",
     "text": [
      "FCN\n",
      "Best L2_factor = 0.011081867468176031\n",
      "Best dropout_factor = 0.11693877198549735\n",
      "Best R2 = 0.16990631172552542\n"
     ]
    },
    {
     "name": "stderr",
     "output_type": "stream",
     "text": [
      "100%|██████████████████████████████████████████████████████████████████████████████████| 30/30 [00:13<00:00,  2.19it/s]\n"
     ]
    },
    {
     "name": "stdout",
     "output_type": "stream",
     "text": [
      "RandomForest\n",
      "Best max_depth = 5\n",
      "Best n_estimators = 157\n",
      "Best R2 = 0.2977480630521038\n"
     ]
    },
    {
     "name": "stderr",
     "output_type": "stream",
     "text": [
      "100%|██████████████████████████████████████████████████████████████████████████████████| 30/30 [00:08<00:00,  3.60it/s]\n"
     ]
    },
    {
     "name": "stdout",
     "output_type": "stream",
     "text": [
      "XGBoost\n",
      "Best max_depth = 2\n",
      "Best n_estimators = 13\n",
      "Best R2 = 0.250154850563415\n"
     ]
    },
    {
     "name": "stderr",
     "output_type": "stream",
     "text": [
      "100%|██████████████████████████████████████████████████████████████████████████████████| 30/30 [00:02<00:00, 13.37it/s]\n"
     ]
    },
    {
     "name": "stdout",
     "output_type": "stream",
     "text": [
      "SVR\n",
      "Best C = 0.01387771060407978\n",
      "Best kernel = linear\n",
      "Best R2 = 0.19300005311244378\n"
     ]
    },
    {
     "name": "stderr",
     "output_type": "stream",
     "text": [
      "100%|██████████████████████████████████████████████████████████████████████████████████| 30/30 [00:02<00:00, 10.60it/s]\n"
     ]
    },
    {
     "name": "stdout",
     "output_type": "stream",
     "text": [
      "NuSVR\n",
      "Best C = 0.46096049273842093\n",
      "Best kernel = rbf\n",
      "Best nu = 0.8366394649782175\n",
      "Best R2 = 0.2375091479359269\n"
     ]
    },
    {
     "name": "stderr",
     "output_type": "stream",
     "text": [
      "100%|██████████████████████████████████████████████████████████████████████████████████| 30/30 [00:07<00:00,  4.04it/s]\n"
     ]
    },
    {
     "name": "stdout",
     "output_type": "stream",
     "text": [
      "LightGBM\n",
      "Best max_depth = 11\n",
      "Best n_estimators = 29\n",
      "Best R2 = 0.2702920072112119\n"
     ]
    },
    {
     "name": "stderr",
     "output_type": "stream",
     "text": [
      "100%|████████████████████████████████████████████████████████████████████████████████████| 5/5 [00:53<00:00, 10.68s/it]\n"
     ]
    },
    {
     "data": {
      "text/html": [
       "<div>\n",
       "<style scoped>\n",
       "    .dataframe tbody tr th:only-of-type {\n",
       "        vertical-align: middle;\n",
       "    }\n",
       "\n",
       "    .dataframe tbody tr th {\n",
       "        vertical-align: top;\n",
       "    }\n",
       "\n",
       "    .dataframe thead th {\n",
       "        text-align: right;\n",
       "    }\n",
       "</style>\n",
       "<table border=\"1\" class=\"dataframe\">\n",
       "  <thead>\n",
       "    <tr style=\"text-align: right;\">\n",
       "      <th></th>\n",
       "      <th>Model</th>\n",
       "      <th>Avg MAE</th>\n",
       "      <th>Std MAE</th>\n",
       "      <th>90th percentile</th>\n",
       "      <th>10th percentile</th>\n",
       "    </tr>\n",
       "  </thead>\n",
       "  <tbody>\n",
       "    <tr>\n",
       "      <th>0</th>\n",
       "      <td>RandomForest</td>\n",
       "      <td>0.834889</td>\n",
       "      <td>0.074504</td>\n",
       "      <td>0.889315</td>\n",
       "      <td>0.914716</td>\n",
       "    </tr>\n",
       "    <tr>\n",
       "      <th>1</th>\n",
       "      <td>NuSVR</td>\n",
       "      <td>0.847274</td>\n",
       "      <td>0.079008</td>\n",
       "      <td>0.892881</td>\n",
       "      <td>0.928477</td>\n",
       "    </tr>\n",
       "    <tr>\n",
       "      <th>2</th>\n",
       "      <td>Weighted_Ensemble</td>\n",
       "      <td>0.824584</td>\n",
       "      <td>0.081230</td>\n",
       "      <td>0.896341</td>\n",
       "      <td>0.901767</td>\n",
       "    </tr>\n",
       "    <tr>\n",
       "      <th>3</th>\n",
       "      <td>Ensemble</td>\n",
       "      <td>0.841310</td>\n",
       "      <td>0.076419</td>\n",
       "      <td>0.898083</td>\n",
       "      <td>0.926287</td>\n",
       "    </tr>\n",
       "    <tr>\n",
       "      <th>4</th>\n",
       "      <td>LightGBM</td>\n",
       "      <td>0.831741</td>\n",
       "      <td>0.073379</td>\n",
       "      <td>0.898800</td>\n",
       "      <td>0.901253</td>\n",
       "    </tr>\n",
       "    <tr>\n",
       "      <th>5</th>\n",
       "      <td>XGBoost</td>\n",
       "      <td>0.834170</td>\n",
       "      <td>0.087076</td>\n",
       "      <td>0.901481</td>\n",
       "      <td>0.922774</td>\n",
       "    </tr>\n",
       "    <tr>\n",
       "      <th>6</th>\n",
       "      <td>FCN</td>\n",
       "      <td>0.871342</td>\n",
       "      <td>0.064561</td>\n",
       "      <td>0.918776</td>\n",
       "      <td>0.934279</td>\n",
       "    </tr>\n",
       "    <tr>\n",
       "      <th>7</th>\n",
       "      <td>LinearRegression</td>\n",
       "      <td>0.894463</td>\n",
       "      <td>0.079406</td>\n",
       "      <td>0.946359</td>\n",
       "      <td>0.991046</td>\n",
       "    </tr>\n",
       "    <tr>\n",
       "      <th>8</th>\n",
       "      <td>SVR</td>\n",
       "      <td>0.898168</td>\n",
       "      <td>0.059319</td>\n",
       "      <td>0.950898</td>\n",
       "      <td>0.974756</td>\n",
       "    </tr>\n",
       "  </tbody>\n",
       "</table>\n",
       "</div>"
      ],
      "text/plain": [
       "               Model   Avg MAE   Std MAE  90th percentile  10th percentile\n",
       "0       RandomForest  0.834889  0.074504         0.889315         0.914716\n",
       "1              NuSVR  0.847274  0.079008         0.892881         0.928477\n",
       "2  Weighted_Ensemble  0.824584  0.081230         0.896341         0.901767\n",
       "3           Ensemble  0.841310  0.076419         0.898083         0.926287\n",
       "4           LightGBM  0.831741  0.073379         0.898800         0.901253\n",
       "5            XGBoost  0.834170  0.087076         0.901481         0.922774\n",
       "6                FCN  0.871342  0.064561         0.918776         0.934279\n",
       "7   LinearRegression  0.894463  0.079406         0.946359         0.991046\n",
       "8                SVR  0.898168  0.059319         0.950898         0.974756"
      ]
     },
     "metadata": {},
     "output_type": "display_data"
    },
    {
     "name": "stdout",
     "output_type": "stream",
     "text": [
      "Weights:\n",
      "LinearRegression: 0.000\n",
      "FCN: 0.000\n",
      "RandomForest: 0.190\n",
      "XGBoost: 0.441\n",
      "SVR: 0.000\n",
      "NuSVR: 0.000\n",
      "LightGBM: 0.370\n",
      " \n",
      " \n",
      "**Copy and Paste following lines into the next cell.**\n",
      "##### LinearRegression\n",
      "Best R2 = 0.14978603084028827  \n",
      "Weight = 0.000\n",
      "##### FCN\n",
      "Best L2_factor = 0.011081867468176031  \n",
      "Best dropout_factor = 0.11693877198549735  \n",
      "Best R2 = 0.16990631172552542  \n",
      "Weight = 0.000\n",
      "##### RandomForest\n",
      "Best max_depth = 5  \n",
      "Best n_estimators = 157  \n",
      "Best R2 = 0.2977480630521038  \n",
      "Weight = 0.190\n",
      "##### XGBoost\n",
      "Best max_depth = 2  \n",
      "Best n_estimators = 13  \n",
      "Best R2 = 0.250154850563415  \n",
      "Weight = 0.441\n",
      "##### SVR\n",
      "Best C = 0.01387771060407978  \n",
      "Best kernel = linear  \n",
      "Best R2 = 0.19300005311244378  \n",
      "Weight = 0.000\n",
      "##### NuSVR\n",
      "Best C = 0.46096049273842093  \n",
      "Best kernel = rbf  \n",
      "Best nu = 0.8366394649782175  \n",
      "Best R2 = 0.2375091479359269  \n",
      "Weight = 0.000\n",
      "##### LightGBM\n",
      "Best max_depth = 11  \n",
      "Best n_estimators = 29  \n",
      "Best R2 = 0.2702920072112119  \n",
      "Weight = 0.370\n",
      " \n",
      " \n"
     ]
    }
   ],
   "source": [
    "Y_feature = '最低氣溫'\n",
    "model_xcols = {\n",
    "    'LinearRegression': ['溫度'],\n",
    "    'FCN': ['溫度'],\n",
    "    'RandomForest': ['溫度'],\n",
    "    'XGBoost': ['溫度'],\n",
    "    'SVR': ['溫度'],\n",
    "    'NuSVR': ['溫度'],\n",
    "    'LightGBM': ['溫度'],\n",
    "}\n",
    "\n",
    "flow_control(Y_feature, model_xcols, forecast_obs_df, speed_test=speed_test)"
   ]
  },
  {
   "cell_type": "markdown",
   "id": "89a87660-d0b6-41c4-9362-68887cf6a8e9",
   "metadata": {},
   "source": [
    "##### FCN\n",
    "Best L2_factor = 0.006578980595757985  \n",
    "Best dropout_factor = 0.2827579002701865  \n",
    "Best R2 = 0.12796332166141297  \n",
    "##### RandomForest\n",
    "Best max_depth = 5  \n",
    "Best n_estimators = 112  \n",
    "Best R2 = 0.23976560718955822  \n",
    "##### XGBoost\n",
    "Best max_depth = 2  \n",
    "Best n_estimators = 13  \n",
    "Best R2 = 0.26960230752782566  \n",
    "##### LightGBM\n",
    "Best max_depth = 6  \n",
    "Best n_estimators = 69  \n",
    "Best R2 = 0.14645030056603767  \n",
    "##### SVR\n",
    "Best C = 0.8539784496032792  \n",
    "Best kernel = rbf  \n",
    "Best R2 = 0.1879279073200762  \n",
    "##### NuSVR\n",
    "Best C = 0.5959731111440211  \n",
    "Best kernel = rbf  \n",
    "Best nu = 0.6158415473805077  \n",
    "Best R2 = 0.18223342242299245  "
   ]
  },
  {
   "cell_type": "markdown",
   "id": "7a913cb4-2540-4bda-b7be-6e2c48a340b8",
   "metadata": {},
   "source": [
    "### 平均溫"
   ]
  },
  {
   "cell_type": "code",
   "execution_count": 23,
   "id": "287a653c-0dc0-4ff6-a630-3b2479049d27",
   "metadata": {},
   "outputs": [
    {
     "name": "stderr",
     "output_type": "stream",
     "text": [
      "100%|████████████████████████████████████████████████████████████████████████████████████| 1/1 [00:00<00:00, 21.66it/s]\n"
     ]
    },
    {
     "name": "stdout",
     "output_type": "stream",
     "text": [
      "LinearRegression\n",
      "Best R2 = 0.41398139372708004\n"
     ]
    },
    {
     "name": "stderr",
     "output_type": "stream",
     "text": [
      "100%|████████████████████████████████████████████████████████████████████████████████████| 4/4 [03:30<00:00, 52.57s/it]\n"
     ]
    },
    {
     "name": "stdout",
     "output_type": "stream",
     "text": [
      "FCN\n",
      "Best L2_factor = 0.0011813421384085827\n",
      "Best dropout_factor = 0.1520304634254095\n",
      "Best R2 = 0.44494233769019986\n"
     ]
    },
    {
     "name": "stderr",
     "output_type": "stream",
     "text": [
      "100%|██████████████████████████████████████████████████████████████████████████████████| 30/30 [00:13<00:00,  2.24it/s]\n"
     ]
    },
    {
     "name": "stdout",
     "output_type": "stream",
     "text": [
      "RandomForest\n",
      "Best max_depth = 3\n",
      "Best n_estimators = 124\n",
      "Best R2 = 0.4844065781110033\n"
     ]
    },
    {
     "name": "stderr",
     "output_type": "stream",
     "text": [
      "100%|██████████████████████████████████████████████████████████████████████████████████| 30/30 [00:08<00:00,  3.56it/s]\n"
     ]
    },
    {
     "name": "stdout",
     "output_type": "stream",
     "text": [
      "XGBoost\n",
      "Best max_depth = 3\n",
      "Best n_estimators = 12\n",
      "Best R2 = 0.46015595923171226\n"
     ]
    },
    {
     "name": "stderr",
     "output_type": "stream",
     "text": [
      "100%|██████████████████████████████████████████████████████████████████████████████████| 30/30 [00:01<00:00, 24.86it/s]\n"
     ]
    },
    {
     "name": "stdout",
     "output_type": "stream",
     "text": [
      "SVR\n",
      "Best C = 0.027619131207129343\n",
      "Best kernel = linear\n",
      "Best R2 = 0.44839943517297653\n"
     ]
    },
    {
     "name": "stderr",
     "output_type": "stream",
     "text": [
      "100%|██████████████████████████████████████████████████████████████████████████████████| 30/30 [00:04<00:00,  7.05it/s]\n"
     ]
    },
    {
     "name": "stdout",
     "output_type": "stream",
     "text": [
      "NuSVR\n",
      "Best C = 0.0334169706915242\n",
      "Best kernel = linear\n",
      "Best nu = 0.2769792606019767\n",
      "Best R2 = 0.4592002928006137\n"
     ]
    },
    {
     "name": "stderr",
     "output_type": "stream",
     "text": [
      "100%|██████████████████████████████████████████████████████████████████████████████████| 30/30 [00:06<00:00,  4.59it/s]\n"
     ]
    },
    {
     "name": "stdout",
     "output_type": "stream",
     "text": [
      "LightGBM\n",
      "Best max_depth = 3\n",
      "Best n_estimators = 42\n",
      "Best R2 = 0.4582993916467588\n"
     ]
    },
    {
     "name": "stderr",
     "output_type": "stream",
     "text": [
      "100%|████████████████████████████████████████████████████████████████████████████████████| 5/5 [00:49<00:00,  9.87s/it]\n"
     ]
    },
    {
     "data": {
      "text/html": [
       "<div>\n",
       "<style scoped>\n",
       "    .dataframe tbody tr th:only-of-type {\n",
       "        vertical-align: middle;\n",
       "    }\n",
       "\n",
       "    .dataframe tbody tr th {\n",
       "        vertical-align: top;\n",
       "    }\n",
       "\n",
       "    .dataframe thead th {\n",
       "        text-align: right;\n",
       "    }\n",
       "</style>\n",
       "<table border=\"1\" class=\"dataframe\">\n",
       "  <thead>\n",
       "    <tr style=\"text-align: right;\">\n",
       "      <th></th>\n",
       "      <th>Model</th>\n",
       "      <th>Avg MAE</th>\n",
       "      <th>Std MAE</th>\n",
       "      <th>90th percentile</th>\n",
       "      <th>10th percentile</th>\n",
       "    </tr>\n",
       "  </thead>\n",
       "  <tbody>\n",
       "    <tr>\n",
       "      <th>0</th>\n",
       "      <td>Weighted_Ensemble</td>\n",
       "      <td>0.698564</td>\n",
       "      <td>0.012636</td>\n",
       "      <td>0.706285</td>\n",
       "      <td>0.715685</td>\n",
       "    </tr>\n",
       "    <tr>\n",
       "      <th>1</th>\n",
       "      <td>Ensemble</td>\n",
       "      <td>0.702122</td>\n",
       "      <td>0.014625</td>\n",
       "      <td>0.710511</td>\n",
       "      <td>0.710981</td>\n",
       "    </tr>\n",
       "    <tr>\n",
       "      <th>2</th>\n",
       "      <td>NuSVR</td>\n",
       "      <td>0.701812</td>\n",
       "      <td>0.029169</td>\n",
       "      <td>0.716671</td>\n",
       "      <td>0.727851</td>\n",
       "    </tr>\n",
       "    <tr>\n",
       "      <th>3</th>\n",
       "      <td>SVR</td>\n",
       "      <td>0.705092</td>\n",
       "      <td>0.037963</td>\n",
       "      <td>0.727631</td>\n",
       "      <td>0.741108</td>\n",
       "    </tr>\n",
       "    <tr>\n",
       "      <th>4</th>\n",
       "      <td>RandomForest</td>\n",
       "      <td>0.721861</td>\n",
       "      <td>0.011493</td>\n",
       "      <td>0.730559</td>\n",
       "      <td>0.733635</td>\n",
       "    </tr>\n",
       "    <tr>\n",
       "      <th>5</th>\n",
       "      <td>LinearRegression</td>\n",
       "      <td>0.711462</td>\n",
       "      <td>0.037814</td>\n",
       "      <td>0.733254</td>\n",
       "      <td>0.756418</td>\n",
       "    </tr>\n",
       "    <tr>\n",
       "      <th>6</th>\n",
       "      <td>XGBoost</td>\n",
       "      <td>0.720740</td>\n",
       "      <td>0.018939</td>\n",
       "      <td>0.734642</td>\n",
       "      <td>0.749273</td>\n",
       "    </tr>\n",
       "    <tr>\n",
       "      <th>7</th>\n",
       "      <td>LightGBM</td>\n",
       "      <td>0.734959</td>\n",
       "      <td>0.014102</td>\n",
       "      <td>0.746051</td>\n",
       "      <td>0.754342</td>\n",
       "    </tr>\n",
       "    <tr>\n",
       "      <th>8</th>\n",
       "      <td>FCN</td>\n",
       "      <td>0.723521</td>\n",
       "      <td>0.026979</td>\n",
       "      <td>0.755268</td>\n",
       "      <td>0.755947</td>\n",
       "    </tr>\n",
       "  </tbody>\n",
       "</table>\n",
       "</div>"
      ],
      "text/plain": [
       "               Model   Avg MAE   Std MAE  90th percentile  10th percentile\n",
       "0  Weighted_Ensemble  0.698564  0.012636         0.706285         0.715685\n",
       "1           Ensemble  0.702122  0.014625         0.710511         0.710981\n",
       "2              NuSVR  0.701812  0.029169         0.716671         0.727851\n",
       "3                SVR  0.705092  0.037963         0.727631         0.741108\n",
       "4       RandomForest  0.721861  0.011493         0.730559         0.733635\n",
       "5   LinearRegression  0.711462  0.037814         0.733254         0.756418\n",
       "6            XGBoost  0.720740  0.018939         0.734642         0.749273\n",
       "7           LightGBM  0.734959  0.014102         0.746051         0.754342\n",
       "8                FCN  0.723521  0.026979         0.755268         0.755947"
      ]
     },
     "metadata": {},
     "output_type": "display_data"
    },
    {
     "name": "stdout",
     "output_type": "stream",
     "text": [
      "Weights:\n",
      "LinearRegression: 0.000\n",
      "FCN: 0.000\n",
      "RandomForest: 0.000\n",
      "XGBoost: 0.410\n",
      "SVR: 0.000\n",
      "NuSVR: 0.590\n",
      "LightGBM: 0.000\n",
      " \n",
      " \n",
      "**Copy and Paste following lines into the next cell.**\n",
      "##### LinearRegression\n",
      "Best R2 = 0.41398139372708004  \n",
      "Weight = 0.000\n",
      "##### FCN\n",
      "Best L2_factor = 0.0011813421384085827  \n",
      "Best dropout_factor = 0.1520304634254095  \n",
      "Best R2 = 0.44494233769019986  \n",
      "Weight = 0.000\n",
      "##### RandomForest\n",
      "Best max_depth = 3  \n",
      "Best n_estimators = 124  \n",
      "Best R2 = 0.4844065781110033  \n",
      "Weight = 0.000\n",
      "##### XGBoost\n",
      "Best max_depth = 3  \n",
      "Best n_estimators = 12  \n",
      "Best R2 = 0.46015595923171226  \n",
      "Weight = 0.410\n",
      "##### SVR\n",
      "Best C = 0.027619131207129343  \n",
      "Best kernel = linear  \n",
      "Best R2 = 0.44839943517297653  \n",
      "Weight = 0.000\n",
      "##### NuSVR\n",
      "Best C = 0.0334169706915242  \n",
      "Best kernel = linear  \n",
      "Best nu = 0.2769792606019767  \n",
      "Best R2 = 0.4592002928006137  \n",
      "Weight = 0.590\n",
      "##### LightGBM\n",
      "Best max_depth = 3  \n",
      "Best n_estimators = 42  \n",
      "Best R2 = 0.4582993916467588  \n",
      "Weight = 0.000\n",
      " \n",
      " \n"
     ]
    }
   ],
   "source": [
    "Y_feature = '氣溫'\n",
    "model_xcols = {\n",
    "    'LinearRegression': ['溫度'],\n",
    "    'FCN': ['溫度'],\n",
    "    'RandomForest': ['溫度'],\n",
    "    'XGBoost': ['溫度'],\n",
    "    'SVR': ['溫度'],\n",
    "    'NuSVR': ['溫度'],\n",
    "    'LightGBM': ['溫度'],\n",
    "}\n",
    "\n",
    "flow_control(Y_feature, model_xcols, forecast_obs_df, speed_test=speed_test)"
   ]
  },
  {
   "cell_type": "markdown",
   "id": "5bf0c897-6abe-4c09-b38c-602d786b9ad7",
   "metadata": {},
   "source": [
    "##### FCN\n",
    "Best L2_factor = 0.021113413887458573  \n",
    "Best dropout_factor = 0.04274367293005721  \n",
    "Best R2 = 0.4378907066278211  \n",
    "##### RandomForest\n",
    "Best max_depth = 4  \n",
    "Best n_estimators = 195  \n",
    "Best R2 = 0.4844221100077036  \n",
    "##### XGBoost\n",
    "Best max_depth = 2  \n",
    "Best n_estimators = 13  \n",
    "Best R2 = 0.49093789697123874  \n",
    "##### LightGBM\n",
    "Best max_depth = 4  \n",
    "Best n_estimators = 59  \n",
    "Best R2 = 0.41187761974593445  \n",
    "##### SVR\n",
    "Best C = 0.018011043607669287  \n",
    "Best kernel = linear  \n",
    "Best R2 = 0.43636030323831526  \n",
    "##### NuSVR\n",
    "Best C = 0.43233258907999045  \n",
    "Best kernel = linear  \n",
    "Best nu = 0.39503695680211226  \n",
    "Best R2 = 0.44385816055128674 "
   ]
  },
  {
   "cell_type": "markdown",
   "id": "92dda953-cd2c-4dd1-aec8-b3501b4dae2b",
   "metadata": {},
   "source": [
    "## 風速"
   ]
  },
  {
   "cell_type": "code",
   "execution_count": 24,
   "id": "ddbb6d31-14b9-4377-88e2-2e4e5b15123e",
   "metadata": {},
   "outputs": [
    {
     "name": "stderr",
     "output_type": "stream",
     "text": [
      "100%|████████████████████████████████████████████████████████████████████████████████████| 4/4 [04:09<00:00, 62.40s/it]\n"
     ]
    },
    {
     "name": "stdout",
     "output_type": "stream",
     "text": [
      "FCN\n",
      "Best L2_factor = 0.2011096770080241\n",
      "Best dropout_factor = 0.3972764762036274\n",
      "Best R2 = 0.5532967042584036\n"
     ]
    },
    {
     "name": "stderr",
     "output_type": "stream",
     "text": [
      "100%|██████████████████████████████████████████████████████████████████████████████████| 30/30 [00:40<00:00,  1.35s/it]\n"
     ]
    },
    {
     "name": "stdout",
     "output_type": "stream",
     "text": [
      "RandomForest\n",
      "Best max_depth = 14\n",
      "Best n_estimators = 146\n",
      "Best R2 = 0.6239770661540684\n"
     ]
    },
    {
     "name": "stderr",
     "output_type": "stream",
     "text": [
      "100%|██████████████████████████████████████████████████████████████████████████████████| 30/30 [00:14<00:00,  2.08it/s]\n"
     ]
    },
    {
     "name": "stdout",
     "output_type": "stream",
     "text": [
      "XGBoost\n",
      "Best max_depth = 11\n",
      "Best n_estimators = 150\n",
      "Best R2 = 0.5090891487925635\n"
     ]
    },
    {
     "name": "stderr",
     "output_type": "stream",
     "text": [
      "100%|██████████████████████████████████████████████████████████████████████████████████| 30/30 [00:06<00:00,  4.44it/s]\n"
     ]
    },
    {
     "name": "stdout",
     "output_type": "stream",
     "text": [
      "LightGBM\n",
      "Best max_depth = 6\n",
      "Best n_estimators = 17\n",
      "Best R2 = 0.575102325725823\n"
     ]
    },
    {
     "name": "stderr",
     "output_type": "stream",
     "text": [
      "100%|██████████████████████████████████████████████████████████████████████████████████| 30/30 [00:54<00:00,  1.82s/it]\n"
     ]
    },
    {
     "name": "stdout",
     "output_type": "stream",
     "text": [
      "SVR\n",
      "Best C = 5.7242894919250995\n",
      "Best kernel = linear\n",
      "Best R2 = 0.5940460533782137\n"
     ]
    },
    {
     "name": "stderr",
     "output_type": "stream",
     "text": [
      "100%|██████████████████████████████████████████████████████████████████████████████████| 30/30 [01:30<00:00,  3.02s/it]\n"
     ]
    },
    {
     "name": "stdout",
     "output_type": "stream",
     "text": [
      "NuSVR\n",
      "Best C = 199.9134778145975\n",
      "Best kernel = linear\n",
      "Best nu = 0.7582256867574979\n",
      "Best R2 = 0.6391723864759884\n"
     ]
    },
    {
     "name": "stderr",
     "output_type": "stream",
     "text": [
      "100%|████████████████████████████████████████████████████████████████████████████████████| 5/5 [01:24<00:00, 16.86s/it]\n"
     ]
    },
    {
     "data": {
      "text/html": [
       "<div>\n",
       "<style scoped>\n",
       "    .dataframe tbody tr th:only-of-type {\n",
       "        vertical-align: middle;\n",
       "    }\n",
       "\n",
       "    .dataframe tbody tr th {\n",
       "        vertical-align: top;\n",
       "    }\n",
       "\n",
       "    .dataframe thead th {\n",
       "        text-align: right;\n",
       "    }\n",
       "</style>\n",
       "<table border=\"1\" class=\"dataframe\">\n",
       "  <thead>\n",
       "    <tr style=\"text-align: right;\">\n",
       "      <th></th>\n",
       "      <th>Model</th>\n",
       "      <th>Avg MAE</th>\n",
       "      <th>Std MAE</th>\n",
       "      <th>90th percentile</th>\n",
       "      <th>10th percentile</th>\n",
       "    </tr>\n",
       "  </thead>\n",
       "  <tbody>\n",
       "    <tr>\n",
       "      <th>0</th>\n",
       "      <td>Weighted_Ensemble</td>\n",
       "      <td>0.696323</td>\n",
       "      <td>0.156028</td>\n",
       "      <td>0.770203</td>\n",
       "      <td>0.923893</td>\n",
       "    </tr>\n",
       "    <tr>\n",
       "      <th>1</th>\n",
       "      <td>Ensemble</td>\n",
       "      <td>0.713814</td>\n",
       "      <td>0.163786</td>\n",
       "      <td>0.784970</td>\n",
       "      <td>0.943511</td>\n",
       "    </tr>\n",
       "    <tr>\n",
       "      <th>2</th>\n",
       "      <td>SVR</td>\n",
       "      <td>0.746828</td>\n",
       "      <td>0.138068</td>\n",
       "      <td>0.799529</td>\n",
       "      <td>0.945077</td>\n",
       "    </tr>\n",
       "    <tr>\n",
       "      <th>3</th>\n",
       "      <td>NuSVR</td>\n",
       "      <td>0.747398</td>\n",
       "      <td>0.142989</td>\n",
       "      <td>0.812571</td>\n",
       "      <td>0.951570</td>\n",
       "    </tr>\n",
       "    <tr>\n",
       "      <th>4</th>\n",
       "      <td>LightGBM</td>\n",
       "      <td>0.765767</td>\n",
       "      <td>0.166992</td>\n",
       "      <td>0.828557</td>\n",
       "      <td>1.026628</td>\n",
       "    </tr>\n",
       "    <tr>\n",
       "      <th>5</th>\n",
       "      <td>RandomForest</td>\n",
       "      <td>0.725019</td>\n",
       "      <td>0.156478</td>\n",
       "      <td>0.828786</td>\n",
       "      <td>0.937289</td>\n",
       "    </tr>\n",
       "    <tr>\n",
       "      <th>6</th>\n",
       "      <td>XGBoost</td>\n",
       "      <td>0.813609</td>\n",
       "      <td>0.193925</td>\n",
       "      <td>0.939654</td>\n",
       "      <td>1.087082</td>\n",
       "    </tr>\n",
       "    <tr>\n",
       "      <th>7</th>\n",
       "      <td>FCN</td>\n",
       "      <td>0.867697</td>\n",
       "      <td>0.173703</td>\n",
       "      <td>1.031950</td>\n",
       "      <td>1.048868</td>\n",
       "    </tr>\n",
       "  </tbody>\n",
       "</table>\n",
       "</div>"
      ],
      "text/plain": [
       "               Model   Avg MAE   Std MAE  90th percentile  10th percentile\n",
       "0  Weighted_Ensemble  0.696323  0.156028         0.770203         0.923893\n",
       "1           Ensemble  0.713814  0.163786         0.784970         0.943511\n",
       "2                SVR  0.746828  0.138068         0.799529         0.945077\n",
       "3              NuSVR  0.747398  0.142989         0.812571         0.951570\n",
       "4           LightGBM  0.765767  0.166992         0.828557         1.026628\n",
       "5       RandomForest  0.725019  0.156478         0.828786         0.937289\n",
       "6            XGBoost  0.813609  0.193925         0.939654         1.087082\n",
       "7                FCN  0.867697  0.173703         1.031950         1.048868"
      ]
     },
     "metadata": {},
     "output_type": "display_data"
    },
    {
     "name": "stdout",
     "output_type": "stream",
     "text": [
      "Weights:\n",
      "FCN: 0.000\n",
      "RandomForest: 0.391\n",
      "XGBoost: 0.000\n",
      "LightGBM: 0.000\n",
      "SVR: 0.000\n",
      "NuSVR: 0.609\n",
      " \n",
      " \n",
      "**Copy and Paste following lines into the next cell.**\n",
      "##### FCN\n",
      "Best L2_factor = 0.2011096770080241  \n",
      "Best dropout_factor = 0.3972764762036274  \n",
      "Best R2 = 0.5532967042584036  \n",
      "Weight = 0.000\n",
      "##### RandomForest\n",
      "Best max_depth = 14  \n",
      "Best n_estimators = 146  \n",
      "Best R2 = 0.6239770661540684  \n",
      "Weight = 0.391\n",
      "##### XGBoost\n",
      "Best max_depth = 11  \n",
      "Best n_estimators = 150  \n",
      "Best R2 = 0.5090891487925635  \n",
      "Weight = 0.000\n",
      "##### LightGBM\n",
      "Best max_depth = 6  \n",
      "Best n_estimators = 17  \n",
      "Best R2 = 0.575102325725823  \n",
      "Weight = 0.000\n",
      "##### SVR\n",
      "Best C = 5.7242894919250995  \n",
      "Best kernel = linear  \n",
      "Best R2 = 0.5940460533782137  \n",
      "Weight = 0.000\n",
      "##### NuSVR\n",
      "Best C = 199.9134778145975  \n",
      "Best kernel = linear  \n",
      "Best nu = 0.7582256867574979  \n",
      "Best R2 = 0.6391723864759884  \n",
      "Weight = 0.609\n",
      " \n",
      " \n"
     ]
    }
   ],
   "source": [
    "Y_feature = '風速'\n",
    "model_xcols = {\n",
    "    'FCN': ['風速', '東西風', '南北風', '溫度'],\n",
    "    'RandomForest': ['風速', '東西風', '南北風', '晴', '多雲', '陰', '短暫陣雨', '短暫陣雨或雷雨', '午後短暫雷陣雨', '陣雨或雷雨', '相對溼度', '溫度'],\n",
    "    'XGBoost': ['風速', '東西風', '南北風', '溫度'],\n",
    "    'LightGBM': ['風速', '東西風', '南北風', '溫度'],\n",
    "    'SVR': ['風速', '東西風', '南北風', '溫度'],\n",
    "    'NuSVR': ['風速', '東西風', '南北風', '溫度'],\n",
    "}\n",
    "\n",
    "flow_control(Y_feature, model_xcols, forecast_obs_df, speed_test=speed_test)"
   ]
  },
  {
   "cell_type": "markdown",
   "id": "f3946461-d3d1-4228-b92f-c3d76060fbe5",
   "metadata": {},
   "source": [
    "##### RandomForest\n",
    "Best max_depth = 8  \n",
    "Best n_estimators = 200  \n",
    "Best R2 = 0.44476053459418435 \n",
    "##### XGBoost\n",
    "Best max_depth = 2  \n",
    "Best n_estimators = 12  \n",
    "Best R2 = 0.3950520622531771  \n",
    "##### LightGBM\n",
    "Best max_depth = 3  \n",
    "Best n_estimators = 11  \n",
    "Best R2 = 0.3505410125996822  \n",
    "##### SVR\n",
    "Best C = 0.4404862253598064  \n",
    "Best kernel = linear  \n",
    "Best R2 = 0.48936860838016016  \n",
    "##### NuSVR\n",
    "Best C = 0.017405206673103454  \n",
    "Best kernel = linear  \n",
    "Best nu = 0.623766887251527  \n",
    "Best R2 = 0.45169718650072266"
   ]
  },
  {
   "cell_type": "code",
   "execution_count": null,
   "id": "253d03d2-9af3-43c3-8101-375077b3f34e",
   "metadata": {},
   "outputs": [],
   "source": []
  }
 ],
 "metadata": {
  "kernelspec": {
   "display_name": "Python 3 (ipykernel)",
   "language": "python",
   "name": "python3"
  },
  "language_info": {
   "codemirror_mode": {
    "name": "ipython",
    "version": 3
   },
   "file_extension": ".py",
   "mimetype": "text/x-python",
   "name": "python",
   "nbconvert_exporter": "python",
   "pygments_lexer": "ipython3",
   "version": "3.9.19"
  }
 },
 "nbformat": 4,
 "nbformat_minor": 5
}
