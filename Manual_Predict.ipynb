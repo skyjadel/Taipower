{
 "cells": [
  {
   "cell_type": "code",
   "execution_count": 1,
   "id": "1a40083c-7b33-4118-992c-063c0f8319d8",
   "metadata": {},
   "outputs": [],
   "source": [
    "from model_management.Predict import main_predict\n",
    "import numpy as np\n",
    "import matplotlib.pyplot as plt\n",
    "import pandas as pd\n",
    "import json\n",
    "from sklearn.linear_model import LinearRegression\n",
    "from sklearn.model_selection import train_test_split"
   ]
  },
  {
   "cell_type": "code",
   "execution_count": 2,
   "id": "ffcd226b-6945-434d-af10-8548507becaf",
   "metadata": {},
   "outputs": [],
   "source": [
    "data_path = './historical/data/'"
   ]
  },
  {
   "cell_type": "code",
   "execution_count": 3,
   "id": "76d75d89-08d1-440b-a56e-e27274604bcc",
   "metadata": {},
   "outputs": [
    {
     "data": {
      "text/html": [
       "<div>\n",
       "<style scoped>\n",
       "    .dataframe tbody tr th:only-of-type {\n",
       "        vertical-align: middle;\n",
       "    }\n",
       "\n",
       "    .dataframe tbody tr th {\n",
       "        vertical-align: top;\n",
       "    }\n",
       "\n",
       "    .dataframe thead th {\n",
       "        text-align: right;\n",
       "    }\n",
       "</style>\n",
       "<table border=\"1\" class=\"dataframe\">\n",
       "  <thead>\n",
       "    <tr style=\"text-align: right;\">\n",
       "      <th></th>\n",
       "      <th>日期</th>\n",
       "      <th>風力</th>\n",
       "      <th>太陽能</th>\n",
       "      <th>尖峰負載</th>\n",
       "    </tr>\n",
       "  </thead>\n",
       "  <tbody>\n",
       "    <tr>\n",
       "      <th>0</th>\n",
       "      <td>2024-09-15</td>\n",
       "      <td>8.319832</td>\n",
       "      <td>0.000000</td>\n",
       "      <td>3188.794922</td>\n",
       "    </tr>\n",
       "    <tr>\n",
       "      <th>1</th>\n",
       "      <td>2024-09-16</td>\n",
       "      <td>21.445911</td>\n",
       "      <td>720.582865</td>\n",
       "      <td>3939.703857</td>\n",
       "    </tr>\n",
       "    <tr>\n",
       "      <th>2</th>\n",
       "      <td>2024-09-17</td>\n",
       "      <td>19.122545</td>\n",
       "      <td>789.586208</td>\n",
       "      <td>3348.211182</td>\n",
       "    </tr>\n",
       "  </tbody>\n",
       "</table>\n",
       "</div>"
      ],
      "text/plain": [
       "           日期         風力         太陽能         尖峰負載\n",
       "0  2024-09-15   8.319832    0.000000  3188.794922\n",
       "1  2024-09-16  21.445911  720.582865  3939.703857\n",
       "2  2024-09-17  19.122545  789.586208  3348.211182"
      ]
     },
     "execution_count": 3,
     "metadata": {},
     "output_type": "execute_result"
    }
   ],
   "source": [
    "model_path = './trained_model_parameters/models_tobe_evaluated/model_2024-09-14_NP/'\n",
    "#model_path = './trained_model_parameters/latest_model/'\n",
    "main_predict(data_path=data_path, model_path=model_path,\n",
    "             predict_days=60, save_prediction=True, update_prediction=True, avoid_training_set=True)"
   ]
  },
  {
   "cell_type": "code",
   "execution_count": null,
   "id": "8e01b562-e754-4aa4-8aec-8ea97a796231",
   "metadata": {},
   "outputs": [],
   "source": []
  }
 ],
 "metadata": {
  "kernelspec": {
   "display_name": "Python 3 (ipykernel)",
   "language": "python",
   "name": "python3"
  },
  "language_info": {
   "codemirror_mode": {
    "name": "ipython",
    "version": 3
   },
   "file_extension": ".py",
   "mimetype": "text/x-python",
   "name": "python",
   "nbconvert_exporter": "python",
   "pygments_lexer": "ipython3",
   "version": "3.9.19"
  }
 },
 "nbformat": 4,
 "nbformat_minor": 5
}
