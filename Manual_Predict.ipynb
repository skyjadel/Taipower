{
 "cells": [
  {
   "cell_type": "code",
   "execution_count": 1,
   "id": "1a40083c-7b33-4118-992c-063c0f8319d8",
   "metadata": {},
   "outputs": [],
   "source": [
    "from model_management.Predict import main_predict\n",
    "import numpy as np"
   ]
  },
  {
   "cell_type": "code",
   "execution_count": 2,
   "id": "ffcd226b-6945-434d-af10-8548507becaf",
   "metadata": {},
   "outputs": [],
   "source": [
    "data_path = './historical/data/'"
   ]
  },
  {
   "cell_type": "code",
   "execution_count": 3,
   "id": "76d75d89-08d1-440b-a56e-e27274604bcc",
   "metadata": {},
   "outputs": [
    {
     "data": {
      "text/html": [
       "<div>\n",
       "<style scoped>\n",
       "    .dataframe tbody tr th:only-of-type {\n",
       "        vertical-align: middle;\n",
       "    }\n",
       "\n",
       "    .dataframe tbody tr th {\n",
       "        vertical-align: top;\n",
       "    }\n",
       "\n",
       "    .dataframe thead th {\n",
       "        text-align: right;\n",
       "    }\n",
       "</style>\n",
       "<table border=\"1\" class=\"dataframe\">\n",
       "  <thead>\n",
       "    <tr style=\"text-align: right;\">\n",
       "      <th></th>\n",
       "      <th>日期</th>\n",
       "      <th>風力</th>\n",
       "      <th>太陽能</th>\n",
       "      <th>尖峰負載</th>\n",
       "    </tr>\n",
       "  </thead>\n",
       "  <tbody>\n",
       "    <tr>\n",
       "      <th>0</th>\n",
       "      <td>2024-09-07</td>\n",
       "      <td>16.135244</td>\n",
       "      <td>593.938553</td>\n",
       "      <td>3485.599854</td>\n",
       "    </tr>\n",
       "  </tbody>\n",
       "</table>\n",
       "</div>"
      ],
      "text/plain": [
       "           日期         風力         太陽能         尖峰負載\n",
       "0  2024-09-07  16.135244  593.938553  3485.599854"
      ]
     },
     "execution_count": 3,
     "metadata": {},
     "output_type": "execute_result"
    }
   ],
   "source": [
    "model_path = './trained_model_parameters/models_tobe_evaluated/model_2024-08-05_NP/'\n",
    "main_predict(data_path=data_path, model_path=model_path,\n",
    "             predict_days=1, save_prediction=True, update_prediction=False, avoid_training_set=True)"
   ]
  },
  {
   "cell_type": "code",
   "execution_count": 4,
   "id": "cd2d0115-b482-46c8-9657-0014044fa08a",
   "metadata": {},
   "outputs": [],
   "source": [
    "# model_path = './trained_model_parameters/models_tobe_evaluated/model_2024-08-05_NP/'\n",
    "# main_predict(data_path=data_path, model_path=model_path,\n",
    "#              predict_days=60, save_prediction=True, update_prediction=True, avoid_training_set=True)"
   ]
  },
  {
   "cell_type": "code",
   "execution_count": null,
   "id": "13586446-b341-4c65-9f9e-53b4950dd7ff",
   "metadata": {},
   "outputs": [],
   "source": []
  }
 ],
 "metadata": {
  "kernelspec": {
   "display_name": "Python 3 (ipykernel)",
   "language": "python",
   "name": "python3"
  },
  "language_info": {
   "codemirror_mode": {
    "name": "ipython",
    "version": 3
   },
   "file_extension": ".py",
   "mimetype": "text/x-python",
   "name": "python",
   "nbconvert_exporter": "python",
   "pygments_lexer": "ipython3",
   "version": "3.9.19"
  }
 },
 "nbformat": 4,
 "nbformat_minor": 5
}
