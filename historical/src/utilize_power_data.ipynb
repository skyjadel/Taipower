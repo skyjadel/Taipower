{
 "cells": [
  {
   "cell_type": "markdown",
   "id": "3212c984-011d-41d3-a196-d918d6dc0269",
   "metadata": {},
   "source": [
    "# 將從台電下載的原始電力資料檔轉換成人類較易讀懂的格式"
   ]
  },
  {
   "cell_type": "markdown",
   "id": "4a1ca984-b698-4619-b015-4b71b6019918",
   "metadata": {},
   "source": [
    "主要就是加上文字欄位名，並轉換日期字串格式"
   ]
  },
  {
   "cell_type": "code",
   "execution_count": 1,
   "id": "3e7c7fb4-fa9f-4b72-825f-28d112864400",
   "metadata": {},
   "outputs": [],
   "source": [
    "import pandas as pd"
   ]
  },
  {
   "cell_type": "code",
   "execution_count": 2,
   "id": "70b9939a-e4b7-4482-bb94-9cfd34046fd9",
   "metadata": {},
   "outputs": [],
   "source": [
    "historical_power_data_path = '../data/power/'\n",
    "downloaded_fn = historical_power_data_path + 'sys_dem_sup.csv'\n",
    "target_fn = historical_power_data_path + 'power_generation_data.csv'"
   ]
  },
  {
   "cell_type": "code",
   "execution_count": 3,
   "id": "aa97623d-5efc-4cb1-8a55-6d81841112ac",
   "metadata": {},
   "outputs": [],
   "source": [
    "cols = ['日期', '尖峰容量', '尖峰負載', '備轉容量', '備轉率', '工業用電', '民生用電', '核一#1', '核一#2',\n",
    "       '核二#1', '核二#2', '核三#1', '核三#2', '林口#1', '林口#2', '林口#3', '台中#1', '台中#2',\n",
    "       '台中#3', '台中#4', '台中#5', '台中#6', '台中#7', '台中#8', '台中#9', '台中#10', '興達#1',\n",
    "       '興達#2', '興達#3', '興達#4', '大林#1', '大林#2', '和平#1', '和平#2', '麥寮#1', '麥寮#2',\n",
    "       '麥寮#3', '汽電共生', '大潭', '通霄', '興達', '南部', '大林', '海湖', '國光#1', '新桃#1',\n",
    "       '星彰#1', '星元#1', '嘉惠#1', '豐德', '協和', '氣渦輪', '離島', '德基', '青山', '谷關', '天輪',\n",
    "       '馬鞍', '萬大', '大觀', '鉅工', '碧海', '立霧', '龍澗', '卓蘭', '水里', '其他小水力', '大觀二',\n",
    "       '明潭', '風力發電', '太陽能發電']"
   ]
  },
  {
   "cell_type": "code",
   "execution_count": 4,
   "id": "b16d6343-b782-4a46-b920-d021e114852e",
   "metadata": {},
   "outputs": [],
   "source": [
    "df = pd.read_csv(downloaded_fn, names = cols[1::] + ['Unknown'], header=None).reset_index().rename({'index': '日期'}, axis=1).drop('Unknown', axis=1)\n",
    "df['日期'] = [f'{str(s)[0:4]}-{str(s)[4:6]}-{str(s)[6::]}' for s in df['日期']]\n",
    "#df['日期'] = pd.to_datetime(df['日期'])"
   ]
  },
  {
   "cell_type": "code",
   "execution_count": 5,
   "id": "feb14999-6644-4f82-969a-a292deb0fb45",
   "metadata": {},
   "outputs": [
    {
     "data": {
      "text/plain": [
       "'2023-01-01'"
      ]
     },
     "execution_count": 5,
     "metadata": {},
     "output_type": "execute_result"
    }
   ],
   "source": [
    "df.iloc[0]['日期']"
   ]
  },
  {
   "cell_type": "code",
   "execution_count": 6,
   "id": "21b65c41-8745-435d-9326-9957e11f05a8",
   "metadata": {},
   "outputs": [],
   "source": [
    "df.to_csv(target_fn, encoding='utf-8-sig', index=False)"
   ]
  },
  {
   "cell_type": "code",
   "execution_count": null,
   "id": "d9b10380-3bab-43b8-bc2e-6fdd20e7555e",
   "metadata": {},
   "outputs": [],
   "source": []
  }
 ],
 "metadata": {
  "kernelspec": {
   "display_name": "Python 3 (ipykernel)",
   "language": "python",
   "name": "python3"
  },
  "language_info": {
   "codemirror_mode": {
    "name": "ipython",
    "version": 3
   },
   "file_extension": ".py",
   "mimetype": "text/x-python",
   "name": "python",
   "nbconvert_exporter": "python",
   "pygments_lexer": "ipython3",
   "version": "3.9.19"
  }
 },
 "nbformat": 4,
 "nbformat_minor": 5
}
