{
 "cells": [
  {
   "cell_type": "code",
   "execution_count": 2,
   "id": "8d3165cd-98ef-4b28-92f0-18423f624b1d",
   "metadata": {},
   "outputs": [],
   "source": [
    "power_generation_type_dict = {\n",
    "    '核能': ['核一#1', '核一#2', '核二#1', '核二#2', '核三#1', '核三#2'],\n",
    "    '燃煤': ['林口#1', '林口#2', '林口#3', '台中#1', '台中#2', '台中#3',\n",
    "           '台中#4', '台中#5', '台中#6', '台中#7', '台中#8', '台中#9',\n",
    "           '台中#10', '興達#1', '興達#2', '興達#3', '興達#4', '大林#1', '大林#2'],\n",
    "    '民營電廠-燃煤': ['和平#1', '和平#2', '麥寮#1', '麥寮#2', '麥寮#3'],\n",
    "    '汽電共生': ['汽電共生'],\n",
    "    '燃氣': ['大潭', '通霄', '興達', '南部', '大林'],\n",
    "    '民營電廠-燃氣': ['海湖', '國光#1', '新桃#1', '星彰#1', '星元#1', '嘉惠#1', '豐德'],\n",
    "    '燃油': ['協和'],\n",
    "    '輕油': ['氣渦輪', '離島'],\n",
    "    '水力': ['德基', '青山', '谷關', '天輪', '馬鞍', '萬大', '大觀', '鉅工',\n",
    "           '碧海', '立霧', '龍澗', '卓蘭', '水里', '其他小水力'],\n",
    "    '儲能': ['大觀二', '明潭'],\n",
    "    '風力': ['風力發電'],\n",
    "    '太陽能': ['太陽能發電']\n",
    "}"
   ]
  },
  {
   "cell_type": "code",
   "execution_count": 3,
   "id": "c9dd419d-4244-4f4c-85d6-5bd5f0e0d028",
   "metadata": {},
   "outputs": [],
   "source": [
    "power_generation_big_type = {\n",
    "    '核能': ['核能'],\n",
    "    '燃煤': ['燃煤', '民營電廠-燃煤'],\n",
    "    '汽電共生': ['汽電共生'],\n",
    "    '燃氣': ['燃氣', '民營電廠-燃氣'],\n",
    "    '燃油': ['燃油', '輕油'],\n",
    "    '水力': ['水力', '儲能'],\n",
    "    '風力': ['風力'],\n",
    "    '太陽能': ['太陽能']  \n",
    "}"
   ]
  },
  {
   "cell_type": "code",
   "execution_count": null,
   "id": "1b350304-ae19-45de-992f-a44994663ed8",
   "metadata": {},
   "outputs": [],
   "source": []
  }
 ],
 "metadata": {
  "kernelspec": {
   "display_name": "Python 3 (ipykernel)",
   "language": "python",
   "name": "python3"
  },
  "language_info": {
   "codemirror_mode": {
    "name": "ipython",
    "version": 3
   },
   "file_extension": ".py",
   "mimetype": "text/x-python",
   "name": "python",
   "nbconvert_exporter": "python",
   "pygments_lexer": "ipython3",
   "version": "3.9.19"
  }
 },
 "nbformat": 4,
 "nbformat_minor": 5
}
