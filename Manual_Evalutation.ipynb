{
 "cells": [
  {
   "cell_type": "code",
   "execution_count": 1,
   "id": "a3db49fa-a663-4184-89e6-3bdd2bf2ecfa",
   "metadata": {},
   "outputs": [],
   "source": [
    "from Evaluate_Given_Models import evaluate_models"
   ]
  },
  {
   "cell_type": "code",
   "execution_count": 2,
   "id": "935b1852-1201-4e3c-8867-c63a421428e2",
   "metadata": {},
   "outputs": [],
   "source": [
    "test_data_path = './historical/data/'\n",
    "test_model_dir = './trained_model_parameters/models_tobe_evaluated/'\n",
    "test_current_model_path = './trained_model_parameters/latest_model/'"
   ]
  },
  {
   "cell_type": "code",
   "execution_count": 4,
   "id": "7c10a1d3-4a26-4de1-84a5-843903daf669",
   "metadata": {},
   "outputs": [
    {
     "name": "stdout",
     "output_type": "stream",
     "text": [
      "Evaluation of model_2024-07-31 (32 days)...... is done.\n",
      "Evaluation of model_2024-07-31_mystic (32 days)...... is done.\n",
      "Evaluation of model_2024-07-31_NP (32 days)...... is done.\n",
      "Evaluation of model_2024-07-31_PNPS (32 days)...... is done.\n",
      "Evaluation of model_2024-08-05 (32 days)...... is done.\n",
      "Evaluation of model_2024-08-05_NP (32 days)...... is done.\n",
      "Evaluation of model_2024-08-05_PNPS (32 days)...... is done.\n",
      "Evaluation of Current (32 days)...... is done.\n",
      "Evaluation of model_2024-07-31 (37 days)...... is done.\n",
      "Evaluation of model_2024-07-31_mystic (37 days)...... is done.\n",
      "Evaluation of model_2024-07-31_NP (37 days)...... is done.\n",
      "Evaluation of model_2024-07-31_PNPS (37 days)...... is done.\n",
      "Evaluation of model_2024-07-31 (12 days)...... is done.\n",
      "Evaluation of model_2024-07-31_mystic (12 days)...... is done.\n",
      "Evaluation of model_2024-07-31_NP (12 days)...... is done.\n",
      "Evaluation of model_2024-07-31_PNPS (12 days)...... is done.\n",
      "Evaluation of model_2024-08-05 (12 days)...... is done.\n",
      "Evaluation of model_2024-08-05_NP (12 days)...... is done.\n",
      "Evaluation of model_2024-08-05_PNPS (12 days)...... is done.\n",
      "Evaluation of model_2024-08-10 (12 days)...... is done.\n",
      "Evaluation of model_2024-08-10_NP (12 days)...... is done.\n",
      "Evaluation of model_2024-08-10_PNPS (12 days)...... is done.\n",
      "Evaluation of model_2024-08-15 (12 days)...... is done.\n",
      "Evaluation of model_2024-08-15_NP (12 days)...... is done.\n",
      "Evaluation of model_2024-08-15_PNPS (12 days)...... is done.\n",
      "Evaluation of model_2024-08-20 (12 days)...... is done.\n",
      "Evaluation of model_2024-08-20_NP (12 days)...... is done.\n",
      "Evaluation of model_2024-08-20_PNPS (12 days)...... is done.\n",
      "Evaluation of model_2024-08-25 (12 days)...... is done.\n",
      "Evaluation of model_2024-08-25_NP (12 days)...... is done.\n",
      "Evaluation of model_2024-08-25_PNPS (12 days)...... is done.\n",
      "Evaluation of Current (12 days)...... is done.\n",
      "Evaluation of model_2024-07-31 (17 days)...... is done.\n",
      "Evaluation of model_2024-07-31_mystic (17 days)...... is done.\n",
      "Evaluation of model_2024-07-31_NP (17 days)...... is done.\n",
      "Evaluation of model_2024-07-31_PNPS (17 days)...... is done.\n",
      "Evaluation of model_2024-08-05 (17 days)...... is done.\n",
      "Evaluation of model_2024-08-05_NP (17 days)...... is done.\n",
      "Evaluation of model_2024-08-05_PNPS (17 days)...... is done.\n",
      "Evaluation of model_2024-08-10 (17 days)...... is done.\n",
      "Evaluation of model_2024-08-10_NP (17 days)...... is done.\n",
      "Evaluation of model_2024-08-10_PNPS (17 days)...... is done.\n",
      "Evaluation of model_2024-08-15 (17 days)...... is done.\n",
      "Evaluation of model_2024-08-15_NP (17 days)...... is done.\n",
      "Evaluation of model_2024-08-15_PNPS (17 days)...... is done.\n",
      "Evaluation of model_2024-08-20 (17 days)...... is done.\n",
      "Evaluation of model_2024-08-20_NP (17 days)...... is done.\n",
      "Evaluation of model_2024-08-20_PNPS (17 days)...... is done.\n",
      "Evaluation of Current (17 days)...... is done.\n",
      "Evaluation of model_2024-07-31 (22 days)...... is done.\n",
      "Evaluation of model_2024-07-31_mystic (22 days)...... is done.\n",
      "Evaluation of model_2024-07-31_NP (22 days)...... is done.\n",
      "Evaluation of model_2024-07-31_PNPS (22 days)...... is done.\n",
      "Evaluation of model_2024-08-05 (22 days)...... is done.\n",
      "Evaluation of model_2024-08-05_NP (22 days)...... is done.\n",
      "Evaluation of model_2024-08-05_PNPS (22 days)...... is done.\n",
      "Evaluation of model_2024-08-10 (22 days)...... is done.\n",
      "Evaluation of model_2024-08-10_NP (22 days)...... is done.\n",
      "Evaluation of model_2024-08-10_PNPS (22 days)...... is done.\n",
      "Evaluation of model_2024-08-15 (22 days)...... is done.\n",
      "Evaluation of model_2024-08-15_NP (22 days)...... is done.\n",
      "Evaluation of model_2024-08-15_PNPS (22 days)...... is done.\n",
      "Evaluation of Current (22 days)...... is done.\n",
      "Evaluation of model_2024-07-31 (27 days)...... is done.\n",
      "Evaluation of model_2024-07-31_mystic (27 days)...... is done.\n",
      "Evaluation of model_2024-07-31_NP (27 days)...... is done.\n",
      "Evaluation of model_2024-07-31_PNPS (27 days)...... is done.\n",
      "Evaluation of model_2024-08-05 (27 days)...... is done.\n",
      "Evaluation of model_2024-08-05_NP (27 days)...... is done.\n",
      "Evaluation of model_2024-08-05_PNPS (27 days)...... is done.\n",
      "Evaluation of model_2024-08-10 (27 days)...... is done.\n",
      "Evaluation of model_2024-08-10_NP (27 days)...... is done.\n",
      "Evaluation of model_2024-08-10_PNPS (27 days)...... is done.\n",
      "Evaluation of Current (27 days)...... is done.\n"
     ]
    }
   ],
   "source": [
    "df = evaluate_models(test_data_path, test_model_dir, test_current_model_path)\n",
    "#df.sort_values('Samples')"
   ]
  },
  {
   "cell_type": "code",
   "execution_count": null,
   "id": "ab20042e-f9d2-47eb-a5d4-cfdfe00f4f1a",
   "metadata": {},
   "outputs": [],
   "source": [
    "G = df.groupby('Samples')\n",
    "for group in G:\n",
    "    print(f'{group[0]} samples')\n",
    "    display(group[1].sort_values('太陽能_MAE', ascending=True).reset_index(drop=True))"
   ]
  },
  {
   "cell_type": "code",
   "execution_count": null,
   "id": "54ea79cd-3578-46a5-8283-0496c1f20097",
   "metadata": {},
   "outputs": [],
   "source": []
  }
 ],
 "metadata": {
  "kernelspec": {
   "display_name": "Python 3 (ipykernel)",
   "language": "python",
   "name": "python3"
  },
  "language_info": {
   "codemirror_mode": {
    "name": "ipython",
    "version": 3
   },
   "file_extension": ".py",
   "mimetype": "text/x-python",
   "name": "python",
   "nbconvert_exporter": "python",
   "pygments_lexer": "ipython3",
   "version": "3.9.19"
  }
 },
 "nbformat": 4,
 "nbformat_minor": 5
}
